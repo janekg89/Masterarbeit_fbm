{
 "metadata": {
  "name": "",
  "signature": "sha256:cb07b66bc303853f755fd94a1466514db69715dcb89e8335166df36135f3b962"
 },
 "nbformat": 3,
 "nbformat_minor": 0,
 "worksheets": [
  {
   "cells": [
    {
     "cell_type": "code",
     "collapsed": false,
     "input": [
      "import main \n",
      "import matplotlib.pyplot as plt\n",
      "import analyse_tool \n",
      "import numpy as np\n",
      "from scipy import integrate\n",
      "from scipy import stats\n"
     ],
     "language": "python",
     "metadata": {},
     "outputs": [
      {
       "output_type": "stream",
       "stream": "stderr",
       "text": [
        "/home/janek/miniconda/lib/python2.7/site-packages/matplotlib/collections.py:590: FutureWarning: elementwise comparison failed; returning scalar instead, but in the future will perform elementwise comparison\n",
        "  if self._edgecolors == str('face'):\n"
       ]
      }
     ],
     "prompt_number": 1
    },
    {
     "cell_type": "code",
     "collapsed": false,
     "input": [
      "c=analyse_tool.Analyse(D=2,particles=3000,length=3000,alpha=0.6,dt=1)\n",
      "c.plotting()\n",
      "plt.show()"
     ],
     "language": "python",
     "metadata": {},
     "outputs": [],
     "prompt_number": 8
    },
    {
     "cell_type": "code",
     "collapsed": false,
     "input": [
      "\n",
      "v_t=(np.random.normal(0,np.sqrt(2*c.D),size=(c.n,c.n)))\n",
      "v_tmean=(v_t**2).mean(axis=1)\n",
      "#plt.plot(v_tmean)\n",
      "print v_tmean.shape\n",
      "r_t=np.cumsum(v_tmean)\n",
      "r_t=np.zeros(c.n+1)\n",
      "r_t[1:]=np.cumsum(v_tmean)\n",
      "#r_t=integrate.romb(v_tmean)\n",
      "plt.plot(r_t)\n",
      "plt.show()\n"
     ],
     "language": "python",
     "metadata": {},
     "outputs": [
      {
       "output_type": "stream",
       "stream": "stdout",
       "text": [
        "(3000,)\n"
       ]
      }
     ],
     "prompt_number": 10
    },
    {
     "cell_type": "code",
     "collapsed": false,
     "input": [
      "v_t_all=[]\n",
      "for ii in range(c.particles):\n",
      "    v_t=(np.random.normal(0,np.sqrt(c.dt),size=c.n*4))\n",
      "    v_t=np.array(v_t)\n",
      "    v_t_all.append(v_t)\n",
      "v_t_all=np.array(v_t_all)\n",
      "v_tmean=v_t_all.mean(axis=1)\n",
      "print v_tmean.shape\n",
      "\n"
     ],
     "language": "python",
     "metadata": {},
     "outputs": [
      {
       "output_type": "stream",
       "stream": "stdout",
       "text": [
        "(3000,)\n"
       ]
      }
     ],
     "prompt_number": 4
    },
    {
     "cell_type": "code",
     "collapsed": false,
     "input": [
      "b=np.std(v_tmean, ddof=1)\n",
      "print b\n",
      "count, bins, ignored = plt.hist(v_tmean, 20, normed=True)\n",
      "plt.plot(bins, 1/(b * np.sqrt(2 * np.pi)) * np.exp( - (bins - 0)**2 / (2 * b**2) ),         linewidth=2, color='r')\n",
      "plt.show()"
     ],
     "language": "python",
     "metadata": {},
     "outputs": [
      {
       "output_type": "stream",
       "stream": "stdout",
       "text": [
        "0.00920446936424\n"
       ]
      }
     ],
     "prompt_number": 29
    },
    {
     "cell_type": "code",
     "collapsed": false,
     "input": [
      "x= np.linspace(-100,100)\n"
     ],
     "language": "python",
     "metadata": {},
     "outputs": [],
     "prompt_number": 17
    },
    {
     "cell_type": "code",
     "collapsed": false,
     "input": [
      "a= np.exp(x**2)*x**2"
     ],
     "language": "python",
     "metadata": {},
     "outputs": [],
     "prompt_number": 14
    },
    {
     "cell_type": "code",
     "collapsed": false,
     "input": [
      "r_t=integrate.cumtrapz(a ,initial=0,fixed_quad)"
     ],
     "language": "python",
     "metadata": {},
     "outputs": [
      {
       "ename": "SyntaxError",
       "evalue": "non-keyword arg after keyword arg (<ipython-input-58-68a31653f04e>, line 1)",
       "output_type": "pyerr",
       "traceback": [
        "\u001b[1;36m  File \u001b[1;32m\"<ipython-input-58-68a31653f04e>\"\u001b[1;36m, line \u001b[1;32m1\u001b[0m\n\u001b[1;33m    r_t=integrate.cumtrapz(a ,initial=0,fixed_quad)\u001b[0m\n\u001b[1;31mSyntaxError\u001b[0m\u001b[1;31m:\u001b[0m non-keyword arg after keyword arg\n"
       ]
      }
     ],
     "prompt_number": 58
    },
    {
     "cell_type": "code",
     "collapsed": false,
     "input": [
      "np.diff?"
     ],
     "language": "python",
     "metadata": {},
     "outputs": [],
     "prompt_number": 9
    },
    {
     "cell_type": "code",
     "collapsed": false,
     "input": [
      "diffa=np.gradient(-c.D*2*(c.dt*c.t)**c.alpha, 2)\n",
      "print diffa.shape"
     ],
     "language": "python",
     "metadata": {},
     "outputs": [
      {
       "output_type": "stream",
       "stream": "stdout",
       "text": [
        "(3000,)\n"
       ]
      }
     ],
     "prompt_number": 45
    },
    {
     "cell_type": "code",
     "collapsed": false,
     "input": [
      "#diff2a=np.diff(diffa)\n",
      "#print diff2a.shape\n",
      "#diffneu=np.zeros(c.n)\n",
      "#diffneu[0:-2]=diff2a\n",
      "z_w=np.fft.fft(diffa)\n",
      "\n",
      "frq=np.fft.fftfreq(c.n)*(np.pi*2./(c.dt))\n",
      "z=((((+1j*frq))**(1-c.alpha))*c.K_alpha*np.math.gamma(1+c.alpha))\n",
      "frq=np.fft.fftfreq(c.n)*(np.pi*2./(c.dt))\n",
      "print frq.shape \n",
      "print z_w.shape \n",
      "print z.shape\n",
      "plt.plot(frq,z_w)\n",
      "plt.plot(frq,z)\n",
      "plt.show()"
     ],
     "language": "python",
     "metadata": {},
     "outputs": [
      {
       "output_type": "stream",
       "stream": "stdout",
       "text": [
        "(3000,)\n",
        "(3000,)\n",
        "(3000,)\n"
       ]
      }
     ],
     "prompt_number": 46
    },
    {
     "cell_type": "code",
     "collapsed": false,
     "input": [
      "np.gradient"
     ],
     "language": "python",
     "metadata": {},
     "outputs": [],
     "prompt_number": 12
    },
    {
     "cell_type": "code",
     "collapsed": false,
     "input": [],
     "language": "python",
     "metadata": {},
     "outputs": []
    }
   ],
   "metadata": {}
  }
 ]
}