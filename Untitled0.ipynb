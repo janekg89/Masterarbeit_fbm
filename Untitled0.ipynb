{
 "cells": [
  {
   "cell_type": "code",
   "execution_count": 1,
   "metadata": {
    "collapsed": false
   },
   "outputs": [
    {
     "name": "stderr",
     "output_type": "stream",
     "text": [
      "/home/janek/miniconda/lib/python2.7/site-packages/matplotlib/collections.py:590: FutureWarning: elementwise comparison failed; returning scalar instead, but in the future will perform elementwise comparison\n",
      "  if self._edgecolors == str('face'):\n"
     ]
    }
   ],
   "source": [
    "import main \n",
    "import matplotlib.pyplot as plt\n",
    "import analyse_tool \n",
    "import numpy as np\n",
    "from scipy import integrate\n",
    "from scipy import stats\n"
   ]
  },
  {
   "cell_type": "code",
   "execution_count": 8,
   "metadata": {
    "collapsed": false
   },
   "outputs": [],
   "source": [
    "c=analyse_tool.Analyse(D=2,particles=3000,length=3000,alpha=0.6,dt=1)\n",
    "c.plotting()\n",
    "plt.show()"
   ]
  },
  {
   "cell_type": "code",
   "execution_count": 10,
   "metadata": {
    "collapsed": false
   },
   "outputs": [
    {
     "name": "stdout",
     "output_type": "stream",
     "text": [
      "(3000,)\n"
     ]
    }
   ],
   "source": [
    "\n",
    "v_t=(np.random.normal(0,np.sqrt(2*c.D),size=(c.n,c.n)))\n",
    "v_tmean=(v_t**2).mean(axis=1)\n",
    "#plt.plot(v_tmean)\n",
    "print v_tmean.shape\n",
    "r_t=np.cumsum(v_tmean)\n",
    "r_t=np.zeros(c.n+1)\n",
    "r_t[1:]=np.cumsum(v_tmean)\n",
    "#r_t=integrate.romb(v_tmean)\n",
    "plt.plot(r_t)\n",
    "plt.show()\n"
   ]
  },
  {
   "cell_type": "code",
   "execution_count": 4,
   "metadata": {
    "collapsed": false
   },
   "outputs": [
    {
     "name": "stdout",
     "output_type": "stream",
     "text": [
      "(3000,)\n"
     ]
    }
   ],
   "source": [
    "v_t_all=[]\n",
    "for ii in range(c.particles):\n",
    "    v_t=(np.random.normal(0,np.sqrt(c.dt),size=c.n*4))\n",
    "    v_t=np.array(v_t)\n",
    "    v_t_all.append(v_t)\n",
    "v_t_all=np.array(v_t_all)\n",
    "v_tmean=v_t_all.mean(axis=1)\n",
    "print v_tmean.shape\n",
    "\n"
   ]
  },
  {
   "cell_type": "code",
   "execution_count": 29,
   "metadata": {
    "collapsed": false
   },
   "outputs": [
    {
     "name": "stdout",
     "output_type": "stream",
     "text": [
      "0.00920446936424\n"
     ]
    }
   ],
   "source": [
    "b=np.std(v_tmean, ddof=1)\n",
    "print b\n",
    "count, bins, ignored = plt.hist(v_tmean, 20, normed=True)\n",
    "plt.plot(bins, 1/(b * np.sqrt(2 * np.pi)) * np.exp( - (bins - 0)**2 / (2 * b**2) ),         linewidth=2, color='r')\n",
    "plt.show()"
   ]
  },
  {
   "cell_type": "code",
   "execution_count": 17,
   "metadata": {
    "collapsed": false
   },
   "outputs": [],
   "source": [
    "x= np.linspace(-100,100)\n"
   ]
  },
  {
   "cell_type": "code",
   "execution_count": 14,
   "metadata": {
    "collapsed": false
   },
   "outputs": [],
   "source": [
    "a= np.exp(x**2)*x**2"
   ]
  },
  {
   "cell_type": "code",
   "execution_count": 58,
   "metadata": {
    "collapsed": false
   },
   "outputs": [
    {
     "ename": "SyntaxError",
     "evalue": "non-keyword arg after keyword arg (<ipython-input-58-68a31653f04e>, line 1)",
     "output_type": "error",
     "traceback": [
      "\u001b[1;36m  File \u001b[1;32m\"<ipython-input-58-68a31653f04e>\"\u001b[1;36m, line \u001b[1;32m1\u001b[0m\n\u001b[1;33m    r_t=integrate.cumtrapz(a ,initial=0,fixed_quad)\u001b[0m\n\u001b[1;31mSyntaxError\u001b[0m\u001b[1;31m:\u001b[0m non-keyword arg after keyword arg\n"
     ]
    }
   ],
   "source": [
    "r_t=integrate.cumtrapz(a ,initial=0,fixed_quad)"
   ]
  },
  {
   "cell_type": "code",
   "execution_count": 9,
   "metadata": {
    "collapsed": false
   },
   "outputs": [],
   "source": [
    "np.diff?"
   ]
  },
  {
   "cell_type": "code",
   "execution_count": 45,
   "metadata": {
    "collapsed": false
   },
   "outputs": [
    {
     "name": "stdout",
     "output_type": "stream",
     "text": [
      "(3000,)\n"
     ]
    }
   ],
   "source": [
    "diffa=np.gradient(-c.D*2*(c.dt*c.t)**c.alpha, 2)\n",
    "print diffa.shape"
   ]
  },
  {
   "cell_type": "code",
   "execution_count": 46,
   "metadata": {
    "collapsed": false
   },
   "outputs": [
    {
     "name": "stdout",
     "output_type": "stream",
     "text": [
      "(3000,)\n",
      "(3000,)\n",
      "(3000,)\n"
     ]
    }
   ],
   "source": [
    "#diff2a=np.diff(diffa)\n",
    "#print diff2a.shape\n",
    "#diffneu=np.zeros(c.n)\n",
    "#diffneu[0:-2]=diff2a\n",
    "z_w=np.fft.fft(diffa)\n",
    "\n",
    "frq=np.fft.fftfreq(c.n)*(np.pi*2./(c.dt))\n",
    "z=((((+1j*frq))**(1-c.alpha))*c.K_alpha*np.math.gamma(1+c.alpha))\n",
    "frq=np.fft.fftfreq(c.n)*(np.pi*2./(c.dt))\n",
    "print frq.shape \n",
    "print z_w.shape \n",
    "print z.shape\n",
    "plt.plot(frq,z_w)\n",
    "plt.plot(frq,z)\n",
    "plt.show()"
   ]
  },
  {
   "cell_type": "code",
   "execution_count": 12,
   "metadata": {
    "collapsed": false
   },
   "outputs": [],
   "source": [
    "np.gradient"
   ]
  },
  {
   "cell_type": "code",
   "execution_count": null,
   "metadata": {
    "collapsed": false
   },
   "outputs": [],
   "source": []
  }
 ],
 "metadata": {
  "kernelspec": {
   "display_name": "Python 2",
   "language": "python",
   "name": "python2"
  },
  "language_info": {
   "codemirror_mode": {
    "name": "ipython",
    "version": 2
   },
   "file_extension": ".py",
   "mimetype": "text/x-python",
   "name": "python",
   "nbconvert_exporter": "python",
   "pygments_lexer": "ipython2",
   "version": "2.7.11"
  }
 },
 "nbformat": 4,
 "nbformat_minor": 0
}
