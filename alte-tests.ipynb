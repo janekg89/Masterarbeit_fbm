{
 "cells": [
  {
   "cell_type": "code",
   "execution_count": null,
   "metadata": {
    "collapsed": true
   },
   "outputs": [],
   "source": [
    "import main \n",
    "import matplotlib.pyplot as plt\n",
    "%matplotlib inline  \n",
    "import analyse_tool \n",
    "import numpy \n",
    "import simulation\n",
    "#import test_cython.genereatefracincrements as ginc\n"
   ]
  },
  {
   "cell_type": "code",
   "execution_count": 2,
   "metadata": {
    "collapsed": false
   },
   "outputs": [
    {
     "name": "stdout",
     "output_type": "stream",
     "text": [
      "1024\n"
     ]
    }
   ],
   "source": [
    "print 2**10"
   ]
  },
  {
   "cell_type": "code",
   "execution_count": 3,
   "metadata": {
    "collapsed": false
   },
   "outputs": [],
   "source": [
    "e=simulation.Felix_Method(D=0.3,particles=1,length=1000,alpha=0.5,dt=1,version=\"cpp\")"
   ]
  },
  {
   "cell_type": "code",
   "execution_count": 4,
   "metadata": {
    "collapsed": false
   },
   "outputs": [
    {
     "name": "stdout",
     "output_type": "stream",
     "text": [
      "1000 0.3 1.0 0.5\n"
     ]
    }
   ],
   "source": [
    "print e.n,e.D*1.,e.dt*1.,e.alpha*1."
   ]
  },
  {
   "cell_type": "code",
   "execution_count": null,
   "metadata": {
    "collapsed": false
   },
   "outputs": [],
   "source": [
    "a = ginc.generateIncrements(N=e.n, D=numpy.array(e.D*1.), tau=numpy.array(e.dt*1.), alpha=numpy.array(e.alpha*1.))\n",
    "r_t=numpy.zeros(N)\n",
    "r_t[1:]=numpy.cumsum(a)[:-1]\n",
    "plt.plot(r_t)\n",
    "#a = ginc.generateIncrements(N=N, D=numpy.array(0.3), tau=numpy.array(0.3), alpha=numpy.array(0.1))\n",
    "#r_t=numpy.zeros(N)\n",
    "#r_t[1:]=numpy.cumsum(a)[:-1]\n",
    "#plt.plot(r_t,\"r\")\n",
    "#plt.show()"
   ]
  },
  {
   "cell_type": "code",
   "execution_count": null,
   "metadata": {
    "collapsed": false
   },
   "outputs": [],
   "source": [
    "N=1000\n",
    "for i in range(5):\n",
    "    a = ginc.generateIncrements(N=N, D=numpy.array(0.3), tau=numpy.array(0.3), alpha=numpy.array(0.5))\n",
    "    r_t=numpy.zeros(N)\n",
    "    r_t[1:]=numpy.cumsum(a)[:-1]\n",
    "    plt.plot(r_t)\n",
    "plt.show()"
   ]
  },
  {
   "cell_type": "code",
   "execution_count": null,
   "metadata": {
    "collapsed": true
   },
   "outputs": [],
   "source": []
  }
 ],
 "metadata": {
  "kernelspec": {
   "display_name": "Python 2",
   "language": "python",
   "name": "python2"
  },
  "language_info": {
   "codemirror_mode": {
    "name": "ipython",
    "version": 2
   },
   "file_extension": ".py",
   "mimetype": "text/x-python",
   "name": "python",
   "nbconvert_exporter": "python",
   "pygments_lexer": "ipython2",
   "version": "2.7.11"
  }
 },
 "nbformat": 4,
 "nbformat_minor": 0
}
