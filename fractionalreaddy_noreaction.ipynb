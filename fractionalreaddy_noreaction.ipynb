{
 "cells": [
  {
   "cell_type": "code",
   "execution_count": 7,
   "metadata": {
    "collapsed": true
   },
   "outputs": [],
   "source": [
    "import numpy as np\n",
    "import revreaddy as rdy\n",
    "import logging\n",
    "import datetime\n",
    "import h5py as h5\n",
    "import matplotlib.cm as cm\n",
    "import time\n",
    "import random\n",
    "import string\n",
    "import matplotlib.pyplot as plt"
   ]
  },
  {
   "cell_type": "code",
   "execution_count": 8,
   "metadata": {
    "collapsed": true
   },
   "outputs": [],
   "source": [
    "def stamp():\n",
    "\n",
    "    timestamp = time.strftime(\"%Y_%m_%d-%H_%M_%S\")\n",
    "    randomstamp = ''.join(random.choice(string.ascii_uppercase + string.digits) for _ in range(6))\n",
    "    stamp = timestamp + \"_\" + randomstamp\n",
    "    return stamp"
   ]
  },
  {
   "cell_type": "code",
   "execution_count": 9,
   "metadata": {
    "collapsed": true
   },
   "outputs": [],
   "source": [
    "def envirement(reactiondistance):\n",
    "    positions=[]\n",
    "    posenzyme = [0,0,0]\n",
    "    amountenzyme = 0\n",
    "    while amountenzyme < 1000:\n",
    "        #todo periodic boundaryconditions !!!!\n",
    "        pos = np.random.random(3) * 19.999 - 9.999\n",
    "        distance=np.sqrt((posenzyme[0]-pos[0])**2+(posenzyme[1]-pos[1])**2+(posenzyme[2]-pos[2])**2)\n",
    "        if distance > reactiondistance:\n",
    "            amountenzyme+=1\n",
    "            positions.append(pos)\n",
    "    positions=np.array(positions)\n",
    "    return positions,posenzyme"
   ]
  },
  {
   "cell_type": "markdown",
   "metadata": {},
   "source": [
    " Simulation of 1500 particles with Diffusionconstant = 3, $\\alpha=0.5 $ , $3 D t^\\alpha$, Boxsize = 20, particle number =1500. The observable is the MSD of all particles. No reactions.\n",
    " "
   ]
  },
  {
   "cell_type": "code",
   "execution_count": 10,
   "metadata": {
    "collapsed": true
   },
   "outputs": [],
   "source": [
    "\n",
    "def simulation(boxsize,Diffusion_E,Diffusion_S,Diffusion_P,reactiondistance,intrinsikreaction):\n",
    "    sim = rdy.Sim(\"FractionalDiffusion\")\n",
    "    sim.kt = 2.437 # kJ/mol -> ~300 K\n",
    "    sim.alpha = 0.5\n",
    "    sim.timestep = 0.01# ns\n",
    "    sim.boxsize = boxsize# nm\n",
    "    sim.delete_all_particle_types() # also deletes all interactions etc.\n",
    "    sim.new_type(\"S\", 0.01, Diffusion_S)\n",
    "    sim.new_type(\"P\", 0.01, Diffusion_P)\n",
    "    sim.new_type(\"E\", 0.01, Diffusion_E)\n",
    "    sim.delete_all_reactions()\n",
    "\n",
    "    sim.delete_all_particles()\n",
    "    np.random.seed()\n",
    "\n",
    "    for _ in range(1500):\n",
    "         pos = np.random.random(3) * 9.999 - 4.999\n",
    "         sim.add_particle(pos, 0)\n",
    "\n",
    "    sim.show_world()\n",
    "    sim.delete_all_observables()\n",
    "    mean_e_name = stamp()+\"mean_e_test1.h5\"\n",
    "    sim.new_mean_squared_displacement(1,mean_e_name, 0)\n",
    "    sim.run(6000)\n",
    "    sim.write_observables_to_file()\n",
    "    sim.delete_all_observables()\n",
    "\n",
    "    fc = h5.File(mean_e_name, 'r')\n",
    "    return  fc"
   ]
  },
  {
   "cell_type": "code",
   "execution_count": 11,
   "metadata": {
    "collapsed": true
   },
   "outputs": [],
   "source": [
    "def msd_analyt(alpha,dt,t,diffconst):\n",
    "    t=np.linspace(0,t,t)\n",
    "    return 2*3*((t*dt)**alpha)*diffconst"
   ]
  },
  {
   "cell_type": "code",
   "execution_count": 12,
   "metadata": {
    "collapsed": false
   },
   "outputs": [
    {
     "name": "stdout",
     "output_type": "stream",
     "text": [
      "Number of particles:  1500\n",
      "TypeId | Number of particles\n",
      "====== | ===================\n",
      "0      | 1500               \n",
      "1      | 0                  \n",
      "2      | 0                  \n",
      " \n"
     ]
    }
   ],
   "source": [
    "colors = iter(cm.rainbow(np.linspace(0, 1, 4)))\n",
    "msd_text='MSD=2 K_\\\\alpha t^\\\\alpha'\n",
    "for i in [3.0]:\n",
    "    boxsize=20.\n",
    "    Diffusion_E=i\n",
    "    Diffusion_S=i\n",
    "    Diffusion_P=10\n",
    "    reactiondistance=3\n",
    "    intrinsikreaction=10000000000000000000000\n",
    "    colornow=next(colors)\n",
    "    falist=[]\n",
    "    fclist=[]\n",
    "    averagelist=[]\n",
    "    for ii in range(1):\n",
    "        fc=simulation(boxsize,Diffusion_E,Diffusion_S,Diffusion_P,reactiondistance,intrinsikreaction) #,fc\n",
    "        fclist.append(fc['meanSquaredDisplacements'])\n",
    "    fclist=np.array(fclist)  \n",
    "    msd=fclist.mean(axis=0) \n",
    "    \n",
    "    plt.errorbar(fc['times'], msd ,yerr=fc['standardErrors'],color=colornow,label=\"$D_S$=$%.2f$\" %(i))\n",
    "    plt.loglog(np.array(range(6000))*0.01,msd_analyt(0.5,0.01,6000,3.0),label=\"$%s$  \" %(msd_text),linestyle='--')\n",
    "    \n",
    "plt.ylabel('MSD)', fontsize=10)\n",
    "plt.xlabel('t', fontsize=10)\n",
    "plt.legend()\n",
    "plt.savefig('finalreport/data/fractionalmsdrecreaddy.png',dpi=300)   # save the figure to file \n",
    "plt.show()\n"
   ]
  },
  {
   "cell_type": "code",
   "execution_count": null,
   "metadata": {
    "collapsed": false
   },
   "outputs": [],
   "source": []
  },
  {
   "cell_type": "markdown",
   "metadata": {},
   "source": [
    "Radial distribution function no reactions with fractional and normal borwnian motion"
   ]
  },
  {
   "cell_type": "code",
   "execution_count": 22,
   "metadata": {
    "collapsed": false
   },
   "outputs": [],
   "source": [
    "def simulation1(boxsize,Diffusion_E,Diffusion_S,Diffusion_P,reactiondistance,intrinsikreaction):\n",
    "    sim = rdy.Sim()\n",
    "    sim.kt = 2.437 # kJ/mol -> ~300 K\n",
    "    sim.alpha = 0.5\n",
    "    sim.timestep = 1.0# ns\n",
    "    sim.boxsize = boxsize# nm\n",
    "    sim.delete_all_particle_types() # also deletes all interactions etc.\n",
    "    sim.new_type(\"S\", 0.01, Diffusion_S)\n",
    "    sim.new_type(\"P\", 0.01, Diffusion_P)\n",
    "    sim.new_type(\"E\", 0.01, Diffusion_E)\n",
    "    sim.delete_all_reactions()\n",
    "\n",
    "    sim.delete_all_particles()\n",
    "    np.random.seed()\n",
    "\n",
    "    for _ in range(500):\n",
    "         pos = np.random.random(3) * 19.999 - 9.999\n",
    "         sim.add_particle(pos, 0)\n",
    "\n",
    "    sim.show_world()\n",
    "    sim.delete_all_observables()\n",
    "    mean_e_name = stamp()+\"radialdist_e_test1.h5\"\n",
    "    sim.new_radial_distribution(1,mean_e_name,np.arange(0., 10., 0.1),np.array([[0,0]]))\n",
    "    sim.run(6000)\n",
    "    sim.write_observables_to_file()\n",
    "    sim.delete_all_observables()\n",
    "    fc = h5.File(mean_e_name, 'r')\n",
    "    return  fc"
   ]
  },
  {
   "cell_type": "code",
   "execution_count": 23,
   "metadata": {
    "collapsed": true
   },
   "outputs": [],
   "source": [
    "def simulation2(boxsize,Diffusion_E,Diffusion_S,Diffusion_P,reactiondistance,intrinsikreaction):\n",
    "    sim = rdy.Sim(\"FractionalDiffusion\")\n",
    "    sim.kt = 2.437 # kJ/mol -> ~300 K\n",
    "    sim.alpha = 0.5\n",
    "    sim.timestep = 1.0# ns\n",
    "    sim.boxsize = boxsize# nm\n",
    "    sim.delete_all_particle_types() # also deletes all interactions etc.\n",
    "    sim.new_type(\"S\", 0.01, Diffusion_S)\n",
    "    sim.new_type(\"P\", 0.01, Diffusion_P)\n",
    "    sim.new_type(\"E\", 0.01, Diffusion_E)\n",
    "    sim.delete_all_reactions()\n",
    "    sim.delete_all_particles()\n",
    "    for _ in range(500):\n",
    "         pos = np.random.random(3) * 19.999 - 9.999\n",
    "         sim.add_particle(pos, 0)\n",
    "\n",
    "    sim.show_world()\n",
    "    sim.delete_all_observables()\n",
    "    mean_e_name = stamp()+\"radialdist_e_test1.h5\"\n",
    "    sim.new_radial_distribution(1,mean_e_name,np.arange(0., 10., 0.1),np.array([[0,0]]))\n",
    "    sim.run(6000)\n",
    "    sim.write_observables_to_file()\n",
    "    sim.delete_all_observables()\n",
    "    fc = h5.File(mean_e_name, 'r')\n",
    "    return  fc"
   ]
  },
  {
   "cell_type": "code",
   "execution_count": 28,
   "metadata": {
    "collapsed": false
   },
   "outputs": [
    {
     "name": "stdout",
     "output_type": "stream",
     "text": [
      "2\n"
     ]
    },
    {
     "ename": "NameError",
     "evalue": "name 'traj' is not defined",
     "output_type": "error",
     "traceback": [
      "\u001b[1;31m---------------------------------------------------------------------------\u001b[0m",
      "\u001b[1;31mNameError\u001b[0m                                 Traceback (most recent call last)",
      "\u001b[1;32m<ipython-input-28-f8a1aaf0ab00>\u001b[0m in \u001b[0;36m<module>\u001b[1;34m()\u001b[0m\n\u001b[0;32m      1\u001b[0m \u001b[0ma\u001b[0m \u001b[1;33m=\u001b[0m\u001b[0mnp\u001b[0m\u001b[1;33m.\u001b[0m\u001b[0marray\u001b[0m\u001b[1;33m(\u001b[0m\u001b[1;33m[\u001b[0m\u001b[1;33m[\u001b[0m\u001b[1;36m1\u001b[0m\u001b[1;33m,\u001b[0m\u001b[1;36m1\u001b[0m\u001b[1;33m]\u001b[0m\u001b[1;33m,\u001b[0m\u001b[1;33m[\u001b[0m\u001b[1;36m2\u001b[0m\u001b[1;33m,\u001b[0m\u001b[1;36m3\u001b[0m\u001b[1;33m]\u001b[0m\u001b[1;33m]\u001b[0m\u001b[1;33m)\u001b[0m\u001b[1;33m\u001b[0m\u001b[0m\n\u001b[0;32m      2\u001b[0m \u001b[1;32mprint\u001b[0m \u001b[0mlen\u001b[0m\u001b[1;33m(\u001b[0m\u001b[0ma\u001b[0m\u001b[1;33m.\u001b[0m\u001b[0mshape\u001b[0m\u001b[1;33m)\u001b[0m\u001b[1;33m\u001b[0m\u001b[0m\n\u001b[1;32m----> 3\u001b[1;33m \u001b[0ms\u001b[0m\u001b[1;33m=\u001b[0m\u001b[0mstr\u001b[0m\u001b[1;33m(\u001b[0m\u001b[0mtraj\u001b[0m\u001b[1;33m[\u001b[0m\u001b[1;34m'positions'\u001b[0m\u001b[1;33m]\u001b[0m\u001b[1;33m.\u001b[0m\u001b[0mshape\u001b[0m\u001b[1;33m[\u001b[0m\u001b[1;36m1\u001b[0m\u001b[1;33m]\u001b[0m\u001b[1;33m)\u001b[0m\u001b[1;33m\u001b[0m\u001b[0m\n\u001b[0m\u001b[0;32m      4\u001b[0m \u001b[1;32mprint\u001b[0m \u001b[0ms\u001b[0m\u001b[1;33m\u001b[0m\u001b[0m\n",
      "\u001b[1;31mNameError\u001b[0m: name 'traj' is not defined"
     ]
    }
   ],
   "source": [
    "a =np.array([[1,1],[2,3]])\n",
    "print len(a.shape)\n",
    "print s"
   ]
  },
  {
   "cell_type": "code",
   "execution_count": 25,
   "metadata": {
    "collapsed": false
   },
   "outputs": [
    {
     "name": "stdout",
     "output_type": "stream",
     "text": [
      "Number of particles:  500\n",
      "TypeId | Number of particles\n",
      "====== | ===================\n",
      "0      | 500                \n",
      "1      | 0                  \n",
      "2      | 0                  \n",
      " \n",
      "Number of particles:  500\n",
      "TypeId | Number of particles\n",
      "====== | ===================\n",
      "0      | 500                \n",
      "1      | 0                  \n",
      "2      | 0                  \n",
      " \n"
     ]
    }
   ],
   "source": [
    "fc=simulation1(boxsize,Diffusion_E,Diffusion_S,Diffusion_P,reactiondistance,intrinsikreaction) #,fc\n",
    "fd=simulation2(boxsize,Diffusion_E,Diffusion_S,Diffusion_P,reactiondistance,intrinsikreaction) #,fc"
   ]
  },
  {
   "cell_type": "code",
   "execution_count": 26,
   "metadata": {
    "collapsed": false
   },
   "outputs": [],
   "source": [
    "a=fc['binCenters']\n",
    "plt.plot(fd['binCenters'],fc['bins'], label=\"fractional\")\n",
    "plt.plot(fc['binCenters'],fd['bins'], label=\"brownian\")\n",
    "plt.ylabel('Bins', fontsize=10)\n",
    "plt.xlabel('Bin-Centers', fontsize=10)\n",
    "plt.legend()\n",
    "plt.savefig('finalreport/data/fractionalradialdistributionrevreaddy.png',dpi=300)   # save the figure to file \n",
    "plt.show()"
   ]
  },
  {
   "cell_type": "code",
   "execution_count": null,
   "metadata": {
    "collapsed": true
   },
   "outputs": [],
   "source": []
  },
  {
   "cell_type": "markdown",
   "metadata": {
    "collapsed": false
   },
   "source": [
    "\n",
    "Plan to generate a Film"
   ]
  },
  {
   "cell_type": "code",
   "execution_count": null,
   "metadata": {
    "collapsed": true
   },
   "outputs": [],
   "source": [
    "sim.new_trajectory"
   ]
  }
 ],
 "metadata": {
  "kernelspec": {
   "display_name": "Python 2",
   "language": "python",
   "name": "python2"
  },
  "language_info": {
   "codemirror_mode": {
    "name": "ipython",
    "version": 2
   },
   "file_extension": ".py",
   "mimetype": "text/x-python",
   "name": "python",
   "nbconvert_exporter": "python",
   "pygments_lexer": "ipython2",
   "version": "2.7.11"
  }
 },
 "nbformat": 4,
 "nbformat_minor": 0
}
