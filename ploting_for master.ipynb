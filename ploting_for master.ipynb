{
 "cells": [
  {
   "cell_type": "code",
   "execution_count": 1,
   "metadata": {
    "collapsed": false
   },
   "outputs": [],
   "source": [
    "import main \n",
    "import matplotlib.pyplot as plt\n",
    "import analyse_tool \n",
    "import numpy as np"
   ]
  },
  {
   "cell_type": "code",
   "execution_count": 2,
   "metadata": {
    "collapsed": false
   },
   "outputs": [],
   "source": [
    "c=analyse_tool.Analyse(D=2,particles=40,length=3000,alpha=0.5,dt=1)\n"
   ]
  },
  {
   "cell_type": "code",
   "execution_count": 3,
   "metadata": {
    "collapsed": false
   },
   "outputs": [],
   "source": [
    "msd_all=[]\n",
    "std_all=[]\n",
    "for ii in range(c.particles):\n",
    "    msd,std=c.msd_time(i=ii)\n",
    "    msd_all.append(msd)\n",
    "    std_all.append(std)"
   ]
  },
  {
   "cell_type": "code",
   "execution_count": 4,
   "metadata": {
    "collapsed": false
   },
   "outputs": [],
   "source": [
    "colors=['r','b','g','k','c','w','b','r','g','b','k','c','w','b','r','g','b','k','c','w','bo','ro','go','bo','ko','co','wo','bo']\n",
    "msd_time=np.array(msd_all)\n",
    "std_time=np.array(std_all)\n",
    "msd_time_mean=msd_time.mean(axis=0)\n",
    "std_time_mean=std_time.std(axis=0)\n",
    "\n",
    "        "
   ]
  },
  {
   "cell_type": "code",
   "execution_count": 5,
   "metadata": {
    "collapsed": false
   },
   "outputs": [
    {
     "name": "stderr",
     "output_type": "stream",
     "text": [
      "/home/mi/janekg89/miniconda2/lib/python2.7/site-packages/ipykernel/__main__.py:7: RuntimeWarning: divide by zero encountered in divide\n",
      "/home/mi/janekg89/miniconda2/lib/python2.7/site-packages/ipykernel/__main__.py:7: RuntimeWarning: invalid value encountered in divide\n"
     ]
    },
    {
     "data": {
      "text/plain": [
       "<matplotlib.legend.Legend at 0x7ffb2dd69410>"
      ]
     },
     "execution_count": 5,
     "metadata": {},
     "output_type": "execute_result"
    }
   ],
   "source": [
    "\n",
    "#c.plotting(msdtype=\"ensemble\", particlemsdtime=0,error=1, showlegend=None,scale=\"lin\")\n",
    "#c.plotting(msdtype=\"time\", particlemsdtime=0,error=0, showlegend=None,scale=\"lin\")\n",
    "msd_text='MSD=2 D t^\\\\alpha'\n",
    "t='t=\\\\Delta t \\\\cdot n'\n",
    "plt.loglog(c.t*c.dt,c.msdanalyt(),\":\",color=colors[1], label=\"$%s$  mit $D=%.2f$,$\\\\alpha=%.2f$\" %(msd_text,c.D,c.alpha))\n",
    "plt.errorbar(c.t*c.dt, msd_time_mean, yerr=msd_time.T.std(axis=1)/(np.sqrt(c.particles)*0),label=\"time + ensembe average of $D=%.2f$, $%s$=$%.2f \\\\cdot %d$, $ \\\\#=%d $, ,$\\\\alpha=%.2f$\" %(c.D,t,c.dt,c.n,c.particles,c.alpha))\n",
    "plt.xlabel('t', fontsize=14)\n",
    "plt.ylabel('MSD', fontsize=14)\n",
    "plt.legend()\n"
   ]
  },
  {
   "cell_type": "code",
   "execution_count": 6,
   "metadata": {
    "collapsed": false
   },
   "outputs": [
    {
     "name": "stderr",
     "output_type": "stream",
     "text": [
      "/home/mi/janekg89/miniconda2/lib/python2.7/site-packages/matplotlib/scale.py:93: RuntimeWarning: invalid value encountered in less_equal\n",
      "  mask = a <= 0.0\n"
     ]
    }
   ],
   "source": [
    "plt.show()"
   ]
  },
  {
   "cell_type": "code",
   "execution_count": 10,
   "metadata": {
    "collapsed": true
   },
   "outputs": [],
   "source": [
    "d=analyse_tool.Analyse(D=2,particles=40,length=3000,alpha=0.5,dt=0.5)\n"
   ]
  },
  {
   "cell_type": "code",
   "execution_count": 11,
   "metadata": {
    "collapsed": true
   },
   "outputs": [],
   "source": [
    "msd_all=[]\n",
    "std_all=[]\n",
    "for ii in range(d.particles):\n",
    "    msd,std=d.msd_time(i=ii)\n",
    "    msd_all.append(msd)\n",
    "    std_all.append(std)"
   ]
  },
  {
   "cell_type": "code",
   "execution_count": 12,
   "metadata": {
    "collapsed": true
   },
   "outputs": [],
   "source": [
    "colors=['r','b','g','k','c','w','b','r','g','b','k','c','w','b','r','g','b','k','c','w','bo','ro','go','bo','ko','co','wo','bo']\n",
    "msd_time1=np.array(msd_all)\n",
    "std_time1=np.array(std_all)\n",
    "msd_time_mean1=msd_time1.mean(axis=0)\n",
    "std_time_mean1=std_time1.std(axis=0)\n"
   ]
  },
  {
   "cell_type": "code",
   "execution_count": 13,
   "metadata": {
    "collapsed": false
   },
   "outputs": [
    {
     "name": "stderr",
     "output_type": "stream",
     "text": [
      "/home/mi/janekg89/miniconda2/lib/python2.7/site-packages/ipykernel/__main__.py:6: RuntimeWarning: divide by zero encountered in divide\n",
      "/home/mi/janekg89/miniconda2/lib/python2.7/site-packages/ipykernel/__main__.py:6: RuntimeWarning: invalid value encountered in divide\n"
     ]
    },
    {
     "data": {
      "text/plain": [
       "<matplotlib.legend.Legend at 0x7ffb60099d50>"
      ]
     },
     "execution_count": 13,
     "metadata": {},
     "output_type": "execute_result"
    }
   ],
   "source": [
    "#c.plotting(msdtype=\"ensemble\", particlemsdtime=0,error=1, showlegend=None,scale=\"lin\")\n",
    "#c.plotting(msdtype=\"time\", particlemsdtime=0,error=0, showlegend=None,scale=\"lin\")\n",
    "msd_text='MSD=2 D t^\\\\alpha'\n",
    "t='t=\\\\Delta t \\\\cdot n'\n",
    "#plt.loglog(d.t*d.dt,d.msdanalyt(),\":\",color=colors[1], label=\"$%s$  mit $D=%.2f$,$\\\\alpha=%.2f$\" %(msd_text,d.D,d.alpha))\n",
    "plt.errorbar(d.t*d.dt, msd_time_mean1, yerr=msd_time1.T.std(axis=1)/(np.sqrt(e.particles)*0),label=\"time + ensembe average of $D=%.2f$, $%s$=$%.2f \\\\cdot %d$, $ \\\\#=%d $, ,$\\\\alpha=%.2f$\" %(d.D,t,d.dt,d.n,d.particles,d.alpha))\n",
    "plt.xlabel('t', fontsize=14)\n",
    "plt.ylabel('MSD', fontsize=14)\n",
    "plt.legend()"
   ]
  },
  {
   "cell_type": "code",
   "execution_count": null,
   "metadata": {
    "collapsed": true
   },
   "outputs": [],
   "source": []
  },
  {
   "cell_type": "code",
   "execution_count": 14,
   "metadata": {
    "collapsed": true
   },
   "outputs": [],
   "source": [
    "e=analyse_tool.Analyse(D=2,particles=40,length=3000,alpha=0.5,dt=0.1)\n"
   ]
  },
  {
   "cell_type": "code",
   "execution_count": 15,
   "metadata": {
    "collapsed": false
   },
   "outputs": [],
   "source": [
    "msd_all=[]\n",
    "std_all=[]\n",
    "for ii in range(d.particles):\n",
    "    msd,std=e.msd_time(i=ii)\n",
    "    msd_all.append(msd)\n",
    "    std_all.append(std)"
   ]
  },
  {
   "cell_type": "code",
   "execution_count": 16,
   "metadata": {
    "collapsed": true
   },
   "outputs": [],
   "source": [
    "colors=['r','b','g','k','c','w','b','r','g','b','k','c','w','b','r','g','b','k','c','w','bo','ro','go','bo','ko','co','wo','bo']\n",
    "msd_time2=np.array(msd_all)\n",
    "std_time2=np.array(std_all)\n",
    "msd_time_mean2=msd_time2.mean(axis=0)\n",
    "std_time_mean2=std_time2.std(axis=0)"
   ]
  },
  {
   "cell_type": "code",
   "execution_count": 17,
   "metadata": {
    "collapsed": false
   },
   "outputs": [
    {
     "name": "stderr",
     "output_type": "stream",
     "text": [
      "/home/mi/janekg89/miniconda2/lib/python2.7/site-packages/ipykernel/__main__.py:6: RuntimeWarning: divide by zero encountered in divide\n",
      "/home/mi/janekg89/miniconda2/lib/python2.7/site-packages/ipykernel/__main__.py:6: RuntimeWarning: invalid value encountered in divide\n"
     ]
    },
    {
     "data": {
      "text/plain": [
       "<matplotlib.legend.Legend at 0x7ffb2bffeed0>"
      ]
     },
     "execution_count": 17,
     "metadata": {},
     "output_type": "execute_result"
    }
   ],
   "source": [
    "#c.plotting(msdtype=\"ensemble\", particlemsdtime=0,error=1, showlegend=None,scale=\"lin\")\n",
    "#c.plotting(msdtype=\"time\", particlemsdtime=0,error=0, showlegend=None,scale=\"lin\")\n",
    "msd_text='MSD=2 D t^\\\\alpha'\n",
    "t='t=\\\\Delta t \\\\cdot n'\n",
    "#plt.loglog(d.t*d.dt,d.msdanalyt(),\":\",color=colors[1], label=\"$%s$  mit $D=%.2f$,$\\\\alpha=%.2f$\" %(msd_text,d.D,d.alpha))\n",
    "plt.errorbar(e.t*e.dt, msd_time_mean2, yerr=msd_time2.T.std(axis=1)/(np.sqrt(e.particles)*0),label=\"time + ensembe average of $D=%.2f$, $%s$=$%.2f \\\\cdot %d$, $ \\\\#=%d $, ,$\\\\alpha=%.2f$\" %(e.D,t,d.dt,e.n,e.particles,e.alpha))\n",
    "plt.xlabel('t', fontsize=14)\n",
    "plt.ylabel('MSD', fontsize=14)\n",
    "plt.legend()"
   ]
  },
  {
   "cell_type": "code",
   "execution_count": 86,
   "metadata": {
    "collapsed": false
   },
   "outputs": [],
   "source": [
    "plt.show()"
   ]
  },
  {
   "cell_type": "code",
   "execution_count": 101,
   "metadata": {
    "collapsed": false
   },
   "outputs": [
    {
     "name": "stderr",
     "output_type": "stream",
     "text": [
      "/home/mi/janekg89/miniconda2/lib/python2.7/site-packages/ipykernel/__main__.py:4: RuntimeWarning: divide by zero encountered in divide\n",
      "/home/mi/janekg89/miniconda2/lib/python2.7/site-packages/ipykernel/__main__.py:4: RuntimeWarning: invalid value encountered in divide\n"
     ]
    },
    {
     "data": {
      "text/plain": [
       "[<matplotlib.lines.Line2D at 0x7fcb4244ae90>]"
      ]
     },
     "execution_count": 101,
     "metadata": {},
     "output_type": "execute_result"
    }
   ],
   "source": [
    "for i in (np.logspace(0,1,num=15,base=2)-0.99):\n",
    "    e=analyse_tool.Analyse(D=2,particles=4000,length=3000,alpha=0.5,dt=i)\n",
    "    msd,std=e.msd_ensemble()\n",
    "    plt.errorbar(e.t*e.dt, msd, yerr=msd_time2.T.std(axis=1)/(np.sqrt(e.particles)*0),label=\"$\\\\Delta t$=$%.2f $\" %(e.dt))\n",
    "plt.plot(e.t*e.dt,e.msdanalyt(),\":\",color=colors[1], label=\"$%s$  mit $D=%.2f$,$\\\\alpha=%.2f$\" %(msd_text,e.D,e.alpha))\n",
    "\n"
   ]
  },
  {
   "cell_type": "code",
   "execution_count": 102,
   "metadata": {
    "collapsed": false
   },
   "outputs": [],
   "source": [
    "plt.xlabel('t', fontsize=14)\n",
    "plt.ylabel('MSD', fontsize=14)\n",
    "plt.legend(loc=4)\n",
    "plt.show()"
   ]
  },
  {
   "cell_type": "markdown",
   "metadata": {},
   "source": [
    "# Zeit läuft rückwärts Plot"
   ]
  },
  {
   "cell_type": "code",
   "execution_count": null,
   "metadata": {
    "collapsed": false
   },
   "outputs": [],
   "source": [
    "e=analyse_tool.Analyse(D=2,particles=5000,length=20000,alpha=0.5,dt=1)\n",
    "msd,std=e.msd_ensemble()\n",
    "plt.errorbar(e.t*e.dt, msd, yerr=msd*0,label=\"$\\\\Delta t=%.2f $\" %(e.dt))\n",
    "plt.loglog(e.t*e.dt,e.msdanalyt(),\":\",color=colors[1], label=\"$%s$  mit $D=%.2f$,$\\\\alpha=%.2f$\" %(msd_text,e.D,e.alpha))\n",
    "e.invert_time()\n",
    "msd1,std1=e.msd_ensemble()\n",
    "plt.errorbar(e.t*e.dt, msd1, yerr=msd1*0,label=\"$\\\\Delta t=%.2f$ time backwards\" %(e.dt) )\n",
    "plt.xlabel('t', fontsize=14)\n",
    "plt.ylabel('MSD', fontsize=14)\n",
    "plt.legend(loc=4)\n",
    "plt.show()"
   ]
  },
  {
   "cell_type": "markdown",
   "metadata": {},
   "source": [
    "# Variiere alpha\n"
   ]
  },
  {
   "cell_type": "code",
   "execution_count": 7,
   "metadata": {
    "collapsed": false
   },
   "outputs": [
    {
     "ename": "NameError",
     "evalue": "name 'msd_time2' is not defined",
     "output_type": "error",
     "traceback": [
      "\u001b[1;31m---------------------------------------------------------------------------\u001b[0m",
      "\u001b[1;31mNameError\u001b[0m                                 Traceback (most recent call last)",
      "\u001b[1;32m<ipython-input-7-91a7069e1f39>\u001b[0m in \u001b[0;36m<module>\u001b[1;34m()\u001b[0m\n\u001b[0;32m      2\u001b[0m     \u001b[0me\u001b[0m\u001b[1;33m=\u001b[0m\u001b[0manalyse_tool\u001b[0m\u001b[1;33m.\u001b[0m\u001b[0mAnalyse\u001b[0m\u001b[1;33m(\u001b[0m\u001b[0mD\u001b[0m\u001b[1;33m=\u001b[0m\u001b[1;36m2\u001b[0m\u001b[1;33m,\u001b[0m\u001b[0mparticles\u001b[0m\u001b[1;33m=\u001b[0m\u001b[1;36m4000\u001b[0m\u001b[1;33m,\u001b[0m\u001b[0mlength\u001b[0m\u001b[1;33m=\u001b[0m\u001b[1;36m3000\u001b[0m\u001b[1;33m,\u001b[0m\u001b[0malpha\u001b[0m\u001b[1;33m=\u001b[0m\u001b[0mi\u001b[0m\u001b[1;33m,\u001b[0m\u001b[0mdt\u001b[0m\u001b[1;33m=\u001b[0m\u001b[1;36m1\u001b[0m\u001b[1;33m)\u001b[0m\u001b[1;33m\u001b[0m\u001b[0m\n\u001b[0;32m      3\u001b[0m     \u001b[0mmsd\u001b[0m\u001b[1;33m,\u001b[0m\u001b[0mstd\u001b[0m\u001b[1;33m=\u001b[0m\u001b[0me\u001b[0m\u001b[1;33m.\u001b[0m\u001b[0mmsd_ensemble\u001b[0m\u001b[1;33m(\u001b[0m\u001b[1;33m)\u001b[0m\u001b[1;33m\u001b[0m\u001b[0m\n\u001b[1;32m----> 4\u001b[1;33m     \u001b[0mplt\u001b[0m\u001b[1;33m.\u001b[0m\u001b[0merrorbar\u001b[0m\u001b[1;33m(\u001b[0m\u001b[0me\u001b[0m\u001b[1;33m.\u001b[0m\u001b[0mt\u001b[0m\u001b[1;33m*\u001b[0m\u001b[0me\u001b[0m\u001b[1;33m.\u001b[0m\u001b[0mdt\u001b[0m\u001b[1;33m,\u001b[0m \u001b[0mmsd\u001b[0m\u001b[1;33m,\u001b[0m \u001b[0myerr\u001b[0m\u001b[1;33m=\u001b[0m\u001b[0mmsd_time2\u001b[0m\u001b[1;33m.\u001b[0m\u001b[0mT\u001b[0m\u001b[1;33m.\u001b[0m\u001b[0mstd\u001b[0m\u001b[1;33m(\u001b[0m\u001b[0maxis\u001b[0m\u001b[1;33m=\u001b[0m\u001b[1;36m1\u001b[0m\u001b[1;33m)\u001b[0m\u001b[1;33m/\u001b[0m\u001b[1;33m(\u001b[0m\u001b[0mnp\u001b[0m\u001b[1;33m.\u001b[0m\u001b[0msqrt\u001b[0m\u001b[1;33m(\u001b[0m\u001b[0me\u001b[0m\u001b[1;33m.\u001b[0m\u001b[0mparticles\u001b[0m\u001b[1;33m)\u001b[0m\u001b[1;33m*\u001b[0m\u001b[1;36m0\u001b[0m\u001b[1;33m)\u001b[0m\u001b[1;33m,\u001b[0m\u001b[0mlabel\u001b[0m\u001b[1;33m=\u001b[0m\u001b[1;34m\"$\\\\alpha$=$%.2f $\"\u001b[0m \u001b[1;33m%\u001b[0m\u001b[1;33m(\u001b[0m\u001b[0me\u001b[0m\u001b[1;33m.\u001b[0m\u001b[0malpha\u001b[0m\u001b[1;33m)\u001b[0m\u001b[1;33m)\u001b[0m\u001b[1;33m\u001b[0m\u001b[0m\n\u001b[0m\u001b[0;32m      5\u001b[0m     \u001b[0mplt\u001b[0m\u001b[1;33m.\u001b[0m\u001b[0mloglog\u001b[0m\u001b[1;33m(\u001b[0m\u001b[0me\u001b[0m\u001b[1;33m.\u001b[0m\u001b[0mt\u001b[0m\u001b[1;33m*\u001b[0m\u001b[0me\u001b[0m\u001b[1;33m.\u001b[0m\u001b[0mdt\u001b[0m\u001b[1;33m,\u001b[0m\u001b[0me\u001b[0m\u001b[1;33m.\u001b[0m\u001b[0mmsdanalyt\u001b[0m\u001b[1;33m(\u001b[0m\u001b[1;33m)\u001b[0m\u001b[1;33m,\u001b[0m\u001b[1;34m\":\"\u001b[0m\u001b[1;33m,\u001b[0m\u001b[0mcolor\u001b[0m\u001b[1;33m=\u001b[0m\u001b[0mcolors\u001b[0m\u001b[1;33m[\u001b[0m\u001b[1;36m1\u001b[0m\u001b[1;33m]\u001b[0m\u001b[1;33m)\u001b[0m\u001b[1;33m\u001b[0m\u001b[0m\n",
      "\u001b[1;31mNameError\u001b[0m: name 'msd_time2' is not defined"
     ]
    }
   ],
   "source": [
    "for i in (np.logspace(0,1,num=7,base=2.8)-0.99):\n",
    "    e=analyse_tool.Analyse(D=2,particles=4000,length=3000,alpha=i,dt=1)\n",
    "    msd,std=e.msd_ensemble()\n",
    "    plt.errorbar(e.t*e.dt, msd, yerr=msd_time2.T.std(axis=1)/(np.sqrt(e.particles)*0),label=\"$\\\\alpha$=$%.2f $\" %(e.alpha))\n",
    "    plt.loglog(e.t*e.dt,e.msdanalyt(),\":\",color=colors[1])\n"
   ]
  },
  {
   "cell_type": "code",
   "execution_count": null,
   "metadata": {
    "collapsed": true
   },
   "outputs": [],
   "source": [
    "plt.xlabel('t', fontsize=14)\n",
    "plt.ylabel('MSD', fontsize=14)\n",
    "plt.legend(loc=4)\n",
    "plt.show()"
   ]
  },
  {
   "cell_type": "markdown",
   "metadata": {
    "collapsed": true
   },
   "source": [
    "# variere dt"
   ]
  },
  {
   "cell_type": "code",
   "execution_count": 30,
   "metadata": {
    "collapsed": false
   },
   "outputs": [
    {
     "data": {
      "text/plain": [
       "[<matplotlib.lines.Line2D at 0x7f6e9865c0d0>]"
      ]
     },
     "execution_count": 30,
     "metadata": {},
     "output_type": "execute_result"
    }
   ],
   "source": [
    "for i in range(1,6):\n",
    "    e=analyse_tool.Analyse(D=2,particles=4000,length=2000*i,alpha=0.5,dt=1./i,x=1)\n",
    "    msd,std=e.msd_ensemble()\n",
    "    plt.errorbar(e.t*e.dt, msd, yerr=e.t*0,label=\"$dt=\\\\frac{1}{%.2f} $\" %(e.dt))\n",
    "plt.plot(e.t*e.dt,e.msdanalyt(),\":\")\n"
   ]
  },
  {
   "cell_type": "code",
   "execution_count": 31,
   "metadata": {
    "collapsed": false
   },
   "outputs": [],
   "source": [
    "plt.xlabel('t', fontsize=14)\n",
    "plt.ylabel('MSD', fontsize=14)\n",
    "plt.legend(loc=4)\n",
    "plt.show()"
   ]
  },
  {
   "cell_type": "markdown",
   "metadata": {},
   "source": [
    "# variere vervielfachung"
   ]
  },
  {
   "cell_type": "code",
   "execution_count": 34,
   "metadata": {
    "collapsed": false
   },
   "outputs": [
    {
     "data": {
      "text/plain": [
       "[<matplotlib.lines.Line2D at 0x7f6e8443f6d0>]"
      ]
     },
     "execution_count": 34,
     "metadata": {},
     "output_type": "execute_result"
    }
   ],
   "source": [
    "for i in range(1,6):\n",
    "    e=analyse_tool.Analyse(D=2,particles=4000,length=2000,alpha=0.5,dt=1,x=i)\n",
    "    msd,std=e.msd_ensemble()\n",
    "    plt.errorbar(e.t*e.dt, msd, yerr=e.t*0,label=\"Vervielfachung $x=%.2f $\" %(e.ki/e.n))\n",
    "plt.loglog(e.t*e.dt,e.msdanalyt(),\":\")\n"
   ]
  },
  {
   "cell_type": "code",
   "execution_count": 35,
   "metadata": {
    "collapsed": true
   },
   "outputs": [],
   "source": [
    "plt.xlabel('t', fontsize=14)\n",
    "plt.ylabel('MSD', fontsize=14)\n",
    "plt.legend(loc=4)\n",
    "plt.show()"
   ]
  },
  {
   "cell_type": "markdown",
   "metadata": {},
   "source": [
    "# neuer test\n"
   ]
  },
  {
   "cell_type": "code",
   "execution_count": 7,
   "metadata": {
    "collapsed": false
   },
   "outputs": [
    {
     "data": {
      "text/plain": [
       "[<matplotlib.lines.Line2D at 0x7f83192dc390>]"
      ]
     },
     "execution_count": 7,
     "metadata": {},
     "output_type": "execute_result"
    }
   ],
   "source": [
    " e=analyse_tool.Analyse(D=2,particles=4000,length=2000,alpha=0.5,dt=1,x=2)\n",
    "msd,std=e.msd_ensemble()\n",
    "plt.errorbar(e.t*e.dt, msd, yerr=e.t*0,label=\"Vervielfachung $x=%.2f $\" %(e.ki/e.n))\n",
    "plt.plot(e.t*e.dt,e.msdanalyt(),\":\")"
   ]
  },
  {
   "cell_type": "code",
   "execution_count": 8,
   "metadata": {
    "collapsed": true
   },
   "outputs": [],
   "source": [
    "plt.xlabel('t', fontsize=14)\n",
    "plt.ylabel('MSD', fontsize=14)\n",
    "plt.legend(loc=4)\n",
    "plt.show()"
   ]
  },
  {
   "cell_type": "code",
   "execution_count": null,
   "metadata": {
    "collapsed": true
   },
   "outputs": [],
   "source": []
  }
 ],
 "metadata": {
  "kernelspec": {
   "display_name": "Python 2",
   "language": "python",
   "name": "python2"
  },
  "language_info": {
   "codemirror_mode": {
    "name": "ipython",
    "version": 2
   },
   "file_extension": ".py",
   "mimetype": "text/x-python",
   "name": "python",
   "nbconvert_exporter": "python",
   "pygments_lexer": "ipython2",
   "version": "2.7.11"
  }
 },
 "nbformat": 4,
 "nbformat_minor": 0
}
