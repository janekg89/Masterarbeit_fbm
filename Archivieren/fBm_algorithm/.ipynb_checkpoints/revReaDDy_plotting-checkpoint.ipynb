{
 "metadata": {
  "name": "",
  "signature": "sha256:ad1977d2eb07912101f4904c097139d200fd5aa975b7c8094dcf70e9f58349cf"
 },
 "nbformat": 3,
 "nbformat_minor": 0,
 "worksheets": []
}