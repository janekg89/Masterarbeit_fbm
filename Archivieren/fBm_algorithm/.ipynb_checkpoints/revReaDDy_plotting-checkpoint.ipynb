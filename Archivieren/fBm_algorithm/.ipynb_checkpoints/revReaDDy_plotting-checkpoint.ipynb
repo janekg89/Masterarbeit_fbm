{
 "cells": [
  {
   "cell_type": "code",
   "execution_count": 1,
   "metadata": {
    "collapsed": false
   },
   "outputs": [],
   "source": [
    "import matplotlib.pyplot as plt\n",
    "import numpy as np\n",
    "from timeit import Timer\n",
    "from mpl_toolkits.mplot3d import Axes3D\n",
    "import matplotlib.cm as cm\n",
    "%matplotlib inline  \n"
   ]
  },
  {
   "cell_type": "markdown",
   "metadata": {},
   "source": [
    "# Smoluchwoski and Erban Chapmann Disribution Functions:"
   ]
  },
  {
   "cell_type": "code",
   "execution_count": 2,
   "metadata": {
    "collapsed": false
   },
   "outputs": [],
   "source": [
    "def radial_erban(Diffusion,bincenters,micro_reactionrate_forward,reactiondistance):\n",
    "    c_inf=1.0\n",
    "    a_2=c_inf*(np.sqrt(Diffusion/micro_reactionrate_forward)*np.tanh(reactiondistance*np.sqrt(micro_reactionrate_forward/Diffusion))-reactiondistance)\n",
    "    return c_inf+a_2/bincenters\n",
    "def index_cut(bincenters):\n",
    "    for i in range(len(bincenters)):\n",
    "        if bincenters[i] >= 1.:\n",
    "            return i\n",
    "def radial_erban_inside(bincenters,Diffusion,micro_reactionrate_forward,reactiondistance):\n",
    "    c_inf=1.0\n",
    "    a_3=c_inf*np.sqrt(Diffusion/micro_reactionrate_forward)*(2*np.cosh(reactiondistance*np.sqrt(micro_reactionrate_forward/Diffusion)))**(-1)\n",
    "    return ((2*a_3)/bincenters)*np.sinh(bincenters*np.sqrt(micro_reactionrate_forward/Diffusion))           "
   ]
  },
  {
   "cell_type": "code",
   "execution_count": 3,
   "metadata": {
    "collapsed": false
   },
   "outputs": [
    {
     "name": "stderr",
     "output_type": "stream",
     "text": [
      "/home/mi/janekg89/miniconda2/lib/python2.7/site-packages/ipykernel/__main__.py:4: RuntimeWarning: divide by zero encountered in divide\n",
      "/home/mi/janekg89/miniconda2/lib/python2.7/site-packages/ipykernel/__main__.py:12: RuntimeWarning: divide by zero encountered in divide\n",
      "/home/mi/janekg89/miniconda2/lib/python2.7/site-packages/ipykernel/__main__.py:12: RuntimeWarning: invalid value encountered in multiply\n",
      "/home/mi/janekg89/miniconda2/lib/python2.7/site-packages/ipykernel/__main__.py:12: RuntimeWarning: overflow encountered in sinh\n"
     ]
    },
    {
     "data": {
      "image/png": "[encoded data removed]",
      "text/plain": [
       "<matplotlib.figure.Figure at 0x7f742591f910>"
      ]
     },
     "metadata": {},
     "output_type": "display_data"
    }
   ],
   "source": [
    "Diffusion=1.0\n",
    "bincenters=np.linspace(0,10,1001)\n",
    "reactiondistance=1.0\n",
    "\n",
    "plt.figure(figsize=(6.5,4))\n",
    "plt.plot([1.0, 1.0], [-0.1,1.1], 'k--', lw=2)\n",
    "plt.ylim([-0.01,1.01])\n",
    "\n",
    "\n",
    "\n",
    "\n",
    "plt.text(0.9, 0.1, '$\\\\sigma$',\n",
    "        verticalalignment='bottom', horizontalalignment='right', fontsize=15)\n",
    "\n",
    "\n",
    "micro_reactionrate_forward=0.0001\n",
    "\n",
    "plt.plot(bincenters[index_cut(bincenters):],radial_erban(Diffusion,bincenters,micro_reactionrate_forward,reactiondistance)[index_cut(bincenters):],c=\"g\", label=\"micro. reaction limit $\\\\lambda_{+} = 0$\")\n",
    "plt.plot(bincenters[:index_cut(bincenters)+1],radial_erban_inside(bincenters,Diffusion,micro_reactionrate_forward,reactiondistance)[:index_cut(bincenters)+1],c=\"g\")\n",
    "\n",
    "\n",
    "\n",
    "\n",
    "\n",
    "micro_reactionrate_forward=1./3.\n",
    "\n",
    "\n",
    "plt.plot(bincenters[index_cut(bincenters):],radial_erban(Diffusion,bincenters,micro_reactionrate_forward,reactiondistance)[index_cut(bincenters):],c=\"r\", label=\"Erban-Chapman $\\\\lambda_{+}=\\\\frac{2D}{\\\\sigma^2}$\")\n",
    "plt.plot(bincenters[:index_cut(bincenters)+1],radial_erban_inside(bincenters,Diffusion,micro_reactionrate_forward,reactiondistance)[:index_cut(bincenters)+1],c=\"r\")\n",
    "plt.xlabel('$r / \\\\sigma$ ', fontsize=15)\n",
    "plt.ylabel('$\\\\rho(r)/c_A$', fontsize=15)\n",
    "\n",
    "\n",
    "\n",
    "\n",
    "\n",
    "micro_reactionrate_forward=100000\n",
    "\n",
    "plt.plot(bincenters[index_cut(bincenters):],radial_erban(Diffusion,bincenters,micro_reactionrate_forward,reactiondistance)[index_cut(bincenters):],c=\"b\", label=\"diffusion limited $\\\\lambda_{+}= \\\\infty$\")\n",
    "plt.plot(bincenters[:index_cut(bincenters)+1],radial_erban_inside(bincenters,Diffusion,micro_reactionrate_forward,reactiondistance)[:index_cut(bincenters)+1],c=\"b\")\n",
    "\n",
    "\n",
    "\n",
    "\n",
    "\n",
    "\n",
    "plt.legend(loc=4,fontsize=\"small\")\n",
    "#plt.savefig('Abschlussarbeit/data/smoluchowskierban.png',dpi=300)  \n",
    "plt.show()"
   ]
  },
  {
   "cell_type": "markdown",
   "metadata": {},
   "source": [
    "# fracal exponents diffusion limit"
   ]
  },
  {
   "cell_type": "code",
   "execution_count": 4,
   "metadata": {
    "collapsed": false
   },
   "outputs": [
    {
     "data": {
      "image/png": "[encoded data removed]",
      "text/plain": [
       "<matplotlib.figure.Figure at 0x7f7422acc890>"
      ]
     },
     "metadata": {},
     "output_type": "display_data"
    }
   ],
   "source": [
    "plt.figure(figsize=(3,4))\n",
    "alpha=[0.05,0.1,0.2,0.3,0.4,0.5,0.6,0.7,0.8,0.9,1.0]\n",
    "alpha=np.array(alpha)\n",
    "h=1-(3.0*alpha)/2.0\n",
    "hfit=[0.88441,0.80584,0.65659,0.46603,0.33364,0.18971,0.10969,0.03544,0.01657, 0.01320, 0.0]\n",
    "h[-4:]=[0,0,0,0]\n",
    "plt.plot(alpha,h,label='$h^{theo}$')\n",
    "plt.plot(alpha,hfit,label='$h^{fit}$')\n",
    "plt.xlabel('$\\\\alpha$ ', fontsize=14)\n",
    "plt.ylabel('$h$', fontsize=14)\n",
    "plt.ylim((-0.1,1.0))\n",
    "lgd=plt.legend(loc=1)"
   ]
  },
  {
   "cell_type": "code",
   "execution_count": null,
   "metadata": {
    "collapsed": false
   },
   "outputs": [],
   "source": []
  }
 ],
 "metadata": {
  "kernelspec": {
   "display_name": "Python 2",
   "language": "python",
   "name": "python2"
  },
  "language_info": {
   "codemirror_mode": {
    "name": "ipython",
    "version": 2
   },
   "file_extension": ".py",
   "mimetype": "text/x-python",
   "name": "python",
   "nbconvert_exporter": "python",
   "pygments_lexer": "ipython2",
   "version": "2.7.11"
  }
 },
 "nbformat": 4,
 "nbformat_minor": 0
}
