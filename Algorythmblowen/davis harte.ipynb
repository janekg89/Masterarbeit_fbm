{
 "cells": [
  {
   "cell_type": "code",
   "execution_count": null,
   "metadata": {
    "collapsed": false
   },
   "outputs": [],
   "source": [
    "import numpy as np\n",
    "import matplotlib.pyplot as plt\n"
   ]
  },
  {
   "cell_type": "code",
   "execution_count": null,
   "metadata": {
    "collapsed": false
   },
   "outputs": [],
   "source": [
    "N=1000\n",
    "D=2\n",
    "alpha=0.8\n",
    "k=np.array(range(2*N))\n",
    "s_k=(D/2.)*((abs(k+1))**alpha-2*k**alpha+(abs(k-1)**alpha))\n",
    "print k[N-2:N+1]"
   ]
  },
  {
   "cell_type": "code",
   "execution_count": null,
   "metadata": {
    "collapsed": true
   },
   "outputs": [],
   "source": [
    "plt.plot(s_k)\n",
    "plt.show()"
   ]
  },
  {
   "cell_type": "code",
   "execution_count": null,
   "metadata": {
    "collapsed": false
   },
   "outputs": [],
   "source": [
    "A_k_N1=np.fft.fft(s_k[:N+1]/np.exp(2))\n",
    "A_k_N2=np.fft.fft(s_k[N+1::-1]/np.exp(2))\n",
    "A_k_N=np.append(A_k_N1,A_k_N2)\n",
    "plt.plot(A_k_N)\n",
    "plt.show()"
   ]
  },
  {
   "cell_type": "code",
   "execution_count": null,
   "metadata": {
    "collapsed": false
   },
   "outputs": [],
   "source": [
    "n=np.array(range(2*N))*1.\n",
    "\n",
    "r_x1=(1-(n/N)**alpha)/2\n",
    "r_x2=r_x1[::-1]\n",
    "r_x=np.append(r_x1,r_x2)\n",
    "s_x=np.fft.fft(r_x)\n",
    "X_k1=0.0+1j*0.0\n",
    "X_k2=np.array(np.sqrt(s_x[1:N])*np.random.normal(size=N-1)*np.exp(1j*np.random.rand(N-1)*2*np.pi))\n",
    "X_k3=np.array(np.random.normal()*np.sqrt(s_x[N]))\n",
    "\n",
    "X_k1_2=np.append(X_k1,X_k2)\n",
    "X_k1_k3=np.append(X_k1_2,X_k3)\n",
    "X_k=np.append(X_k1_2,np.conjugate(X_k2[::-1]))\n",
    "X_n=np.fft.ifft(X_k)"
   ]
  },
  {
   "cell_type": "code",
   "execution_count": null,
   "metadata": {
    "collapsed": true
   },
   "outputs": [],
   "source": []
  },
  {
   "cell_type": "code",
   "execution_count": null,
   "metadata": {
    "collapsed": true
   },
   "outputs": [],
   "source": [
    "plt.plot(s_x)\n",
    "#plt.plot(r_n.imag)\n",
    "plt.show()"
   ]
  },
  {
   "cell_type": "code",
   "execution_count": null,
   "metadata": {
    "collapsed": false
   },
   "outputs": [],
   "source": [
    "r_t_allparticles=[]\n",
    "D=2\n",
    "\n",
    "for particle in range(2000):\n",
    "    n=np.array(range(2*N))*1.\n",
    "    r_x1=(1-(n[:N+1]/N)**alpha)/2\n",
    "    r_x2=r_x1[N:0:-1]\n",
    "    r_x=np.append(r_x1,r_x2)\n",
    "    s_x=np.fft.fft(r_x)\n",
    "    X_k1=0.0+1j*0.0\n",
    "    X_k2=np.array(np.sqrt(s_x[1:N])*np.random.normal(size=N-1)*np.exp(1j*np.random.rand(N-1)*2*np.pi))\n",
    "    #X_k3=np.array(np.random.normal()*np.sqrt(s_x[N]))\n",
    "    X_k1_2=np.append(X_k1,X_k2)\n",
    "    #X_k1_k3=np.append(X_k1_2,X_k3)\n",
    "    X_k=np.append(X_k1_2,np.conjugate(X_k2[::-1]))\n",
    "    X_n=np.fft.ifft(X_k)\n",
    "    y_n=X_n[:N]-X_n[0]\n",
    "    r_n=y_n[:]*np.sqrt(N)*np.sqrt(4.*D*(1./N)**-alpha)\n",
    "    \n",
    "    r_t_allparticles.append(r_n)\n",
    "traject=np.array(r_t_allparticles)"
   ]
  },
  {
   "cell_type": "code",
   "execution_count": null,
   "metadata": {
    "collapsed": false
   },
   "outputs": [],
   "source": [
    "r_t_allparticles_squared=abs(traject)**2\n",
    "msd=r_t_allparticles_squared.mean(axis=0)\n",
    "plt.plot(2*D*n[:N]**alpha)\n",
    "plt.plot(msd)\n",
    "plt.show()\n"
   ]
  },
  {
   "cell_type": "code",
   "execution_count": null,
   "metadata": {
    "collapsed": true
   },
   "outputs": [],
   "source": [
    "lLL"
   ]
  },
  {
   "cell_type": "code",
   "execution_count": null,
   "metadata": {
    "collapsed": true
   },
   "outputs": [],
   "source": []
  }
 ],
 "metadata": {
  "kernelspec": {
   "display_name": "Python 2",
   "language": "python",
   "name": "python2"
  },
  "language_info": {
   "codemirror_mode": {
    "name": "ipython",
    "version": 2
   },
   "file_extension": ".py",
   "mimetype": "text/x-python",
   "name": "python",
   "nbconvert_exporter": "python",
   "pygments_lexer": "ipython2",
   "version": "2.7.11"
  }
 },
 "nbformat": 4,
 "nbformat_minor": 0
}
