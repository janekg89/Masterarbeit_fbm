{
 "cells": [
  {
   "cell_type": "code",
   "execution_count": 47,
   "metadata": {
    "collapsed": true
   },
   "outputs": [],
   "source": [
    "import numpy as np\n",
    "import matplotlib.pylab as p\n",
    "\n"
   ]
  },
  {
   "cell_type": "code",
   "execution_count": 48,
   "metadata": {
    "collapsed": true
   },
   "outputs": [],
   "source": [
    "def R_n(n,alpha):\n",
    "    N=len(n)/2\n",
    "    nfloat=np.array(n)*1.\n",
    "    R_n=np.zeros(2*N+1)\n",
    "    def R_x1(nfloat,alpha):\n",
    "        N=len(nfloat)\n",
    "        return 2.**(-1)*(1.-((nfloat)/N)**alpha)\n",
    "    R_n[n[:N]]=R_x1(nfloat[:N],alpha)\n",
    "    R_n[n[N:]]=R_x1(2*N-nfloat[N:],alpha) \n",
    "    R_n[2*N]=R_n[0]\n",
    "    return R_n\n"
   ]
  },
  {
   "cell_type": "code",
   "execution_count": 49,
   "metadata": {
    "collapsed": true
   },
   "outputs": [],
   "source": [
    "def S_K(n,alpha):\n",
    "    \n",
    "    return np.fft.fft(R_n(n,alpha))\n",
    "    \n",
    "    \n",
    "    "
   ]
  },
  {
   "cell_type": "code",
   "execution_count": 50,
   "metadata": {
    "collapsed": false
   },
   "outputs": [],
   "source": [
    "def X_k(k):\n",
    "    N=len(k)/2\n",
    "    X_k=np.zeros(2*N)\n",
    "    ##################\n",
    "    S_k=S_K(k,alpha)\n",
    "    phi= np.random.rand(2*N)*2*np.pi\n",
    "    grandom=np.random.normal(0,1,2*N)\n",
    "    #print N\n",
    "    #print k[1:N]\n",
    "    #print 2*N-k[N+1:]\n",
    "    def X_k1(k1):          \n",
    "        ######################\n",
    "        X_k1=np.exp(+1j*phi[k1])*grandom[k1]*np.sqrt(S_k[k1])\n",
    "        ######################     \n",
    "        return X_k1\n",
    "    \n",
    "    X_k[k[1:N]]=X_k1(k[1:N])\n",
    "    \n",
    "    ######################\n",
    "    X_k[N]=grandom[N]*np.sqrt(S_k[N])\n",
    "    #####################\n",
    "   \n",
    "    X_k[k[N+1:]]=np.conjugate(X_k1(2*N-np.array(k[N+1:])))    \n",
    "    return X_k"
   ]
  },
  {
   "cell_type": "code",
   "execution_count": 51,
   "metadata": {
    "collapsed": false
   },
   "outputs": [],
   "source": [
    "def x_n(N,alpha):\n",
    "    n=range(2*N)\n",
    "    k=range(2*N)\n",
    "    return np.fft.ifft(X_k(k))"
   ]
  },
  {
   "cell_type": "code",
   "execution_count": 53,
   "metadata": {
    "collapsed": false
   },
   "outputs": [
    {
     "name": "stderr",
     "output_type": "stream",
     "text": [
      "/home/mi/janekg89/miniconda2/lib/python2.7/site-packages/ipykernel/__main__.py:17: ComplexWarning: Casting complex values to real discards the imaginary part\n",
      "/home/mi/janekg89/miniconda2/lib/python2.7/site-packages/ipykernel/__main__.py:20: ComplexWarning: Casting complex values to real discards the imaginary part\n",
      "/home/mi/janekg89/miniconda2/lib/python2.7/site-packages/ipykernel/__main__.py:23: ComplexWarning: Casting complex values to real discards the imaginary part\n"
     ]
    }
   ],
   "source": [
    "#main\n",
    "n=range(0,2000)\n",
    "alpha=0.5\n",
    "r_m=R_n(n,alpha)\n",
    "s_k=S_K(n,alpha)\n",
    "r_t=x_n(2000,1.0)[0:2000]\n",
    "#plt.plot(r_t-r_t[0])\n",
    "plt.plot(s_k)\n",
    "plt.show()"
   ]
  },
  {
   "cell_type": "code",
   "execution_count": 29,
   "metadata": {
    "collapsed": false
   },
   "outputs": [
    {
     "name": "stderr",
     "output_type": "stream",
     "text": [
      "/home/mi/janekg89/miniconda2/lib/python2.7/site-packages/ipykernel/__main__.py:17: ComplexWarning: Casting complex values to real discards the imaginary part\n",
      "/home/mi/janekg89/miniconda2/lib/python2.7/site-packages/ipykernel/__main__.py:20: ComplexWarning: Casting complex values to real discards the imaginary part\n",
      "/home/mi/janekg89/miniconda2/lib/python2.7/site-packages/ipykernel/__main__.py:23: ComplexWarning: Casting complex values to real discards the imaginary part\n"
     ]
    }
   ],
   "source": [
    "r_t_allparticles=[]\n",
    "for particle in range(100):\n",
    "    r_t=x_n(2000,alpha)[:2000]\n",
    "    \n",
    "    r_t_allparticles.append(r_t-r_t[0])\n",
    "traject=np.array(r_t_allparticles)\n",
    "    "
   ]
  },
  {
   "cell_type": "code",
   "execution_count": 131,
   "metadata": {
    "collapsed": false
   },
   "outputs": [
    {
     "data": {
      "text/plain": [
       "[<matplotlib.lines.Line2D at 0x7f8ec8ed1c50>]"
      ]
     },
     "execution_count": 131,
     "metadata": {},
     "output_type": "execute_result"
    },
    {
     "data": {
      "image/png": "[encoded data removed]",
      "text/plain": [
       "<matplotlib.figure.Figure at 0x7f8ec9108a50>"
      ]
     },
     "metadata": {},
     "output_type": "display_data"
    }
   ],
   "source": [
    "r_t_allparticles_squared=abs(traject)**2\n",
    "msd=r_t_allparticles_squared.mean(axis=0)\n",
    "\n",
    "plt.plot(msd)"
   ]
  },
  {
   "cell_type": "code",
   "execution_count": 212,
   "metadata": {
    "collapsed": true
   },
   "outputs": [],
   "source": []
  },
  {
   "cell_type": "code",
   "execution_count": null,
   "metadata": {
    "collapsed": false
   },
   "outputs": [],
   "source": []
  }
 ],
 "metadata": {
  "kernelspec": {
   "display_name": "Python 2",
   "language": "python",
   "name": "python2"
  },
  "language_info": {
   "codemirror_mode": {
    "name": "ipython",
    "version": 2
   },
   "file_extension": ".py",
   "mimetype": "text/x-python",
   "name": "python",
   "nbconvert_exporter": "python",
   "pygments_lexer": "ipython2",
   "version": "2.7.11"
  }
 },
 "nbformat": 4,
 "nbformat_minor": 0
}
