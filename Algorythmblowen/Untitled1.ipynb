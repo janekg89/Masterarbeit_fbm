{
 "metadata": {
  "kernelspec": {
   "display_name": "Python 2",
   "language": "python",
   "name": "python2"
  },
  "language_info": {
   "codemirror_mode": {
    "name": "ipython",
    "version": 2
   },
   "file_extension": ".py",
   "mimetype": "text/x-python",
   "name": "python",
   "nbconvert_exporter": "python",
   "pygments_lexer": "ipython2",
   "version": "2.7.11"
  },
  "name": "",
  "signature": "sha256:06e92827f1458d24d06e951f4070e85707fe18add0c05cf101967d57a9d850c7"
 },
 "nbformat": 3,
 "nbformat_minor": 0,
 "worksheets": [
  {
   "cells": [
    {
     "cell_type": "code",
     "collapsed": true,
     "input": [
      "import numpy as np\n",
      "import matplotlib.pylab as plt\n",
      "% matplotlib inline \n"
     ],
     "language": "python",
     "metadata": {},
     "outputs": [],
     "prompt_number": 213
    },
    {
     "cell_type": "code",
     "collapsed": true,
     "input": [
      "def R_n(n,alpha):\n",
      "    N=len(n)/2\n",
      "    nfloat=np.array(n)*1.\n",
      "    R_n=np.zeros(2*N)\n",
      "    def R_x1(nfloat,alpha):\n",
      "        N=len(nfloat)\n",
      "        return 2.**(-1)*(1.-((nfloat)/N)**alpha)\n",
      "    R_n[n[:N]]=R_x1(nfloat[:N],alpha)\n",
      "    R_n[n[N:]]=R_x1(2*N-nfloat[N:],alpha) \n",
      "    return R_n\n"
     ],
     "language": "python",
     "metadata": {},
     "outputs": [],
     "prompt_number": 214
    },
    {
     "cell_type": "code",
     "collapsed": true,
     "input": [
      "def S_k(n,alpha):\n",
      "    return np.fft.fft(R_n(n,alpha))\n",
      "    \n",
      "    \n",
      "    "
     ],
     "language": "python",
     "metadata": {},
     "outputs": [],
     "prompt_number": 215
    },
    {
     "cell_type": "code",
     "collapsed": false,
     "input": [
      "def X_k(k):\n",
      "    N=len(k)/2\n",
      "    X_k=np.zeros(2*N)\n",
      "    ##################\n",
      "    S_k=S_K(k,alpha)\n",
      "    phi= np.random.rand(2*N)*2*np.pi\n",
      "    grandom=np.random.normal(0,1,2*N)\n",
      "    #print N\n",
      "    #print k[1:N]\n",
      "    #print 2*N-k[N+1:]\n",
      "    def X_k1(k1):          \n",
      "        ######################\n",
      "        X_k1=np.exp(+1j*phi[k1])*grandom[k1]*np.sqrt(S_k[k1])\n",
      "        ######################     \n",
      "        return X_k1\n",
      "    \n",
      "    X_k[k[1:N]]=X_k1(k[1:N])\n",
      "    \n",
      "    ######################\n",
      "    X_k[N]=grandom[N]*np.sqrt(S_k[N])\n",
      "    #####################\n",
      "   \n",
      "    X_k[k[N+1:]]=np.conjugate(X_k1(2*N-np.array(k[N+1:])))    \n",
      "    return X_k"
     ],
     "language": "python",
     "metadata": {},
     "outputs": [],
     "prompt_number": 216
    },
    {
     "cell_type": "code",
     "collapsed": false,
     "input": [
      "def x_n(N,alpha):\n",
      "    n=range(2*N)\n",
      "    k=range(2*N)\n",
      "    return np.fft.ifft(X_k(k))"
     ],
     "language": "python",
     "metadata": {},
     "outputs": [],
     "prompt_number": 217
    },
    {
     "cell_type": "code",
     "collapsed": false,
     "input": [
      "#main\n",
      "n=range(0,2000)\n",
      "alpha=1.5\n",
      "r_m=R_n(n,alpha)\n",
      "s_k=S_k(n,alpha)\n",
      "#plt.plot(x_n(2000,1.0))\n",
      "plt.plot(R_n(n,alpha))"
     ],
     "language": "python",
     "metadata": {},
     "outputs": [
      {
       "metadata": {},
       "output_type": "pyout",
       "prompt_number": 218,
       "text": [
        "[<matplotlib.lines.Line2D at 0x7fcba82036d0>]"
       ]
      },
      {
       "metadata": {},
       "output_type": "display_data",
       "png": "[encoded data removed]",
       "text": [
        "<matplotlib.figure.Figure at 0x7fcba8301790>"
       ]
      }
     ],
     "prompt_number": 218
    },
    {
     "cell_type": "code",
     "collapsed": false,
     "input": [
      "r_t_allparticles=[]\n",
      "for particle in range(100):\n",
      "    r_t=np.zeros(4000)\n",
      "    r_t[:]=x_n(2000,alpha)\n",
      "    r_t_allparticles.append(r_t)\n",
      "traject=np.array(r_t_allparticles)\n",
      "    "
     ],
     "language": "python",
     "metadata": {},
     "outputs": [],
     "prompt_number": 219
    },
    {
     "cell_type": "code",
     "collapsed": false,
     "input": [
      "r_t_allparticles_squared=abs(traject)**2\n",
      "msd=r_t_allparticles_squared.mean(axis=0)\n",
      "\n",
      "plt.plot(msd)"
     ],
     "language": "python",
     "metadata": {},
     "outputs": [
      {
       "metadata": {},
       "output_type": "pyout",
       "prompt_number": 220,
       "text": [
        "[<matplotlib.lines.Line2D at 0x7fcba81173d0>]"
       ]
      },
      {
       "metadata": {},
       "output_type": "display_data",
       "png": "[encoded data removed]",
       "text": [
        "<matplotlib.figure.Figure at 0x7fcba8256050>"
       ]
      }
     ],
     "prompt_number": 220
    },
    {
     "cell_type": "code",
     "collapsed": true,
     "input": [],
     "language": "python",
     "metadata": {},
     "outputs": [],
     "prompt_number": 212
    },
    {
     "cell_type": "code",
     "collapsed": false,
     "input": [],
     "language": "python",
     "metadata": {},
     "outputs": []
    }
   ],
   "metadata": {}
  }
 ]
}