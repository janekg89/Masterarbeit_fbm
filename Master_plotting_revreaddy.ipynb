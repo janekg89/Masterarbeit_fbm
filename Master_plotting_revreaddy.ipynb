{
 "cells": [
  {
   "cell_type": "code",
   "execution_count": 226,
   "metadata": {
    "collapsed": false
   },
   "outputs": [],
   "source": [
    "import h5py as h5\n",
    "import matplotlib.cm as cm\n",
    "import matplotlib.pyplot as plt\n",
    "from mpl_toolkits.mplot3d import Axes3D\n",
    "import numpy as np\n",
    "import comlex_anal\n",
    "from scipy.optimize import curve_fit\n",
    "from scipy.special import lambertw\n"
   ]
  },
  {
   "cell_type": "code",
   "execution_count": 256,
   "metadata": {
    "collapsed": false,
    "scrolled": true
   },
   "outputs": [
    {
     "name": "stdout",
     "output_type": "stream",
     "text": [
      "2.55197487528 2.47486273105 2.47469015331\n",
      "1.0 1.0 1.0\n"
     ]
    }
   ],
   "source": [
    "particlenumber=20\n",
    "boxsize=8.0\n",
    "D=1.0/6.0\n",
    "R=1.0\n",
    "alpha=1.0\n",
    "lambda_plus=1.0\n",
    "lambda_c=1.0\n",
    "lambda_minus=1.0\n",
    "tau=0.05\n",
    "k11=[]\n",
    "k_erban=[]\n",
    "for lambda_plus in [1.0]:\n",
    "    lambda_minus=1.0\n",
    "    #lambda_plus=1.0\n",
    "    lambda_c=1.0\n",
    "    alpha=1.0\n",
    "    length=2**14\n",
    "    complexb=comlex_anal.Analy_Complex(D,R,lambda_plus,lambda_minus,lambda_c,alpha,length,boxsize,particlenumber,tau)\n",
    "    #show_particle_alpha(D,R,lambda_plus,lambda_minus,lambda_c,alpha,length,boxsize,particlenumber,tau,k1_alpha_0)\n",
    "#plt.legend(loc=3,fontsize='small')\n",
    "#plt.savefig('./finalreport/data/chapman-limit-radial',dpi=300)\n",
    "#plt.show()\n",
    "\n",
    "\n",
    "\n",
    "    f = h5.File(complexb.path+\"mean_values_particle.h5\", \"r\")\n",
    "    particle_number_c_mean=(f['norm_number_c'][:])\n",
    "    particle_number_p_mean=(f['norm_number_p'][:])\n",
    "    particle_number_s_mean=(f['norm_number_s'][:])\n",
    "    t=(f['t'][:])\n",
    "    best_vals2, covar2= curve_fit(p_t_modell,t,(particle_number_p_mean*complexb.particles)/(1.0*complexb.boxsize**3))\n",
    "    best_vals1, covar1= curve_fit(s_t_modell,t,(particle_number_s_mean*complexb.particles)/(1.0*complexb.boxsize**3))\n",
    "    best_vals, covar= curve_fit(es_t_modell,t,(particle_number_c_mean)/(1.0*complexb.boxsize**3))\n",
    "    k11.append(best_vals2[0])\n",
    "    k_erban1=4.0*np.pi*complexb.Diffusion*(complexb.reactiondistance-(np.sqrt(complexb.Diffusion/(complexb.micro_reactionrate_forward))*np.tanh(complexb.reactiondistance*np.sqrt((complexb.micro_reactionrate_forward)/complexb.Diffusion))))\n",
    "    \n",
    "    k_erban.append(4*np.pi*complexb.micro_reactionrate_forward/6)\n",
    "    marker=\"+\"\n",
    "    linestyle='-'\n",
    "    marker=\"+\"\n",
    "    linestyle='-'\n",
    "    color=\"y\"\n",
    "    best_vals2, covar2= curve_fit(p_t_modell,t,(particle_number_p_mean*complexb.particles)/(1.0*complexb.boxsize**3))\n",
    "    best_vals1, covar1= curve_fit(s_t_modell,t,(particle_number_s_mean*complexb.particles)/(1.0*complexb.boxsize**3))\n",
    "    best_vals, covar= curve_fit(es_t_modell,t,(particle_number_c_mean)/(1.0*complexb.boxsize**3))\n",
    "    k1=best_vals2[0]\n",
    "    def s_t_modell_alpha(t,k1_alpha_0,kminus,kcomplex,h):\n",
    "                    kplus=k1_alpha_0*t**(-h)\n",
    "                    S_0=(complexb.particles*1.0)/(complexb.boxsize**3)\n",
    "                    E_0=1.0/(complexb.boxsize**3)\n",
    "            \n",
    "                    S_t=((kminus+kcomplex)/kplus)*lambertw((S_0/((kminus+kcomplex)/kplus))*np.exp((-kcomplex*E_0*t+S_0)/((kminus+kcomplex)/kplus)))\n",
    "                    return S_t.real\n",
    "\n",
    "    def p_t_modell_alpha(t,k1_alpha_0,kminus,kcomplex,h):\n",
    "\n",
    "                    kplus=k1_alpha_0*t**(-h)\n",
    "                    S_0=(complexb.particles*1.0)/(complexb.boxsize**3)\n",
    "                    E_0=1.0/(complexb.boxsize**3)\n",
    "                    S_t=((kminus+kcomplex)/kplus)*lambertw((S_0/((kminus+kcomplex)/kplus))*np.exp((-kcomplex*E_0*t+S_0)/((kminus+kcomplex)/kplus)))\n",
    "                    ES_t=((E_0*S_t.real)/(((kminus+kcomplex)/kplus)+S_t.real))*(1-np.exp(-(((kminus+kcomplex)/kplus)+S_t.real)*kplus*t))\n",
    "                    P_t=S_0-S_t.real-ES_t\n",
    "                    return P_t\n",
    "    def es_t_modell_alpha(t,k1_alpha_0,kminus,kcomplex,h):\n",
    "                    kplus=k1_alpha_0*t**(-h)\n",
    "                    S_0=(complexb.particles*1.0)/(complexb.boxsize**3)\n",
    "                    E_0=1.0/(complexb.boxsize**3)\n",
    "                    S_t=((kminus+kcomplex)/kplus)*lambertw((S_0/((kminus+kcomplex)/kplus))*np.exp((-kcomplex*E_0*t+S_0)/((kminus+kcomplex)/kplus)))\n",
    "                    ES_t=((E_0*S_t.real)/(((kminus+kcomplex)/kplus)+S_t.real))*(1-np.exp(-(((kminus+kcomplex)/kplus)+S_t.real)*kplus*t))\n",
    "                    return ES_t\n",
    "    def makemean(k1,step):\n",
    "                        i=0\n",
    "                        index_old=0\n",
    "                        t_neu=[]\n",
    "                        t_increment=((step+1)/2)\n",
    "                        k1_neu=[]\n",
    "                        while i<complexb.length/step:\n",
    "                            index=index_old+step\n",
    "                            k1_neu.append(k1)\n",
    "                            t_neu.append(t_increment)\n",
    "                            t_increment=t_increment+step\n",
    "                            index_old=index\n",
    "                            i=i+1\n",
    "                        return np.array(t_neu), np.array(k1_neu)\n",
    "    S_0=(complexb.particles*1.0)/(complexb.boxsize**3)\n",
    "    E_0=1.0/(complexb.boxsize**3)\n",
    "    t_index,k1neu=makemean(k1,3)\n",
    "    tneu=t[t_index]\n",
    "    h=0.178405098325\n",
    "    \n",
    "    k1=2.6*2.39305767541\n",
    "    plt.loglog(t[1:]/complexb.timestep, particle_number_c_mean[1:],marker=marker,linestyle=\"\",markevery=np.logspace(0,np.log10(len(range(2**14))),60).astype('int')[2:] ,label=\"complex %.2f\" %complexb.alpha) #of complex\n",
    "    plt.plot(t[1:]/complexb.timestep, particle_number_s_mean[1:],linestyle=linestyle , label=\"substrate %.2f\" %complexb.alpha) #of substrate\n",
    "    plt.plot(t[1:]/complexb.timestep, particle_number_p_mean[1:],linestyle=linestyle,color=\"g\"  ,label=\" product \" ) # of product\n",
    "\n",
    "    plt.plot(tneu[1:]/complexb.timestep,p_t_modell_alpha(tneu, k1,complexb.micro_reactionrate_backward,complexb.micro_reactionrate_complex,h)[1:]/S_0,color=\"g\",linestyle=\"--\" )\n",
    "    plt.plot(tneu[1:]/complexb.timestep,s_t_modell_alpha(tneu,k1,complexb.micro_reactionrate_backward,complexb.micro_reactionrate_complex,h)[1:]/S_0,color=\"r\",linestyle=\"--\" )\n",
    "    plt.plot(tneu[1:]/complexb.timestep,es_t_modell_alpha(tneu,k1,complexb.micro_reactionrate_backward,complexb.micro_reactionrate_complex,h)[1:]*complexb.boxsize**3,color=color,linestyle=\"--\" )\n",
    "\n",
    "\n",
    "    print best_vals[0],best_vals1[0],best_vals2[0]\n",
    "    print complexb.micro_reactionrate_backward,complexb.micro_reactionrate_complex,complexb.micro_reactionrate_forward\n",
    "'''\n",
    "f.close()\n",
    "plt.plot(t,particle_number_c)\n",
    "plt.plot(t,particle_number_p)\n",
    "plt.plot(t,particle_number_s)\n",
    "\n",
    "plt.show()\n",
    "'''\n",
    "f.close\n",
    "#plt.plot(k1)\n",
    "plt.show()"
   ]
  },
  {
   "cell_type": "code",
   "execution_count": 223,
   "metadata": {
    "collapsed": true
   },
   "outputs": [],
   "source": [
    "plt.plot([0.1,0.2,0.3,0.4,0.5,0.6,0.7,0.8,0.9,1.0,2.0,3.0],k11,label=\"Simulation\")\n",
    "#plt.plot([0.1,0.2,0.3,0.4,0.5,0.6,0.7,0.8,0.9,1.0,2.0,3.0],np.ones(12)*(4*np.pi/6),linestyle=\"--\", label=\"Diffusion limit\")\n",
    "plt.ylabel('$k_{+}$', fontsize=12)\n",
    "plt.xlabel('$\\lambda_+$', fontsize=12)\n",
    "plt.legend(loc=3,fontsize='small')\n",
    "plt.savefig('./Abschlussarbeit/data/diffusion-limit-concentrations1_k1',dpi=300)\n",
    "\n",
    "plt.show()"
   ]
  },
  {
   "cell_type": "code",
   "execution_count": 215,
   "metadata": {
    "collapsed": false
   },
   "outputs": [
    {
     "name": "stdout",
     "output_type": "stream",
     "text": [
      "0.397599290469 0.389303060855 0.389284379817\n",
      "0.762142407196 0.731577123135 0.731543821206\n",
      "1.07225272608 1.03365368375 1.03356906837\n",
      "1.36514498062 1.3150431294 1.31496561918\n",
      "1.59679336052 1.54437407791 1.54423800531\n",
      "1.85361872361 1.78854614694 1.78844577795\n",
      "2.04239426434 1.98664599865 1.98653992041\n",
      "2.26491275036 2.15924957592 2.15914826525\n",
      "2.45576834815 2.32141683062 2.32130258552\n",
      "2.55197487528 2.47486273105 2.47469015331\n"
     ]
    },
    {
     "data": {
      "text/plain": [
       "<bound method File.close of <HDF5 file \"mean_values_particle.h5\" (mode r)>>"
      ]
     },
     "execution_count": 215,
     "metadata": {},
     "output_type": "execute_result"
    }
   ],
   "source": [
    "particlenumber=20\n",
    "boxsize=8.0\n",
    "D=1.0/6.0\n",
    "R=1.0\n",
    "alpha=1.0\n",
    "lambda_plus=1.0\n",
    "lambda_c=1.0\n",
    "lambda_minus=1.0\n",
    "tau=0.05\n",
    "k1=[]\n",
    "k_erban=[]\n",
    "\n",
    "for lambda_plus in [0.1,0.2,0.3,0.4,0.5,0.6,0.7,0.8,0.9,1.0]:\n",
    "    lambda_minus=1.0\n",
    "    #lambda_plus=1.0\n",
    "    lambda_c=1.0\n",
    "    alpha=1.0\n",
    "    length=2**14\n",
    "    complexb=comlex_anal.Analy_Complex(D,R,lambda_plus,lambda_minus,lambda_c,alpha,length,boxsize,particlenumber,tau)\n",
    "    #show_particle_alpha(D,R,lambda_plus,lambda_minus,lambda_c,alpha,length,boxsize,particlenumber,tau,k1_alpha_0)\n",
    "#plt.legend(loc=3,fontsize='small')\n",
    "#plt.savefig('./finalreport/data/chapman-limit-radial',dpi=300)\n",
    "#plt.show()\n",
    "\n",
    "\n",
    "\n",
    "    f = h5.File(complexb.path+\"mean_values_particle.h5\", \"r\")\n",
    "    particle_number_c_mean=(f['norm_number_c'][:])\n",
    "    particle_number_p_mean=(f['norm_number_p'][:])\n",
    "    particle_number_s_mean=(f['norm_number_s'][:])\n",
    "    t=(f['t'][:])\n",
    "    best_vals2, covar2= curve_fit(p_t_modell,t,(particle_number_p_mean*complexb.particles)/(1.0*complexb.boxsize**3))\n",
    "    best_vals1, covar1= curve_fit(s_t_modell,t,(particle_number_s_mean*complexb.particles)/(1.0*complexb.boxsize**3))\n",
    "    best_vals, covar= curve_fit(es_t_modell,t,(particle_number_c_mean)/(1.0*complexb.boxsize**3))\n",
    "    k1.append(best_vals2[0])\n",
    "    k_erban1=4.0*np.pi*complexb.Diffusion*(complexb.reactiondistance-(np.sqrt(complexb.Diffusion/(complexb.micro_reactionrate_forward))*np.tanh(complexb.reactiondistance*np.sqrt((complexb.micro_reactionrate_forward)/complexb.Diffusion))))\n",
    "    \n",
    "    #k_erban.append(4*np.pi*complexb.micro_reactionrate_forward/6)\n",
    "\n",
    "    print best_vals[0],best_vals1[0],best_vals2[0]\n",
    "'''\n",
    "f.close()\n",
    "plt.plot(t,particle_number_c)\n",
    "plt.plot(t,particle_number_p)\n",
    "plt.plot(t,particle_number_s)\n",
    "\n",
    "plt.show()\n",
    "'''\n",
    "f.close\n"
   ]
  },
  {
   "cell_type": "code",
   "execution_count": 225,
   "metadata": {
    "collapsed": false
   },
   "outputs": [],
   "source": [
    "\n",
    "#plt.plot([0.1,0.2,0.3,0.4,0.5,0.6,0.7,0.8,0.9,1.0],k1,label=\"$\\lambda_-=1$\")\n",
    "plt.plot([0.1,0.2,0.3,0.4,0.5,0.6,0.7,0.8,0.9,1.0,2.0,3.0],k11,label=\"simulated $k_+$\")\n",
    "\n",
    "plt.plot([0.1,0.2,0.3,0.4,0.5,0.6,0.7,0.8,0.9,1.0,2.0,3.0],np.ones(12)*(4*np.pi/6),linestyle=\"--\", label=\"Diffusion limit\")\n",
    "plt.ylabel('$k_{+}$', fontsize=12)\n",
    "plt.xlabel('$\\lambda_+$', fontsize=12)\n",
    "plt.legend(loc=3,fontsize='small')\n",
    "plt.savefig('./Abschlussarbeit/data/diffusion-limit-concentractionlambdaminus_k1',dpi=300)\n",
    "\n",
    "plt.show()"
   ]
  },
  {
   "cell_type": "code",
   "execution_count": 218,
   "metadata": {
    "collapsed": false
   },
   "outputs": [],
   "source": [
    "marker=\"+\"\n",
    "linestyle='-'\n",
    "plt.loglog(t[1:], particle_number_c_mean[1:],marker=marker,linestyle=\"\",markevery=np.logspace(0,np.log10(len(range(2**14))),60).astype('int')[2:] ,label=\"complex %.2f\" %complexb.alpha) #of complex\n",
    "plt.plot(t[1:], particle_number_s_mean[1:],linestyle=linestyle , label=\"substrate %.2f\" %complexb.alpha) #of substrate\n",
    "plt.plot(t[1:], particle_number_p_mean[1:],linestyle=linestyle,color=\"g\"  ,label=\" product \" ) # of product\n",
    "'''\n",
    "plt.plot(tneu,p_t_modell(tneu, self.k1_alpha_0,1.0,1.0)/S_0,color=\"g\",linestyle=\"--\" )\n",
    "plt.plot(tneu,s_t_modell(tneu,self.k1_alpha_0,1.0,1.0)/S_0,color=\"r\",linestyle=\"--\" )\n",
    "plt.plot(tneu,es_t_modell(tneu,self.k1_alpha_0,self.micro_reactionrate_backward,self.micro_reactionrate_complex)*self.boxsize**3,color=color,linestyle=\"--\" )\n",
    "'''\n",
    "plt.show()"
   ]
  },
  {
   "cell_type": "code",
   "execution_count": 228,
   "metadata": {
    "collapsed": false
   },
   "outputs": [],
   "source": [
    "def s_t_modell(t,kplus,kminus,kcomplex):\n",
    "                    S_0=(complexb.particles*1.0)/(complexb.boxsize**3)\n",
    "                    E_0=1.0/(complexb.boxsize**3)\n",
    "                    kcomplex=complexb.micro_reactionrate_complex\n",
    "                    kminus=complexb.micro_reactionrate_backward\n",
    "                    #t= np.linspace(0,self.length*self.timestep,10000)\n",
    "                    S_t=((kminus+kcomplex)/kplus)*lambertw((S_0/((kminus+kcomplex)/kplus))*np.exp((-kcomplex*E_0*t+S_0)/((kminus+kcomplex)/kplus)))\n",
    "                    #S_t=((kminus+kcomplex)/(kplus*(t*0.05)**(np.log(self.alpha)/np.pi)))*lambertw((S_0/((kminus+kcomplex)/(kplus*(t*0.05)**(np.log(self.alpha)/np.pi))))*np.exp((-kcomplex*E_0*t+S_0)/((kminus+kcomplex)/(kplus*(t*0.05)**(np.log(self.alpha)/np.pi)))))\n",
    "                    return S_t.real\n",
    "def es_t_modell(t,kplus,kminus,kcomplex):\n",
    "                    #kminus=1\n",
    "                    kcomplex=complexb.micro_reactionrate_complex\n",
    "                    kminus=complexb.micro_reactionrate_backward\n",
    "                    S_0=(complexb.particles*1.0)/(complexb.boxsize**3)\n",
    "                    E_0=1.0/(complexb.boxsize**3)\n",
    "                    #t= np.linspace(0,self.length*self.timestep,10000)\n",
    "                    S_t=((kminus+kcomplex)/kplus)*lambertw((S_0/((kminus+kcomplex)/kplus))*np.exp((-kcomplex*E_0*t+S_0)/((kminus+kcomplex)/kplus)))\n",
    "                    ES_t=((E_0*S_t.real)/(((kminus+kcomplex)/kplus)+S_t.real))*(1-np.exp(-(((kminus+kcomplex)/kplus)+S_t.real)*kplus*t))\n",
    "\n",
    "                    return ES_t\n",
    "def p_t_modell(t,kplus,kminus,kcomplex):\n",
    "                    #kminus=1\n",
    "                    kcomplex=complexb.micro_reactionrate_complex\n",
    "                    kminus=complexb.micro_reactionrate_backward\n",
    "                    S_0=(complexb.particles*1.0)/(complexb.boxsize**3)\n",
    "                    E_0=1.0/(complexb.boxsize**3)\n",
    "                    #t= np.linspace(0,self.length*self.timestep,10000)\n",
    "                    S_t=((kminus+kcomplex)/kplus)*lambertw((S_0/((kminus+kcomplex)/kplus))*np.exp((-kcomplex*E_0*t+S_0)/((kminus+kcomplex)/kplus)))\n",
    "                    ES_t=((E_0*S_t.real)/(((kminus+kcomplex)/kplus)+S_t.real))*(1-np.exp(-(((kminus+kcomplex)/kplus)+S_t.real)*kplus*t))\n",
    "                    P_t=S_0-S_t.real-ES_t\n",
    "                    return P_t\n",
    "                \n",
    "\n",
    "best_vals2, covar2= curve_fit(p_t_modell,t,(particle_number_p_mean*complexb.particles)/(1.0*complexb.boxsize**3))\n",
    "best_vals1, covar1= curve_fit(s_t_modell,t,(particle_number_s_mean*complexb.particles)/(1.0*complexb.boxsize**3))\n",
    "best_vals, covar= curve_fit(es_t_modell,t,(particle_number_c_mean*complexb.particles)/(1.0*complexb.boxsize**3))\n",
    "k1=best_vals2[0]\n",
    "\n",
    "def makemean(k1,step):\n",
    "                    i=0\n",
    "                    index_old=0\n",
    "                    t_neu=[]\n",
    "                    t_increment=((step+1)/2)\n",
    "                    k1_neu=[]\n",
    "                    while i<complexb.length/step:\n",
    "                        index=index_old+step\n",
    "                        k1_neu.append(k1)\n",
    "                        t_neu.append(t_increment)\n",
    "                        t_increment=t_increment+step\n",
    "                        index_old=index\n",
    "                        i=i+1\n",
    "                    return np.array(t_neu), np.array(k1_neu)\n",
    "S_0=(complexb.particles*1.0)/(complexb.boxsize**3)\n",
    "E_0=1.0/(complexb.boxsize**3)\n",
    "t_index,k1neu=makemean(k1,3)\n",
    "tneu=t[t_index]"
   ]
  },
  {
   "cell_type": "code",
   "execution_count": 235,
   "metadata": {
    "collapsed": false
   },
   "outputs": [
    {
     "data": {
      "text/plain": [
       "[<matplotlib.lines.Line2D at 0x7fa37561af90>]"
      ]
     },
     "execution_count": 235,
     "metadata": {},
     "output_type": "execute_result"
    }
   ],
   "source": [
    "marker=\"+\"\n",
    "linestyle='-'\n",
    "color=\"y\"\n",
    "plt.loglog(t[1:], particle_number_c_mean[1:],marker=marker,linestyle=\"\",markevery=np.logspace(0,np.log10(len(range(2**14))),60).astype('int')[2:] ,label=\"complex %.2f\" %complexb.alpha) #of complex\n",
    "plt.plot(t[1:], particle_number_s_mean[1:],linestyle=linestyle , label=\"substrate %.2f\" %complexb.alpha) #of substrate\n",
    "plt.plot(t[1:], particle_number_p_mean[1:],linestyle=linestyle,color=\"g\"  ,label=\" product \" ) # of product\n",
    "\n",
    "plt.plot(tneu[1:],p_t_modell(tneu, k1,complexb.micro_reactionrate_backward,complexb.micro_reactionrate_complex)[1:]/S_0,color=\"g\",linestyle=\"--\" )\n",
    "plt.plot(tneu[1:],s_t_modell(tneu,k1,complexb.micro_reactionrate_backward,complexb.micro_reactionrate_complex)[1:]/S_0,color=\"r\",linestyle=\"--\" )\n",
    "plt.plot(tneu[1:],es_t_modell(tneu,k1,complexb.micro_reactionrate_backward,complexb.micro_reactionrate_complex)[1:]*complexb.boxsize**3,color=color,linestyle=\"--\" )\n"
   ]
  },
  {
   "cell_type": "code",
   "execution_count": 236,
   "metadata": {
    "collapsed": false
   },
   "outputs": [],
   "source": [
    "#k_erban=4.0*np.pi*complexb.Diffusion*(complexb.reactiondistance-(np.sqrt(complexb.Diffusion/(complexb.micro_reactionrate_forward))*np.tanh(complexb.reactiondistance*np.sqrt((complexb.micro_reactionrate_forward)/complexb.Diffusion))))\n",
    "#plt.plot(tneu,p_t_modell(tneu,k_erban,1.0,1.0)/S_0,color=\"g\",linestyle=\"-\" )\n",
    "#plt.plot(tneu,s_t_modell(tneu,k_erban,1.0,1.0)/S_0,color=\"r\",linestyle=\"-\" )\n",
    "#plt.plot(tneu,es_t_modell(tneu,k_erban,complexb.micro_reactionrate_backward,complexb.micro_reactionrate_complex)*complexb.boxsize**3,color=color,linestyle=\"-\" )"
   ]
  },
  {
   "cell_type": "code",
   "execution_count": 237,
   "metadata": {
    "collapsed": true
   },
   "outputs": [],
   "source": [
    "plt.show()"
   ]
  },
  {
   "cell_type": "code",
   "execution_count": 196,
   "metadata": {
    "collapsed": false
   },
   "outputs": [
    {
     "data": {
      "text/plain": [
       "0.396"
      ]
     },
     "execution_count": 196,
     "metadata": {},
     "output_type": "execute_result"
    }
   ],
   "source": [
    "0.36*(1+0.1)"
   ]
  },
  {
   "cell_type": "code",
   "execution_count": null,
   "metadata": {
    "collapsed": true
   },
   "outputs": [],
   "source": []
  }
 ],
 "metadata": {
  "kernelspec": {
   "display_name": "Python 2",
   "language": "python",
   "name": "python2"
  },
  "language_info": {
   "codemirror_mode": {
    "name": "ipython",
    "version": 2
   },
   "file_extension": ".py",
   "mimetype": "text/x-python",
   "name": "python",
   "nbconvert_exporter": "python",
   "pygments_lexer": "ipython2",
   "version": "2.7.11"
  }
 },
 "nbformat": 4,
 "nbformat_minor": 0
}
