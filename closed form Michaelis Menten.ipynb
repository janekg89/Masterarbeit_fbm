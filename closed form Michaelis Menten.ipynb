{
 "metadata": {
  "name": "",
  "signature": "sha256:241e61594fbbd7d461934f79dfa95ab3ea30c09257bd0139e9771ac90154bd4b"
 },
 "nbformat": 3,
 "nbformat_minor": 0,
 "worksheets": [
  {
   "cells": [
    {
     "cell_type": "code",
     "collapsed": false,
     "input": [
      "from scipy.special import lambertw\n",
      "import numpy as np\n",
      "import matplotlib.pyplot as plt"
     ],
     "language": "python",
     "metadata": {},
     "outputs": [],
     "prompt_number": 178
    },
    {
     "cell_type": "code",
     "collapsed": false,
     "input": [
      "# Paramter\n",
      "K_m=0.2\n",
      "boxsize=7.0\n",
      "S_0=200.0/(boxsize**3)\n",
      "E_0=1.0/(boxsize**3)\n",
      "k2=1.0\n",
      "k_1=1.0\n"
     ],
     "language": "python",
     "metadata": {},
     "outputs": [],
     "prompt_number": 184
    },
    {
     "cell_type": "code",
     "collapsed": false,
     "input": [
      "t= np.linspace(0,600,4000)\n"
     ],
     "language": "python",
     "metadata": {},
     "outputs": [],
     "prompt_number": 185
    },
    {
     "cell_type": "code",
     "collapsed": false,
     "input": [],
     "language": "python",
     "metadata": {},
     "outputs": [],
     "prompt_number": 185
    },
    {
     "cell_type": "code",
     "collapsed": false,
     "input": [
      "S_t=K_m*lambertw((S_0/K_m)*np.exp((-k2*E_0*t+S_0)/K_m))\n",
      "ES_t=(((E_0*S_t)/(K_m+S_t))*(1-np.exp(-(K_m+S_t)*k_1*t)))\n",
      "E_t=E_0-ES_t\n",
      "P_t=S_0-S_t-ES_t"
     ],
     "language": "python",
     "metadata": {},
     "outputs": [],
     "prompt_number": 186
    },
    {
     "cell_type": "code",
     "collapsed": false,
     "input": [
      "plt.plot(t,ES_t/E_0)\n",
      "plt.plot(t,E_t/E_0)\n",
      "plt.plot(t,S_t/S_0)\n",
      "plt.plot(t,P_t/S_0)\n"
     ],
     "language": "python",
     "metadata": {},
     "outputs": [
      {
       "metadata": {},
       "output_type": "pyout",
       "prompt_number": 187,
       "text": [
        "[<matplotlib.lines.Line2D at 0x7f14715f5f50>]"
       ]
      }
     ],
     "prompt_number": 187
    },
    {
     "cell_type": "code",
     "collapsed": false,
     "input": [
      "\n",
      "plt.show()"
     ],
     "language": "python",
     "metadata": {},
     "outputs": []
    },
    {
     "cell_type": "code",
     "collapsed": false,
     "input": [],
     "language": "python",
     "metadata": {},
     "outputs": [],
     "prompt_number": 170
    },
    {
     "cell_type": "code",
     "collapsed": false,
     "input": [],
     "language": "python",
     "metadata": {},
     "outputs": [],
     "prompt_number": 152
    },
    {
     "cell_type": "code",
     "collapsed": false,
     "input": [],
     "language": "python",
     "metadata": {},
     "outputs": [],
     "prompt_number": 152
    },
    {
     "cell_type": "code",
     "collapsed": false,
     "input": [],
     "language": "python",
     "metadata": {},
     "outputs": [],
     "prompt_number": 152
    },
    {
     "cell_type": "code",
     "collapsed": false,
     "input": [],
     "language": "python",
     "metadata": {},
     "outputs": []
    }
   ],
   "metadata": {}
  }
 ]
}