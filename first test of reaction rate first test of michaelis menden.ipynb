{
 "cells": [
  {
   "cell_type": "code",
   "execution_count": 16,
   "metadata": {
    "collapsed": true
   },
   "outputs": [],
   "source": [
    "import numpy as np\n",
    "import revreaddy as rdy\n",
    "import logging\n",
    "import matplotlib.pyplot as plt\n",
    "import h5py as h5\n",
    "reload(logging)\n",
    "logging.basicConfig(\n",
    "     format='%(asctime)s %(levelname)s: %(message)s',\n",
    "     datefmt='%Y/%m/%d %I:%M:%S',\n",
    "     level=logging.DEBUG\n",
    "    )"
   ]
  },
  {
   "cell_type": "code",
   "execution_count": 17,
   "metadata": {
    "collapsed": false
   },
   "outputs": [],
   "source": [
    "sim = rdy.Sim()"
   ]
  },
  {
   "cell_type": "code",
   "execution_count": 3,
   "metadata": {
    "collapsed": false
   },
   "outputs": [],
   "source": [
    "sim.new_type(\"S\", 1., 1.)\n",
    "sim.new_type(\"E\", 1., 1.)\n",
    "sim.new_type(\"P\", 1., 1.)\n",
    "sim.timestep = 0.01\n",
    "sim.boxsize = 10.\n",
    "sim.new_enzymatic(\"test\", 0,2,1,10.,1.,0.3)\n",
    "sim.new_reaction_counter(1, \"test_counter.h5\")\n"
   ]
  },
  {
   "cell_type": "code",
   "execution_count": 4,
   "metadata": {
    "collapsed": true
   },
   "outputs": [],
   "source": [
    "for _ in range(200):\n",
    "    pos = np.random.random(3) * 10. - 5.\n",
    "    sim.add_particle(pos, 0)\n",
    "    sim.add_particle(pos, 0)\n",
    "    sim.add_particle(pos, 1)"
   ]
  },
  {
   "cell_type": "code",
   "execution_count": 5,
   "metadata": {
    "collapsed": false
   },
   "outputs": [
    {
     "name": "stderr",
     "output_type": "stream",
     "text": [
      "2016/08/29 10:36:28 INFO: Run with timestep 0.01 and 4000 timesteps\n",
      "2016/08/29 10:36:44 INFO: Finished after 15.926233 seconds.\n"
     ]
    }
   ],
   "source": [
    "sim.run(4000)"
   ]
  },
  {
   "cell_type": "code",
   "execution_count": 6,
   "metadata": {
    "collapsed": true
   },
   "outputs": [],
   "source": []
  },
  {
   "cell_type": "code",
   "execution_count": null,
   "metadata": {
    "collapsed": true
   },
   "outputs": [],
   "source": [
    "\n",
    "    "
   ]
  },
  {
   "cell_type": "code",
   "execution_count": 7,
   "metadata": {
    "collapsed": false
   },
   "outputs": [],
   "source": [
    "f = h5.File(\"test_counter.h5\", \"r\")\n",
    "f.keys()\n",
    "t = f['times'][:]\n",
    "fc = f['forwardCounter'][:]\n",
    "bc = f['backwardCounter'][:]\n",
    "plt.plot(t, fc)\n",
    "plt.plot(t, bc)\n",
    "f.close()\n"
   ]
  },
  {
   "cell_type": "code",
   "execution_count": 2,
   "metadata": {
    "collapsed": true
   },
   "outputs": [],
   "source": [
    "sim = rdy.Sim(\"FractionalDiffusion\")\n",
    "sim.new_type(\"S\", 1., 1.)\n",
    "sim.new_type(\"E\", 1., 1.)\n",
    "sim.new_type(\"C\", 1., 1.)\n",
    "sim.new_type(\"P\", 1., 1.)\n",
    "sim.timestep = 0.01\n",
    "sim.boxsize = 10.\n",
    "sim.new_fusion(\"test\", 0,1,2,10.,1.,0.3)\n",
    "sim.configure_fusion(0, [], 1., 0.15, 1., 1., 1.)\n",
    "sim.new_reaction_counter(1, \"test_counter.h5\", \"test\")\n",
    "\n",
    "sim.new_fusion(\"test1\", 3,1,2,0.,10.,0.3)\n",
    "sim.configure_fusion(1, [], 1., 0.15, 1., 1., 1.)\n",
    "sim.new_reaction_counter(1, \"test1_counter.h5\", \"test1\")\n",
    "\n",
    "\n",
    "for _ in range(200):\n",
    "    pos = np.random.random(3) * 10. - 5.\n",
    "    sim.add_particle(pos, 0)\n",
    "    sim.add_particle(pos, 0)\n",
    "    sim.add_particle(pos, 1)"
   ]
  },
  {
   "cell_type": "code",
   "execution_count": 3,
   "metadata": {
    "collapsed": false
   },
   "outputs": [
    {
     "name": "stderr",
     "output_type": "stream",
     "text": [
      "2016/08/29 06:27:47 INFO: Run with timestep 0.01 and 4000 timesteps\n",
      "2016/08/29 06:28:36 INFO: Finished after 48.920903 seconds.\n"
     ]
    }
   ],
   "source": [
    "sim.run(4000)"
   ]
  },
  {
   "cell_type": "code",
   "execution_count": 9,
   "metadata": {
    "collapsed": false
   },
   "outputs": [
    {
     "name": "stderr",
     "output_type": "stream",
     "text": [
      "2016/08/29 06:29:32 INFO: There are either no particles or too much (>200) to list them here.\n"
     ]
    },
    {
     "name": "stdout",
     "output_type": "stream",
     "text": [
      "Number of particles:  600\n",
      "TypeId | Number of particles\n",
      "====== | ===================\n",
      "0      | 0                  \n",
      "1      | 200                \n",
      "2      | 0                  \n",
      "3      | 400                \n",
      " \n"
     ]
    }
   ],
   "source": [
    "#sim.write_observables_to_file()\n",
    "sim.write_observables_to_file()\n",
    "\n",
    "sim.show_world()"
   ]
  },
  {
   "cell_type": "code",
   "execution_count": 13,
   "metadata": {
    "collapsed": true
   },
   "outputs": [],
   "source": [
    "f = h5.File(\"test_counter.h5\", \"r\")\n",
    "\n",
    "\n",
    "f.keys()\n",
    "t = f['times'][:]\n",
    "fc = f['forwardCounter'][:]\n",
    "bc = f['backwardCounter'][:]\n",
    "plt.plot(t, fc,label=\"forward counter e+s<=>c\")\n",
    "plt.plot(t, bc,label=\"backward counter e+s<=>c\")\n",
    "f.close()"
   ]
  },
  {
   "cell_type": "code",
   "execution_count": 14,
   "metadata": {
    "collapsed": false
   },
   "outputs": [],
   "source": [
    "fq = h5.File(\"test1_counter.h5\", \"r\")\n",
    "\n",
    "\n",
    "fq.keys()\n",
    "t = fq['times'][:]\n",
    "fc = fq['forwardCounter'][:]\n",
    "bc = fq['backwardCounter'][:]\n",
    "plt.plot(t, fc,label=\"forward counter e+p=>c\")\n",
    "plt.plot(t, bc,label=\"backward counter e+p=>c\")\n",
    "fq.close()\n"
   ]
  },
  {
   "cell_type": "code",
   "execution_count": 15,
   "metadata": {
    "collapsed": true
   },
   "outputs": [],
   "source": [
    "plt.legend()\n",
    "plt.show()\n"
   ]
  },
  {
   "cell_type": "code",
   "execution_count": null,
   "metadata": {
    "collapsed": true
   },
   "outputs": [],
   "source": []
  }
 ],
 "metadata": {
  "kernelspec": {
   "display_name": "Python 2",
   "language": "python",
   "name": "python2"
  },
  "language_info": {
   "codemirror_mode": {
    "name": "ipython",
    "version": 2
   },
   "file_extension": ".py",
   "mimetype": "text/x-python",
   "name": "python",
   "nbconvert_exporter": "python",
   "pygments_lexer": "ipython2",
   "version": "2.7.11"
  }
 },
 "nbformat": 4,
 "nbformat_minor": 0
}
