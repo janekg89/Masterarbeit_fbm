{
 "cells": [
  {
   "cell_type": "code",
   "execution_count": 23,
   "metadata": {
    "collapsed": true
   },
   "outputs": [],
   "source": [
    "import main \n",
    "import matplotlib.pyplot as plt\n",
    "import analyse_tool \n",
    "import numpy as np\n",
    "import matplotlib.cm as cm"
   ]
  },
  {
   "cell_type": "code",
   "execution_count": null,
   "metadata": {
    "collapsed": false
   },
   "outputs": [
    {
     "name": "stdout",
     "output_type": "stream",
     "text": [
      "<iterator object at 0x7f14dd382b50>\n",
      "0.1\n",
      "0.2\n",
      "0.3\n",
      "0.4\n",
      "0.5\n",
      "0.6"
     ]
    }
   ],
   "source": [
    "colors = iter(cm.rainbow(np.linspace(0, 1, 10)))\n",
    "colors2 = iter(cm.rainbow(np.linspace(0, 1, 10)))\n",
    "\n",
    "print colors\n",
    "for i in np.linspace(0.1,1,10):\n",
    "    print i\n",
    "    c=analyse_tool.Analyse(D=2,particles=10,length=500,alpha=i,dt=1, x=1)\n",
    "    msd=2*c.D*c.t**c.alpha\n",
    "    dmsd=np.diff(msd)\n",
    "    ddmsd=np.diff(dmsd)\n",
    "    #omega=np.linspace(0,1,1000)\n",
    "    z_omega=np.fft.fft(ddmsd/2)\n",
    "    frq=np.fft.fftfreq(c.n-2)*(np.pi*2./(c.dt))\n",
    "    plt.plot(frq,z_omega+2, color=next(colors))\n",
    "    ###########\n",
    "    #dd2msd=c.alpha*(c.alpha-1)*c.t**(c.alpha-2)\n",
    "    #z2_omega=np.fft.fft(dd2msd[1:])\n",
    "    #plt.plot( frq,z2_omega)\n",
    "    ####\n",
    "    plt.plot(c.frq,c.z(), color=next(colors2))\n",
    "    \n",
    "\n",
    "plt.show()"
   ]
  },
  {
   "cell_type": "code",
   "execution_count": 20,
   "metadata": {
    "collapsed": false
   },
   "outputs": [],
   "source": []
  },
  {
   "cell_type": "code",
   "execution_count": 5,
   "metadata": {
    "collapsed": false
   },
   "outputs": [],
   "source": [
    "\n",
    "msd=2*c.t**c.alpha\n",
    "dmsd=np.diff(msd)\n",
    "ddmsd=np.diff(dmsd)\n",
    "#omega=np.linspace(0,1,1000)\n",
    "z_omega=np.fft.fft(ddmsd/2)\n",
    "frq=np.fft.fftfreq(c.n-2)*(np.pi*2./(c.dt))\n",
    "\n"
   ]
  },
  {
   "cell_type": "code",
   "execution_count": 26,
   "metadata": {
    "collapsed": false
   },
   "outputs": [
    {
     "ename": "AttributeError",
     "evalue": "'int' object has no attribute 'shape'",
     "output_type": "error",
     "traceback": [
      "\u001b[1;31m---------------------------------------------------------------------------\u001b[0m",
      "\u001b[1;31mAttributeError\u001b[0m                            Traceback (most recent call last)",
      "\u001b[1;32m<ipython-input-26-4abdfd1c2353>\u001b[0m in \u001b[0;36m<module>\u001b[1;34m()\u001b[0m\n\u001b[1;32m----> 1\u001b[1;33m \u001b[0mc\u001b[0m\u001b[1;33m.\u001b[0m\u001b[0mn\u001b[0m\u001b[1;33m.\u001b[0m\u001b[0mshape\u001b[0m\u001b[1;33m\u001b[0m\u001b[0m\n\u001b[0m",
      "\u001b[1;31mAttributeError\u001b[0m: 'int' object has no attribute 'shape'"
     ]
    }
   ],
   "source": []
  },
  {
   "cell_type": "code",
   "execution_count": 37,
   "metadata": {
    "collapsed": false
   },
   "outputs": [
    {
     "data": {
      "text/plain": [
       "[<matplotlib.lines.Line2D at 0x7fa397c92790>]"
      ]
     },
     "execution_count": 37,
     "metadata": {},
     "output_type": "execute_result"
    }
   ],
   "source": [
    "plt.plot(c.frq,c.z())\n",
    "plt.plot(frq,(z_omega+1)*2*2.22)"
   ]
  },
  {
   "cell_type": "code",
   "execution_count": 38,
   "metadata": {
    "collapsed": true
   },
   "outputs": [],
   "source": [
    "plt.show()"
   ]
  },
  {
   "cell_type": "code",
   "execution_count": 3,
   "metadata": {
    "collapsed": false
   },
   "outputs": [
    {
     "name": "stderr",
     "output_type": "stream",
     "text": [
      "/home/mi/janekg89/miniconda2/lib/python2.7/site-packages/ipykernel/__main__.py:1: RuntimeWarning: divide by zero encountered in power\n",
      "  if __name__ == '__main__':\n"
     ]
    }
   ],
   "source": [
    "dd2msd=c.alpha*(c.alpha-1)*c.t**(c.alpha-2)\n",
    "z2_omega=np.fft.fft(dd2msd[1:])\n",
    "#plt.plot(z2_omega)\n",
    "#plt.show()\n",
    "#print frq.shape , c.frq.shape\n",
    "\n",
    "\n"
   ]
  },
  {
   "cell_type": "code",
   "execution_count": 6,
   "metadata": {
    "collapsed": false
   },
   "outputs": [],
   "source": [
    "#plt.plot(c.frq,c.z())\n",
    "plt.plot(c.frq[:-1],z2_omega)\n",
    "plt.plot(frq,(z_omega))\n",
    "plt.show()"
   ]
  },
  {
   "cell_type": "code",
   "execution_count": 9,
   "metadata": {
    "collapsed": false
   },
   "outputs": [],
   "source": [
    "z_t=np.fft.ifft(c.z())\n",
    "plt.plot(z_t)\n",
    "plt.plot(dd2msd)\n",
    "plt.plot(ddmsd)\n",
    "plt.show()"
   ]
  },
  {
   "cell_type": "code",
   "execution_count": null,
   "metadata": {
    "collapsed": true
   },
   "outputs": [],
   "source": []
  }
 ],
 "metadata": {
  "kernelspec": {
   "display_name": "Python 2",
   "language": "python",
   "name": "python2"
  },
  "language_info": {
   "codemirror_mode": {
    "name": "ipython",
    "version": 2
   },
   "file_extension": ".py",
   "mimetype": "text/x-python",
   "name": "python",
   "nbconvert_exporter": "python",
   "pygments_lexer": "ipython2",
   "version": "2.7.11"
  }
 },
 "nbformat": 4,
 "nbformat_minor": 0
}
