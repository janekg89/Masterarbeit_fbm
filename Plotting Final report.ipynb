{
 "metadata": {
  "kernelspec": {
   "display_name": "Python 2",
   "language": "python",
   "name": "python2"
  },
  "language_info": {
   "codemirror_mode": {
    "name": "ipython",
    "version": 2
   },
   "file_extension": ".py",
   "mimetype": "text/x-python",
   "name": "python",
   "nbconvert_exporter": "python",
   "pygments_lexer": "ipython2",
   "version": "2.7.11"
  },
  "name": "",
  "signature": "sha256:8b0eda6be57e69d22f0e75826ea4e9e71ba2700561777444ebd53e7d03cfbb17"
 },
 "nbformat": 3,
 "nbformat_minor": 0,
 "worksheets": [
  {
   "cells": [
    {
     "cell_type": "code",
     "collapsed": false,
     "input": [
      "import matplotlib.pyplot as plt\n",
      "%matplotlib inline  \n",
      "import analyse_tool \n",
      "import numpy as np\n",
      "import simulation\n",
      "from timeit import Timer\n",
      "#import revreaddy as rdy\n",
      "from mpl_toolkits.mplot3d import Axes3D\n",
      "import matplotlib.cm as cm\n"
     ],
     "language": "python",
     "metadata": {},
     "outputs": [],
     "prompt_number": 2
    },
    {
     "cell_type": "code",
     "collapsed": false,
     "input": [
      "e=analyse_tool.Analyse(D=1,particles=3,length=1000,alpha=0.5,dt=1.0,version='lowen')\n",
      "a=e.compute_trajectory()\n",
      "    \n",
      "plt.plot(a[0])\n",
      "plt.show()"
     ],
     "language": "python",
     "metadata": {},
     "outputs": [
      {
       "output_type": "stream",
       "stream": "stderr",
       "text": [
        "/home/janek/miniconda/lib/python2.7/site-packages/numpy/core/numeric.py:482: ComplexWarning: Casting complex values to real discards the imaginary part\n",
        "  return array(a, dtype, copy=False, order=order)\n"
       ]
      },
      {
       "metadata": {},
       "output_type": "display_data",
       "png": "[encoded data removed]",
       "text": [
        "<matplotlib.figure.Figure at 0x7f52521cb750>"
       ]
      }
     ],
     "prompt_number": 2
    },
    {
     "cell_type": "heading",
     "level": 1,
     "metadata": {},
     "source": [
      "Plot of 3 trajectories with different alpha"
     ]
    },
    {
     "cell_type": "code",
     "collapsed": true,
     "input": [
      "fig = plt.figure()\n",
      "\n",
      "colors=['r','b','g','k','c','w','b','r','g','b','k','c','w','b','r','g','b','k','c','w','bo','ro','go','bo','ko','co','wo','bo']\n",
      "ax=plt.axes(projection='3d')\n",
      "ax.set_axis_off()\n",
      "ain=1\n",
      "for i in (np.logspace(0.02,1.0,num=3,base=2)-1):\n",
      "    e=analyse_tool.Analyse(D=1,particles=3,length=1000,alpha=i,dt=1.0,version='lowen')\n",
      "    \n",
      "#e=analyse_tool.Analyse(D=2,particles=3,length=2000,alpha=0.8,dt=0.1,version='lowencpp')\n",
      "    a=e.compute_trajectory()\n",
      "    plt.plot(a[0],a[1],a[2],color=colors[ain],alpha=1-e.alpha/2, label=\"$\\\\alpha $=$%.2f $\" %(e.alpha))\n",
      "    ain=ain+1\n",
      "#plt.axis_off()\n",
      "plt.legend()\n",
      "#plt.savefig('Abschlussarbeit/data/trajectories_differentalpha.png',dpi=300)   # save the figure to file \n",
      "\n",
      "\n",
      "#plt.plot(range(len(a[0])),a[0])"
     ],
     "language": "python",
     "metadata": {},
     "outputs": [],
     "prompt_number": null
    },
    {
     "cell_type": "heading",
     "level": 1,
     "metadata": {},
     "source": [
      "Alogithmic scaling"
     ]
    },
    {
     "cell_type": "code",
     "collapsed": false,
     "input": [
      "aneu=np.logspace(1,8.5,num=16,base=2)\n",
      "time_n=[]\n",
      "for i in aneu[1:]:\n",
      "    print i\n",
      "    timen=Timer(lambda: analyse_tool.Analyse(D=2,particles=1,length=int(i),alpha=0.5,dt=1,version='nhoch3').compute_trajectory())\n",
      "    time_n.append(timen.timeit(number=1))"
     ],
     "language": "python",
     "metadata": {},
     "outputs": [
      {
       "output_type": "stream",
       "stream": "stdout",
       "text": [
        "2.82842712475\n",
        "4.0\n",
        "5.65685424949\n",
        "8.0\n",
        "11.313708499\n",
        "16.0\n",
        "22.627416998"
       ]
      },
      {
       "output_type": "stream",
       "stream": "stdout",
       "text": [
        "\n",
        "32.0"
       ]
      },
      {
       "output_type": "stream",
       "stream": "stdout",
       "text": [
        "\n",
        "45.2548339959"
       ]
      },
      {
       "output_type": "stream",
       "stream": "stdout",
       "text": [
        "\n",
        "64.0"
       ]
      },
      {
       "output_type": "stream",
       "stream": "stdout",
       "text": [
        "\n",
        "90.5096679919"
       ]
      },
      {
       "output_type": "stream",
       "stream": "stdout",
       "text": [
        "\n",
        "128.0"
       ]
      },
      {
       "output_type": "stream",
       "stream": "stdout",
       "text": [
        "\n",
        "181.019335984"
       ]
      },
      {
       "output_type": "stream",
       "stream": "stdout",
       "text": [
        "\n",
        "256.0"
       ]
      },
      {
       "output_type": "stream",
       "stream": "stdout",
       "text": [
        "\n",
        "362.038671968"
       ]
      },
      {
       "output_type": "stream",
       "stream": "stdout",
       "text": [
        "\n"
       ]
      }
     ],
     "prompt_number": 10
    },
    {
     "cell_type": "code",
     "collapsed": false,
     "input": [
      "time_python1=[]\n",
      "time_cpp1=[]\n",
      "time_b1=[]\n",
      "time_a1=[]\n",
      "time_n1=[]\n",
      "time_lowen_modified=[]\n",
      "a1=np.logspace(1,10,num=10,base=2)\n",
      "for i in a1:\n",
      "    print i\n",
      "    timec=Timer(lambda: analyse_tool.Analyse(D=2,particles=int(i),length=1000,alpha=0.5,dt=1,version='cpp').compute_trajectory())\n",
      "    timen=Timer(lambda: analyse_tool.Analyse(D=2,particles=int(i),length=128,alpha=0.5,dt=1,version='nhoch3').compute_trajectory())\n",
      "    timep=Timer(lambda: analyse_tool.Analyse(D=2,particles=int(i),length=1000,alpha=0.5,dt=1,version='lowen').compute_trajectory())\n",
      "    timeb=Timer(lambda: analyse_tool.Analyse(D=2,particles=int(i),length=1000,alpha=0.5,dt=1,version='lowen').compute_trajectory())\n",
      "    timelowencpp=Timer(lambda: analyse_tool.Analyse(D=2,particles=int(i),length=1000,alpha=0.5,dt=1,version='lowencpp').compute_trajectory())  \n",
      "    timelowenmodified=Timer(lambda: analyse_tool.Analyse(D=2,particles=int(i),length=1000,alpha=0.5,dt=1,version='lowenmodified').compute_trajectory())  \n",
      "    time_n1.append(timen.timeit(number=1)*3)\n",
      "    time_python1.append(timep.timeit(number=1)*3)\n",
      "    time_cpp1.append(timec.timeit(number=1))\n",
      "    time_b1.append(timeb.timeit(number=1)*3)\n",
      "    time_a1.append(timelowencpp.timeit(number=1))\n",
      "    time_lowen_modified.append(timelowenmodified.timeit(number=1))"
     ],
     "language": "python",
     "metadata": {},
     "outputs": [
      {
       "output_type": "stream",
       "stream": "stdout",
       "text": [
        "2.0\n",
        "4.0"
       ]
      },
      {
       "output_type": "stream",
       "stream": "stdout",
       "text": [
        "\n",
        "8.0"
       ]
      },
      {
       "output_type": "stream",
       "stream": "stdout",
       "text": [
        "\n",
        "16.0"
       ]
      },
      {
       "output_type": "stream",
       "stream": "stdout",
       "text": [
        "\n",
        "32.0"
       ]
      },
      {
       "output_type": "stream",
       "stream": "stdout",
       "text": [
        "\n",
        "64.0"
       ]
      },
      {
       "output_type": "stream",
       "stream": "stdout",
       "text": [
        "\n",
        "128.0"
       ]
      },
      {
       "output_type": "stream",
       "stream": "stdout",
       "text": [
        "\n",
        "256.0"
       ]
      },
      {
       "output_type": "stream",
       "stream": "stdout",
       "text": [
        "\n",
        "512.0"
       ]
      },
      {
       "output_type": "stream",
       "stream": "stdout",
       "text": [
        "\n",
        "1024.0"
       ]
      },
      {
       "output_type": "stream",
       "stream": "stdout",
       "text": [
        "\n"
       ]
      }
     ],
     "prompt_number": 55
    },
    {
     "cell_type": "code",
     "collapsed": false,
     "input": [
      "time_python=[]\n",
      "time_cpp=[]\n",
      "time_b=[]\n",
      "time_a=[]\n",
      "time_modif=[]\n",
      "a=np.logspace(1,15,num=15,base=2)\n",
      "for i in a:\n",
      "    timec=Timer(lambda: analyse_tool.Analyse(D=2,particles=1,length=int(i),alpha=0.5,dt=1,version='cpp').compute_trajectory())\n",
      "    timeb=Timer(lambda: analyse_tool.Analyse(D=2,particles=3,length=int(i),alpha=0.5,dt=1,version='lowen').compute_trajectory())\n",
      "    timea=Timer(lambda: analyse_tool.Analyse(D=2,particles=1,length=int(i),alpha=0.5,dt=1,version='lowencpp').compute_trajectory())\n",
      "    time_modifa=Timer(lambda: analyse_tool.Analyse(D=2,particles=1,length=int(i),alpha=0.5,dt=1,version='lowenmodified').compute_trajectory())\n",
      "    timep=Timer(lambda: analyse_tool.Analyse(D=2,particles=3,length=int(i),alpha=0.5,dt=1,version=\"python_notrick\").compute_trajectory())\n",
      "    time_python.append(timep.timeit(number=1))\n",
      "    time_cpp.append(timec.timeit(number=1))\n",
      "    time_b.append(timeb.timeit(number=1))\n",
      "    time_a.append(timea.timeit(number=1))\n",
      "    time_modif.append(time_modifa.timeit(number=1))\n",
      "\n"
     ],
     "language": "python",
     "metadata": {},
     "outputs": [],
     "prompt_number": 50
    },
    {
     "cell_type": "code",
     "collapsed": false,
     "input": [],
     "language": "python",
     "metadata": {},
     "outputs": [
      {
       "output_type": "stream",
       "stream": "stdout",
       "text": [
        "32768.0\n",
        "0.14328789711\n",
        "0.476837158203\n",
        "0.0683249936628\n"
       ]
      }
     ],
     "prompt_number": 14
    },
    {
     "cell_type": "code",
     "collapsed": false,
     "input": [
      "#ax1 = plt.subplot(221)\n",
      "f, (ax1, ax2) = plt.subplots(1, 2, sharey=True ,figsize=(9,9))\n",
      "colors=['r','b','g','k','c',\"burlywood\",'b','r','g','b','k','c','w','b','r','g','b','k','c','w','bo','ro','go','bo','ko','co','wo','bo']\n",
      "\n",
      "\n",
      "textneu='\\propto N'\n",
      "b=5*a1\n",
      "\n",
      "ax1.plot(a1,time_python1,label=\"Naive\",c=colors[1])\n",
      "ax1.plot(a1,time_cpp1,\"--\",c=colors[1])\n",
      "ax1.plot(a1,time_b1,label=\"Lowen\",c=colors[2])\n",
      "ax1.plot(a1,time_a1,\"--\",c=colors[2])\n",
      "ax1.plot(a1[:len(time_n1)],time_n1,label=\"Choleski \",c=colors[2])\n",
      "#ax1.loglog(a1[1:],b[1:]/(1.0*10**3),\"--\", c=\"c\",label= \"$%s$  \" %(textneu))\n",
      "\n",
      "#ax1.set_title('a) t  vs. Traj. amount (N)', fontsize=10)\n",
      "\n",
      "\n",
      "#ax1.set_ylim([min(a1[3:]*np.log(a1[3:])/(0.5*10**7)),max(time_b)])\n",
      "\n",
      "#ax1.set_xlabel('N', fontsize=10)\n",
      "#ax1.set_ylabel('t in sec', fontsize=10)\n",
      "#ax1.legend(loc=4,fontsize='small')\n",
      "#ax1.set_xlim([0,max(a1)])\n",
      "\n",
      "#plt.savefig('Abschlussarbeit/data/profiling_particle.png',dpi=300)   # save the figure to file \n",
      "#plt.show()\n",
      "#ax1.setp(ax1.get_xticklabels(), fontsize=6)\n",
      "\n",
      "# share y only\n",
      "# = plt.subplot()\n",
      "#ax2=plt.subplot(2, sharey=ax1)\n",
      "text='\\\\propto M log(M)'\n",
      "plt.text(10**4, 10**(-4), \"$%s$  \" %(text),verticalalignment='bottom', horizontalalignment='right', fontsize=15)\n",
      "plt.text(10**2, 10**(1), \"$%s$  \" %(text1) ,verticalalignment='bottom', horizontalalignment='right', fontsize=15)\n",
      "\n",
      "ax2.loglog(a,time_python,label=\"Naive (p)\")\n",
      "ax2.loglog(a,time_cpp,label=\"Our (c++)\")\n",
      "ax2.loglog(a,time_b,label=\"lowen (p)\")\n",
      "ax2.loglog(a,time_a,label=\"lowen (c++)\")\n",
      "ax2.loglog(a,time_modif,label=\"lowen* (c++)\")\n",
      "ax2.loglog(aneu[1:],time_n,label=\"Choleski (p)\")\n",
      "text1='\\\\propto M^3'\n",
      "#ax2.loglog(a[1:],a[1:]**3/(5*10**5),\"--\", label= \"$%s$  \" %(text1))\n",
      "#ax2.loglog(a[3:],a[3:]*np.log(a[3:])/(0.6*10**7) ,\"--\",c=\"g\", label= \"$%s$  \" %(text))\n",
      "#ax2.loglog(10**10*a1[1:],10**10*b[1:]/(1.0*10**3),\"--\", c=\"c\",label= \"$%s$  \" %(textneu))\n",
      "#plt.setp(ax2.get_xticklabels(), visible=False)\n",
      "\n",
      "\n",
      "ax2.set_xlabel('M',fontsize=10)\n",
      "ax2.set_xlim([0,max(a)])\n",
      "ax2.set_title('b) t  vs. Traj. Length (M)', fontsize=10)\n",
      "\n",
      "\n",
      "#ax2.ylabel('t in sec',fontsize=10)\n",
      "ax2.legend(ncol=1, fontsize='small')\n",
      "plt.savefig('Abschlussarbeit/data/nongaussiandouble.png',dpi=300)\n",
      "plt.tight_layout()\n",
      "\n",
      "  # save the figure to file \n",
      "\n",
      "# make these tick labels invisible\n",
      "#plt.set_setp(ax2.get_yticklabels(), visible=False)\n",
      "\n",
      "\n",
      "\n",
      "plt.show()"
     ],
     "language": "python",
     "metadata": {},
     "outputs": [
      {
       "metadata": {},
       "output_type": "display_data",
       "png": "[encoded data removed]",
       "text": [
        "<matplotlib.figure.Figure at 0x7fad1f754090>"
       ]
      }
     ],
     "prompt_number": 36
    },
    {
     "cell_type": "heading",
     "level": 1,
     "metadata": {},
     "source": [
      "Scaling trajectory length"
     ]
    },
    {
     "cell_type": "code",
     "collapsed": false,
     "input": [
      "plt.figure(figsize=(6,3))\n",
      "colors=['r','b','g','k','c',\"burlywood\",'b','r','g','b','k','c','w','b','r','g','b','k','c','w','bo','ro','go','bo','ko','co','wo','bo']\n",
      "\n",
      "\n",
      "textneu='\\propto N'\n",
      "b=5*a1\n",
      "\n",
      "text='\\\\propto M log(M)'\n",
      "plt.text(10**4, 10**(-4), \"$%s$  \" %(text),verticalalignment='bottom', horizontalalignment='right', fontsize=15)\n",
      "plt.text(10**2, 10**(1), \"$%s$  \" %(text1) ,verticalalignment='bottom', horizontalalignment='right', fontsize=15)\n",
      "\n",
      "plt.loglog(a,time_python,label=\"Naive\",c=colors[1])\n",
      "plt.loglog(a,time_cpp,\"--\",c=colors[1])\n",
      "plt.loglog(a,time_b,label=\"Lowen\",c=colors[2])\n",
      "plt.loglog(a,time_a,\"--\",c=colors[2])\n",
      "plt.loglog(a,time_modif,\"--\",c=colors[3],label=\"Lowen *\")\n",
      "plt.loglog(aneu[1:],time_n,label=\"Choleski \",c=colors[4])\n",
      "text1='\\\\propto M^3'\n",
      "#ax2.loglog(a[1:],a[1:]**3/(5*10**5),\"--\", label= \"$%s$  \" %(text1))\n",
      "#ax2.loglog(a[3:],a[3:]*np.log(a[3:])/(0.6*10**7) ,\"--\",c=\"g\", label= \"$%s$  \" %(text))\n",
      "#plt.loglog(0,0, c=\"c\",label= \"$%s$  \" %(textneu))\n",
      "#plt.setp(ax2.get_xticklabels(), visible=False)\n",
      "\n",
      "plt.ylabel('t/[sec] ', fontsize=10)\n",
      "\n",
      "plt.xlabel('M',fontsize=10)\n",
      "plt.xlim([0,1.5*10**6])\n",
      "#plt.title('b) t  vs. Traj. Length (M)', fontsize=10)\n",
      "\n",
      "\n",
      "#ax2.ylabel('t in sec',fontsize=10)\n",
      "plt.legend(ncol=1, fontsize=12)\n",
      "plt.savefig('Abschlussarbeit/data/nongaussiandouble1.png',dpi=300)\n",
      "plt.tight_layout()\n"
     ],
     "language": "python",
     "metadata": {},
     "outputs": [
      {
       "metadata": {},
       "output_type": "display_data",
       "png": "[encoded data removed]",
       "text": [
        "<matplotlib.figure.Figure at 0x7fad1c03c9d0>"
       ]
      }
     ],
     "prompt_number": 70
    },
    {
     "cell_type": "code",
     "collapsed": false,
     "input": [
      "plt.figure(figsize=(6,3))\n",
      "colors=['r','b','g','k','c',\"burlywood\",'b','r','g','b','k','c','w','b','r','g','b','k','c','w','bo','ro','go','bo','ko','co','wo','bo']\n",
      "\n",
      "\"\"\"\n",
      "textneu='\\propto N'\n",
      "b=5*a1\n",
      "\n",
      "text='\\\\propto M log(M)'\n",
      "plt.text(10**4, 10**(-3), \"$%s$  \" %(text),verticalalignment='bottom', horizontalalignment='right', fontsize=15)\n",
      "plt.text(10**2, 10**(1), \"$%s$  \" %(text1) ,verticalalignment='bottom', horizontalalignment='right', fontsize=15)\n",
      "\n",
      "plt.loglog(a,time_python,label=\"Naive\",c=colors[1])\n",
      "plt.loglog(a,time_cpp,\"--\",c=colors[1])\n",
      "plt.loglog(a,time_b,label=\"Lowen\",c=colors[2])\n",
      "plt.loglog(a,time_a,\"--\",c=colors[2])\n",
      "plt.loglog(a,time_modif,\"--\",c=colors[3],label=\"Lowen *\")\n",
      "plt.loglog(aneu[1:],time_n,label=\"Choleski \",c=colors[4])\n",
      "text1='\\\\propto M^3'\n",
      "\n",
      "\"\"\"\n",
      "\n",
      "\n",
      "plt.loglog(a1,time_python1,label=\"Naive\",c=colors[1])\n",
      "plt.plot(a1,time_cpp1,\"--\",c=colors[1])\n",
      "plt.plot(a1,time_b1,label=\"Lowen\",c=colors[2])\n",
      "plt.plot(a1,time_a1,\"--\",c=colors[2])\n",
      "plt.plot(a1[:len(time_n1)],time_n1,label=\"Choleski \",c=colors[4])\n",
      "plt.loglog(a1,time_lowen_modified,\"--\",c=colors[3],label=\"Lowen *\")\n",
      "\n",
      "\n",
      "\n",
      "\n",
      "#ax2.loglog(a[1:],a[1:]**3/(5*10**5),\"--\", label= \"$%s$  \" %(text1))\n",
      "#ax2.loglog(a[3:],a[3:]*np.log(a[3:])/(0.6*10**7) ,\"--\",c=\"g\", label= \"$%s$  \" %(text))\n",
      "#plt.loglog(0,0, c=\"c\",label= \"$%s$  \" %(textneu))\n",
      "#plt.setp(ax2.get_xticklabels(), visible=False)\n",
      "\n",
      "plt.ylabel('t/[sec] ', fontsize=10)\n",
      "\n",
      "plt.xlabel('M',fontsize=10)\n",
      "plt.xlim([0,1.5*10**4])\n",
      "#plt.title('b) t  vs. Traj. Length (M)', fontsize=10)\n",
      "\n",
      "\n",
      "#ax2.ylabel('t in sec',fontsize=10)\n",
      "plt.legend(ncol=1, fontsize=12)\n",
      "plt.savefig('Abschlussarbeit/data/nongaussiandouble2.png',dpi=300)\n",
      "plt.tight_layout()\n"
     ],
     "language": "python",
     "metadata": {},
     "outputs": [
      {
       "metadata": {},
       "output_type": "display_data",
       "png": "[encoded data removed]",
       "text": [
        "<matplotlib.figure.Figure at 0x7fad168fd3d0>"
       ]
      }
     ],
     "prompt_number": 75
    },
    {
     "cell_type": "heading",
     "level": 1,
     "metadata": {},
     "source": [
      "Accuarcy with alpha"
     ]
    },
    {
     "cell_type": "code",
     "collapsed": false,
     "input": [
      "#f,  ((ax1, ax2), (ax3,)) = plt.subplots(2, 2, sharey=True ,figsize=(6,3))\n",
      "\n",
      "plt.figure(figsize=(6,6))\n",
      "ax3=plt.subplot(223)   #bottom left\n",
      "ax2=plt.subplot(221,sharex=ax3)   #top left\n",
      "ax1=plt.subplot(224,sharey=ax3)   #top right\n",
      "\n",
      "\n",
      "msd_text='MSD=2 K_\\\\alpha t^\\\\alpha'\n",
      "t='t=\\\\Delta t \\\\cdot n'\n",
      "colors=['r','b','g','k','c','w','b','r','g','b','k','c','w','b','r','g','b','k','c','w','bo','ro','go','bo','ko','co','wo','bo']\n",
      "for i in (np.logspace(0.02,1.0,num=5,base=2)-1):\n",
      "    e=analyse_tool.Analyse(D=2,particles=4000,length=200,alpha=i,dt=0.1,version='lowennew')\n",
      "    msd,std=e.msd_ensemble()\n",
      "    ax1.plot(e.t*e.dt, msd,label=\"$\\\\alpha $=$%.2f $\" %(e.alpha))\n",
      "    ax1.loglog(e.t*e.dt,e.msdanalyt(),\":\",color=colors[1])\n",
      "\n",
      "ax1.loglog(e.t*e.dt,e.msdanalyt(),\":\",color=colors[1], label=\"$%s$ \" %(msd_text))\n",
      "ax1.set_xlabel('t', fontsize=12)\n",
      "plt.setp(ax1.get_yticklabels(), visible=False)\n",
      "\n",
      "ax1.set_title('c) Our Algorithm', fontsize=10)\n",
      "\n",
      "colors=['r','b','g','k','c','w','b','r','g','b','k','c','w','b','r','g','b','k','c','w','bo','ro','go','bo','ko','co','wo','bo']\n",
      "for i in (np.logspace(0.02,1.0,num=5,base=2)-1):\n",
      "    e=analyse_tool.Analyse(D=2,particles=4000,length=200,alpha=i,dt=0.1,version='lowencpp')\n",
      "    msd,std=e.msd_ensemble()\n",
      "    ax2.plot(e.t*e.dt, msd,label=\"$\\\\alpha $=$%.2f $\" %(e.alpha))\n",
      "    ax2.loglog(e.t*e.dt,e.msdanalyt(),\":\",color=colors[1])\n",
      "plt.setp(ax2.get_xticklabels(), visible=False)\n",
      "ax2.loglog(e.t*e.dt,e.msdanalyt(),\":\",color=colors[1], label=\"$%s$ \" %(msd_text))\n",
      "#ax2.set_xlabel('t', fontsize=12)\n",
      "ax2.set_ylabel('$\\delta r^{2}(t)$', fontsize=12)\n",
      "\n",
      "ax2.set_title('a) Lowen', fontsize=10)\n",
      "\n",
      "\n",
      "lgd=ax2.legend(bbox_to_anchor=(1.2,1.04), loc='upper left', ncol=1,fontsize='small')\n",
      "colors=['r','b','g','k','c','w','b','r','g','b','k','c','w','b','r','g','b','k','c','w','bo','ro','go','bo','ko','co','wo','bo']\n",
      "for i in (np.logspace(0.02,1.0,num=5,base=2)-1):\n",
      "    e=analyse_tool.Analyse(D=2,particles=4000,length=128/2,alpha=i,dt=0.1,version='nhoch3')\n",
      "    msd,std=e.msd_ensemble()\n",
      "    ax3.plot(e.t*e.dt, msd,label=\"$\\\\alpha $=$%.2f $\" %(e.alpha))\n",
      "    ax3.loglog(e.t*e.dt,e.msdanalyt(),\":\",color=colors[1])\n",
      "\n",
      "ax3.loglog(e.t*e.dt,e.msdanalyt(),\":\",color=colors[1], label=\"$%s$ \" %(msd_text))\n",
      "ax3.set_xlabel('t', fontsize=12)\n",
      "ax3.set_ylabel('$\\delta r^{2}(t)$', fontsize=12)\n",
      "ax3.set_title('b) Cholesky Algorithm', fontsize=10)\n",
      "\n",
      "\n",
      "#ax2.ylabel('t in sec',fontsize=10)\n",
      "#plt.savefig('Abschlussarbeit/data/alpha_changethree.png', bbox_extra_artists=(lgd,), bbox_inches='tight',dpi=300)\n",
      "\n",
      "plt.show()"
     ],
     "language": "python",
     "metadata": {},
     "outputs": [
      {
       "metadata": {},
       "output_type": "display_data",
       "png": "[encoded data removed]",
       "text": [
        "<matplotlib.figure.Figure at 0x7f5f731a4c10>"
       ]
      }
     ],
     "prompt_number": 2
    },
    {
     "cell_type": "code",
     "collapsed": false,
     "input": [
      "a=np.logspace(0.02,1.25,num=6,base=2)-1\n",
      "a[4]=1\n",
      "print a\n"
     ],
     "language": "python",
     "metadata": {},
     "outputs": [
      {
       "output_type": "stream",
       "stream": "stdout",
       "text": [
        "[ 0.01395948  0.20246925  0.42602572  0.69114457  1.          1.37841423]\n"
       ]
      }
     ],
     "prompt_number": 117
    },
    {
     "cell_type": "markdown",
     "metadata": {},
     "source": [
      "\n",
      "# Accuracy with Alpha different representation"
     ]
    },
    {
     "cell_type": "code",
     "collapsed": false,
     "input": [
      "plt.figure(figsize=(9,9))\n",
      "msd_text='MSD=2 K_\\\\alpha t^\\\\alpha'\n",
      "t='t=\\\\Delta t \\\\cdot n'\n",
      "coloin=-1\n",
      "a=np.logspace(0.02,1.25,num=6,base=2)-1\n",
      "a[4]=1\n",
      "colors=['r','b','g','k','c','w','b','r','g','b','k','c','w','b','r','g','b','k','c','w','bo','ro','go','bo','ko','co','wo','bo']\n",
      "plt.text(100, 10**5, 'Naive',verticalalignment='bottom', horizontalalignment='right', fontsize=15)\n",
      "for i in a[:-1]:\n",
      "    coloin=coloin+1\n",
      "    e=analyse_tool.Analyse(D=2,particles=400,length=2000,alpha=i,dt=0.1,version='cpp')\n",
      "    msd,std=e.msd_ensemble()\n",
      "    plt.loglog(e.t/e.dt,10000*msd,color=colors[coloin])\n",
      "    plt.loglog(e.t/e.dt,10000*e.msdanalyt(),\":\",color=\"k\")\n",
      "\n",
      "#ax1.loglog(e.t*e.dt,e.msdanalyt(),\":\",color=colors[1], label=\"$%s$ \" %(msd_text))\n",
      "\n",
      "#ax1.set_title('c) Our Algorithm', fontsize=10)\n",
      "coloin=-1\n",
      "colors=['r','b','g','k','c','w','b','r','g','b','k','c','w','b','r','g','b','k','c','w','bo','ro','go','bo','ko','co','wo','bo']\n",
      "plt.text(100, 10, 'Lowen',verticalalignment='bottom', horizontalalignment='right', fontsize=15)\n",
      "\n",
      "for i in a[:-1]:\n",
      "    coloin=coloin+1\n",
      "    e=analyse_tool.Analyse(D=2,particles=400,length=2000,alpha=i,dt=0.1,version='lowencpp')\n",
      "    msd,std=e.msd_ensemble()\n",
      "    plt.loglog(e.t/e.dt,1*msd,color=colors[coloin])\n",
      "    plt.loglog(e.t/e.dt,1*e.msdanalyt(),\":\",color=\"k\")\n",
      "#ax2.loglog(e.t*e.dt,e.msdanalyt(),\":\",color=colors[1], label=\"$%s$ \" %(msd_text))\n",
      "\n",
      "#ax2.set_title('a) Lowen', fontsize=10)\n",
      "\n",
      "\n",
      "coloin=-1\n",
      "\n",
      "colors=['r','b','g','k','c',\"burlywood\",'b','r','g','b','k','c','w','b','r','g','b','k','c','w','bo','ro','go','bo','ko','co','wo','bo']\n",
      "plt.text(100, 10**(-2), 'Cholesky',verticalalignment='bottom', horizontalalignment='right', fontsize=15)\n",
      "\n",
      "for i in a[:]:\n",
      "    coloin=coloin+1\n",
      "    e=analyse_tool.Analyse(D=2,particles=400,length=128*1/2,alpha=i,dt=0.1,version='nhoch3')\n",
      "    msd,std=e.msd_ensemble()\n",
      "    plt.plot(e.t/e.dt,0.001*msd,color=colors[coloin])\n",
      "    plt.loglog(e.t/e.dt,0.001*e.msdanalyt(),\":\",color=\"k\")\n",
      "    \n",
      "coloin=-1\n",
      "\n",
      "colors=['r','b','g','k','c',\"burlywood\",'b','r','g','b','k','c','w','b','r','g','b','k','c','w','bo','ro','go','bo','ko','co','wo','bo']\n",
      "plt.text(100, 10**(-5), 'Davis-Harte',verticalalignment='bottom', horizontalalignment='right', fontsize=15)\n",
      "for i in a[:]:\n",
      "    coloin=coloin+1\n",
      "    e=analyse_tool.Analyse(D=2,particles=400,length=2000,alpha=i,dt=0.1,version='hartecppverion2')\n",
      "    msd,std=e.msd_ensemble()\n",
      "    plt.plot(e.t/e.dt,0.000001*msd,color=colors[coloin],label=\"$\\\\alpha $=$%.2f $\" %(e.alpha))\n",
      "    plt.loglog(e.t/e.dt,0.000001*e.msdanalyt(),\":\",color=\"k\")\n",
      "\n",
      "plt.xlim((0,2000000))\n",
      "#plt.loglog(e.t/e.dt,e.msdanalyt(),\":\",color=colors[1], label=\"$%s$ \" %(msd_text))\n",
      "\n",
      "plt.legend( ncol=1,fontsize=16)\n",
      "\n",
      "plt.xlabel('$t/ \\Delta t$', fontsize=16)\n",
      "plt.ylabel('$\\delta r^{2}(t)/ \\Gamma^2$', fontsize=16)\n",
      "\n",
      "\n",
      "#ax3.set_title('b) Cholesky Algorithm', fontsize=10)\n",
      "#ax2plt.xlim((0,200000))\n",
      "plt.savefig('Abschlussarbeit/data/alpha_changethreeneu.png', bbox_inches='tight',dpi=300)\n",
      "plt.show()"
     ],
     "language": "python",
     "metadata": {},
     "outputs": [
      {
       "metadata": {},
       "output_type": "display_data",
       "png": "[encoded data removed]",
       "text": [
        "<matplotlib.figure.Figure at 0x7f4fd9285bd0>"
       ]
      }
     ],
     "prompt_number": 2
    },
    {
     "cell_type": "code",
     "collapsed": true,
     "input": [
      "msd_text='MSD=2 K_\\\\alpha t^\\\\alpha'\n",
      "t='t=\\\\Delta t \\\\cdot n'\n",
      "colors=['r','b','g','k','c','w','b','r','g','b','k','c','w','b','r','g','b','k','c','w','bo','ro','go','bo','ko','co','wo','bo']\n",
      "for i in (np.logspace(0.02,1.4,num=5,base=2)-1):\n",
      "    e=analyse_tool.Analyse(D=2,particles=4000,length=2000,alpha=i,dt=0.1,version='hartecppverion2')\n",
      "    msd,std=e.msd_ensemble()\n",
      "    plt.plot(e.t*e.dt, msd,label=\"$\\\\alpha $=$%.2f $\" %(e.alpha))\n",
      "    plt.loglog(e.t*e.dt,e.msdanalyt(),\":\",color=colors[1])\n",
      "plt.legend()\n",
      "plt.show()"
     ],
     "language": "python",
     "metadata": {},
     "outputs": [],
     "prompt_number": 3
    },
    {
     "cell_type": "code",
     "collapsed": true,
     "input": [
      "def gen_log_space(limit, n):\n",
      "    result = [1]\n",
      "    if n>1:  # just a check to avoid ZeroDivisionError\n",
      "        ratio = (float(limit)/result[-1]) ** (1.0/(n-len(result)))\n",
      "    while len(result)<n:\n",
      "        next_value = result[-1]*ratio\n",
      "        if next_value - result[-1] >= 1:\n",
      "            # safe zone. next_value will be a different integer\n",
      "            result.append(next_value)\n",
      "        else:\n",
      "            # problem! same integer. we need to find next_value by artificially incrementing previous value\n",
      "            result.append(result[-1]+1)\n",
      "            # recalculate the ratio so that the remaining values will scale correctly\n",
      "            ratio = (float(limit)/result[-1]) ** (1.0/(n-len(result)))\n",
      "    # round, re-adjust to 0 indexing (i.e. minus 1) and return np.uint64 array\n",
      "    return np.array(map(lambda x: round(x)-1, result), dtype=np.uint64)\n",
      "\n",
      "y = gen_log_space(2000, 50)\n",
      "y1 = gen_log_space(300, 20)\n",
      "\n",
      "print y1\n",
      "def gamma(D,dt):\n",
      "     return 2*D*dt"
     ],
     "language": "python",
     "metadata": {},
     "outputs": [],
     "prompt_number": null
    },
    {
     "cell_type": "heading",
     "level": 1,
     "metadata": {},
     "source": [
      "Backward Forward Msd"
     ]
    },
    {
     "cell_type": "code",
     "collapsed": false,
     "input": [
      "msd_text='2 K_\\\\alpha t^\\\\alpha'\n",
      "t='t=\\\\Delta t \\\\cdot n'\n",
      "colors=['r','b','g','k','c','w','b','r','g','b','k','c','w','b','r','g','b','k','c','w','bo','ro','go','bo','ko','co','wo','bo']\n",
      "plt.figure(figsize=(8,4))\n",
      "e=analyse_tool.Analyse(D=20,particles=1000,length=2000,alpha=0.3,dt=1,version='cpp')\n",
      "\n",
      "msd,std=e.msd_ensemble()\n",
      "\n",
      "plt.loglog(e.t,10*e.msdanalyt()/gamma(e.D,e.dt),color=\"k\")\n",
      "plt.errorbar(e.t[y], 10*msd[y]/gamma(e.D,e.dt),yerr=10*std[y]/gamma(e.D,e.dt), color=\"c\",linestyle=\"\",label= \" Forward Naive\" )\n",
      "e.invert_time()\n",
      "msd1,std1=e.msd_ensemble()\n",
      "plt.errorbar(e.t[y], 10*msd1[y]/gamma(e.D,e.dt),yerr=10*std1[y]/gamma(e.D,e.dt), color=\"g\",label= \" Backward Naive\" )\n",
      "\n",
      "e=analyse_tool.Analyse(D=200,particles=1000,length=2000,alpha=0.3,dt=1,version='lowencpp')\n",
      "\n",
      "msd,std3=e.msd_ensemble()\n",
      "\n",
      "plt.loglog(e.t,100*e.msdanalyt()/gamma(e.D,e.dt),color=\"k\")\n",
      "plt.errorbar(e.t[y], 100*msd[y]/gamma(e.D,e.dt),yerr=100*std3[y]/gamma(e.D,e.dt), color=\"c\",linestyle=\"\",label= \" Forward Lowen\" )\n",
      "e.invert_time()\n",
      "msd1,std4=e.msd_ensemble()\n",
      "plt.errorbar(e.t[y], 100*msd1[y]/gamma(e.D,e.dt),yerr=100*std4[y]/gamma(e.D,e.dt), color=\"b\",label= \" Backward Lowen\" )\n",
      "\n",
      "\n",
      "\n",
      "\n",
      "\n",
      "\n",
      "\n",
      "e=analyse_tool.Analyse(D=2,particles=1000,length=300,alpha=0.3,dt=1,version='nhoch3')\n",
      "msd,std=e.msd_ensemble()\n",
      "\n",
      "plt.loglog(e.t,1.0*e.msdanalyt()/gamma(e.D,e.dt),color=\"k\")\n",
      "plt.errorbar(e.t[y1], 1*msd[y1]/gamma(e.D,e.dt),yerr=1*std[y1]/gamma(e.D,e.dt), color=\"c\",linestyle=\"\",label= \" Forward Cholesky\" )\n",
      "e.invert_time()\n",
      "msd1,std1=e.msd_ensemble()\n",
      "plt.errorbar(e.t[y1], 1*msd1[y1]/gamma(e.D,e.dt),yerr=1*std1[y1]/gamma(e.D,e.dt), color=\"r\",label= \" Backward Cholesky\" )\n",
      "\n",
      "\n",
      "e=analyse_tool.Analyse(D=200,particles=1000,length=2000,alpha=0.3,dt=1.0,version='hartecppverion2')\n",
      "msd,std=e.msd_ensemble()\n",
      "plt.loglog(e.t/e.dt,0.1*e.msdanalyt()/gamma(e.D,e.dt),color=\"k\")\n",
      "plt.errorbar(e.t[y]/e.dt, 0.1*msd[y]/gamma(e.D,e.dt),yerr=0.1*std3[y]/gamma(e.D,e.dt), color=\"c\",linestyle=\"\",label= \" Forward Davis-Harte\" )\n",
      "e.invert_time()\n",
      "msd1,std1=e.msd_ensemble()\n",
      "plt.errorbar(e.t[y], 0.1*msd1[y]/gamma(e.D,e.dt),yerr=0.1*std4[y]/gamma(e.D,e.dt), color=\"burlywood\",label= \" Backward Davis-Harte\" )\n",
      "\n",
      "\n",
      "\n",
      "\n",
      "\n",
      "plt.xlim((0,200000))\n",
      "\n",
      "plt.xlabel('$t/ \\Delta t$', fontsize=14)\n",
      "plt.ylabel('$\\delta r^{2}(t)/ \\Gamma^2$', fontsize=14)\n",
      "lgd=plt.legend(  ncol=1,fontsize='small')\n",
      "plt.savefig('Abschlussarbeit/data/changeintimenew.png', bbox_inches='tight',dpi=300)   # save the figure to file \n",
      "\n",
      "plt.show()"
     ],
     "language": "python",
     "metadata": {},
     "outputs": [
      {
       "metadata": {},
       "output_type": "display_data",
       "png": "[encoded data removed]",
       "text": [
        "<matplotlib.figure.Figure at 0x7f1ff6471a10>"
       ]
      }
     ],
     "prompt_number": 80
    },
    {
     "cell_type": "heading",
     "level": 1,
     "metadata": {},
     "source": [
      "Rescaled FUnction"
     ]
    },
    {
     "cell_type": "code",
     "collapsed": false,
     "input": [
      "plt.figure(figsize=(6,6))\n",
      "ax3=plt.subplot(223)   #bottom left\n",
      "ax2=plt.subplot(221,sharex=ax3)   #top left\n",
      "ax1=plt.subplot(224,sharey=ax3)   #bottom right\n",
      "\n",
      "colornum=-1\n",
      "length=1100\n",
      "steps=5\n",
      "shades=np.linspace(0,1,steps+1)\n",
      "colors = iter(cm.rainbow(np.linspace(0, 1, 6)))\n",
      "analt=c.rescaled_analytical_distribution(1,5)\n",
      "c=analyse_tool.Analyse(D=2,particles=10000,length=length+1,alpha=0.5,dt=1,version=\"cpp\")\n",
      "for j in range(100,1100,1000/steps):\n",
      "        colornum=1+colornum\n",
      "        shade=shades[colornum]\n",
      "        #d=c.rescaled_analytical_distribution(t=j,r_dis=50)\n",
      "        h=c.rescaled_function(t=j,histpoints=35)\n",
      "        ax1.loglog(h[0],h[1],color=next(colors), label=\"rescaled function at $t=%d$\" %(j))\n",
      "        #plt.plot(d[0],d[1],color='%f' %(shade))\n",
      "ax1.plot(analt[0],analt[1],\"--\", label=\"analytical rescaled function\")\n",
      "ax1.set_xlabel('rescaled distance $ r_{res} $ ', fontsize=10)\n",
      "#ax1.set_ylabel('rescaled distribution', fontsize=10)\n",
      "#plt.legend(loc=3, fontsize='small')\n",
      "ax1.set_xlim([0.06,5])\n",
      "ax1.set_ylim([0.0003,1])\n",
      "plt.setp(ax1.get_yticklabels(), visible=False)\n",
      "ax1.set_title('c) Our Algorithm', fontsize=10)\n",
      "\n",
      "colornum=-1\n",
      "index=0\n",
      "length=1100\n",
      "steps=5\n",
      "shades=np.linspace(0,1,steps+1)\n",
      "colors = iter(cm.rainbow(np.linspace(0, 1, 6)))\n",
      "choleskirange=[100,150,200,250,350]\n",
      "c=analyse_tool.Analyse(D=2,particles=10000,length=length+1,alpha=0.5,dt=1,version=\"lowen\")\n",
      "for j in range(100,1100,1000/steps):   \n",
      "        colornum=1+colornum\n",
      "        shade=shades[colornum]\n",
      "        #d=c.rescaled_analytical_distribution(t=j,r_dis=50)\n",
      "        h=c.rescaled_function(t=j,histpoints=35)\n",
      "        ax2.loglog(h[0],h[1],color=next(colors), label=\"rescaled function at $t=%d$ (for Choleski $t=%d$)\" %(j,choleskirange[index]))\n",
      "        #plt.plot(d[0],d[1],color='%f' %(shade))\n",
      "        index=index+1\n",
      "ax2.plot(analt[0],analt[1],\"--\", label=\"analytical rescaled function\")\n",
      "#ax2.set_xlabel('rescaled distance $ r_{res} $ ', fontsize=10)\n",
      "ax2.set_ylabel('rescaled distribution', fontsize=10)\n",
      "#plt.legend(loc=3, fontsize='small')\n",
      "ax2.set_xlim([0.06,5])\n",
      "ax2.set_ylim([0.0003,1])\n",
      "plt.setp(ax2.get_xticklabels(), visible=False)\n",
      "ax2.set_title('a) Lowen', fontsize=10)\n",
      "lgd=ax2.legend(bbox_to_anchor=(1.2,1.04), loc='upper left', ncol=1,fontsize='small')\n",
      "\n",
      "colornum=-1\n",
      "length=1100\n",
      "steps=5\n",
      "shades=np.linspace(0,1,steps+1)\n",
      "colors = iter(cm.rainbow(np.linspace(0, 1, 6)))\n",
      "c=analyse_tool.Analyse(D=2,particles=10000,length=351,alpha=0.5,dt=1,version=\"nhoch3\")\n",
      "for j in [100,150,200,250,350]:\n",
      "        colornum=1+colornum\n",
      "        shade=shades[colornum]\n",
      "        #d=c.rescaled_analytical_distribution(t=j,r_dis=50)\n",
      "        h=c.rescaled_function(t=j,histpoints=35)\n",
      "        ax3.loglog(h[0],h[1],color=next(colors), label=\"rescaled function at $t=%d$\" %(j))\n",
      "        #plt.plot(d[0],d[1],color='%f' %(shade))\n",
      "ax3.plot(analt[0],analt[1],\"--\", label=\"analytical rescaled function\")\n",
      "ax3.set_xlabel('rescaled distance $ r_{res} $ ', fontsize=10)\n",
      "ax3.set_ylabel('rescaled distribution', fontsize=10)\n",
      "#plt.legend(loc=3, fontsize='small')\n",
      "ax3.set_xlim([0.06,5])\n",
      "ax3.set_ylim([0.0003,1])\n",
      "ax3.set_title('b) Cholesky Algorithm', fontsize=10)\n",
      "\n",
      "\n",
      "#ax2.ylabel('t in sec',fontsize=10)\n",
      "plt.savefig('Abschlussarbeit/data/scaledfunctionneu12.png', bbox_extra_artists=(lgd,), bbox_inches='tight',dpi=300)\n",
      "plt.show()"
     ],
     "language": "python",
     "metadata": {},
     "outputs": [
      {
       "metadata": {},
       "output_type": "display_data",
       "png": "[encoded data removed]",
       "text": [
        "<matplotlib.figure.Figure at 0x7f1ff7050b90>"
       ]
      }
     ],
     "prompt_number": 83
    },
    {
     "cell_type": "code",
     "collapsed": true,
     "input": [],
     "language": "python",
     "metadata": {},
     "outputs": [],
     "prompt_number": null
    },
    {
     "cell_type": "heading",
     "level": 1,
     "metadata": {},
     "source": [
      "This is a new represesentation of the rescaled function"
     ]
    },
    {
     "cell_type": "code",
     "collapsed": false,
     "input": [
      "'''\n",
      "plt.figure(figsize=(9,9))\n",
      "msd_text='MSD=2 K_\\\\alpha t^\\\\alpha'\n",
      "t='t=\\\\Delta t \\\\cdot n'\n",
      "coloin=-1\n",
      "a=np.logspace(0.02,1.25,num=6,base=2)-1\n",
      "a[4]=1\n",
      "colors=['r','b','g','k','c','w','b','r','g','b','k','c','w','b','r','g','b','k','c','w','bo','ro','go','bo','ko','co','wo','bo']\n",
      "plt.text(100, 10**5, 'Naive',verticalalignment='bottom', horizontalalignment='right', fontsize=15)\n",
      "for i in a[:-1]:\n",
      "    coloin=coloin+1\n",
      "    e=analyse_tool.Analyse(D=2,particles=400,length=2000,alpha=i,dt=0.1,version='cpp')\n",
      "    msd,std=e.msd_ensemble()\n",
      "    plt.loglog(e.t/e.dt,10000*msd,color=colors[coloin])\n",
      "    plt.loglog(e.t/e.dt,10000*e.msdanalyt(),\":\",color=\"k\")\n",
      "\n",
      "#ax1.loglog(e.t*e.dt,e.msdanalyt(),\":\",color=colors[1], label=\"$%s$ \" %(msd_text))\n",
      "\n",
      "#ax1.set_title('c) Our Algorithm', fontsize=10)\n",
      "coloin=-1\n",
      "colors=['r','b','g','k','c','w','b','r','g','b','k','c','w','b','r','g','b','k','c','w','bo','ro','go','bo','ko','co','wo','bo']\n",
      "plt.text(100, 10, 'Lowen',verticalalignment='bottom', horizontalalignment='right', fontsize=15)\n",
      "\n",
      "for i in a[:-1]:\n",
      "    coloin=coloin+1\n",
      "    e=analyse_tool.Analyse(D=2,particles=400,length=2000,alpha=i,dt=0.1,version='lowencpp')\n",
      "    msd,std=e.msd_ensemble()\n",
      "    plt.loglog(e.t/e.dt,1*msd,color=colors[coloin])\n",
      "    plt.loglog(e.t/e.dt,1*e.msdanalyt(),\":\",color=\"k\")\n",
      "#ax2.loglog(e.t*e.dt,e.msdanalyt(),\":\",color=colors[1], label=\"$%s$ \" %(msd_text))\n",
      "\n",
      "#ax2.set_title('a) Lowen', fontsize=10)\n",
      "\n",
      "\n",
      "coloin=-1\n",
      "\n",
      "colors=['r','b','g','k','c',\"burlywood\",'b','r','g','b','k','c','w','b','r','g','b','k','c','w','bo','ro','go','bo','ko','co','wo','bo']\n",
      "plt.text(100, 10**(-2), 'Cholesky',verticalalignment='bottom', horizontalalignment='right', fontsize=15)\n",
      "\n",
      "for i in a[:]:\n",
      "    coloin=coloin+1\n",
      "    e=analyse_tool.Analyse(D=2,particles=400,length=128*1/2,alpha=i,dt=0.1,version='nhoch3')\n",
      "    msd,std=e.msd_ensemble()\n",
      "    plt.plot(e.t/e.dt,0.001*msd,color=colors[coloin])\n",
      "    plt.loglog(e.t/e.dt,0.001*e.msdanalyt(),\":\",color=\"k\")\n",
      "    \n",
      "coloin=-1\n",
      "\n",
      "colors=['r','b','g','k','c',\"burlywood\",'b','r','g','b','k','c','w','b','r','g','b','k','c','w','bo','ro','go','bo','ko','co','wo','bo']\n",
      "plt.text(100, 10**(-5), 'Davis-Harte',verticalalignment='bottom', horizontalalignment='right', fontsize=15)\n",
      "for i in a[:]:\n",
      "    coloin=coloin+1\n",
      "    e=analyse_tool.Analyse(D=2,particles=400,length=2000,alpha=i,dt=0.1,version='hartecppverion2')\n",
      "    msd,std=e.msd_ensemble()\n",
      "    plt.plot(e.t/e.dt,0.000001*msd,color=colors[coloin],label=\"$\\\\alpha $=$%.2f $\" %(e.alpha))\n",
      "    plt.loglog(e.t/e.dt,0.000001*e.msdanalyt(),\":\",color=\"k\")\n",
      "\n",
      "plt.xlim((0,2000000))\n",
      "#plt.loglog(e.t/e.dt,e.msdanalyt(),\":\",color=colors[1], label=\"$%s$ \" %(msd_text))\n",
      "\n",
      "plt.legend( ncol=1,fontsize=16)\n",
      "\n",
      "plt.xlabel('$t/ \\Delta t$', fontsize=16)\n",
      "plt.ylabel('$\\delta r^{2}(t)/ \\Gamma^2$', fontsize=16)\n",
      "\n",
      "'''\n",
      "plt.figure(figsize=(9,9))\n",
      "\n",
      "colornum=-1\n",
      "length=1100\n",
      "steps=5\n",
      "shades=np.linspace(0,1,steps+1)\n",
      "colors = iter(cm.rainbow(np.linspace(0, 1, 6)))\n",
      "plt.text(0.5, 1, 'Naive',verticalalignment='bottom', horizontalalignment='right', fontsize=15)\n",
      "\n",
      "c=analyse_tool.Analyse(D=0.2,particles=10000,length=length+1,alpha=0.5,dt=1,version=\"cpp\")\n",
      "analt=c.rescaled_analytical_distribution(1,5)\n",
      "\n",
      "for j in range(100,1100,1000/steps):\n",
      "        colornum=1+colornum\n",
      "        shade=shades[colornum]\n",
      "        #d=c.rescaled_analytical_distribution(t=j,r_dis=50)\n",
      "        h=c.rescaled_function(t=j,histpoints=35)\n",
      "        plt.loglog(h[0],h[1],color=next(colors))\n",
      "        #plt.plot(d[0],d[1],color='%f' %(shade))\n",
      "plt.plot(analt[0],analt[1],\"--\")\n",
      "plt.xlabel('$r_{res} \\Gamma$ ', fontsize=14)\n",
      "\n",
      "#ax1.set_xlim([0.06,5])\n",
      "#ax1.set_ylim([0.0003,1])\n",
      "#plt.setp(ax1.get_yticklabels(), visible=False)\n",
      "#ax1.set_title('c) Our Algorithm', fontsize=14)\n",
      "\n",
      "colornum=-1\n",
      "index=0\n",
      "length=1100\n",
      "steps=5\n",
      "shades=np.linspace(0,1,steps+1)\n",
      "colors = iter(cm.rainbow(np.linspace(0, 1, 6)))\n",
      "choleskirange=[100,150,200,250,350]\n",
      "c=analyse_tool.Analyse(D=2,particles=10000,length=length+1,alpha=0.5,dt=1,version=\"lowen\")\n",
      "plt.text(0.5, 1000, 'Lowen',verticalalignment='bottom', horizontalalignment='right', fontsize=15)\n",
      "\n",
      "for j in range(100,1100,1000/steps):   \n",
      "        colornum=1+colornum\n",
      "        shade=shades[colornum]\n",
      "        #d=c.rescaled_analytical_distribution(t=j,r_dis=50)\n",
      "        h=c.rescaled_function(t=j,histpoints=35)\n",
      "        plt.loglog(h[0],1000*h[1],color=next(colors))\n",
      "        #plt.plot(d[0],d[1],color='%f' %(shade))\n",
      "        index=index+1\n",
      "plt.plot(analt[0],1000*analt[1],\"--\")\n",
      "#ax2.set_xlabel('rescaled distance $ r_{res} $ ', fontsize=10)\n",
      "plt.ylabel('$ \\mathcal{P}_{gauss}(\\hat{r}) $', fontsize=16)\n",
      "plt.xlabel(' $ \\hat{r}/ \\Gamma $ ', fontsize=16)\n",
      "\n",
      "#plt.legend(loc=3, fontsize='small')\n",
      "#ax2.set_xlim([0.06,5])\n",
      "#ax2.set_ylim([0.0003,1])\n",
      "#plt.setp(ax2.get_xticklabels(), visible=False)\n",
      "#ax2.set_title('a) Lowen', fontsize=10)\n",
      "#lgd=ax2.legend(bbox_to_anchor=(1.2,1.04), loc='upper left', ncol=1,fontsize='small')\n",
      "\n",
      "colornum=-1\n",
      "length=1100\n",
      "steps=5\n",
      "shades=np.linspace(0,1,steps+1)\n",
      "colors = iter(cm.rainbow(np.linspace(0, 1, 6)))\n",
      "plt.text(0.5, 0.0001, 'Cholesky',verticalalignment='bottom', horizontalalignment='right', fontsize=15)\n",
      "c=analyse_tool.Analyse(D=2,particles=10000,length=351,alpha=0.5,dt=1,version=\"nhoch3\")\n",
      "for j in [100,150,200,250,350]:\n",
      "        colornum=1+colornum\n",
      "        shade=shades[colornum]\n",
      "        #d=c.rescaled_analytical_distribution(t=j,r_dis=50)\n",
      "        h=c.rescaled_function(t=j,histpoints=35)\n",
      "        plt.loglog(h[0],0.0001*h[1],color=next(colors))\n",
      "        #plt.plot(d[0],d[1],color='%f' %(shade))\n",
      "plt.loglog(analt[0],0.0001*analt[1],\"--\")\n",
      "\n",
      "colornum=-1\n",
      "index=0\n",
      "length=1100\n",
      "steps=5\n",
      "shades=np.linspace(0,1,steps+1)\n",
      "colors = iter(cm.rainbow(np.linspace(0, 1, 6)))\n",
      "choleskirange=[100,150,200,250,350]\n",
      "plt.text(0.5, 0.0000001, 'Davis-Harte',verticalalignment='bottom', horizontalalignment='right', fontsize=15)\n",
      "\n",
      "c=analyse_tool.Analyse(D=2,particles=10000,length=length+1,alpha=0.5,dt=1,version=\"hartecppverion2\")\n",
      "for j in range(100,1100,1000/steps):   \n",
      "        colornum=1+colornum\n",
      "        shade=shades[colornum]\n",
      "        #d=c.rescaled_analytical_distribution(t=j,r_dis=50)\n",
      "        h=c.rescaled_function(t=j,histpoints=35)\n",
      "        plt.loglog(h[0],0.0000001*h[1],color=next(colors), label=\"$ \\mathcal{P}_{gauss}(\\hat{r}) $, $t=%d$ (Choleski: $t=%d$)\" %(j,choleskirange[index]))\n",
      "        #plt.plot(d[0],d[1],color='%f' %(shade))\n",
      "        index=index+1\n",
      "plt.plot(analt[0],0.0000001*analt[1],\"--\")\n",
      "#ax2.set_xlabel('rescaled distance $ r_{res} $ ', fontsize=10)\n",
      "#ax3.set_ylabel('rescaled distribution', fontsize=10)\n",
      "plt.legend(loc=3,fontsize=11)\n",
      "\n",
      "plt.xlim([0.5*10**(-2),10])\n",
      "plt.ylim([10**(-15),10000])\n",
      "\n",
      "#ax3.set_ylim([0.0003,1])\n",
      "#ax3.set_title('b) Cholesky Algorithm', fontsize=10)\n",
      "\n",
      "\n",
      "#ax2.ylabel('t in sec',fontsize=10)\n",
      "plt.savefig('Abschlussarbeit/data/scaledfunctionneu12.png',bbox_inches='tight',dpi=300)\n",
      "plt.show()"
     ],
     "language": "python",
     "metadata": {},
     "outputs": [
      {
       "metadata": {},
       "output_type": "display_data",
       "png": "[encoded data removed]",
       "text": [
        "<matplotlib.figure.Figure at 0x7f2d213343d0>"
       ]
      }
     ],
     "prompt_number": 8
    },
    {
     "cell_type": "heading",
     "level": 1,
     "metadata": {},
     "source": [
      "Non-gaussian parameter"
     ]
    },
    {
     "cell_type": "code",
     "collapsed": false,
     "input": [
      "\n",
      "length=1000\n",
      "steps=50\n",
      "\n",
      "\n",
      "gaussianparamter3=[]\n",
      "for i in range(steps):\n",
      "        print 3,i\n",
      "        c=analyse_tool.Analyse(D=2,particles=5000,length=356,alpha=0.5,dt=0.1,version=\"nhoch3\")\n",
      "        b=c.nongaussian_parameter()\n",
      "        gaussianparamter3.append(b)\n",
      "gaussianparamter3=np.array(gaussianparamter3)\n",
      "\n",
      "\n",
      "\n"
     ],
     "language": "python",
     "metadata": {},
     "outputs": [
      {
       "output_type": "stream",
       "stream": "stdout",
       "text": [
        "3 0\n",
        "3"
       ]
      },
      {
       "output_type": "stream",
       "stream": "stdout",
       "text": [
        " 1\n"
       ]
      },
      {
       "output_type": "stream",
       "stream": "stderr",
       "text": [
        "analyse_tool.py:133: RuntimeWarning: invalid value encountered in divide\n",
        "  nongaussianparamter=(1/3.)*moment4/moment2poten2-1\n"
       ]
      },
      {
       "ename": "KeyboardInterrupt",
       "evalue": "",
       "output_type": "pyerr",
       "traceback": [
        "\u001b[1;31m---------------------------------------------------------------------------\u001b[0m\n\u001b[1;31mKeyboardInterrupt\u001b[0m                         Traceback (most recent call last)",
        "\u001b[1;32m<ipython-input-9-041bad90ab3b>\u001b[0m in \u001b[0;36m<module>\u001b[1;34m()\u001b[0m\n\u001b[0;32m      7\u001b[0m \u001b[1;32mfor\u001b[0m \u001b[0mi\u001b[0m \u001b[1;32min\u001b[0m \u001b[0mrange\u001b[0m\u001b[1;33m(\u001b[0m\u001b[0msteps\u001b[0m\u001b[1;33m)\u001b[0m\u001b[1;33m:\u001b[0m\u001b[1;33m\u001b[0m\u001b[0m\n\u001b[0;32m      8\u001b[0m         \u001b[1;32mprint\u001b[0m \u001b[1;36m3\u001b[0m\u001b[1;33m,\u001b[0m\u001b[0mi\u001b[0m\u001b[1;33m\u001b[0m\u001b[0m\n\u001b[1;32m----> 9\u001b[1;33m         \u001b[0mc\u001b[0m\u001b[1;33m=\u001b[0m\u001b[0manalyse_tool\u001b[0m\u001b[1;33m.\u001b[0m\u001b[0mAnalyse\u001b[0m\u001b[1;33m(\u001b[0m\u001b[0mD\u001b[0m\u001b[1;33m=\u001b[0m\u001b[1;36m2\u001b[0m\u001b[1;33m,\u001b[0m\u001b[0mparticles\u001b[0m\u001b[1;33m=\u001b[0m\u001b[1;36m5000\u001b[0m\u001b[1;33m,\u001b[0m\u001b[0mlength\u001b[0m\u001b[1;33m=\u001b[0m\u001b[1;36m356\u001b[0m\u001b[1;33m,\u001b[0m\u001b[0malpha\u001b[0m\u001b[1;33m=\u001b[0m\u001b[1;36m0.5\u001b[0m\u001b[1;33m,\u001b[0m\u001b[0mdt\u001b[0m\u001b[1;33m=\u001b[0m\u001b[1;36m0.1\u001b[0m\u001b[1;33m,\u001b[0m\u001b[0mversion\u001b[0m\u001b[1;33m=\u001b[0m\u001b[1;34m\"nhoch3\"\u001b[0m\u001b[1;33m)\u001b[0m\u001b[1;33m\u001b[0m\u001b[0m\n\u001b[0m\u001b[0;32m     10\u001b[0m         \u001b[0mb\u001b[0m\u001b[1;33m=\u001b[0m\u001b[0mc\u001b[0m\u001b[1;33m.\u001b[0m\u001b[0mnongaussian_parameter\u001b[0m\u001b[1;33m(\u001b[0m\u001b[1;33m)\u001b[0m\u001b[1;33m\u001b[0m\u001b[0m\n\u001b[0;32m     11\u001b[0m         \u001b[0mgaussianparamter3\u001b[0m\u001b[1;33m.\u001b[0m\u001b[0mappend\u001b[0m\u001b[1;33m(\u001b[0m\u001b[0mb\u001b[0m\u001b[1;33m)\u001b[0m\u001b[1;33m\u001b[0m\u001b[0m\n",
        "\u001b[1;32m/home/janek/Dokumente/Masterarbeit/Masterarbeit_fbm/analyse_tool.pyc\u001b[0m in \u001b[0;36m__init__\u001b[1;34m(self, D, particles, length, alpha, dt, x, version)\u001b[0m\n\u001b[0;32m     13\u001b[0m     \u001b[1;32mdef\u001b[0m \u001b[0m__init__\u001b[0m\u001b[1;33m(\u001b[0m\u001b[0mself\u001b[0m\u001b[1;33m,\u001b[0m \u001b[0mD\u001b[0m \u001b[1;33m,\u001b[0m \u001b[0mparticles\u001b[0m\u001b[1;33m,\u001b[0m\u001b[0mlength\u001b[0m\u001b[1;33m,\u001b[0m \u001b[0malpha\u001b[0m\u001b[1;33m,\u001b[0m\u001b[0mdt\u001b[0m\u001b[1;33m,\u001b[0m\u001b[0mx\u001b[0m\u001b[1;33m=\u001b[0m\u001b[1;36m2\u001b[0m\u001b[1;33m,\u001b[0m \u001b[0mversion\u001b[0m\u001b[1;33m=\u001b[0m\u001b[1;34m\"python\"\u001b[0m\u001b[1;33m)\u001b[0m\u001b[1;33m:\u001b[0m\u001b[1;33m\u001b[0m\u001b[0m\n\u001b[0;32m     14\u001b[0m         \u001b[0msimulation\u001b[0m\u001b[1;33m.\u001b[0m\u001b[0mFelix_Method\u001b[0m\u001b[1;33m.\u001b[0m\u001b[0m__init__\u001b[0m\u001b[1;33m(\u001b[0m\u001b[0mself\u001b[0m\u001b[1;33m,\u001b[0m\u001b[0mD\u001b[0m\u001b[1;33m=\u001b[0m\u001b[0mD\u001b[0m\u001b[1;33m,\u001b[0m \u001b[0mparticles\u001b[0m\u001b[1;33m=\u001b[0m\u001b[0mparticles\u001b[0m\u001b[1;33m,\u001b[0m\u001b[0mlength\u001b[0m\u001b[1;33m=\u001b[0m\u001b[0mlength\u001b[0m\u001b[1;33m,\u001b[0m\u001b[0malpha\u001b[0m\u001b[1;33m=\u001b[0m\u001b[0malpha\u001b[0m\u001b[1;33m,\u001b[0m\u001b[0mdt\u001b[0m\u001b[1;33m=\u001b[0m\u001b[0mdt\u001b[0m\u001b[1;33m,\u001b[0m\u001b[0mx\u001b[0m\u001b[1;33m=\u001b[0m\u001b[0mx\u001b[0m\u001b[1;33m,\u001b[0m\u001b[0mversion\u001b[0m\u001b[1;33m=\u001b[0m\u001b[0mversion\u001b[0m\u001b[1;33m)\u001b[0m\u001b[1;33m\u001b[0m\u001b[0m\n\u001b[1;32m---> 15\u001b[1;33m         \u001b[0mself\u001b[0m\u001b[1;33m.\u001b[0m\u001b[0mtrajectory\u001b[0m\u001b[1;33m=\u001b[0m\u001b[0msimulation\u001b[0m\u001b[1;33m.\u001b[0m\u001b[0mFelix_Method\u001b[0m\u001b[1;33m(\u001b[0m\u001b[0mD\u001b[0m\u001b[1;33m,\u001b[0m\u001b[0mparticles\u001b[0m\u001b[1;33m,\u001b[0m\u001b[0mlength\u001b[0m\u001b[1;33m,\u001b[0m\u001b[0malpha\u001b[0m\u001b[1;33m,\u001b[0m\u001b[0mdt\u001b[0m\u001b[1;33m=\u001b[0m\u001b[0mdt\u001b[0m\u001b[1;33m,\u001b[0m\u001b[0mx\u001b[0m\u001b[1;33m=\u001b[0m\u001b[0mx\u001b[0m\u001b[1;33m,\u001b[0m\u001b[0mversion\u001b[0m\u001b[1;33m=\u001b[0m\u001b[0mversion\u001b[0m\u001b[1;33m)\u001b[0m\u001b[1;33m.\u001b[0m\u001b[0mcompute_trajectory\u001b[0m\u001b[1;33m(\u001b[0m\u001b[1;33m)\u001b[0m\u001b[1;33m\u001b[0m\u001b[0m\n\u001b[0m\u001b[0;32m     16\u001b[0m \u001b[1;33m\u001b[0m\u001b[0m\n\u001b[0;32m     17\u001b[0m \u001b[1;33m\u001b[0m\u001b[0m\n",
        "\u001b[1;32m/home/janek/Dokumente/Masterarbeit/Masterarbeit_fbm/simulation.pyc\u001b[0m in \u001b[0;36mcompute_trajectory\u001b[1;34m(self)\u001b[0m\n\u001b[0;32m    190\u001b[0m             \u001b[1;32mfor\u001b[0m \u001b[0mi\u001b[0m \u001b[1;32min\u001b[0m \u001b[0mrange\u001b[0m\u001b[1;33m(\u001b[0m\u001b[0mself\u001b[0m\u001b[1;33m.\u001b[0m\u001b[0mn\u001b[0m\u001b[1;33m)\u001b[0m\u001b[1;33m:\u001b[0m\u001b[1;33m\u001b[0m\u001b[0m\n\u001b[0;32m    191\u001b[0m                 \u001b[1;32mfor\u001b[0m \u001b[0mj\u001b[0m \u001b[1;32min\u001b[0m \u001b[0mrange\u001b[0m\u001b[1;33m(\u001b[0m\u001b[0mself\u001b[0m\u001b[1;33m.\u001b[0m\u001b[0mn\u001b[0m\u001b[1;33m)\u001b[0m\u001b[1;33m:\u001b[0m\u001b[1;33m\u001b[0m\u001b[0m\n\u001b[1;32m--> 192\u001b[1;33m                     \u001b[0mA\u001b[0m\u001b[1;33m[\u001b[0m\u001b[0mi\u001b[0m\u001b[1;33m,\u001b[0m\u001b[0mj\u001b[0m\u001b[1;33m]\u001b[0m \u001b[1;33m=\u001b[0m \u001b[0msum\u001b[0m\u001b[1;33m(\u001b[0m\u001b[0mnp\u001b[0m\u001b[1;33m.\u001b[0m\u001b[0msqrt\u001b[0m\u001b[1;33m(\u001b[0m\u001b[0mw\u001b[0m\u001b[1;33m[\u001b[0m\u001b[0mk\u001b[0m\u001b[1;33m]\u001b[0m\u001b[1;33m)\u001b[0m\u001b[1;33m*\u001b[0m\u001b[0mv\u001b[0m\u001b[1;33m[\u001b[0m\u001b[0mi\u001b[0m\u001b[1;33m,\u001b[0m\u001b[0mk\u001b[0m\u001b[1;33m]\u001b[0m\u001b[1;33m*\u001b[0m\u001b[0mv\u001b[0m\u001b[1;33m[\u001b[0m\u001b[0mj\u001b[0m\u001b[1;33m,\u001b[0m\u001b[0mk\u001b[0m\u001b[1;33m]\u001b[0m \u001b[1;32mfor\u001b[0m \u001b[0mk\u001b[0m \u001b[1;32min\u001b[0m \u001b[0mrange\u001b[0m\u001b[1;33m(\u001b[0m\u001b[0mself\u001b[0m\u001b[1;33m.\u001b[0m\u001b[0mn\u001b[0m\u001b[1;33m)\u001b[0m\u001b[1;33m)\u001b[0m\u001b[1;33m\u001b[0m\u001b[0m\n\u001b[0m\u001b[0;32m    193\u001b[0m             \u001b[1;32mfor\u001b[0m \u001b[0mparticle\u001b[0m \u001b[1;32min\u001b[0m \u001b[0mrange\u001b[0m\u001b[1;33m(\u001b[0m\u001b[0mself\u001b[0m\u001b[1;33m.\u001b[0m\u001b[0mparticles\u001b[0m\u001b[1;33m)\u001b[0m\u001b[1;33m:\u001b[0m\u001b[1;33m\u001b[0m\u001b[0m\n\u001b[0;32m    194\u001b[0m                 \u001b[0mx\u001b[0m \u001b[1;33m=\u001b[0m \u001b[0mnp\u001b[0m\u001b[1;33m.\u001b[0m\u001b[0mrandom\u001b[0m\u001b[1;33m.\u001b[0m\u001b[0mrandn\u001b[0m\u001b[1;33m(\u001b[0m\u001b[1;33m(\u001b[0m\u001b[0mself\u001b[0m\u001b[1;33m.\u001b[0m\u001b[0mn\u001b[0m\u001b[1;33m)\u001b[0m\u001b[1;33m)\u001b[0m\u001b[1;33m\u001b[0m\u001b[0m\n",
        "\u001b[1;32m/home/janek/Dokumente/Masterarbeit/Masterarbeit_fbm/simulation.pyc\u001b[0m in \u001b[0;36m<genexpr>\u001b[1;34m((k,))\u001b[0m\n\u001b[0;32m    190\u001b[0m             \u001b[1;32mfor\u001b[0m \u001b[0mi\u001b[0m \u001b[1;32min\u001b[0m \u001b[0mrange\u001b[0m\u001b[1;33m(\u001b[0m\u001b[0mself\u001b[0m\u001b[1;33m.\u001b[0m\u001b[0mn\u001b[0m\u001b[1;33m)\u001b[0m\u001b[1;33m:\u001b[0m\u001b[1;33m\u001b[0m\u001b[0m\n\u001b[0;32m    191\u001b[0m                 \u001b[1;32mfor\u001b[0m \u001b[0mj\u001b[0m \u001b[1;32min\u001b[0m \u001b[0mrange\u001b[0m\u001b[1;33m(\u001b[0m\u001b[0mself\u001b[0m\u001b[1;33m.\u001b[0m\u001b[0mn\u001b[0m\u001b[1;33m)\u001b[0m\u001b[1;33m:\u001b[0m\u001b[1;33m\u001b[0m\u001b[0m\n\u001b[1;32m--> 192\u001b[1;33m                     \u001b[0mA\u001b[0m\u001b[1;33m[\u001b[0m\u001b[0mi\u001b[0m\u001b[1;33m,\u001b[0m\u001b[0mj\u001b[0m\u001b[1;33m]\u001b[0m \u001b[1;33m=\u001b[0m \u001b[0msum\u001b[0m\u001b[1;33m(\u001b[0m\u001b[0mnp\u001b[0m\u001b[1;33m.\u001b[0m\u001b[0msqrt\u001b[0m\u001b[1;33m(\u001b[0m\u001b[0mw\u001b[0m\u001b[1;33m[\u001b[0m\u001b[0mk\u001b[0m\u001b[1;33m]\u001b[0m\u001b[1;33m)\u001b[0m\u001b[1;33m*\u001b[0m\u001b[0mv\u001b[0m\u001b[1;33m[\u001b[0m\u001b[0mi\u001b[0m\u001b[1;33m,\u001b[0m\u001b[0mk\u001b[0m\u001b[1;33m]\u001b[0m\u001b[1;33m*\u001b[0m\u001b[0mv\u001b[0m\u001b[1;33m[\u001b[0m\u001b[0mj\u001b[0m\u001b[1;33m,\u001b[0m\u001b[0mk\u001b[0m\u001b[1;33m]\u001b[0m \u001b[1;32mfor\u001b[0m \u001b[0mk\u001b[0m \u001b[1;32min\u001b[0m \u001b[0mrange\u001b[0m\u001b[1;33m(\u001b[0m\u001b[0mself\u001b[0m\u001b[1;33m.\u001b[0m\u001b[0mn\u001b[0m\u001b[1;33m)\u001b[0m\u001b[1;33m)\u001b[0m\u001b[1;33m\u001b[0m\u001b[0m\n\u001b[0m\u001b[0;32m    193\u001b[0m             \u001b[1;32mfor\u001b[0m \u001b[0mparticle\u001b[0m \u001b[1;32min\u001b[0m \u001b[0mrange\u001b[0m\u001b[1;33m(\u001b[0m\u001b[0mself\u001b[0m\u001b[1;33m.\u001b[0m\u001b[0mparticles\u001b[0m\u001b[1;33m)\u001b[0m\u001b[1;33m:\u001b[0m\u001b[1;33m\u001b[0m\u001b[0m\n\u001b[0;32m    194\u001b[0m                 \u001b[0mx\u001b[0m \u001b[1;33m=\u001b[0m \u001b[0mnp\u001b[0m\u001b[1;33m.\u001b[0m\u001b[0mrandom\u001b[0m\u001b[1;33m.\u001b[0m\u001b[0mrandn\u001b[0m\u001b[1;33m(\u001b[0m\u001b[1;33m(\u001b[0m\u001b[0mself\u001b[0m\u001b[1;33m.\u001b[0m\u001b[0mn\u001b[0m\u001b[1;33m)\u001b[0m\u001b[1;33m)\u001b[0m\u001b[1;33m\u001b[0m\u001b[0m\n",
        "\u001b[1;31mKeyboardInterrupt\u001b[0m: "
       ]
      }
     ],
     "prompt_number": 9
    },
    {
     "cell_type": "code",
     "collapsed": false,
     "input": [
      "length=2**7\n",
      "steps =1\n",
      "print 2**8\n",
      "\n",
      "\n",
      "gaussianparamter2=[]\n",
      "for i in range(steps):\n",
      "        print 3,i\n",
      "        c=analyse_tool.Analyse(D=2,particles=10000,length=length,alpha=1.1,dt=0.1,version=\"hartecpp\")\n",
      "        c.invert_time()\n",
      "        b=c.nongaussian_parameter()\n",
      "        gaussianparamter2.append(b)\n",
      "gaussianparamter2=np.array(gaussianparamter2)\n",
      "\n",
      "steps=1\n",
      "\n",
      "\n",
      "gaussianparamter3=[]\n",
      "for i in range(steps):\n",
      "        print 3,i\n",
      "        c=analyse_tool.Analyse(D=2,particles=10000,length=length,alpha=1.1,dt=0.1,version=\"hartecppverion2\")\n",
      "        #c.invert_time()\n",
      "        b=c.nongaussian_parameter()\n",
      "        gaussianparamter3.append(b)\n",
      "gaussianparamter3=np.array(gaussianparamter3)"
     ],
     "language": "python",
     "metadata": {},
     "outputs": []
    },
    {
     "cell_type": "code",
     "collapsed": false,
     "input": [
      "plt.errorbar(range(length), gaussianparamter2.mean(axis=0), yerr=gaussianparamter2.std(axis=0),errorevery=10,label=\"$\\\\alpha $=$%.2f $\" %(c.alpha))\n",
      "plt.errorbar(range(length), gaussianparamter3.mean(axis=0), yerr=gaussianparamter3.std(axis=0),errorevery=10,label=\"$\\\\alpha $=$%.2f $\" %(c.alpha))\n",
      "\n",
      "    #plt.errorbar(range(length+1), gaussianparamter1.mean(axis=0), yerr=gaussianparamter1.std(axis=0),errorevery=10,label=\"Our\")\n",
      "\n",
      "plt.xlabel('t', fontsize=10)\n",
      "plt.ylabel('$\\\\alpha_2(t)$ non-Gaussian parameter', fontsize=10)\n",
      "plt.legend(loc=2,fontsize='small')\n",
      "#plt.savefig('Abschlussarbeit/data/nongaussianlowenalpha.png',dpi=300)\n",
      "plt.show()\n",
      "    "
     ],
     "language": "python",
     "metadata": {},
     "outputs": [],
     "prompt_number": 5
    },
    {
     "cell_type": "code",
     "collapsed": false,
     "input": [
      "\n",
      "length=101\n",
      "steps=2\n",
      "\n",
      "\n",
      "plt.figure(figsize=(6.5,4))\n",
      "\n",
      "for alpha in [1.0,0.7,0.3,0.1]:\n",
      "    gaussianparamter2=[]\n",
      "    msd_all=[]\n",
      "    for i in range(steps):\n",
      "            print 2,i\n",
      "            c=analyse_tool.Analyse(D=2,particles=5000,length=length+1,alpha=alpha,dt=1.0,version=\"python_trick\")\n",
      "            b=c.nongaussian_parameter()\n",
      "            gaussianparamter2.append(b)\n",
      "            msd,std=c.msd_ensemble()\n",
      "            msd_all.append(msd)\n",
      "    msd_all=np.array(msd_all)        \n",
      "    gaussianparamter2=np.array(gaussianparamter2)\n",
      "    #plt.errorbar(range(356), gaussianparamter3.mean(axis=0), yerr=gaussianparamter3.std(axis=0),errorevery=10,label=\"Choleski\")\n",
      "    plt.errorbar(range(length+1), gaussianparamter2.mean(axis=0), yerr=gaussianparamter2.std(axis=0),errorevery=10,label=\"$\\\\alpha $=$%.2f $\" %(c.alpha))\n",
      "    #plt.errorbar(range(length+1), gaussianparamter1.mean(axis=0), yerr=gaussianparamter1.std(axis=0),errorevery=10,label=\"Our\")\n",
      "\n",
      "plt.xlabel('t', fontsize=10)\n",
      "plt.ylabel('$\\\\alpha_2(t)$ non-Gaussian parameter', fontsize=10)\n",
      "plt.legend(loc=2,fontsize='small')\n",
      "#plt.savefig('Abschlussarbeit/data/nongaussianlowenalpha.png',dpi=300)\n",
      "plt.show()\n",
      "    "
     ],
     "language": "python",
     "metadata": {},
     "outputs": [
      {
       "output_type": "stream",
       "stream": "stdout",
       "text": [
        "2 0\n",
        "2"
       ]
      },
      {
       "output_type": "stream",
       "stream": "stdout",
       "text": [
        " 1\n",
        "2"
       ]
      },
      {
       "output_type": "stream",
       "stream": "stdout",
       "text": [
        " 0\n",
        "2"
       ]
      },
      {
       "output_type": "stream",
       "stream": "stdout",
       "text": [
        " 1\n",
        "2"
       ]
      },
      {
       "output_type": "stream",
       "stream": "stdout",
       "text": [
        " 0\n",
        "2"
       ]
      },
      {
       "output_type": "stream",
       "stream": "stdout",
       "text": [
        " 1\n",
        "2"
       ]
      },
      {
       "output_type": "stream",
       "stream": "stdout",
       "text": [
        " 0\n",
        "2"
       ]
      },
      {
       "output_type": "stream",
       "stream": "stdout",
       "text": [
        " 1\n"
       ]
      },
      {
       "metadata": {},
       "output_type": "display_data",
       "png": "[encoded data removed]",
       "text": [
        "<matplotlib.figure.Figure at 0x7f2625217710>"
       ]
      }
     ],
     "prompt_number": 5
    },
    {
     "cell_type": "code",
     "collapsed": false,
     "input": [
      "f, (ax1, ax2) = plt.subplots(1, 2, sharey=True ,figsize=(8,4))\n",
      "\n",
      "length=100\n",
      "steps=30\n",
      "\n",
      "for alpha in [1.0,0.7,0.3,0.1]:\n",
      "    gaussianparamter2=[]\n",
      "    msd_all=[]\n",
      "    for i in range(steps):\n",
      "            print 2,i\n",
      "            c=analyse_tool.Analyse(D=2,particles=5000,length=length+1,alpha=alpha,dt=1.0,version=\"lowen\")\n",
      "            b=c.nongaussian_parameter()\n",
      "            gaussianparamter2.append(b)\n",
      "            msd,std=c.msd_ensemble()\n",
      "            msd_all.append(msd)\n",
      "    msd_all=np.array(msd_all)        \n",
      "    gaussianparamter2=np.array(gaussianparamter2)\n",
      "    plt.errorbar(range(length+1), gaussianparamter2.mean(axis=0), yerr=gaussianparamter2.std(axis=0),errorevery=5,label=\"$\\\\alpha $=$%.2f $\" %(c.alpha))\n",
      "\n",
      "ax2.set_xlabel('$t/\\Delta t$', fontsize=15)\n",
      "#ax2.set_ylabel('$\\\\alpha_2(t)$ non-Gaussian parameter', fontsize=10)\n",
      "ax2.legend(loc=2,fontsize=12)\n",
      "#ax2.set_title('a) $\\\\alpha_2(t)$  vs. $\\\\alpha$', fontsize=10)\n",
      "plt.setp(ax2.get_yticklabels(), visible=False)\n",
      "\n",
      "\n",
      "\n",
      "gaussianparamter1=[]\n",
      "for i in range(steps):\n",
      "        print 1,i\n",
      "        c=analyse_tool.Analyse(D=2,particles=5000,length=length+1,alpha=0.5,dt=0.1,version=\"python_trick\")\n",
      "        b=c.nongaussian_parameter()\n",
      "        gaussianparamter1.append(b)\n",
      "gaussianparamter1=np.array(gaussianparamter1)\n",
      "\n",
      "\n",
      "\n",
      "\n",
      "\n",
      "gaussianparamter2=[]\n",
      "for i in range(steps):\n",
      "        print 3,i\n",
      "        c=analyse_tool.Analyse(D=2,particles=5000,length=length+1,alpha=0.5,dt=0.1,version=\"lowen\")\n",
      "        b=c.nongaussian_parameter()\n",
      "        gaussianparamter2.append(b)\n",
      "gaussianparamter2=np.array(gaussianparamter2)\n",
      "\n",
      "\n",
      "\n",
      "\n",
      "gaussianparamter3=[]\n",
      "for i in range(steps):\n",
      "        print 3,i\n",
      "        c=analyse_tool.Analyse(D=2,particles=5000,length=356/8,alpha=0.5,dt=0.1,version=\"nhoch3\")\n",
      "        b=c.nongaussian_parameter()\n",
      "        gaussianparamter3.append(b)\n",
      "gaussianparamter3=np.array(gaussianparamter3)\n",
      "\n",
      "gaussianparamter4=[]\n",
      "for i in range(1):\n",
      "        print 3,i\n",
      "        c=analyse_tool.Analyse(D=2,particles=20000,length=length+1,alpha=0.5,dt=0.1,version=\"hartecppverion2\")\n",
      "        b=c.nongaussian_parameter()\n",
      "        gaussianparamter4.append(b)\n",
      "gaussianparamter4=np.array(gaussianparamter4)\n",
      "\n",
      "\n",
      "ax1.errorbar(range(356/8), gaussianparamter3.mean(axis=0), yerr=gaussianparamter3.std(axis=0),errorevery=5,label=\"Choleski\")\n",
      "ax1.errorbar(range(length+1), gaussianparamter2.mean(axis=0), yerr=gaussianparamter2.std(axis=0),errorevery=5,label=\"Lowen\")\n",
      "ax1.errorbar(range(length+1), gaussianparamter1.mean(axis=0), yerr=gaussianparamter1.std(axis=0),errorevery=5,label=\"Naive\")\n",
      "ax1.errorbar(range(length+1), gaussianparamter4.mean(axis=0), yerr=gaussianparamter1.std(axis=0),errorevery=5,label=\"Davis Harte\")\n",
      "\n",
      "ax1.set_xlabel('$t/\\Delta t$', fontsize=15)\n",
      "ax1.set_ylabel('NGP(t)', fontsize=15)\n",
      "ax1.legend(loc=2,fontsize='small')\n",
      "#ax1.set_title('b) $\\\\alpha_2(t)$  vs. Algorithms', fontsize=10)\n",
      "\n",
      "\n",
      "#ax2.ylabel('t in sec',fontsize=10)\n",
      "plt.savefig('Abschlussarbeit/data/nongaussianlowenalphaneu.png',dpi=300)\n",
      "plt.show()\n",
      "  # save the figure to file \n",
      "\n",
      "# make these tick labels invisible\n",
      "#plt.set_setp(ax2.get_yticklabels(), visible=False)\n",
      "\n",
      "\n",
      "\n",
      "plt.show()"
     ],
     "language": "python",
     "metadata": {},
     "outputs": [
      {
       "output_type": "stream",
       "stream": "stdout",
       "text": [
        "2 0\n",
        "2"
       ]
      },
      {
       "output_type": "stream",
       "stream": "stdout",
       "text": [
        " 1\n",
        "2"
       ]
      },
      {
       "output_type": "stream",
       "stream": "stdout",
       "text": [
        " 2\n",
        "2"
       ]
      },
      {
       "output_type": "stream",
       "stream": "stdout",
       "text": [
        " 3\n",
        "2"
       ]
      },
      {
       "output_type": "stream",
       "stream": "stdout",
       "text": [
        " 4\n",
        "2"
       ]
      },
      {
       "output_type": "stream",
       "stream": "stdout",
       "text": [
        " 5\n",
        "2"
       ]
      },
      {
       "output_type": "stream",
       "stream": "stdout",
       "text": [
        " 6\n",
        "2"
       ]
      },
      {
       "output_type": "stream",
       "stream": "stdout",
       "text": [
        " 7\n",
        "2"
       ]
      },
      {
       "output_type": "stream",
       "stream": "stdout",
       "text": [
        " 8\n",
        "2"
       ]
      },
      {
       "output_type": "stream",
       "stream": "stdout",
       "text": [
        " 9\n",
        "2"
       ]
      },
      {
       "output_type": "stream",
       "stream": "stdout",
       "text": [
        " 10\n",
        "2"
       ]
      },
      {
       "output_type": "stream",
       "stream": "stdout",
       "text": [
        " 11\n",
        "2"
       ]
      },
      {
       "output_type": "stream",
       "stream": "stdout",
       "text": [
        " 12\n",
        "2"
       ]
      },
      {
       "output_type": "stream",
       "stream": "stdout",
       "text": [
        " 13\n",
        "2"
       ]
      },
      {
       "output_type": "stream",
       "stream": "stdout",
       "text": [
        " 14\n",
        "2"
       ]
      },
      {
       "output_type": "stream",
       "stream": "stdout",
       "text": [
        " 15\n",
        "2"
       ]
      },
      {
       "output_type": "stream",
       "stream": "stdout",
       "text": [
        " 16\n",
        "2"
       ]
      },
      {
       "output_type": "stream",
       "stream": "stdout",
       "text": [
        " 17\n",
        "2"
       ]
      },
      {
       "output_type": "stream",
       "stream": "stdout",
       "text": [
        " 18\n",
        "2"
       ]
      },
      {
       "output_type": "stream",
       "stream": "stdout",
       "text": [
        " 19\n",
        "2"
       ]
      },
      {
       "output_type": "stream",
       "stream": "stdout",
       "text": [
        " 20\n",
        "2"
       ]
      },
      {
       "output_type": "stream",
       "stream": "stdout",
       "text": [
        " 21\n",
        "2"
       ]
      },
      {
       "output_type": "stream",
       "stream": "stdout",
       "text": [
        " 22\n",
        "2"
       ]
      },
      {
       "output_type": "stream",
       "stream": "stdout",
       "text": [
        " 23\n",
        "2"
       ]
      },
      {
       "output_type": "stream",
       "stream": "stdout",
       "text": [
        " 24\n",
        "2"
       ]
      },
      {
       "output_type": "stream",
       "stream": "stdout",
       "text": [
        " 25\n",
        "2"
       ]
      },
      {
       "output_type": "stream",
       "stream": "stdout",
       "text": [
        " 26\n",
        "2"
       ]
      },
      {
       "output_type": "stream",
       "stream": "stdout",
       "text": [
        " 27\n",
        "2"
       ]
      },
      {
       "output_type": "stream",
       "stream": "stdout",
       "text": [
        " 28\n",
        "2"
       ]
      },
      {
       "output_type": "stream",
       "stream": "stdout",
       "text": [
        " 29\n",
        "2"
       ]
      },
      {
       "output_type": "stream",
       "stream": "stdout",
       "text": [
        " 0\n",
        "2"
       ]
      },
      {
       "output_type": "stream",
       "stream": "stdout",
       "text": [
        " 1\n",
        "2"
       ]
      },
      {
       "output_type": "stream",
       "stream": "stdout",
       "text": [
        " 2\n",
        "2"
       ]
      },
      {
       "output_type": "stream",
       "stream": "stdout",
       "text": [
        " 3\n",
        "2"
       ]
      },
      {
       "output_type": "stream",
       "stream": "stdout",
       "text": [
        " 4\n",
        "2"
       ]
      },
      {
       "output_type": "stream",
       "stream": "stdout",
       "text": [
        " 5\n",
        "2"
       ]
      },
      {
       "output_type": "stream",
       "stream": "stdout",
       "text": [
        " 6\n",
        "2"
       ]
      },
      {
       "output_type": "stream",
       "stream": "stdout",
       "text": [
        " 7\n",
        "2"
       ]
      },
      {
       "output_type": "stream",
       "stream": "stdout",
       "text": [
        " 8\n",
        "2"
       ]
      },
      {
       "output_type": "stream",
       "stream": "stdout",
       "text": [
        " 9\n",
        "2"
       ]
      },
      {
       "output_type": "stream",
       "stream": "stdout",
       "text": [
        " 10\n",
        "2"
       ]
      },
      {
       "output_type": "stream",
       "stream": "stdout",
       "text": [
        " 11\n",
        "2"
       ]
      },
      {
       "output_type": "stream",
       "stream": "stdout",
       "text": [
        " 12\n",
        "2"
       ]
      },
      {
       "output_type": "stream",
       "stream": "stdout",
       "text": [
        " 13\n",
        "2"
       ]
      },
      {
       "output_type": "stream",
       "stream": "stdout",
       "text": [
        " 14\n",
        "2"
       ]
      },
      {
       "output_type": "stream",
       "stream": "stdout",
       "text": [
        " 15\n",
        "2"
       ]
      },
      {
       "output_type": "stream",
       "stream": "stdout",
       "text": [
        " 16\n",
        "2"
       ]
      },
      {
       "output_type": "stream",
       "stream": "stdout",
       "text": [
        " 17\n",
        "2"
       ]
      },
      {
       "output_type": "stream",
       "stream": "stdout",
       "text": [
        " 18\n",
        "2"
       ]
      },
      {
       "output_type": "stream",
       "stream": "stdout",
       "text": [
        " 19\n",
        "2"
       ]
      },
      {
       "output_type": "stream",
       "stream": "stdout",
       "text": [
        " 20\n",
        "2"
       ]
      },
      {
       "output_type": "stream",
       "stream": "stdout",
       "text": [
        " 21\n",
        "2"
       ]
      },
      {
       "output_type": "stream",
       "stream": "stdout",
       "text": [
        " 22\n",
        "2"
       ]
      },
      {
       "output_type": "stream",
       "stream": "stdout",
       "text": [
        " 23\n",
        "2"
       ]
      },
      {
       "output_type": "stream",
       "stream": "stdout",
       "text": [
        " 24\n",
        "2"
       ]
      },
      {
       "output_type": "stream",
       "stream": "stdout",
       "text": [
        " 25\n",
        "2"
       ]
      },
      {
       "output_type": "stream",
       "stream": "stdout",
       "text": [
        " 26\n",
        "2"
       ]
      },
      {
       "output_type": "stream",
       "stream": "stdout",
       "text": [
        " 27\n",
        "2"
       ]
      },
      {
       "output_type": "stream",
       "stream": "stdout",
       "text": [
        " 28\n",
        "2"
       ]
      },
      {
       "output_type": "stream",
       "stream": "stdout",
       "text": [
        " 29\n",
        "2"
       ]
      },
      {
       "output_type": "stream",
       "stream": "stdout",
       "text": [
        " 0\n",
        "2"
       ]
      },
      {
       "output_type": "stream",
       "stream": "stdout",
       "text": [
        " 1\n",
        "2"
       ]
      },
      {
       "output_type": "stream",
       "stream": "stdout",
       "text": [
        " 2\n",
        "2"
       ]
      },
      {
       "output_type": "stream",
       "stream": "stdout",
       "text": [
        " 3\n",
        "2"
       ]
      },
      {
       "output_type": "stream",
       "stream": "stdout",
       "text": [
        " 4\n",
        "2"
       ]
      },
      {
       "output_type": "stream",
       "stream": "stdout",
       "text": [
        " 5\n",
        "2"
       ]
      },
      {
       "output_type": "stream",
       "stream": "stdout",
       "text": [
        " 6\n",
        "2"
       ]
      },
      {
       "output_type": "stream",
       "stream": "stdout",
       "text": [
        " 7\n",
        "2"
       ]
      },
      {
       "output_type": "stream",
       "stream": "stdout",
       "text": [
        " 8\n",
        "2"
       ]
      },
      {
       "output_type": "stream",
       "stream": "stdout",
       "text": [
        " 9\n",
        "2"
       ]
      },
      {
       "output_type": "stream",
       "stream": "stdout",
       "text": [
        " 10\n",
        "2"
       ]
      },
      {
       "output_type": "stream",
       "stream": "stdout",
       "text": [
        " 11\n",
        "2"
       ]
      },
      {
       "output_type": "stream",
       "stream": "stdout",
       "text": [
        " 12\n",
        "2"
       ]
      },
      {
       "output_type": "stream",
       "stream": "stdout",
       "text": [
        " 13\n",
        "2"
       ]
      },
      {
       "output_type": "stream",
       "stream": "stdout",
       "text": [
        " 14\n",
        "2"
       ]
      },
      {
       "output_type": "stream",
       "stream": "stdout",
       "text": [
        " 15\n",
        "2"
       ]
      },
      {
       "output_type": "stream",
       "stream": "stdout",
       "text": [
        " 16\n",
        "2"
       ]
      },
      {
       "output_type": "stream",
       "stream": "stdout",
       "text": [
        " 17\n",
        "2"
       ]
      },
      {
       "output_type": "stream",
       "stream": "stdout",
       "text": [
        " 18\n",
        "2"
       ]
      },
      {
       "output_type": "stream",
       "stream": "stdout",
       "text": [
        " 19\n",
        "2"
       ]
      },
      {
       "output_type": "stream",
       "stream": "stdout",
       "text": [
        " 20\n",
        "2"
       ]
      },
      {
       "output_type": "stream",
       "stream": "stdout",
       "text": [
        " 21\n",
        "2"
       ]
      },
      {
       "output_type": "stream",
       "stream": "stdout",
       "text": [
        " 22\n",
        "2"
       ]
      },
      {
       "output_type": "stream",
       "stream": "stdout",
       "text": [
        " 23\n",
        "2"
       ]
      },
      {
       "output_type": "stream",
       "stream": "stdout",
       "text": [
        " 24\n",
        "2"
       ]
      },
      {
       "output_type": "stream",
       "stream": "stdout",
       "text": [
        " 25\n",
        "2"
       ]
      },
      {
       "output_type": "stream",
       "stream": "stdout",
       "text": [
        " 26\n",
        "2"
       ]
      },
      {
       "output_type": "stream",
       "stream": "stdout",
       "text": [
        " 27\n",
        "2"
       ]
      },
      {
       "output_type": "stream",
       "stream": "stdout",
       "text": [
        " 28\n",
        "2"
       ]
      },
      {
       "output_type": "stream",
       "stream": "stdout",
       "text": [
        " 29\n",
        "2"
       ]
      },
      {
       "output_type": "stream",
       "stream": "stdout",
       "text": [
        " 0\n",
        "2"
       ]
      },
      {
       "output_type": "stream",
       "stream": "stdout",
       "text": [
        " 1\n",
        "2"
       ]
      },
      {
       "output_type": "stream",
       "stream": "stdout",
       "text": [
        " 2\n",
        "2"
       ]
      },
      {
       "output_type": "stream",
       "stream": "stdout",
       "text": [
        " 3\n",
        "2"
       ]
      },
      {
       "output_type": "stream",
       "stream": "stdout",
       "text": [
        " 4\n",
        "2"
       ]
      },
      {
       "output_type": "stream",
       "stream": "stdout",
       "text": [
        " 5\n",
        "2"
       ]
      },
      {
       "output_type": "stream",
       "stream": "stdout",
       "text": [
        " 6\n",
        "2"
       ]
      },
      {
       "output_type": "stream",
       "stream": "stdout",
       "text": [
        " 7\n",
        "2"
       ]
      },
      {
       "output_type": "stream",
       "stream": "stdout",
       "text": [
        " 8\n",
        "2"
       ]
      },
      {
       "output_type": "stream",
       "stream": "stdout",
       "text": [
        " 9\n",
        "2"
       ]
      },
      {
       "output_type": "stream",
       "stream": "stdout",
       "text": [
        " 10\n",
        "2"
       ]
      },
      {
       "output_type": "stream",
       "stream": "stdout",
       "text": [
        " 11\n",
        "2"
       ]
      },
      {
       "output_type": "stream",
       "stream": "stdout",
       "text": [
        " 12\n",
        "2"
       ]
      },
      {
       "output_type": "stream",
       "stream": "stdout",
       "text": [
        " 13\n",
        "2"
       ]
      },
      {
       "output_type": "stream",
       "stream": "stdout",
       "text": [
        " 14\n",
        "2"
       ]
      },
      {
       "output_type": "stream",
       "stream": "stdout",
       "text": [
        " 15\n",
        "2"
       ]
      },
      {
       "output_type": "stream",
       "stream": "stdout",
       "text": [
        " 16\n",
        "2"
       ]
      },
      {
       "output_type": "stream",
       "stream": "stdout",
       "text": [
        " 17\n",
        "2"
       ]
      },
      {
       "output_type": "stream",
       "stream": "stdout",
       "text": [
        " 18\n",
        "2"
       ]
      },
      {
       "output_type": "stream",
       "stream": "stdout",
       "text": [
        " 19\n",
        "2"
       ]
      },
      {
       "output_type": "stream",
       "stream": "stdout",
       "text": [
        " 20\n",
        "2"
       ]
      },
      {
       "output_type": "stream",
       "stream": "stdout",
       "text": [
        " 21\n",
        "2"
       ]
      },
      {
       "output_type": "stream",
       "stream": "stdout",
       "text": [
        " 22\n",
        "2"
       ]
      },
      {
       "output_type": "stream",
       "stream": "stdout",
       "text": [
        " 23\n",
        "2"
       ]
      },
      {
       "output_type": "stream",
       "stream": "stdout",
       "text": [
        " 24\n",
        "2"
       ]
      },
      {
       "output_type": "stream",
       "stream": "stdout",
       "text": [
        " 25\n",
        "2"
       ]
      },
      {
       "output_type": "stream",
       "stream": "stdout",
       "text": [
        " 26\n",
        "2"
       ]
      },
      {
       "output_type": "stream",
       "stream": "stdout",
       "text": [
        " 27\n",
        "2"
       ]
      },
      {
       "output_type": "stream",
       "stream": "stdout",
       "text": [
        " 28\n",
        "2"
       ]
      },
      {
       "output_type": "stream",
       "stream": "stdout",
       "text": [
        " 29\n",
        "1"
       ]
      },
      {
       "output_type": "stream",
       "stream": "stdout",
       "text": [
        " 0\n",
        "1"
       ]
      },
      {
       "output_type": "stream",
       "stream": "stdout",
       "text": [
        " 1\n",
        "1"
       ]
      },
      {
       "output_type": "stream",
       "stream": "stdout",
       "text": [
        " 2\n",
        "1"
       ]
      },
      {
       "output_type": "stream",
       "stream": "stdout",
       "text": [
        " 3\n",
        "1"
       ]
      },
      {
       "output_type": "stream",
       "stream": "stdout",
       "text": [
        " 4\n",
        "1"
       ]
      },
      {
       "output_type": "stream",
       "stream": "stdout",
       "text": [
        " 5\n",
        "1"
       ]
      },
      {
       "output_type": "stream",
       "stream": "stdout",
       "text": [
        " 6\n",
        "1"
       ]
      },
      {
       "output_type": "stream",
       "stream": "stdout",
       "text": [
        " 7\n",
        "1"
       ]
      },
      {
       "output_type": "stream",
       "stream": "stdout",
       "text": [
        " 8\n",
        "1"
       ]
      },
      {
       "output_type": "stream",
       "stream": "stdout",
       "text": [
        " 9\n",
        "1"
       ]
      },
      {
       "output_type": "stream",
       "stream": "stdout",
       "text": [
        " 10\n",
        "1"
       ]
      },
      {
       "output_type": "stream",
       "stream": "stdout",
       "text": [
        " 11\n",
        "1 12\n",
        "1"
       ]
      },
      {
       "output_type": "stream",
       "stream": "stdout",
       "text": [
        " 13\n",
        "1"
       ]
      },
      {
       "output_type": "stream",
       "stream": "stdout",
       "text": [
        " 14\n",
        "1"
       ]
      },
      {
       "output_type": "stream",
       "stream": "stdout",
       "text": [
        " 15\n",
        "1"
       ]
      },
      {
       "output_type": "stream",
       "stream": "stdout",
       "text": [
        " 16\n",
        "1"
       ]
      },
      {
       "output_type": "stream",
       "stream": "stdout",
       "text": [
        " 17\n",
        "1"
       ]
      },
      {
       "output_type": "stream",
       "stream": "stdout",
       "text": [
        " 18\n",
        "1"
       ]
      },
      {
       "output_type": "stream",
       "stream": "stdout",
       "text": [
        " 19\n",
        "1"
       ]
      },
      {
       "output_type": "stream",
       "stream": "stdout",
       "text": [
        " 20\n",
        "1"
       ]
      },
      {
       "output_type": "stream",
       "stream": "stdout",
       "text": [
        " 21\n",
        "1"
       ]
      },
      {
       "output_type": "stream",
       "stream": "stdout",
       "text": [
        " 22\n",
        "1"
       ]
      },
      {
       "output_type": "stream",
       "stream": "stdout",
       "text": [
        " 23\n",
        "1"
       ]
      },
      {
       "output_type": "stream",
       "stream": "stdout",
       "text": [
        " 24\n",
        "1"
       ]
      },
      {
       "output_type": "stream",
       "stream": "stdout",
       "text": [
        " 25\n",
        "1"
       ]
      },
      {
       "output_type": "stream",
       "stream": "stdout",
       "text": [
        " 26\n",
        "1"
       ]
      },
      {
       "output_type": "stream",
       "stream": "stdout",
       "text": [
        " 27\n",
        "1"
       ]
      },
      {
       "output_type": "stream",
       "stream": "stdout",
       "text": [
        " 28\n",
        "1"
       ]
      },
      {
       "output_type": "stream",
       "stream": "stdout",
       "text": [
        " 29\n",
        "3"
       ]
      },
      {
       "output_type": "stream",
       "stream": "stdout",
       "text": [
        " 0\n",
        "3"
       ]
      },
      {
       "output_type": "stream",
       "stream": "stdout",
       "text": [
        " 1\n",
        "3"
       ]
      },
      {
       "output_type": "stream",
       "stream": "stdout",
       "text": [
        " 2\n",
        "3"
       ]
      },
      {
       "output_type": "stream",
       "stream": "stdout",
       "text": [
        " 3\n",
        "3"
       ]
      },
      {
       "output_type": "stream",
       "stream": "stdout",
       "text": [
        " 4\n",
        "3"
       ]
      },
      {
       "output_type": "stream",
       "stream": "stdout",
       "text": [
        " 5\n",
        "3"
       ]
      },
      {
       "output_type": "stream",
       "stream": "stdout",
       "text": [
        " 6\n",
        "3"
       ]
      },
      {
       "output_type": "stream",
       "stream": "stdout",
       "text": [
        " 7\n",
        "3"
       ]
      },
      {
       "output_type": "stream",
       "stream": "stdout",
       "text": [
        " 8\n",
        "3"
       ]
      },
      {
       "output_type": "stream",
       "stream": "stdout",
       "text": [
        " 9\n",
        "3"
       ]
      },
      {
       "output_type": "stream",
       "stream": "stdout",
       "text": [
        " 10\n",
        "3"
       ]
      },
      {
       "output_type": "stream",
       "stream": "stdout",
       "text": [
        " 11\n",
        "3"
       ]
      },
      {
       "output_type": "stream",
       "stream": "stdout",
       "text": [
        " 12\n",
        "3"
       ]
      },
      {
       "output_type": "stream",
       "stream": "stdout",
       "text": [
        " 13\n",
        "3"
       ]
      },
      {
       "output_type": "stream",
       "stream": "stdout",
       "text": [
        " 14\n",
        "3"
       ]
      },
      {
       "output_type": "stream",
       "stream": "stdout",
       "text": [
        " 15\n",
        "3"
       ]
      },
      {
       "output_type": "stream",
       "stream": "stdout",
       "text": [
        " 16\n",
        "3"
       ]
      },
      {
       "output_type": "stream",
       "stream": "stdout",
       "text": [
        " 17\n",
        "3"
       ]
      },
      {
       "output_type": "stream",
       "stream": "stdout",
       "text": [
        " 18\n",
        "3"
       ]
      },
      {
       "output_type": "stream",
       "stream": "stdout",
       "text": [
        " 19\n",
        "3"
       ]
      },
      {
       "output_type": "stream",
       "stream": "stdout",
       "text": [
        " 20\n",
        "3"
       ]
      },
      {
       "output_type": "stream",
       "stream": "stdout",
       "text": [
        " 21\n",
        "3"
       ]
      },
      {
       "output_type": "stream",
       "stream": "stdout",
       "text": [
        " 22\n",
        "3"
       ]
      },
      {
       "output_type": "stream",
       "stream": "stdout",
       "text": [
        " 23\n",
        "3"
       ]
      },
      {
       "output_type": "stream",
       "stream": "stdout",
       "text": [
        " 24\n",
        "3"
       ]
      },
      {
       "output_type": "stream",
       "stream": "stdout",
       "text": [
        " 25\n",
        "3"
       ]
      },
      {
       "output_type": "stream",
       "stream": "stdout",
       "text": [
        " 26\n",
        "3"
       ]
      },
      {
       "output_type": "stream",
       "stream": "stdout",
       "text": [
        " 27\n",
        "3"
       ]
      },
      {
       "output_type": "stream",
       "stream": "stdout",
       "text": [
        " 28\n",
        "3"
       ]
      },
      {
       "output_type": "stream",
       "stream": "stdout",
       "text": [
        " 29\n",
        "3"
       ]
      },
      {
       "output_type": "stream",
       "stream": "stdout",
       "text": [
        " 0\n",
        "3"
       ]
      },
      {
       "output_type": "stream",
       "stream": "stdout",
       "text": [
        " 1\n",
        "3"
       ]
      },
      {
       "output_type": "stream",
       "stream": "stdout",
       "text": [
        " 2\n",
        "3"
       ]
      },
      {
       "output_type": "stream",
       "stream": "stdout",
       "text": [
        " 3\n",
        "3"
       ]
      },
      {
       "output_type": "stream",
       "stream": "stdout",
       "text": [
        " 4\n",
        "3"
       ]
      },
      {
       "output_type": "stream",
       "stream": "stdout",
       "text": [
        " 5\n",
        "3"
       ]
      },
      {
       "output_type": "stream",
       "stream": "stdout",
       "text": [
        " 6\n",
        "3"
       ]
      },
      {
       "output_type": "stream",
       "stream": "stdout",
       "text": [
        " 7\n",
        "3"
       ]
      },
      {
       "output_type": "stream",
       "stream": "stdout",
       "text": [
        " 8\n",
        "3"
       ]
      },
      {
       "output_type": "stream",
       "stream": "stdout",
       "text": [
        " 9\n",
        "3"
       ]
      },
      {
       "output_type": "stream",
       "stream": "stdout",
       "text": [
        " 10\n",
        "3"
       ]
      },
      {
       "output_type": "stream",
       "stream": "stdout",
       "text": [
        " 11\n",
        "3"
       ]
      },
      {
       "output_type": "stream",
       "stream": "stdout",
       "text": [
        " 12\n",
        "3"
       ]
      },
      {
       "output_type": "stream",
       "stream": "stdout",
       "text": [
        " 13\n",
        "3"
       ]
      },
      {
       "output_type": "stream",
       "stream": "stdout",
       "text": [
        " 14\n",
        "3"
       ]
      },
      {
       "output_type": "stream",
       "stream": "stdout",
       "text": [
        " 15\n",
        "3"
       ]
      },
      {
       "output_type": "stream",
       "stream": "stdout",
       "text": [
        " 16\n",
        "3"
       ]
      },
      {
       "output_type": "stream",
       "stream": "stdout",
       "text": [
        " 17\n",
        "3"
       ]
      },
      {
       "output_type": "stream",
       "stream": "stdout",
       "text": [
        " 18\n",
        "3"
       ]
      },
      {
       "output_type": "stream",
       "stream": "stdout",
       "text": [
        " 19\n",
        "3"
       ]
      },
      {
       "output_type": "stream",
       "stream": "stdout",
       "text": [
        " 20\n",
        "3"
       ]
      },
      {
       "output_type": "stream",
       "stream": "stdout",
       "text": [
        " 21\n",
        "3"
       ]
      },
      {
       "output_type": "stream",
       "stream": "stdout",
       "text": [
        " 22\n",
        "3"
       ]
      },
      {
       "output_type": "stream",
       "stream": "stdout",
       "text": [
        " 23\n",
        "3"
       ]
      },
      {
       "output_type": "stream",
       "stream": "stdout",
       "text": [
        " 24\n",
        "3"
       ]
      },
      {
       "output_type": "stream",
       "stream": "stdout",
       "text": [
        " 25\n",
        "3"
       ]
      },
      {
       "output_type": "stream",
       "stream": "stdout",
       "text": [
        " 26\n",
        "3"
       ]
      },
      {
       "output_type": "stream",
       "stream": "stdout",
       "text": [
        " 27\n",
        "3"
       ]
      },
      {
       "output_type": "stream",
       "stream": "stdout",
       "text": [
        " 28\n",
        "3"
       ]
      },
      {
       "output_type": "stream",
       "stream": "stdout",
       "text": [
        " 29\n",
        "3"
       ]
      },
      {
       "output_type": "stream",
       "stream": "stdout",
       "text": [
        " 0\n"
       ]
      },
      {
       "metadata": {},
       "output_type": "display_data",
       "png": "[encoded data removed]",
       "text": [
        "<matplotlib.figure.Figure at 0x7f9d49ea9c50>"
       ]
      }
     ],
     "prompt_number": 4
    },
    {
     "cell_type": "heading",
     "level": 1,
     "metadata": {},
     "source": [
      "modified lowen"
     ]
    },
    {
     "cell_type": "code",
     "collapsed": false,
     "input": [
      "f, (ax1, ax2) = plt.subplots(1, 2,figsize=(8,4))\n",
      "colors=['r','b','g','k','c',\"burlywood\",'b','r','g','b','k','c','w','b','r','g','b','k','c','w','bo','ro','go','bo','ko','co','wo','bo']\n",
      "\n",
      "a=np.logspace(0.02,1.25,num=6,base=2)-1\n",
      "a[4]=1\n",
      "length=100\n",
      "steps=20\n",
      "coloin=-1\n",
      "for alpha in [1.0,0.7,0.3,0.1]:\n",
      "    gaussianparamter2=[]\n",
      "    gaussianparamter6=[]\n",
      "    coloin=coloin+1\n",
      "\n",
      "    msd_all=[]\n",
      "    for i in range(steps):\n",
      "            print 2,i\n",
      "            c=analyse_tool.Analyse(D=2,particles=5000,length=length+1,alpha=alpha,dt=1.0,version=\"lowennew\")\n",
      "            b=c.nongaussian_parameter()\n",
      "            gaussianparamter6.append(b)\n",
      "            #d=analyse_tool.Analyse(D=2,particles=5000,length=length+1,alpha=alpha,dt=1.0,version=\"lowen\")\n",
      "            #e=d.nongaussian_parameter()\n",
      "            #gaussianparamter6.append(e)\n",
      "                  \n",
      "    #gaussianparamter2=np.array(gaussianparamter2)\n",
      "    gaussianparamter6=np.array(gaussianparamter6)\n",
      "\n",
      "    #plt.errorbar(range(length+1), gaussianparamter2.mean(axis=0), yerr=gaussianparamter2.std(axis=0),errorevery=5)\n",
      "    plt.errorbar(range(length+1), gaussianparamter6.mean(axis=0), yerr=gaussianparamter6.std(axis=0),errorevery=5,color=colors[coloin],label=\"$\\\\alpha $=$%.2f $\" %(c.alpha))\n",
      "\n",
      "ax2.set_xlabel('$t/\\Delta t$', fontsize=15)\n",
      "ax2.set_ylabel('NGP(t)', fontsize=15)\n",
      "ax2.legend(loc=2,fontsize=12)\n",
      "#ax2.set_title('a) $\\\\alpha_2(t)$  vs. $\\\\alpha$', fontsize=10)lowennew\n",
      "#plt.setp(ax2.get_yticklabels(), visible=False)\n",
      "\n",
      "\n",
      "coloin=-1\n",
      "\n",
      "for i in [1.0,0.7,0.3,0.1]:\n",
      "    coloin=coloin+1\n",
      "    e=analyse_tool.Analyse(D=2,particles=2000,length=2000,alpha=i,dt=0.1,version='lowenmodified')\n",
      "    msd,std=e.msd_ensemble()\n",
      "    ax1.plot(e.t/e.dt,msd,color=colors[coloin],label=\"$\\\\alpha $=$%.2f $\" %(e.alpha))\n",
      "    ax1.loglog(e.t/e.dt,e.msdanalyt(),\":\",color=\"k\")\n",
      "#plt.loglog(e.t/e.dt,e.msdanalyt(),\":\",color=colors[1], label=\"$%s$ \" %(msd_text))\n",
      "\n",
      "\n",
      "ax1.set_xlabel('$t/ \\Delta t$', fontsize=15)\n",
      "ax1.set_ylabel('$\\delta r^{2}(t)/ \\Gamma^2$', fontsize=15)\n",
      "\n",
      "ax1.legend(loc=2,fontsize=12)\n",
      "#ax1.set_title('b) $\\\\alpha_2(t)$  vs. Algorithms', fontsize=10)\n",
      "\n",
      "#ax2.ylabel('t in sec',fontsize=10)\n",
      "plt.tight_layout()\n",
      "plt.savefig('Abschlussarbeit/data/nongaussianlowenalphaneumodifed.png',dpi=300)\n",
      "plt.show()\n",
      "  # save the figure to file \n",
      "\n",
      "# make these tick labels invisible\n",
      "#plt.set_setp(ax2.get_yticklabels(), visible=False)\n",
      "\n",
      "\n",
      "\n",
      "plt.show()"
     ],
     "language": "python",
     "metadata": {},
     "outputs": [
      {
       "output_type": "stream",
       "stream": "stdout",
       "text": [
        "2 0\n",
        "2"
       ]
      },
      {
       "output_type": "stream",
       "stream": "stdout",
       "text": [
        " 1\n",
        "2"
       ]
      },
      {
       "output_type": "stream",
       "stream": "stdout",
       "text": [
        " 2\n",
        "2"
       ]
      },
      {
       "output_type": "stream",
       "stream": "stdout",
       "text": [
        " 3\n",
        "2"
       ]
      },
      {
       "output_type": "stream",
       "stream": "stdout",
       "text": [
        " 4\n",
        "2"
       ]
      },
      {
       "output_type": "stream",
       "stream": "stdout",
       "text": [
        " 5\n",
        "2"
       ]
      },
      {
       "output_type": "stream",
       "stream": "stdout",
       "text": [
        " 6\n",
        "2"
       ]
      },
      {
       "output_type": "stream",
       "stream": "stdout",
       "text": [
        " 7\n",
        "2"
       ]
      },
      {
       "output_type": "stream",
       "stream": "stdout",
       "text": [
        " 8\n",
        "2"
       ]
      },
      {
       "output_type": "stream",
       "stream": "stdout",
       "text": [
        " 9\n",
        "2"
       ]
      },
      {
       "output_type": "stream",
       "stream": "stdout",
       "text": [
        " 10\n",
        "2"
       ]
      },
      {
       "output_type": "stream",
       "stream": "stdout",
       "text": [
        " 11\n",
        "2"
       ]
      },
      {
       "output_type": "stream",
       "stream": "stdout",
       "text": [
        " 12\n",
        "2"
       ]
      },
      {
       "output_type": "stream",
       "stream": "stdout",
       "text": [
        " 13\n",
        "2"
       ]
      },
      {
       "output_type": "stream",
       "stream": "stdout",
       "text": [
        " 14\n",
        "2"
       ]
      },
      {
       "output_type": "stream",
       "stream": "stdout",
       "text": [
        " 15\n",
        "2"
       ]
      },
      {
       "output_type": "stream",
       "stream": "stdout",
       "text": [
        " 16\n",
        "2"
       ]
      },
      {
       "output_type": "stream",
       "stream": "stdout",
       "text": [
        " 17\n",
        "2"
       ]
      },
      {
       "output_type": "stream",
       "stream": "stdout",
       "text": [
        " 18\n",
        "2"
       ]
      },
      {
       "output_type": "stream",
       "stream": "stdout",
       "text": [
        " 19\n",
        "2"
       ]
      },
      {
       "output_type": "stream",
       "stream": "stdout",
       "text": [
        " 0\n",
        "2"
       ]
      },
      {
       "output_type": "stream",
       "stream": "stdout",
       "text": [
        " 1\n",
        "2"
       ]
      },
      {
       "output_type": "stream",
       "stream": "stdout",
       "text": [
        " 2\n",
        "2"
       ]
      },
      {
       "output_type": "stream",
       "stream": "stdout",
       "text": [
        " 3\n",
        "2"
       ]
      },
      {
       "output_type": "stream",
       "stream": "stdout",
       "text": [
        " 4\n",
        "2"
       ]
      },
      {
       "output_type": "stream",
       "stream": "stdout",
       "text": [
        " 5\n",
        "2"
       ]
      },
      {
       "output_type": "stream",
       "stream": "stdout",
       "text": [
        " 6\n",
        "2"
       ]
      },
      {
       "output_type": "stream",
       "stream": "stdout",
       "text": [
        " 7\n",
        "2"
       ]
      },
      {
       "output_type": "stream",
       "stream": "stdout",
       "text": [
        " 8\n",
        "2"
       ]
      },
      {
       "output_type": "stream",
       "stream": "stdout",
       "text": [
        " 9\n",
        "2"
       ]
      },
      {
       "output_type": "stream",
       "stream": "stdout",
       "text": [
        " 10\n",
        "2"
       ]
      },
      {
       "output_type": "stream",
       "stream": "stdout",
       "text": [
        " 11\n",
        "2"
       ]
      },
      {
       "output_type": "stream",
       "stream": "stdout",
       "text": [
        " 12\n",
        "2"
       ]
      },
      {
       "output_type": "stream",
       "stream": "stdout",
       "text": [
        " 13\n",
        "2"
       ]
      },
      {
       "output_type": "stream",
       "stream": "stdout",
       "text": [
        " 14\n",
        "2"
       ]
      },
      {
       "output_type": "stream",
       "stream": "stdout",
       "text": [
        " 15\n",
        "2"
       ]
      },
      {
       "output_type": "stream",
       "stream": "stdout",
       "text": [
        " 16\n",
        "2"
       ]
      },
      {
       "output_type": "stream",
       "stream": "stdout",
       "text": [
        " 17\n",
        "2"
       ]
      },
      {
       "output_type": "stream",
       "stream": "stdout",
       "text": [
        " 18\n",
        "2"
       ]
      },
      {
       "output_type": "stream",
       "stream": "stdout",
       "text": [
        " 19\n",
        "2"
       ]
      },
      {
       "output_type": "stream",
       "stream": "stdout",
       "text": [
        " 0\n",
        "2"
       ]
      },
      {
       "output_type": "stream",
       "stream": "stdout",
       "text": [
        " 1\n",
        "2"
       ]
      },
      {
       "output_type": "stream",
       "stream": "stdout",
       "text": [
        " 2\n",
        "2"
       ]
      },
      {
       "output_type": "stream",
       "stream": "stdout",
       "text": [
        " 3\n",
        "2"
       ]
      },
      {
       "output_type": "stream",
       "stream": "stdout",
       "text": [
        " 4\n",
        "2"
       ]
      },
      {
       "output_type": "stream",
       "stream": "stdout",
       "text": [
        " 5\n",
        "2"
       ]
      },
      {
       "output_type": "stream",
       "stream": "stdout",
       "text": [
        " 6\n",
        "2"
       ]
      },
      {
       "output_type": "stream",
       "stream": "stdout",
       "text": [
        " 7\n",
        "2"
       ]
      },
      {
       "output_type": "stream",
       "stream": "stdout",
       "text": [
        " 8\n",
        "2"
       ]
      },
      {
       "output_type": "stream",
       "stream": "stdout",
       "text": [
        " 9\n",
        "2"
       ]
      },
      {
       "output_type": "stream",
       "stream": "stdout",
       "text": [
        " 10\n",
        "2"
       ]
      },
      {
       "output_type": "stream",
       "stream": "stdout",
       "text": [
        " 11\n",
        "2"
       ]
      },
      {
       "output_type": "stream",
       "stream": "stdout",
       "text": [
        " 12\n",
        "2"
       ]
      },
      {
       "output_type": "stream",
       "stream": "stdout",
       "text": [
        " 13\n",
        "2"
       ]
      },
      {
       "output_type": "stream",
       "stream": "stdout",
       "text": [
        " 14\n",
        "2"
       ]
      },
      {
       "output_type": "stream",
       "stream": "stdout",
       "text": [
        " 15\n",
        "2"
       ]
      },
      {
       "output_type": "stream",
       "stream": "stdout",
       "text": [
        " 16\n",
        "2"
       ]
      },
      {
       "output_type": "stream",
       "stream": "stdout",
       "text": [
        " 17\n",
        "2"
       ]
      },
      {
       "output_type": "stream",
       "stream": "stdout",
       "text": [
        " 18\n",
        "2"
       ]
      },
      {
       "output_type": "stream",
       "stream": "stdout",
       "text": [
        " 19\n",
        "2"
       ]
      },
      {
       "output_type": "stream",
       "stream": "stdout",
       "text": [
        " 0\n",
        "2"
       ]
      },
      {
       "output_type": "stream",
       "stream": "stdout",
       "text": [
        " 1\n",
        "2"
       ]
      },
      {
       "output_type": "stream",
       "stream": "stdout",
       "text": [
        " 2\n",
        "2"
       ]
      },
      {
       "output_type": "stream",
       "stream": "stdout",
       "text": [
        " 3\n",
        "2"
       ]
      },
      {
       "output_type": "stream",
       "stream": "stdout",
       "text": [
        " 4\n",
        "2"
       ]
      },
      {
       "output_type": "stream",
       "stream": "stdout",
       "text": [
        " 5\n",
        "2"
       ]
      },
      {
       "output_type": "stream",
       "stream": "stdout",
       "text": [
        " 6\n",
        "2"
       ]
      },
      {
       "output_type": "stream",
       "stream": "stdout",
       "text": [
        " 7\n",
        "2"
       ]
      },
      {
       "output_type": "stream",
       "stream": "stdout",
       "text": [
        " 8\n",
        "2"
       ]
      },
      {
       "output_type": "stream",
       "stream": "stdout",
       "text": [
        " 9\n",
        "2"
       ]
      },
      {
       "output_type": "stream",
       "stream": "stdout",
       "text": [
        " 10\n",
        "2"
       ]
      },
      {
       "output_type": "stream",
       "stream": "stdout",
       "text": [
        " 11\n",
        "2"
       ]
      },
      {
       "output_type": "stream",
       "stream": "stdout",
       "text": [
        " 12\n",
        "2"
       ]
      },
      {
       "output_type": "stream",
       "stream": "stdout",
       "text": [
        " 13\n",
        "2"
       ]
      },
      {
       "output_type": "stream",
       "stream": "stdout",
       "text": [
        " 14\n",
        "2"
       ]
      },
      {
       "output_type": "stream",
       "stream": "stdout",
       "text": [
        " 15\n",
        "2"
       ]
      },
      {
       "output_type": "stream",
       "stream": "stdout",
       "text": [
        " 16\n",
        "2"
       ]
      },
      {
       "output_type": "stream",
       "stream": "stdout",
       "text": [
        " 17\n",
        "2"
       ]
      },
      {
       "output_type": "stream",
       "stream": "stdout",
       "text": [
        " 18\n",
        "2"
       ]
      },
      {
       "output_type": "stream",
       "stream": "stdout",
       "text": [
        " 19\n"
       ]
      },
      {
       "metadata": {},
       "output_type": "display_data",
       "png": "[encoded data removed]",
       "text": [
        "<matplotlib.figure.Figure at 0x7fad1f61d050>"
       ]
      }
     ],
     "prompt_number": 9
    },
    {
     "cell_type": "code",
     "collapsed": false,
     "input": [
      "\n",
      "length=1000\n",
      "steps=10\n",
      "\n",
      "\n",
      "plt.figure(figsize=(6.5,4))\n",
      "\n",
      "for alpha in [1.0]:\n",
      "    gaussianparamter2=[]\n",
      "    msd_all=[]\n",
      "    for i in range(steps):\n",
      "            print 2,i\n",
      "            c=analyse_tool.Analyse(D=2,particles=5000,length=length+1,alpha=alpha,dt=1.0,version=\"lowencpp\")\n",
      "            b=c.nongaussian_parameter()\n",
      "            gaussianparamter2.append(b)\n",
      "            msd,std=c.msd_ensemble()\n",
      "            msd_all.append(msd)\n",
      "    msd_all=np.array(msd_all)        \n",
      "    gaussianparamter2=np.array(gaussianparamter2)\n",
      "    #plt.errorbar(range(356), gaussianparamter3.mean(axis=0), yerr=gaussianparamter3.std(axis=0),errorevery=10,label=\"Choleski\")\n",
      "    plt.errorbar(range(length+1), gaussianparamter2.mean(axis=0), yerr=gaussianparamter2.std(axis=0),errorevery=10,label=\"$\\\\alpha $=$%.2f $\" %(c.alpha))\n",
      "    #plt.errorbar(range(length+1), gaussianparamter1.mean(axis=0), yerr=gaussianparamter1.std(axis=0),errorevery=10,label=\"Our\")\n",
      "\n",
      "plt.xlabel('t', fontsize=10)\n",
      "plt.ylabel('$\\mathmr(t)$', fontsize=10)\n",
      "plt.legend(loc=2,fontsize='small')\n",
      "plt.show()\n",
      "    "
     ],
     "language": "python",
     "metadata": {},
     "outputs": [
      {
       "output_type": "stream",
       "stream": "stdout",
       "text": [
        "2 0\n",
        "2 1\n",
        "2 2\n",
        "2 3\n",
        "2 4\n",
        "2 5\n",
        "2 6\n",
        "2 7\n",
        "2 8\n",
        "2 9\n"
       ]
      },
      {
       "output_type": "stream",
       "stream": "stderr",
       "text": [
        "analyse_tool.py:133: RuntimeWarning: invalid value encountered in divide\n",
        "  nongaussianparamter=(1/3.)*moment4/moment2poten2-1\n"
       ]
      }
     ],
     "prompt_number": 2
    },
    {
     "cell_type": "code",
     "collapsed": false,
     "input": [
      "plt.errorbar(range(length+1), gaussianparamter2.mean(axis=0), yerr=gaussianparamter2.std(axis=0),errorevery=10,label=\"Lowen\")\n",
      "plt.show()"
     ],
     "language": "python",
     "metadata": {},
     "outputs": [],
     "prompt_number": 6
    },
    {
     "cell_type": "code",
     "collapsed": false,
     "input": [
      "plt.plot(msd_all.mean(axis=0))\n",
      "plt.show()"
     ],
     "language": "python",
     "metadata": {},
     "outputs": [],
     "prompt_number": 7
    },
    {
     "cell_type": "code",
     "collapsed": false,
     "input": [
      "length=1000\n",
      "steps=50\n",
      "gaussianparamter1=[]\n",
      "for i in range(steps):\n",
      "        print 1,i\n",
      "        c=analyse_tool.Analyse(D=2,particles=5000,length=length+1,alpha=0.5,dt=0.1,version=\"python\")\n",
      "        b=c.nongaussian_parameter()\n",
      "        gaussianparamter1.append(b)\n",
      "gaussianparamter1=np.array(gaussianparamter1)"
     ],
     "language": "python",
     "metadata": {},
     "outputs": [
      {
       "output_type": "stream",
       "stream": "stdout",
       "text": [
        "1 0\n",
        "1 1\n",
        "1 2\n",
        "1 3\n",
        "1 4\n",
        "1 5\n",
        "1 6\n",
        "1 7\n",
        "1 8\n",
        "1 9\n",
        "1 10\n",
        "1 11\n",
        "1 12\n",
        "1 13\n",
        "1 14\n",
        "1 15\n",
        "1 16\n",
        "1 17\n",
        "1 18\n",
        "1 19\n",
        "1 20\n",
        "1 21\n",
        "1 22\n",
        "1 23\n",
        "1 24\n",
        "1 25\n",
        "1 26\n",
        "1 27\n",
        "1 28\n",
        "1 29\n",
        "1 30\n",
        "1 31\n",
        "1 32\n",
        "1 33\n",
        "1 34\n",
        "1 35\n",
        "1 36\n",
        "1 37\n",
        "1 38\n",
        "1 39\n",
        "1 40\n",
        "1 41\n",
        "1 42\n",
        "1 43\n",
        "1 44\n",
        "1 45\n",
        "1 46\n",
        "1 47\n",
        "1 48\n",
        "1 49\n"
       ]
      }
     ],
     "prompt_number": 91
    },
    {
     "cell_type": "code",
     "collapsed": false,
     "input": [
      "\n",
      "\n",
      "plt.figure(figsize=(6.5,4))\n",
      "plt.errorbar(range(356), gaussianparamter3.mean(axis=0), yerr=gaussianparamter3.std(axis=0),errorevery=10,label=\"Choleski\")\n",
      "#plt.errorbar(range(length+1), gaussianparamter2.mean(axis=0), yerr=gaussianparamter2.std(axis=0),errorevery=10,label=\"Lowen\")\n",
      "plt.errorbar(range(length+1), gaussianparamter1.mean(axis=0), yerr=gaussianparamter1.std(axis=0),errorevery=10,label=\"Our\")\n",
      "\n",
      "plt.xlabel('t', fontsize=10)\n",
      "plt.ylabel('$\\\\alpha_2(t)$ non-Gaussian parameter', fontsize=10)\n",
      "plt.legend(loc=2,fontsize='small')\n",
      "plt.savefig('Abschlussarbeit/data/nongaussianneu.png',dpi=300)\n",
      "plt.show()"
     ],
     "language": "python",
     "metadata": {},
     "outputs": [],
     "prompt_number": 110
    },
    {
     "cell_type": "code",
     "collapsed": false,
     "input": [
      "def gen_log_space(limit, n):\n",
      "    result = [1]\n",
      "    if n>1:  # just a check to avoid ZeroDivisionError\n",
      "        ratio = (float(limit)/result[-1]) ** (1.0/(n-len(result)))\n",
      "    while len(result)<n:\n",
      "        next_value = result[-1]*ratio\n",
      "        if next_value - result[-1] >= 1:\n",
      "            # safe zone. next_value will be a different integer\n",
      "            result.append(next_value)\n",
      "        else:\n",
      "            # problem! same integer. we need to find next_value by artificially incrementing previous value\n",
      "            result.append(result[-1]+1)\n",
      "            # recalculate the ratio so that the remaining values will scale correctly\n",
      "            ratio = (float(limit)/result[-1]) ** (1.0/(n-len(result)))\n",
      "    # round, re-adjust to 0 indexing (i.e. minus 1) and return np.uint64 array\n",
      "    return np.array(map(lambda x: round(x)-1, result), dtype=np.uint64)\n",
      "\n"
     ],
     "language": "python",
     "metadata": {},
     "outputs": [],
     "prompt_number": 39
    },
    {
     "cell_type": "code",
     "collapsed": false,
     "input": [
      "y = gen_log_space(2000, 50)\n",
      "y1 = gen_log_space(300, 20)\n",
      "\n",
      "print y1\n",
      "def gamma(D,dt):\n",
      "     return 2*D*dt"
     ],
     "language": "python",
     "metadata": {},
     "outputs": [
      {
       "output_type": "stream",
       "stream": "stdout",
       "text": [
        "[  0   1   2   3   4   6   8  11  14  19  25  34  44  58  77 101 133 174\n",
        " 228 299]\n"
       ]
      }
     ],
     "prompt_number": 57
    },
    {
     "cell_type": "markdown",
     "metadata": {},
     "source": [
      "# ensamble vs time average\n"
     ]
    },
    {
     "cell_type": "code",
     "collapsed": false,
     "input": [
      "\n",
      "plt.figure(figsize=(8,4))\n",
      "\n",
      "e=analyse_tool.Analyse(D=200,particles=1000,length=2000,alpha=0.5,dt=0.1,version='lowencpp')\n",
      "msd,std3=e.msd_ensemble()\n",
      "d=analyse_tool.Analyse(D=200,particles=1000,length=2000,alpha=0.5,dt=0.1,version='lowencpp')\n",
      "msd1,std1=d.msd_time()\n",
      "\n",
      "#msd_text='MSD=2 K_\\\\alpha t^\\\\alpha'\n",
      "print len(msd)\n",
      "print len(e.t[:])\n",
      "plt.plot(e.t[:], 100*msd1[:]/gamma(e.D,e.dt),color=\"b\",label=\"time av. Lowen\")\n",
      "plt.errorbar(d.t[y],100* msd[y]/gamma(e.D,e.dt) ,yerr=100*std3[y]/gamma(e.D,e.dt), color=\"b\",linestyle=\"\",markevery=y,label=\"ensemble av. Lowen\")\n",
      "plt.loglog(d.t,100*d.msdanalyt()/gamma(e.D,e.dt),color=\"k\")\n",
      "\n",
      "\n",
      "e=analyse_tool.Analyse(D=20,particles=1000,length=2000,alpha=0.5,dt=0.1,version='python')\n",
      "msd,std=e.msd_ensemble()\n",
      "d=analyse_tool.Analyse(D=20,particles=1000,length=2000,alpha=0.5,dt=0.1,version='python')\n",
      "msd1,std1=d.msd_time()\n",
      "\n",
      "msd_text='MSD=2 K_\\\\alpha t^\\\\alpha'\n",
      "\n",
      "plt.plot(e.t[:],10*msd1[:]/gamma(e.D,e.dt),color=\"g\",label=\"time av. Naive\")\n",
      "plt.errorbar(d.t[y], 10*msd[y]/gamma(e.D,e.dt),yerr=10*std[y]/gamma(e.D,e.dt), color=\"g\",linestyle=\"\",label=\"ensemble av. Naive\")\n",
      "plt.loglog(d.t,10*d.msdanalyt()/gamma(e.D,e.dt), color=\"k\")\n",
      "\n",
      "e=analyse_tool.Analyse(D=2,particles=1000,length=300,alpha=0.5,dt=0.1,version='nhoch3')\n",
      "msd,std=e.msd_ensemble()\n",
      "d=analyse_tool.Analyse(D=2,particles=1000,length=300,alpha=0.5,dt=0.1,version='nhoch3')\n",
      "msd1,std1=d.msd_time()\n",
      "\n",
      "#msd_text='MSD=2 K_\\\\alpha t^\\\\alpha'\n",
      "\n",
      "plt.plot(e.t[:], 1*msd1[:]/gamma(e.D,e.dt), color=\"r\",label=\"time av. Cholesky\")\n",
      "plt.errorbar(d.t[y1], 1*msd[y1]/gamma(e.D,e.dt) ,yerr=1*std[y1]/gamma(e.D,e.dt), color=\"r\",linestyle=\"\",label=\"ensemble av. Cholesky\")\n",
      "plt.loglog(d.t,1*d.msdanalyt()/gamma(e.D,e.dt),color=\"k\")\n",
      "\n",
      "\n",
      "e=analyse_tool.Analyse(D=100,particles=1000,length=2000,alpha=0.5,dt=0.1,version='hartecppverion2')\n",
      "msd,std=e.msd_ensemble()\n",
      "d=analyse_tool.Analyse(D=100,particles=1000,length=2000,alpha=0.5,dt=0.1,version='hartecppverion2')\n",
      "msd1,std1=d.msd_time()\n",
      "\n",
      "#msd_text='MSD=2 K_\\\\alpha t^\\\\alpha'k: \n",
      "\n",
      "plt.plot(e.t[:],0.1*msd1[:]/gamma(e.D,e.dt), color=\"c\",label=\"time av. Davis-Harte\")\n",
      "plt.errorbar(d.t[y], 0.1*msd[y]/gamma(e.D,e.dt) ,color=\"c\",linestyle=\"\",yerr=0.1*std3[y]/gamma(e.D,e.dt), label=\"ensemble av. Davis-Harte\")\n",
      "plt.loglog(d.t,0.1*d.msdanalyt()/gamma(e.D,e.dt),color=\"k\")\n",
      "\n",
      "\n",
      "plt.xlim((0,200000))\n",
      "\n",
      "#X=main.plot_ensemble_mean_of_time_msd()\n",
      "plt.xlabel('$t/ \\Delta t$', fontsize=14)\n",
      "plt.ylabel('$\\delta r^{2}(t)/ \\Gamma^2$', fontsize=14)\n",
      "lgd=plt.legend(  ncol=1,fontsize='small')\n",
      "\n",
      "plt.savefig('Abschlussarbeit/data/timevsensambenew.png',bbox_extra_artists=(lgd,), bbox_inches='tight',dpi=300)   # save the figure to file \n",
      "\n",
      "plt.show()"
     ],
     "language": "python",
     "metadata": {},
     "outputs": [
      {
       "output_type": "stream",
       "stream": "stdout",
       "text": [
        "2000\n",
        "2000\n"
       ]
      },
      {
       "metadata": {},
       "output_type": "display_data",
       "png": "[encoded data removed]",
       "text": [
        "<matplotlib.figure.Figure at 0x7f1ff6471d10>"
       ]
      }
     ],
     "prompt_number": 79
    },
    {
     "cell_type": "heading",
     "level": 1,
     "metadata": {
      "collapsed": true
     },
     "source": [
      "Smoluchwoski and erban chapmann disribution functions:"
     ]
    },
    {
     "cell_type": "code",
     "collapsed": false,
     "input": [
      "def radial_erban(Diffusion,bincenters,micro_reactionrate_forward,reactiondistance):\n",
      "    c_inf=1.0\n",
      "    a_2=c_inf*(np.sqrt(Diffusion/micro_reactionrate_forward)*np.tanh(reactiondistance*np.sqrt(micro_reactionrate_forward/Diffusion))-reactiondistance)\n",
      "    return c_inf+a_2/bincenters\n",
      "def index_cut(bincenters):\n",
      "    for i in range(len(bincenters)):\n",
      "        if bincenters[i] >= 1.:\n",
      "            return i\n",
      "def radial_erban_inside(bincenters,Diffusion,micro_reactionrate_forward,reactiondistance):\n",
      "    c_inf=1.0\n",
      "    a_3=c_inf*np.sqrt(Diffusion/micro_reactionrate_forward)*(2*np.cosh(reactiondistance*np.sqrt(micro_reactionrate_forward/Diffusion)))**(-1)\n",
      "    return ((2*a_3)/bincenters)*np.sinh(bincenters*np.sqrt(micro_reactionrate_forward/Diffusion))           "
     ],
     "language": "python",
     "metadata": {},
     "outputs": [],
     "prompt_number": 11
    },
    {
     "cell_type": "code",
     "collapsed": false,
     "input": [
      "Diffusion=1.0\n",
      "bincenters=np.linspace(0,10,1001)\n",
      "reactiondistance=1.0\n",
      "\n",
      "plt.figure(figsize=(6.5,4))\n",
      "plt.plot([1.0, 1.0], [-0.1,1.1], 'k--', lw=2)\n",
      "plt.ylim([-0.01,1.01])\n",
      "\n",
      "\n",
      "\n",
      "\n",
      "plt.text(0.9, 0.1, '$\\\\sigma$',\n",
      "        verticalalignment='bottom', horizontalalignment='right', fontsize=15)\n",
      "\n",
      "\n",
      "micro_reactionrate_forward=0.0001\n",
      "\n",
      "plt.plot(bincenters[index_cut(bincenters):],radial_erban(Diffusion,bincenters,micro_reactionrate_forward,reactiondistance)[index_cut(bincenters):],c=\"g\", label=\"micro. reaction limit $\\\\lambda_{+} = 0$\")\n",
      "plt.plot(bincenters[:index_cut(bincenters)+1],radial_erban_inside(bincenters,Diffusion,micro_reactionrate_forward,reactiondistance)[:index_cut(bincenters)+1],c=\"g\")\n",
      "\n",
      "\n",
      "\n",
      "\n",
      "\n",
      "micro_reactionrate_forward=1./3.\n",
      "\n",
      "\n",
      "plt.plot(bincenters[index_cut(bincenters):],radial_erban(Diffusion,bincenters,micro_reactionrate_forward,reactiondistance)[index_cut(bincenters):],c=\"r\", label=\"Erban-Chapman $\\\\lambda_{+}=\\\\frac{2D}{\\\\sigma^2}$\")\n",
      "plt.plot(bincenters[:index_cut(bincenters)+1],radial_erban_inside(bincenters,Diffusion,micro_reactionrate_forward,reactiondistance)[:index_cut(bincenters)+1],c=\"r\")\n",
      "plt.xlabel('$r / \\\\sigma$ ', fontsize=12)\n",
      "plt.ylabel('$\\\\rho(r)/c_A$', fontsize=12)\n",
      "\n",
      "\n",
      "\n",
      "\n",
      "\n",
      "micro_reactionrate_forward=100000\n",
      "\n",
      "plt.plot(bincenters[index_cut(bincenters):],radial_erban(Diffusion,bincenters,micro_reactionrate_forward,reactiondistance)[index_cut(bincenters):],c=\"b\", label=\"diffusion limited $\\\\lambda_{+}= \\\\infty$\")\n",
      "plt.plot(bincenters[:index_cut(bincenters)+1],radial_erban_inside(bincenters,Diffusion,micro_reactionrate_forward,reactiondistance)[:index_cut(bincenters)+1],c=\"b\")\n",
      "\n",
      "\n",
      "\n",
      "\n",
      "\n",
      "\n",
      "plt.legend(loc=4,fontsize=\"small\")\n",
      "plt.savefig('Abschlussarbeit/data/smoluchowskierban.png',dpi=300)  \n",
      "#else:\n",
      "#    plt.plot(bincenters[index_cut():],radial_erban(bincenters,radial_s.mean(axis=0)*self.boxsize**3/len(self.radial_time_range))[index_cut():],linestyle=\"--\")\n",
      "#    plt.plot(bincenters[:index_cut()+1],radial_erban_inside(bincenters,radial_s.mean(axis=0)*self.boxsize**3/len(self.radial_time_range))[:index_cut()+1],linestyle=\"--\")\n",
      "plt.show()"
     ],
     "language": "python",
     "metadata": {},
     "outputs": [
      {
       "output_type": "stream",
       "stream": "stderr",
       "text": [
        "/home/mi/janekg89/miniconda2/lib/python2.7/site-packages/ipykernel/__main__.py:4: RuntimeWarning: divide by zero encountered in divide\n",
        "/home/mi/janekg89/miniconda2/lib/python2.7/site-packages/ipykernel/__main__.py:12: RuntimeWarning: divide by zero encountered in divide\n",
        "/home/mi/janekg89/miniconda2/lib/python2.7/site-packages/ipykernel/__main__.py:12: RuntimeWarning: invalid value encountered in multiply\n",
        "/home/mi/janekg89/miniconda2/lib/python2.7/site-packages/ipykernel/__main__.py:12: RuntimeWarning: overflow encountered in sinh\n"
       ]
      },
      {
       "metadata": {},
       "output_type": "display_data",
       "png": "[encoded data removed]",
       "text": [
        "<matplotlib.figure.Figure at 0x7f1fff690250>"
       ]
      }
     ],
     "prompt_number": 16
    },
    {
     "cell_type": "code",
     "collapsed": false,
     "input": [],
     "language": "python",
     "metadata": {},
     "outputs": [
      {
       "metadata": {},
       "output_type": "pyout",
       "prompt_number": 11,
       "text": [
        "[]"
       ]
      }
     ],
     "prompt_number": 11
    },
    {
     "cell_type": "code",
     "collapsed": true,
     "input": [],
     "language": "python",
     "metadata": {},
     "outputs": [],
     "prompt_number": null
    }
   ],
   "metadata": {}
  }
 ]
}