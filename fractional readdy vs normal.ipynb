{
 "cells": [
  {
   "cell_type": "code",
   "execution_count": 11,
   "metadata": {
    "collapsed": false
   },
   "outputs": [],
   "source": [
    "import numpy as np\n",
    "import revreaddy as rdy\n",
    "import logging\n",
    "import datetime\n",
    "import h5py as h5\n",
    "import matplotlib.cm as cm\n",
    "import time\n",
    "import random\n",
    "import string\n",
    "\n",
    "import matplotlib.pyplot as plt\n",
    "reload(logging)\n",
    "logging.basicConfig(\n",
    "     format='%(asctime)s %(levelname)s: %(message)s',\n",
    "     datefmt='%Y/%m/%d %I:%M:%S',\n",
    "     level=logging.DEBUG\n",
    "    )"
   ]
  },
  {
   "cell_type": "code",
   "execution_count": 12,
   "metadata": {
    "collapsed": true
   },
   "outputs": [],
   "source": [
    "def stamp():\n",
    "    \n",
    "    \n",
    "    timestamp = time.strftime(\"%Y_%m_%d-%H_%M_%S\")\n",
    "    randomstamp = ''.join(random.choice(string.ascii_uppercase + string.digits) for _ in range(6))\n",
    "    stamp = timestamp + \"_\" + randomstamp\n",
    "    return stamp\n"
   ]
  },
  {
   "cell_type": "code",
   "execution_count": 13,
   "metadata": {
    "collapsed": true
   },
   "outputs": [],
   "source": [
    "def simulation(boxsize,Diffusion_E,Diffusion_S,Diffusion_P,reactiondistance,intrinsikreaction):\n",
    "    sim = rdy.Sim()\n",
    "    sim.kt = 2.437 # kJ/mol -> ~300 K\n",
    "    sim.timestep = 0.01 # ns\n",
    "    sim.boxsize = boxsize# nm\n",
    "    sim.delete_all_particle_types() # also deletes all interactions etc.\n",
    "    sim.new_type(\"S\", 0.01, Diffusion_S)\n",
    "    sim.new_type(\"P\", 0.01, Diffusion_P)\n",
    "    sim.new_type(\"E\", 0.01, Diffusion_E)\n",
    "    sim.delete_all_reactions()\n",
    "    sim.new_enzymatic(\"E+S<->E+S\", 0, 1, 2, intrinsikreaction, 0., reactiondistance)\n",
    "    sim.delete_all_particles()\n",
    "    np.random.seed()\n",
    "\n",
    "    for _ in range(200):\n",
    "         pos = np.random.random(3) * 9.999 - 4.999\n",
    "         sim.add_particle(pos, 0)\n",
    "         #pos = np.random.random(3) * 9.9 - 4.95\n",
    "         #sim.add_particle(pos, 1)\n",
    "         #pos = np.random.random(3) * 9.9 - 4.95\n",
    "         #sim.add_particle(pos, 2)\n",
    "    for _ in range(1):   \n",
    "        pos = np.random.random(3) * 9.9 - 4.95\n",
    "        sim.add_particle(pos, 2)\n",
    "    sim.show_world()\n",
    "    sim.delete_all_observables()\n",
    "    d = datetime.datetime.now()\n",
    "    time=str(getattr(d, 'year','month'))+str(getattr(d,'month'))+str(getattr(d,'day'))+str(getattr(d,'hour'))+str(getattr(d,'minute'))+str(getattr(d,'second'))\n",
    "    numbers_a_name = time+\"numbers_a_test1.h5\"\n",
    "    sim.new_particle_numbers(1, numbers_a_name, 0)\n",
    "    numbers_b_name = time+\"numbers_b_test1.h5\"\n",
    "    mean_e_name = time+\"mean_e_test1.h5\"\n",
    "    sim.new_particle_numbers(1, numbers_b_name, 1)\n",
    "    sim.new_mean_squared_displacement(1,mean_e_name, 2)\n",
    "    sim.run(1000)\n",
    "    sim.write_observables_to_file()\n",
    "    sim.delete_all_observables()\n",
    "    fa = h5.File(numbers_a_name, 'r')\n",
    "    fb = h5.File(numbers_b_name, 'r')\n",
    "    fc = h5.File(mean_e_name, 'r')\n",
    "    return fa , fb ,fc"
   ]
  },
  {
   "cell_type": "code",
   "execution_count": 14,
   "metadata": {
    "collapsed": true
   },
   "outputs": [],
   "source": [
    "def simulationfrac(boxsize,Diffusion_E,Diffusion_S,Diffusion_P,reactiondistance,intrinsikreaction):\n",
    "    sim = rdy.Sim(\"FractionalDiffusion\")\n",
    "    sim.kt = 2.437 # kJ/mol -> ~300 K\n",
    "    sim.timestep = 0.01 # ns\n",
    "    sim.alpha = 0.5\n",
    "    sim.boxsize = boxsize# nm\n",
    "    sim.delete_all_particle_types() # also deletes all interactions etc.\n",
    "    sim.new_type(\"S\", 0.01, Diffusion_S)\n",
    "    sim.new_type(\"P\", 0.01, Diffusion_P)\n",
    "    sim.new_type(\"E\", 0.01, Diffusion_E)\n",
    "    sim.delete_all_reactions()\n",
    "    sim.new_enzymatic(\"E+S<->E+S\", 0, 1, 2, intrinsikreaction, 0., reactiondistance)\n",
    "    sim.delete_all_particles()\n",
    "    np.random.seed()\n",
    "\n",
    "    for _ in range(200):\n",
    "         pos = np.random.random(3) * 9.999 - 4.999\n",
    "         sim.add_particle(pos, 0)\n",
    "         #pos = np.random.random(3) * 9.9 - 4.95\n",
    "         #sim.add_particle(pos, 1)\n",
    "         #pos = np.random.random(3) * 9.9 - 4.95\n",
    "         #sim.add_particle(pos, 2)\n",
    "    for _ in range(1):   \n",
    "        pos = np.random.random(3) * 9.9 - 4.95\n",
    "        sim.add_particle(pos, 2)\n",
    "    sim.show_world()\n",
    "    sim.delete_all_observables()\n",
    "   \n",
    "    numbers_a_name = stamp()+\"numbers_a_test1.h5\"\n",
    "    sim.new_particle_numbers(1, numbers_a_name, 0)\n",
    "    sim.\n",
    "    numbers_b_name = stamp()+\"numbers_b_test1.h5\"\n",
    "    mean_e_name = stamp()+\"mean_e_test1.h5\"\n",
    "    sim.new_particle_numbers(1, numbers_b_name, 1)\n",
    "    sim.new_mean_squared_displacement(1,mean_e_name, 2)\n",
    "    sim.run(1000)\n",
    "    sim.write_observables_to_file()\n",
    "    sim.delete_all_observables()\n",
    "    fa = h5.File(numbers_a_name, 'r')\n",
    "    fb = h5.File(numbers_b_name, 'r')\n",
    "    fc = h5.File(mean_e_name, 'r')\n",
    "    return fa , fb ,fc"
   ]
  },
  {
   "cell_type": "code",
   "execution_count": 15,
   "metadata": {
    "collapsed": true
   },
   "outputs": [],
   "source": [
    "#hier kommt die berechnung des verhältnisses der reactionskoeffizienten und der Concentration vom enzym\n",
    "def analyt(t,boxsize,Diffusion_E,Diffusion_S,reactiondistance,intrinsikreaction):\n",
    "    #a=((4*np.pi*reactiondistance**3)*(Diffusion_E+Diffusion_S))/((3*boxsize**3)*(Diffusion_E+Diffusion_P))\n",
    "    k1=4*np.pi*2*(Diffusion_E+Diffusion_S)*(reactiondistance-np.sqrt((Diffusion_E+Diffusion_S)/intrinsikreaction)+np.tanh(reactiondistance*np.sqrt(intrinsikreaction/(Diffusion_E+Diffusion_S))))\n",
    "    #t=np.linspace(1,40)\n",
    "    #vor und rück reaction möglich                                        \n",
    "    #c=np.exp(-t*a)*fa['particleNumbers'][0]\n",
    "    #nur vor reaction\n",
    "    k11=intrinsikreaction*4*np.pi*reactiondistance**3/3\n",
    "    c=fa['particleNumbers'][2]*(np.exp((-t*k1*1)/(boxsize**3)))\n",
    "    c11=fa['particleNumbers'][0]*np.exp((-t*k11*1)/(boxsize**3))\n",
    "\n",
    "    return t, c,c11"
   ]
  },
  {
   "cell_type": "code",
   "execution_count": 16,
   "metadata": {
    "collapsed": true
   },
   "outputs": [],
   "source": [
    "def msd_analyt(alpha,dt,t,diffconst):\n",
    "    t=np.linspace(0,t,t)\n",
    "    return 2*3*((t*dt)**alpha)*diffconst"
   ]
  },
  {
   "cell_type": "code",
   "execution_count": 21,
   "metadata": {
    "collapsed": false
   },
   "outputs": [
    {
     "name": "stderr",
     "output_type": "stream",
     "text": [
      "2016/07/14 05:00:35 INFO: There are either no particles or too much (>200) to list them here.\n",
      "2016/07/14 05:00:35 INFO: Run with timestep 0.01 and 1000 timesteps\n",
      "2016/07/14 05:00:41 INFO: Finished after 5.724001 seconds.\n"
     ]
    },
    {
     "name": "stdout",
     "output_type": "stream",
     "text": [
      "Number of particles:  201\n",
      "TypeId | Number of particles\n",
      "====== | ===================\n",
      "0      | 200                \n",
      "1      | 0                  \n",
      "2      | 1                  \n",
      " \n",
      "Number of particles: "
     ]
    },
    {
     "name": "stderr",
     "output_type": "stream",
     "text": [
      "2016/07/14 05:00:41 INFO: There are either no particles or too much (>200) to list them here.\n",
      "2016/07/14 05:00:41 INFO: Run with timestep 0.01 and 1000 timesteps\n",
      "2016/07/14 05:00:47 INFO: Finished after 6.6641 seconds.\n"
     ]
    },
    {
     "name": "stdout",
     "output_type": "stream",
     "text": [
      " 201\n",
      "TypeId | Number of particles\n",
      "====== | ===================\n",
      "0      | 200                \n",
      "1      | 0                  \n",
      "2      | 1                  \n",
      " \n",
      "Number of particles: "
     ]
    },
    {
     "name": "stderr",
     "output_type": "stream",
     "text": [
      "2016/07/14 05:00:47 INFO: There are either no particles or too much (>200) to list them here.\n",
      "2016/07/14 05:00:47 INFO: Run with timestep 0.01 and 1000 timesteps\n",
      "2016/07/14 05:00:53 INFO: Finished after 5.749222 seconds.\n"
     ]
    },
    {
     "name": "stdout",
     "output_type": "stream",
     "text": [
      " 201\n",
      "TypeId | Number of particles\n",
      "====== | ===================\n",
      "0      | 200                \n",
      "1      | 0                  \n",
      "2      | 1                  \n",
      " \n",
      "Number of particles: "
     ]
    },
    {
     "name": "stderr",
     "output_type": "stream",
     "text": [
      "2016/07/14 05:00:53 INFO: There are either no particles or too much (>200) to list them here.\n",
      "2016/07/14 05:00:53 INFO: Run with timestep 0.01 and 1000 timesteps\n",
      "2016/07/14 05:01:00 INFO: Finished after 6.648509 seconds.\n"
     ]
    },
    {
     "name": "stdout",
     "output_type": "stream",
     "text": [
      " 201\n",
      "TypeId | Number of particles\n",
      "====== | ===================\n",
      "0      | 200                \n",
      "1      | 0                  \n",
      "2      | 1                  \n",
      " \n",
      "Number of particles: "
     ]
    },
    {
     "name": "stderr",
     "output_type": "stream",
     "text": [
      "2016/07/14 05:01:00 INFO: There are either no particles or too much (>200) to list them here.\n",
      "2016/07/14 05:01:00 INFO: Run with timestep 0.01 and 1000 timesteps\n",
      "2016/07/14 05:01:05 INFO: Finished after 5.765319 seconds.\n"
     ]
    },
    {
     "name": "stdout",
     "output_type": "stream",
     "text": [
      " 201\n",
      "TypeId | Number of particles\n",
      "====== | ===================\n",
      "0      | 200                \n",
      "1      | 0                  \n",
      "2      | 1                  \n",
      " \n",
      "Number of particles: "
     ]
    },
    {
     "name": "stderr",
     "output_type": "stream",
     "text": [
      "2016/07/14 05:01:05 INFO: There are either no particles or too much (>200) to list them here.\n",
      "2016/07/14 05:01:05 INFO: Run with timestep 0.01 and 1000 timesteps\n",
      "2016/07/14 05:01:12 INFO: Finished after 6.640567 seconds.\n"
     ]
    },
    {
     "name": "stdout",
     "output_type": "stream",
     "text": [
      " 201\n",
      "TypeId | Number of particles\n",
      "====== | ===================\n",
      "0      | 200                \n",
      "1      | 0                  \n",
      "2      | 1                  \n",
      " \n",
      "Number of particles: "
     ]
    },
    {
     "name": "stderr",
     "output_type": "stream",
     "text": [
      "2016/07/14 05:01:13 INFO: There are either no particles or too much (>200) to list them here.\n",
      "2016/07/14 05:01:13 INFO: Run with timestep 0.01 and 1000 timesteps\n",
      "2016/07/14 05:01:18 INFO: Finished after 5.748046 seconds.\n"
     ]
    },
    {
     "name": "stdout",
     "output_type": "stream",
     "text": [
      " 201\n",
      "TypeId | Number of particles\n",
      "====== | ===================\n",
      "0      | 200                \n",
      "1      | 0                  \n",
      "2      | 1                  \n",
      " \n",
      "Number of particles: "
     ]
    },
    {
     "name": "stderr",
     "output_type": "stream",
     "text": [
      "2016/07/14 05:01:18 INFO: There are either no particles or too much (>200) to list them here.\n",
      "2016/07/14 05:01:18 INFO: Run with timestep 0.01 and 1000 timesteps\n",
      "2016/07/14 05:01:25 INFO: Finished after 6.693198 seconds.\n"
     ]
    },
    {
     "name": "stdout",
     "output_type": "stream",
     "text": [
      " 201\n",
      "TypeId | Number of particles\n",
      "====== | ===================\n",
      "0      | 200                \n",
      "1      | 0                  \n",
      "2      | 1                  \n",
      " \n",
      "Number of particles: "
     ]
    },
    {
     "name": "stderr",
     "output_type": "stream",
     "text": [
      "2016/07/14 05:01:25 INFO: There are either no particles or too much (>200) to list them here.\n",
      "2016/07/14 05:01:25 INFO: Run with timestep 0.01 and 1000 timesteps\n",
      "2016/07/14 05:01:31 INFO: Finished after 5.74131 seconds.\n"
     ]
    },
    {
     "name": "stdout",
     "output_type": "stream",
     "text": [
      " 201\n",
      "TypeId | Number of particles\n",
      "====== | ===================\n",
      "0      | 200                \n",
      "1      | 0                  \n",
      "2      | 1                  \n",
      " \n",
      "Number of particles: "
     ]
    },
    {
     "name": "stderr",
     "output_type": "stream",
     "text": [
      "2016/07/14 05:01:31 INFO: There are either no particles or too much (>200) to list them here.\n",
      "2016/07/14 05:01:31 INFO: Run with timestep 0.01 and 1000 timesteps\n",
      "2016/07/14 05:01:38 INFO: Finished after 6.690752 seconds.\n"
     ]
    },
    {
     "name": "stdout",
     "output_type": "stream",
     "text": [
      " 201\n",
      "TypeId | Number of particles\n",
      "====== | ===================\n",
      "0      | 200                \n",
      "1      | 0                  \n",
      "2      | 1                  \n",
      " \n",
      "Number of particles: "
     ]
    },
    {
     "name": "stderr",
     "output_type": "stream",
     "text": [
      "2016/07/14 05:01:38 INFO: There are either no particles or too much (>200) to list them here.\n",
      "2016/07/14 05:01:38 INFO: Run with timestep 0.01 and 1000 timesteps\n",
      "2016/07/14 05:01:43 INFO: Finished after 5.753702 seconds.\n"
     ]
    },
    {
     "name": "stdout",
     "output_type": "stream",
     "text": [
      " 201\n",
      "TypeId | Number of particles\n",
      "====== | ===================\n",
      "0      | 200                \n",
      "1      | 0                  \n",
      "2      | 1                  \n",
      " \n",
      "Number of particles: "
     ]
    },
    {
     "name": "stderr",
     "output_type": "stream",
     "text": [
      "2016/07/14 05:01:43 INFO: There are either no particles or too much (>200) to list them here.\n",
      "2016/07/14 05:01:43 INFO: Run with timestep 0.01 and 1000 timesteps\n",
      "2016/07/14 05:01:50 INFO: Finished after 6.68161 seconds.\n"
     ]
    },
    {
     "name": "stdout",
     "output_type": "stream",
     "text": [
      " 201\n",
      "TypeId | Number of particles\n",
      "====== | ===================\n",
      "0      | 200                \n",
      "1      | 0                  \n",
      "2      | 1                  \n",
      " \n",
      "Number of particles: "
     ]
    },
    {
     "name": "stderr",
     "output_type": "stream",
     "text": [
      "2016/07/14 05:01:50 INFO: There are either no particles or too much (>200) to list them here.\n",
      "2016/07/14 05:01:50 INFO: Run with timestep 0.01 and 1000 timesteps\n",
      "2016/07/14 05:01:56 INFO: Finished after 5.716434 seconds.\n"
     ]
    },
    {
     "name": "stdout",
     "output_type": "stream",
     "text": [
      " 201\n",
      "TypeId | Number of particles\n",
      "====== | ===================\n",
      "0      | 200                \n",
      "1      | 0                  \n",
      "2      | 1                  \n",
      " \n",
      "Number of particles: "
     ]
    },
    {
     "name": "stderr",
     "output_type": "stream",
     "text": [
      "2016/07/14 05:01:56 INFO: There are either no particles or too much (>200) to list them here.\n",
      "2016/07/14 05:01:56 INFO: Run with timestep 0.01 and 1000 timesteps\n",
      "2016/07/14 05:02:03 INFO: Finished after 6.616984 seconds.\n"
     ]
    },
    {
     "name": "stdout",
     "output_type": "stream",
     "text": [
      " 201\n",
      "TypeId | Number of particles\n",
      "====== | ===================\n",
      "0      | 200                \n",
      "1      | 0                  \n",
      "2      | 1                  \n",
      " \n",
      "Number of particles: "
     ]
    },
    {
     "name": "stderr",
     "output_type": "stream",
     "text": [
      "2016/07/14 05:02:03 INFO: There are either no particles or too much (>200) to list them here.\n",
      "2016/07/14 05:02:03 INFO: Run with timestep 0.01 and 1000 timesteps\n",
      "2016/07/14 05:02:09 INFO: Finished after 5.707326 seconds.\n"
     ]
    },
    {
     "name": "stdout",
     "output_type": "stream",
     "text": [
      " 201\n",
      "TypeId | Number of particles\n",
      "====== | ===================\n",
      "0      | 200                \n",
      "1      | 0                  \n",
      "2      | 1                  \n",
      " \n",
      "Number of particles: "
     ]
    },
    {
     "name": "stderr",
     "output_type": "stream",
     "text": [
      "2016/07/14 05:02:09 INFO: There are either no particles or too much (>200) to list them here.\n",
      "2016/07/14 05:02:09 INFO: Run with timestep 0.01 and 1000 timesteps\n",
      "2016/07/14 05:02:16 INFO: Finished after 6.722251 seconds.\n"
     ]
    },
    {
     "name": "stdout",
     "output_type": "stream",
     "text": [
      " 201\n",
      "TypeId | Number of particles\n",
      "====== | ===================\n",
      "0      | 200                \n",
      "1      | 0                  \n",
      "2      | 1                  \n",
      " \n",
      "Number of particles: "
     ]
    },
    {
     "name": "stderr",
     "output_type": "stream",
     "text": [
      "2016/07/14 05:02:16 INFO: There are either no particles or too much (>200) to list them here.\n",
      "2016/07/14 05:02:16 INFO: Run with timestep 0.01 and 1000 timesteps\n",
      "2016/07/14 05:02:21 INFO: Finished after 5.736668 seconds.\n"
     ]
    },
    {
     "name": "stdout",
     "output_type": "stream",
     "text": [
      " 201\n",
      "TypeId | Number of particles\n",
      "====== | ===================\n",
      "0      | 200                \n",
      "1      | 0                  \n",
      "2      | 1                  \n",
      " \n",
      "Number of particles: "
     ]
    },
    {
     "name": "stderr",
     "output_type": "stream",
     "text": [
      "2016/07/14 05:02:21 INFO: There are either no particles or too much (>200) to list them here.\n",
      "2016/07/14 05:02:21 INFO: Run with timestep 0.01 and 1000 timesteps\n",
      "2016/07/14 05:02:28 INFO: Finished after 6.688099 seconds.\n"
     ]
    },
    {
     "name": "stdout",
     "output_type": "stream",
     "text": [
      " 201\n",
      "TypeId | Number of particles\n",
      "====== | ===================\n",
      "0      | 200                \n",
      "1      | 0                  \n",
      "2      | 1                  \n",
      " \n",
      "Number of particles: "
     ]
    },
    {
     "name": "stderr",
     "output_type": "stream",
     "text": [
      "2016/07/14 05:02:28 INFO: There are either no particles or too much (>200) to list them here.\n",
      "2016/07/14 05:02:28 INFO: Run with timestep 0.01 and 1000 timesteps\n",
      "2016/07/14 05:02:34 INFO: Finished after 5.735657 seconds.\n"
     ]
    },
    {
     "name": "stdout",
     "output_type": "stream",
     "text": [
      " 201\n",
      "TypeId | Number of particles\n",
      "====== | ===================\n",
      "0      | 200                \n",
      "1      | 0                  \n",
      "2      | 1                  \n",
      " \n",
      "Number of particles: "
     ]
    },
    {
     "name": "stderr",
     "output_type": "stream",
     "text": [
      "2016/07/14 05:02:34 INFO: There are either no particles or too much (>200) to list them here.\n",
      "2016/07/14 05:02:34 INFO: Run with timestep 0.01 and 1000 timesteps\n",
      "2016/07/14 05:02:41 INFO: Finished after 6.64344 seconds.\n"
     ]
    },
    {
     "name": "stdout",
     "output_type": "stream",
     "text": [
      " 201\n",
      "TypeId | Number of particles\n",
      "====== | ===================\n",
      "0      | 200                \n",
      "1      | 0                  \n",
      "2      | 1                  \n",
      " \n",
      "Number of particles: "
     ]
    },
    {
     "name": "stderr",
     "output_type": "stream",
     "text": [
      "2016/07/14 05:02:41 INFO: There are either no particles or too much (>200) to list them here.\n",
      "2016/07/14 05:02:41 INFO: Run with timestep 0.01 and 1000 timesteps\n",
      "2016/07/14 05:02:46 INFO: Finished after 5.740889 seconds.\n"
     ]
    },
    {
     "name": "stdout",
     "output_type": "stream",
     "text": [
      " 201\n",
      "TypeId | Number of particles\n",
      "====== | ===================\n",
      "0      | 200                \n",
      "1      | 0                  \n",
      "2      | 1                  \n",
      " \n",
      "Number of particles: "
     ]
    },
    {
     "name": "stderr",
     "output_type": "stream",
     "text": [
      "2016/07/14 05:02:46 INFO: There are either no particles or too much (>200) to list them here.\n",
      "2016/07/14 05:02:46 INFO: Run with timestep 0.01 and 1000 timesteps\n",
      "2016/07/14 05:02:53 INFO: Finished after 6.659214 seconds.\n"
     ]
    },
    {
     "name": "stdout",
     "output_type": "stream",
     "text": [
      " 201\n",
      "TypeId | Number of particles\n",
      "====== | ===================\n",
      "0      | 200                \n",
      "1      | 0                  \n",
      "2      | 1                  \n",
      " \n",
      "Number of particles: "
     ]
    },
    {
     "name": "stderr",
     "output_type": "stream",
     "text": [
      "2016/07/14 05:02:53 INFO: There are either no particles or too much (>200) to list them here.\n",
      "2016/07/14 05:02:53 INFO: Run with timestep 0.01 and 1000 timesteps\n",
      "2016/07/14 05:02:59 INFO: Finished after 5.747818 seconds.\n"
     ]
    },
    {
     "name": "stdout",
     "output_type": "stream",
     "text": [
      " 201\n",
      "TypeId | Number of particles\n",
      "====== | ===================\n",
      "0      | 200                \n",
      "1      | 0                  \n",
      "2      | 1                  \n",
      " \n",
      "Number of particles: "
     ]
    },
    {
     "name": "stderr",
     "output_type": "stream",
     "text": [
      "2016/07/14 05:02:59 INFO: There are either no particles or too much (>200) to list them here.\n",
      "2016/07/14 05:02:59 INFO: Run with timestep 0.01 and 1000 timesteps\n",
      "2016/07/14 05:03:06 INFO: Finished after 6.720385 seconds.\n"
     ]
    },
    {
     "name": "stdout",
     "output_type": "stream",
     "text": [
      " 201\n",
      "TypeId | Number of particles\n",
      "====== | ===================\n",
      "0      | 200                \n",
      "1      | 0                  \n",
      "2      | 1                  \n",
      " \n",
      "Number of particles: "
     ]
    },
    {
     "name": "stderr",
     "output_type": "stream",
     "text": [
      "2016/07/14 05:03:06 INFO: There are either no particles or too much (>200) to list them here.\n",
      "2016/07/14 05:03:06 INFO: Run with timestep 0.01 and 1000 timesteps\n",
      "2016/07/14 05:03:11 INFO: Finished after 5.748255 seconds.\n"
     ]
    },
    {
     "name": "stdout",
     "output_type": "stream",
     "text": [
      " 201\n",
      "TypeId | Number of particles\n",
      "====== | ===================\n",
      "0      | 200                \n",
      "1      | 0                  \n",
      "2      | 1                  \n",
      " \n",
      "Number of particles: "
     ]
    },
    {
     "name": "stderr",
     "output_type": "stream",
     "text": [
      "2016/07/14 05:03:11 INFO: There are either no particles or too much (>200) to list them here.\n",
      "2016/07/14 05:03:11 INFO: Run with timestep 0.01 and 1000 timesteps\n",
      "2016/07/14 05:03:18 INFO: Finished after 6.644049 seconds.\n"
     ]
    },
    {
     "name": "stdout",
     "output_type": "stream",
     "text": [
      " 201\n",
      "TypeId | Number of particles\n",
      "====== | ===================\n",
      "0      | 200                \n",
      "1      | 0                  \n",
      "2      | 1                  \n",
      " \n",
      "Number of particles: "
     ]
    },
    {
     "name": "stderr",
     "output_type": "stream",
     "text": [
      "2016/07/14 05:03:18 INFO: There are either no particles or too much (>200) to list them here.\n",
      "2016/07/14 05:03:18 INFO: Run with timestep 0.01 and 1000 timesteps\n",
      "2016/07/14 05:03:24 INFO: Finished after 5.730076 seconds.\n"
     ]
    },
    {
     "name": "stdout",
     "output_type": "stream",
     "text": [
      " 201\n",
      "TypeId | Number of particles\n",
      "====== | ===================\n",
      "0      | 200                \n",
      "1      | 0                  \n",
      "2      | 1                  \n",
      " \n",
      "Number of particles: "
     ]
    },
    {
     "name": "stderr",
     "output_type": "stream",
     "text": [
      "2016/07/14 05:03:24 INFO: There are either no particles or too much (>200) to list them here.\n",
      "2016/07/14 05:03:24 INFO: Run with timestep 0.01 and 1000 timesteps\n",
      "2016/07/14 05:03:31 INFO: Finished after 6.707448 seconds.\n"
     ]
    },
    {
     "name": "stdout",
     "output_type": "stream",
     "text": [
      " 201\n",
      "TypeId | Number of particles\n",
      "====== | ===================\n",
      "0      | 200                \n",
      "1      | 0                  \n",
      "2      | 1                  \n",
      " \n",
      "Number of particles: "
     ]
    },
    {
     "name": "stderr",
     "output_type": "stream",
     "text": [
      "2016/07/14 05:03:31 INFO: There are either no particles or too much (>200) to list them here.\n",
      "2016/07/14 05:03:31 INFO: Run with timestep 0.01 and 1000 timesteps\n",
      "2016/07/14 05:03:36 INFO: Finished after 5.740866 seconds.\n"
     ]
    },
    {
     "name": "stdout",
     "output_type": "stream",
     "text": [
      " 201\n",
      "TypeId | Number of particles\n",
      "====== | ===================\n",
      "0      | 200                \n",
      "1      | 0                  \n",
      "2      | 1                  \n",
      " \n",
      "Number of particles: "
     ]
    },
    {
     "name": "stderr",
     "output_type": "stream",
     "text": [
      "2016/07/14 05:03:36 INFO: There are either no particles or too much (>200) to list them here.\n",
      "2016/07/14 05:03:36 INFO: Run with timestep 0.01 and 1000 timesteps\n",
      "2016/07/14 05:03:43 INFO: Finished after 6.628578 seconds.\n"
     ]
    },
    {
     "name": "stdout",
     "output_type": "stream",
     "text": [
      " 201\n",
      "TypeId | Number of particles\n",
      "====== | ===================\n",
      "0      | 200                \n",
      "1      | 0                  \n",
      "2      | 1                  \n",
      " \n",
      "Number of particles: "
     ]
    },
    {
     "name": "stderr",
     "output_type": "stream",
     "text": [
      "2016/07/14 05:03:43 INFO: There are either no particles or too much (>200) to list them here.\n",
      "2016/07/14 05:03:43 INFO: Run with timestep 0.01 and 1000 timesteps\n",
      "2016/07/14 05:03:49 INFO: Finished after 5.729039 seconds.\n"
     ]
    },
    {
     "name": "stdout",
     "output_type": "stream",
     "text": [
      " 201\n",
      "TypeId | Number of particles\n",
      "====== | ===================\n",
      "0      | 200                \n",
      "1      | 0                  \n",
      "2      | 1                  \n",
      " \n",
      "Number of particles: "
     ]
    },
    {
     "name": "stderr",
     "output_type": "stream",
     "text": [
      "2016/07/14 05:03:49 INFO: There are either no particles or too much (>200) to list them here.\n",
      "2016/07/14 05:03:49 INFO: Run with timestep 0.01 and 1000 timesteps\n",
      "2016/07/14 05:03:55 INFO: Finished after 6.662987 seconds.\n"
     ]
    },
    {
     "name": "stdout",
     "output_type": "stream",
     "text": [
      " 201\n",
      "TypeId | Number of particles\n",
      "====== | ===================\n",
      "0      | 200                \n",
      "1      | 0                  \n",
      "2      | 1                  \n",
      " \n",
      "Number of particles: "
     ]
    },
    {
     "name": "stderr",
     "output_type": "stream",
     "text": [
      "2016/07/14 05:03:55 INFO: There are either no particles or too much (>200) to list them here.\n",
      "2016/07/14 05:03:55 INFO: Run with timestep 0.01 and 1000 timesteps\n",
      "2016/07/14 05:04:01 INFO: Finished after 5.732882 seconds.\n"
     ]
    },
    {
     "name": "stdout",
     "output_type": "stream",
     "text": [
      " 201\n",
      "TypeId | Number of particles\n",
      "====== | ===================\n",
      "0      | 200                \n",
      "1      | 0                  \n",
      "2      | 1                  \n",
      " \n",
      "Number of particles: "
     ]
    },
    {
     "name": "stderr",
     "output_type": "stream",
     "text": [
      "2016/07/14 05:04:01 INFO: There are either no particles or too much (>200) to list them here.\n",
      "2016/07/14 05:04:01 INFO: Run with timestep 0.01 and 1000 timesteps\n",
      "2016/07/14 05:04:08 INFO: Finished after 6.687123 seconds.\n"
     ]
    },
    {
     "name": "stdout",
     "output_type": "stream",
     "text": [
      " 201\n",
      "TypeId | Number of particles\n",
      "====== | ===================\n",
      "0      | 200                \n",
      "1      | 0                  \n",
      "2      | 1                  \n",
      " \n",
      "Number of particles: "
     ]
    },
    {
     "name": "stderr",
     "output_type": "stream",
     "text": [
      "2016/07/14 05:04:08 INFO: There are either no particles or too much (>200) to list them here.\n",
      "2016/07/14 05:04:08 INFO: Run with timestep 0.01 and 1000 timesteps\n",
      "2016/07/14 05:04:14 INFO: Finished after 5.754086 seconds.\n"
     ]
    },
    {
     "name": "stdout",
     "output_type": "stream",
     "text": [
      " 201\n",
      "TypeId | Number of particles\n",
      "====== | ===================\n",
      "0      | 200                \n",
      "1      | 0                  \n",
      "2      | 1                  \n",
      " \n",
      "Number of particles: "
     ]
    },
    {
     "name": "stderr",
     "output_type": "stream",
     "text": [
      "2016/07/14 05:04:14 INFO: There are either no particles or too much (>200) to list them here.\n",
      "2016/07/14 05:04:14 INFO: Run with timestep 0.01 and 1000 timesteps\n",
      "2016/07/14 05:04:20 INFO: Finished after 6.667084 seconds.\n"
     ]
    },
    {
     "name": "stdout",
     "output_type": "stream",
     "text": [
      " 201\n",
      "TypeId | Number of particles\n",
      "====== | ===================\n",
      "0      | 200                \n",
      "1      | 0                  \n",
      "2      | 1                  \n",
      " \n",
      "Number of particles: "
     ]
    },
    {
     "name": "stderr",
     "output_type": "stream",
     "text": [
      "2016/07/14 05:04:20 INFO: There are either no particles or too much (>200) to list them here.\n",
      "2016/07/14 05:04:20 INFO: Run with timestep 0.01 and 1000 timesteps\n",
      "2016/07/14 05:04:26 INFO: Finished after 5.75368 seconds.\n"
     ]
    },
    {
     "name": "stdout",
     "output_type": "stream",
     "text": [
      " 201\n",
      "TypeId | Number of particles\n",
      "====== | ===================\n",
      "0      | 200                \n",
      "1      | 0                  \n",
      "2      | 1                  \n",
      " \n",
      "Number of particles: "
     ]
    },
    {
     "name": "stderr",
     "output_type": "stream",
     "text": [
      "2016/07/14 05:04:26 INFO: There are either no particles or too much (>200) to list them here.\n",
      "2016/07/14 05:04:26 INFO: Run with timestep 0.01 and 1000 timesteps\n",
      "2016/07/14 05:04:33 INFO: Finished after 6.75603 seconds.\n"
     ]
    },
    {
     "name": "stdout",
     "output_type": "stream",
     "text": [
      " 201\n",
      "TypeId | Number of particles\n",
      "====== | ===================\n",
      "0      | 200                \n",
      "1      | 0                  \n",
      "2      | 1                  \n",
      " \n",
      "Number of particles: "
     ]
    },
    {
     "name": "stderr",
     "output_type": "stream",
     "text": [
      "2016/07/14 05:04:33 INFO: There are either no particles or too much (>200) to list them here.\n",
      "2016/07/14 05:04:33 INFO: Run with timestep 0.01 and 1000 timesteps\n",
      "2016/07/14 05:04:39 INFO: Finished after 5.798594 seconds.\n"
     ]
    },
    {
     "name": "stdout",
     "output_type": "stream",
     "text": [
      " 201\n",
      "TypeId | Number of particles\n",
      "====== | ===================\n",
      "0      | 200                \n",
      "1      | 0                  \n",
      "2      | 1                  \n",
      " \n",
      "Number of particles: "
     ]
    },
    {
     "name": "stderr",
     "output_type": "stream",
     "text": [
      "2016/07/14 05:04:39 INFO: There are either no particles or too much (>200) to list them here.\n",
      "2016/07/14 05:04:39 INFO: Run with timestep 0.01 and 1000 timesteps\n",
      "2016/07/14 05:04:45 INFO: Finished after 6.545922 seconds.\n"
     ]
    },
    {
     "name": "stdout",
     "output_type": "stream",
     "text": [
      " 201\n",
      "TypeId | Number of particles\n",
      "====== | ===================\n",
      "0      | 200                \n",
      "1      | 0                  \n",
      "2      | 1                  \n",
      " \n",
      "Number of particles: "
     ]
    },
    {
     "name": "stderr",
     "output_type": "stream",
     "text": [
      "2016/07/14 05:04:45 INFO: There are either no particles or too much (>200) to list them here.\n",
      "2016/07/14 05:04:45 INFO: Run with timestep 0.01 and 1000 timesteps\n",
      "2016/07/14 05:04:51 INFO: Finished after 5.684108 seconds.\n"
     ]
    },
    {
     "name": "stdout",
     "output_type": "stream",
     "text": [
      " 201\n",
      "TypeId | Number of particles\n",
      "====== | ===================\n",
      "0      | 200                \n",
      "1      | 0                  \n",
      "2      | 1                  \n",
      " \n",
      "Number of particles: "
     ]
    },
    {
     "name": "stderr",
     "output_type": "stream",
     "text": [
      "2016/07/14 05:04:51 INFO: There are either no particles or too much (>200) to list them here.\n",
      "2016/07/14 05:04:51 INFO: Run with timestep 0.01 and 1000 timesteps\n",
      "2016/07/14 05:04:58 INFO: Finished after 6.530658 seconds.\n"
     ]
    },
    {
     "name": "stdout",
     "output_type": "stream",
     "text": [
      " 201\n",
      "TypeId | Number of particles\n",
      "====== | ===================\n",
      "0      | 200                \n",
      "1      | 0                  \n",
      "2      | 1                  \n",
      " \n",
      "Number of particles: "
     ]
    },
    {
     "name": "stderr",
     "output_type": "stream",
     "text": [
      "2016/07/14 05:04:58 INFO: There are either no particles or too much (>200) to list them here.\n",
      "2016/07/14 05:04:58 INFO: Run with timestep 0.01 and 1000 timesteps\n",
      "2016/07/14 05:05:03 INFO: Finished after 5.680444 seconds.\n"
     ]
    },
    {
     "name": "stdout",
     "output_type": "stream",
     "text": [
      " 201\n",
      "TypeId | Number of particles\n",
      "====== | ===================\n",
      "0      | 200                \n",
      "1      | 0                  \n",
      "2      | 1                  \n",
      " \n",
      "Number of particles: "
     ]
    },
    {
     "name": "stderr",
     "output_type": "stream",
     "text": [
      "2016/07/14 05:05:03 INFO: There are either no particles or too much (>200) to list them here.\n",
      "2016/07/14 05:05:03 INFO: Run with timestep 0.01 and 1000 timesteps\n",
      "2016/07/14 05:05:10 INFO: Finished after 6.525457 seconds.\n"
     ]
    },
    {
     "name": "stdout",
     "output_type": "stream",
     "text": [
      " 201\n",
      "TypeId | Number of particles\n",
      "====== | ===================\n",
      "0      | 200                \n",
      "1      | 0                  \n",
      "2      | 1                  \n",
      " \n",
      "Number of particles: "
     ]
    },
    {
     "name": "stderr",
     "output_type": "stream",
     "text": [
      "2016/07/14 05:05:10 INFO: There are either no particles or too much (>200) to list them here.\n",
      "2016/07/14 05:05:10 INFO: Run with timestep 0.01 and 1000 timesteps\n",
      "2016/07/14 05:05:16 INFO: Finished after 5.724285 seconds.\n"
     ]
    },
    {
     "name": "stdout",
     "output_type": "stream",
     "text": [
      " 201\n",
      "TypeId | Number of particles\n",
      "====== | ===================\n",
      "0      | 200                \n",
      "1      | 0                  \n",
      "2      | 1                  \n",
      " \n",
      "Number of particles: "
     ]
    },
    {
     "name": "stderr",
     "output_type": "stream",
     "text": [
      "2016/07/14 05:05:16 INFO: There are either no particles or too much (>200) to list them here.\n",
      "2016/07/14 05:05:16 INFO: Run with timestep 0.01 and 1000 timesteps\n",
      "2016/07/14 05:05:22 INFO: Finished after 6.663972 seconds.\n"
     ]
    },
    {
     "name": "stdout",
     "output_type": "stream",
     "text": [
      " 201\n",
      "TypeId | Number of particles\n",
      "====== | ===================\n",
      "0      | 200                \n",
      "1      | 0                  \n",
      "2      | 1                  \n",
      " \n",
      "Number of particles: "
     ]
    },
    {
     "name": "stderr",
     "output_type": "stream",
     "text": [
      "2016/07/14 05:05:22 INFO: There are either no particles or too much (>200) to list them here.\n",
      "2016/07/14 05:05:22 INFO: Run with timestep 0.01 and 1000 timesteps\n",
      "2016/07/14 05:05:28 INFO: Finished after 5.695266 seconds.\n"
     ]
    },
    {
     "name": "stdout",
     "output_type": "stream",
     "text": [
      " 201\n",
      "TypeId | Number of particles\n",
      "====== | ===================\n",
      "0      | 200                \n",
      "1      | 0                  \n",
      "2      | 1                  \n",
      " \n",
      "Number of particles: "
     ]
    },
    {
     "name": "stderr",
     "output_type": "stream",
     "text": [
      "2016/07/14 05:05:28 INFO: There are either no particles or too much (>200) to list them here.\n",
      "2016/07/14 05:05:28 INFO: Run with timestep 0.01 and 1000 timesteps\n",
      "2016/07/14 05:05:35 INFO: Finished after 6.540155 seconds.\n"
     ]
    },
    {
     "name": "stdout",
     "output_type": "stream",
     "text": [
      " 201\n",
      "TypeId | Number of particles\n",
      "====== | ===================\n",
      "0      | 200                \n",
      "1      | 0                  \n",
      "2      | 1                  \n",
      " \n",
      "Number of particles: "
     ]
    },
    {
     "name": "stderr",
     "output_type": "stream",
     "text": [
      "2016/07/14 05:05:35 INFO: There are either no particles or too much (>200) to list them here.\n",
      "2016/07/14 05:05:35 INFO: Run with timestep 0.01 and 1000 timesteps\n",
      "2016/07/14 05:05:40 INFO: Finished after 5.693527 seconds.\n"
     ]
    },
    {
     "name": "stdout",
     "output_type": "stream",
     "text": [
      " 201\n",
      "TypeId | Number of particles\n",
      "====== | ===================\n",
      "0      | 200                \n",
      "1      | 0                  \n",
      "2      | 1                  \n",
      " \n",
      "Number of particles: "
     ]
    },
    {
     "name": "stderr",
     "output_type": "stream",
     "text": [
      "2016/07/14 05:05:40 INFO: There are either no particles or too much (>200) to list them here.\n",
      "2016/07/14 05:05:40 INFO: Run with timestep 0.01 and 1000 timesteps\n",
      "2016/07/14 05:05:47 INFO: Finished after 6.612718 seconds.\n"
     ]
    },
    {
     "name": "stdout",
     "output_type": "stream",
     "text": [
      " 201\n",
      "TypeId | Number of particles\n",
      "====== | ===================\n",
      "0      | 200                \n",
      "1      | 0                  \n",
      "2      | 1                  \n",
      " \n",
      "Number of particles: "
     ]
    },
    {
     "name": "stderr",
     "output_type": "stream",
     "text": [
      "2016/07/14 05:05:47 INFO: There are either no particles or too much (>200) to list them here.\n",
      "2016/07/14 05:05:47 INFO: Run with timestep 0.01 and 1000 timesteps\n",
      "2016/07/14 05:05:53 INFO: Finished after 5.716138 seconds.\n"
     ]
    },
    {
     "name": "stdout",
     "output_type": "stream",
     "text": [
      " 201\n",
      "TypeId | Number of particles\n",
      "====== | ===================\n",
      "0      | 200                \n",
      "1      | 0                  \n",
      "2      | 1                  \n",
      " \n",
      "Number of particles: "
     ]
    },
    {
     "name": "stderr",
     "output_type": "stream",
     "text": [
      "2016/07/14 05:05:53 INFO: There are either no particles or too much (>200) to list them here.\n",
      "2016/07/14 05:05:53 INFO: Run with timestep 0.01 and 1000 timesteps\n",
      "2016/07/14 05:05:59 INFO: Finished after 6.618202 seconds.\n"
     ]
    },
    {
     "name": "stdout",
     "output_type": "stream",
     "text": [
      " 201\n",
      "TypeId | Number of particles\n",
      "====== | ===================\n",
      "0      | 200                \n",
      "1      | 0                  \n",
      "2      | 1                  \n",
      " \n",
      "Number of particles: "
     ]
    },
    {
     "name": "stderr",
     "output_type": "stream",
     "text": [
      "2016/07/14 05:05:59 INFO: There are either no particles or too much (>200) to list them here.\n",
      "2016/07/14 05:05:59 INFO: Run with timestep 0.01 and 1000 timesteps\n",
      "2016/07/14 05:06:05 INFO: Finished after 5.764322 seconds.\n"
     ]
    },
    {
     "name": "stdout",
     "output_type": "stream",
     "text": [
      " 201\n",
      "TypeId | Number of particles\n",
      "====== | ===================\n",
      "0      | 200                \n",
      "1      | 0                  \n",
      "2      | 1                  \n",
      " \n",
      "Number of particles: "
     ]
    },
    {
     "name": "stderr",
     "output_type": "stream",
     "text": [
      "2016/07/14 05:06:05 INFO: There are either no particles or too much (>200) to list them here.\n",
      "2016/07/14 05:06:05 INFO: Run with timestep 0.01 and 1000 timesteps\n",
      "2016/07/14 05:06:12 INFO: Finished after 6.608423 seconds.\n"
     ]
    },
    {
     "name": "stdout",
     "output_type": "stream",
     "text": [
      " 201\n",
      "TypeId | Number of particles\n",
      "====== | ===================\n",
      "0      | 200                \n",
      "1      | 0                  \n",
      "2      | 1                  \n",
      " \n",
      "Number of particles: "
     ]
    },
    {
     "name": "stderr",
     "output_type": "stream",
     "text": [
      "2016/07/14 05:06:12 INFO: There are either no particles or too much (>200) to list them here.\n",
      "2016/07/14 05:06:12 INFO: Run with timestep 0.01 and 1000 timesteps\n",
      "2016/07/14 05:06:17 INFO: Finished after 5.779334 seconds.\n"
     ]
    },
    {
     "name": "stdout",
     "output_type": "stream",
     "text": [
      " 201\n",
      "TypeId | Number of particles\n",
      "====== | ===================\n",
      "0      | 200                \n",
      "1      | 0                  \n",
      "2      | 1                  \n",
      " \n",
      "Number of particles: "
     ]
    },
    {
     "name": "stderr",
     "output_type": "stream",
     "text": [
      "2016/07/14 05:06:17 INFO: There are either no particles or too much (>200) to list them here.\n",
      "2016/07/14 05:06:17 INFO: Run with timestep 0.01 and 1000 timesteps\n",
      "2016/07/14 05:06:24 INFO: Finished after 6.814302 seconds.\n"
     ]
    },
    {
     "name": "stdout",
     "output_type": "stream",
     "text": [
      " 201\n",
      "TypeId | Number of particles\n",
      "====== | ===================\n",
      "0      | 200                \n",
      "1      | 0                  \n",
      "2      | 1                  \n",
      " \n",
      "Number of particles: "
     ]
    },
    {
     "name": "stderr",
     "output_type": "stream",
     "text": [
      "2016/07/14 05:06:24 INFO: There are either no particles or too much (>200) to list them here.\n",
      "2016/07/14 05:06:24 INFO: Run with timestep 0.01 and 1000 timesteps\n",
      "2016/07/14 05:06:30 INFO: Finished after 5.939721 seconds.\n"
     ]
    },
    {
     "name": "stdout",
     "output_type": "stream",
     "text": [
      " 201\n",
      "TypeId | Number of particles\n",
      "====== | ===================\n",
      "0      | 200                \n",
      "1      | 0                  \n",
      "2      | 1                  \n",
      " \n",
      "Number of particles: "
     ]
    },
    {
     "name": "stderr",
     "output_type": "stream",
     "text": [
      "2016/07/14 05:06:30 INFO: There are either no particles or too much (>200) to list them here.\n",
      "2016/07/14 05:06:30 INFO: Run with timestep 0.01 and 1000 timesteps\n",
      "2016/07/14 05:06:38 INFO: Finished after 7.293036 seconds.\n"
     ]
    },
    {
     "name": "stdout",
     "output_type": "stream",
     "text": [
      " 201\n",
      "TypeId | Number of particles\n",
      "====== | ===================\n",
      "0      | 200                \n",
      "1      | 0                  \n",
      "2      | 1                  \n",
      " \n",
      "Number of particles: "
     ]
    },
    {
     "name": "stderr",
     "output_type": "stream",
     "text": [
      "2016/07/14 05:06:38 INFO: There are either no particles or too much (>200) to list them here.\n",
      "2016/07/14 05:06:38 INFO: Run with timestep 0.01 and 1000 timesteps\n",
      "2016/07/14 05:06:43 INFO: Finished after 5.833563 seconds.\n"
     ]
    },
    {
     "name": "stdout",
     "output_type": "stream",
     "text": [
      " 201\n",
      "TypeId | Number of particles\n",
      "====== | ===================\n",
      "0      | 200                \n",
      "1      | 0                  \n",
      "2      | 1                  \n",
      " \n",
      "Number of particles: "
     ]
    },
    {
     "name": "stderr",
     "output_type": "stream",
     "text": [
      "2016/07/14 05:06:43 INFO: There are either no particles or too much (>200) to list them here.\n",
      "2016/07/14 05:06:43 INFO: Run with timestep 0.01 and 1000 timesteps\n",
      "2016/07/14 05:06:51 INFO: Finished after 7.460185 seconds.\n"
     ]
    },
    {
     "name": "stdout",
     "output_type": "stream",
     "text": [
      " 201\n",
      "TypeId | Number of particles\n",
      "====== | ===================\n",
      "0      | 200                \n",
      "1      | 0                  \n",
      "2      | 1                  \n",
      " \n",
      "Number of particles: "
     ]
    },
    {
     "name": "stderr",
     "output_type": "stream",
     "text": [
      "2016/07/14 05:06:51 INFO: There are either no particles or too much (>200) to list them here.\n",
      "2016/07/14 05:06:51 INFO: Run with timestep 0.01 and 1000 timesteps\n",
      "2016/07/14 05:06:57 INFO: Finished after 5.957338 seconds.\n"
     ]
    },
    {
     "name": "stdout",
     "output_type": "stream",
     "text": [
      " 201\n",
      "TypeId | Number of particles\n",
      "====== | ===================\n",
      "0      | 200                \n",
      "1      | 0                  \n",
      "2      | 1                  \n",
      " \n",
      "Number of particles: "
     ]
    },
    {
     "name": "stderr",
     "output_type": "stream",
     "text": [
      "2016/07/14 05:06:57 INFO: There are either no particles or too much (>200) to list them here.\n",
      "2016/07/14 05:06:57 INFO: Run with timestep 0.01 and 1000 timesteps\n",
      "2016/07/14 05:07:04 INFO: Finished after 6.938189 seconds.\n"
     ]
    },
    {
     "name": "stdout",
     "output_type": "stream",
     "text": [
      " 201\n",
      "TypeId | Number of particles\n",
      "====== | ===================\n",
      "0      | 200                \n",
      "1      | 0                  \n",
      "2      | 1                  \n",
      " \n",
      "Number of particles: "
     ]
    },
    {
     "name": "stderr",
     "output_type": "stream",
     "text": [
      "2016/07/14 05:07:04 INFO: There are either no particles or too much (>200) to list them here.\n",
      "2016/07/14 05:07:04 INFO: Run with timestep 0.01 and 1000 timesteps\n",
      "2016/07/14 05:07:10 INFO: Finished after 5.721822 seconds.\n"
     ]
    },
    {
     "name": "stdout",
     "output_type": "stream",
     "text": [
      " 201\n",
      "TypeId | Number of particles\n",
      "====== | ===================\n",
      "0      | 200                \n",
      "1      | 0                  \n",
      "2      | 1                  \n",
      " \n",
      "Number of particles: "
     ]
    },
    {
     "name": "stderr",
     "output_type": "stream",
     "text": [
      "2016/07/14 05:07:10 INFO: There are either no particles or too much (>200) to list them here.\n",
      "2016/07/14 05:07:10 INFO: Run with timestep 0.01 and 1000 timesteps\n",
      "2016/07/14 05:07:16 INFO: Finished after 6.523824 seconds.\n"
     ]
    },
    {
     "name": "stdout",
     "output_type": "stream",
     "text": [
      " 201\n",
      "TypeId | Number of particles\n",
      "====== | ===================\n",
      "0      | 200                \n",
      "1      | 0                  \n",
      "2      | 1                  \n",
      " \n",
      "Number of particles: "
     ]
    },
    {
     "name": "stderr",
     "output_type": "stream",
     "text": [
      "2016/07/14 05:07:16 INFO: There are either no particles or too much (>200) to list them here.\n",
      "2016/07/14 05:07:16 INFO: Run with timestep 0.01 and 1000 timesteps\n",
      "2016/07/14 05:07:22 INFO: Finished after 5.6779 seconds.\n"
     ]
    },
    {
     "name": "stdout",
     "output_type": "stream",
     "text": [
      " 201\n",
      "TypeId | Number of particles\n",
      "====== | ===================\n",
      "0      | 200                \n",
      "1      | 0                  \n",
      "2      | 1                  \n",
      " \n",
      "Number of particles: "
     ]
    },
    {
     "name": "stderr",
     "output_type": "stream",
     "text": [
      "2016/07/14 05:07:22 INFO: There are either no particles or too much (>200) to list them here.\n",
      "2016/07/14 05:07:22 INFO: Run with timestep 0.01 and 1000 timesteps\n",
      "2016/07/14 05:07:28 INFO: Finished after 6.539074 seconds.\n"
     ]
    },
    {
     "name": "stdout",
     "output_type": "stream",
     "text": [
      " 201\n",
      "TypeId | Number of particles\n",
      "====== | ===================\n",
      "0      | 200                \n",
      "1      | 0                  \n",
      "2      | 1                  \n",
      " \n",
      "Number of particles: "
     ]
    },
    {
     "name": "stderr",
     "output_type": "stream",
     "text": [
      "2016/07/14 05:07:28 INFO: There are either no particles or too much (>200) to list them here.\n",
      "2016/07/14 05:07:28 INFO: Run with timestep 0.01 and 1000 timesteps\n",
      "2016/07/14 05:07:34 INFO: Finished after 5.689973 seconds.\n"
     ]
    },
    {
     "name": "stdout",
     "output_type": "stream",
     "text": [
      " 201\n",
      "TypeId | Number of particles\n",
      "====== | ===================\n",
      "0      | 200                \n",
      "1      | 0                  \n",
      "2      | 1                  \n",
      " \n",
      "Number of particles: "
     ]
    },
    {
     "name": "stderr",
     "output_type": "stream",
     "text": [
      "2016/07/14 05:07:34 INFO: There are either no particles or too much (>200) to list them here.\n",
      "2016/07/14 05:07:34 INFO: Run with timestep 0.01 and 1000 timesteps\n",
      "2016/07/14 05:07:41 INFO: Finished after 6.603267 seconds.\n"
     ]
    },
    {
     "name": "stdout",
     "output_type": "stream",
     "text": [
      " 201\n",
      "TypeId | Number of particles\n",
      "====== | ===================\n",
      "0      | 200                \n",
      "1      | 0                  \n",
      "2      | 1                  \n",
      " \n",
      "Number of particles: "
     ]
    },
    {
     "name": "stderr",
     "output_type": "stream",
     "text": [
      "2016/07/14 05:07:41 INFO: There are either no particles or too much (>200) to list them here.\n",
      "2016/07/14 05:07:41 INFO: Run with timestep 0.01 and 1000 timesteps\n",
      "2016/07/14 05:07:47 INFO: Finished after 5.780005 seconds.\n"
     ]
    },
    {
     "name": "stdout",
     "output_type": "stream",
     "text": [
      " 201\n",
      "TypeId | Number of particles\n",
      "====== | ===================\n",
      "0      | 200                \n",
      "1      | 0                  \n",
      "2      | 1                  \n",
      " \n",
      "Number of particles: "
     ]
    },
    {
     "name": "stderr",
     "output_type": "stream",
     "text": [
      "2016/07/14 05:07:47 INFO: There are either no particles or too much (>200) to list them here.\n",
      "2016/07/14 05:07:47 INFO: Run with timestep 0.01 and 1000 timesteps\n",
      "2016/07/14 05:07:54 INFO: Finished after 7.212824 seconds.\n"
     ]
    },
    {
     "name": "stdout",
     "output_type": "stream",
     "text": [
      " 201\n",
      "TypeId | Number of particles\n",
      "====== | ===================\n",
      "0      | 200                \n",
      "1      | 0                  \n",
      "2      | 1                  \n",
      " \n",
      "Number of particles: "
     ]
    },
    {
     "name": "stderr",
     "output_type": "stream",
     "text": [
      "2016/07/14 05:07:54 INFO: There are either no particles or too much (>200) to list them here.\n",
      "2016/07/14 05:07:54 INFO: Run with timestep 0.01 and 1000 timesteps\n",
      "2016/07/14 05:08:00 INFO: Finished after 5.91854 seconds.\n"
     ]
    },
    {
     "name": "stdout",
     "output_type": "stream",
     "text": [
      " 201\n",
      "TypeId | Number of particles\n",
      "====== | ===================\n",
      "0      | 200                \n",
      "1      | 0                  \n",
      "2      | 1                  \n",
      " \n",
      "Number of particles: "
     ]
    },
    {
     "name": "stderr",
     "output_type": "stream",
     "text": [
      "2016/07/14 05:08:00 INFO: There are either no particles or too much (>200) to list them here.\n",
      "2016/07/14 05:08:00 INFO: Run with timestep 0.01 and 1000 timesteps\n",
      "2016/07/14 05:08:06 INFO: Finished after 6.630874 seconds.\n"
     ]
    },
    {
     "name": "stdout",
     "output_type": "stream",
     "text": [
      " 201\n",
      "TypeId | Number of particles\n",
      "====== | ===================\n",
      "0      | 200                \n",
      "1      | 0                  \n",
      "2      | 1                  \n",
      " \n",
      "Number of particles: "
     ]
    },
    {
     "name": "stderr",
     "output_type": "stream",
     "text": [
      "2016/07/14 05:08:06 INFO: There are either no particles or too much (>200) to list them here.\n",
      "2016/07/14 05:08:06 INFO: Run with timestep 0.01 and 1000 timesteps\n",
      "2016/07/14 05:08:12 INFO: Finished after 5.852967 seconds.\n"
     ]
    },
    {
     "name": "stdout",
     "output_type": "stream",
     "text": [
      " 201\n",
      "TypeId | Number of particles\n",
      "====== | ===================\n",
      "0      | 200                \n",
      "1      | 0                  \n",
      "2      | 1                  \n",
      " \n",
      "Number of particles: "
     ]
    },
    {
     "name": "stderr",
     "output_type": "stream",
     "text": [
      "2016/07/14 05:08:12 INFO: There are either no particles or too much (>200) to list them here.\n",
      "2016/07/14 05:08:12 INFO: Run with timestep 0.01 and 1000 timesteps\n",
      "2016/07/14 05:08:19 INFO: Finished after 6.571612 seconds.\n"
     ]
    },
    {
     "name": "stdout",
     "output_type": "stream",
     "text": [
      " 201\n",
      "TypeId | Number of particles\n",
      "====== | ===================\n",
      "0      | 200                \n",
      "1      | 0                  \n",
      "2      | 1                  \n",
      " \n",
      "Number of particles: "
     ]
    },
    {
     "name": "stderr",
     "output_type": "stream",
     "text": [
      "2016/07/14 05:08:19 INFO: There are either no particles or too much (>200) to list them here.\n",
      "2016/07/14 05:08:19 INFO: Run with timestep 0.01 and 1000 timesteps\n",
      "2016/07/14 05:08:25 INFO: Finished after 5.727033 seconds.\n"
     ]
    },
    {
     "name": "stdout",
     "output_type": "stream",
     "text": [
      " 201\n",
      "TypeId | Number of particles\n",
      "====== | ===================\n",
      "0      | 200                \n",
      "1      | 0                  \n",
      "2      | 1                  \n",
      " \n",
      "Number of particles: "
     ]
    },
    {
     "name": "stderr",
     "output_type": "stream",
     "text": [
      "2016/07/14 05:08:25 INFO: There are either no particles or too much (>200) to list them here.\n",
      "2016/07/14 05:08:25 INFO: Run with timestep 0.01 and 1000 timesteps\n",
      "2016/07/14 05:08:31 INFO: Finished after 6.563337 seconds.\n"
     ]
    },
    {
     "name": "stdout",
     "output_type": "stream",
     "text": [
      " 201\n",
      "TypeId | Number of particles\n",
      "====== | ===================\n",
      "0      | 200                \n",
      "1      | 0                  \n",
      "2      | 1                  \n",
      " \n",
      "Number of particles: "
     ]
    },
    {
     "name": "stderr",
     "output_type": "stream",
     "text": [
      "2016/07/14 05:08:31 INFO: There are either no particles or too much (>200) to list them here.\n",
      "2016/07/14 05:08:31 INFO: Run with timestep 0.01 and 1000 timesteps\n",
      "2016/07/14 05:08:37 INFO: Finished after 5.781812 seconds.\n"
     ]
    },
    {
     "name": "stdout",
     "output_type": "stream",
     "text": [
      " 201\n",
      "TypeId | Number of particles\n",
      "====== | ===================\n",
      "0      | 200                \n",
      "1      | 0                  \n",
      "2      | 1                  \n",
      " \n",
      "Number of particles: "
     ]
    },
    {
     "name": "stderr",
     "output_type": "stream",
     "text": [
      "2016/07/14 05:08:37 INFO: There are either no particles or too much (>200) to list them here.\n",
      "2016/07/14 05:08:37 INFO: Run with timestep 0.01 and 1000 timesteps\n",
      "2016/07/14 05:08:44 INFO: Finished after 6.653458 seconds.\n"
     ]
    },
    {
     "name": "stdout",
     "output_type": "stream",
     "text": [
      " 201\n",
      "TypeId | Number of particles\n",
      "====== | ===================\n",
      "0      | 200                \n",
      "1      | 0                  \n",
      "2      | 1                  \n",
      " \n",
      "Number of particles: "
     ]
    },
    {
     "name": "stderr",
     "output_type": "stream",
     "text": [
      "2016/07/14 05:08:44 INFO: There are either no particles or too much (>200) to list them here.\n",
      "2016/07/14 05:08:44 INFO: Run with timestep 0.01 and 1000 timesteps\n",
      "2016/07/14 05:08:50 INFO: Finished after 5.825387 seconds.\n"
     ]
    },
    {
     "name": "stdout",
     "output_type": "stream",
     "text": [
      " 201\n",
      "TypeId | Number of particles\n",
      "====== | ===================\n",
      "0      | 200                \n",
      "1      | 0                  \n",
      "2      | 1                  \n",
      " \n",
      "Number of particles: "
     ]
    },
    {
     "name": "stderr",
     "output_type": "stream",
     "text": [
      "2016/07/14 05:08:50 INFO: There are either no particles or too much (>200) to list them here.\n",
      "2016/07/14 05:08:50 INFO: Run with timestep 0.01 and 1000 timesteps\n",
      "2016/07/14 05:08:56 INFO: Finished after 6.714027 seconds.\n"
     ]
    },
    {
     "name": "stdout",
     "output_type": "stream",
     "text": [
      " 201\n",
      "TypeId | Number of particles\n",
      "====== | ===================\n",
      "0      | 200                \n",
      "1      | 0                  \n",
      "2      | 1                  \n",
      " \n",
      "Number of particles: "
     ]
    },
    {
     "name": "stderr",
     "output_type": "stream",
     "text": [
      "2016/07/14 05:08:56 INFO: There are either no particles or too much (>200) to list them here.\n",
      "2016/07/14 05:08:56 INFO: Run with timestep 0.01 and 1000 timesteps\n",
      "2016/07/14 05:09:02 INFO: Finished after 5.740814 seconds.\n"
     ]
    },
    {
     "name": "stdout",
     "output_type": "stream",
     "text": [
      " 201\n",
      "TypeId | Number of particles\n",
      "====== | ===================\n",
      "0      | 200                \n",
      "1      | 0                  \n",
      "2      | 1                  \n",
      " \n",
      "Number of particles: "
     ]
    },
    {
     "name": "stderr",
     "output_type": "stream",
     "text": [
      "2016/07/14 05:09:02 INFO: There are either no particles or too much (>200) to list them here.\n",
      "2016/07/14 05:09:02 INFO: Run with timestep 0.01 and 1000 timesteps\n",
      "2016/07/14 05:09:09 INFO: Finished after 6.611877 seconds.\n"
     ]
    },
    {
     "name": "stdout",
     "output_type": "stream",
     "text": [
      " 201\n",
      "TypeId | Number of particles\n",
      "====== | ===================\n",
      "0      | 200                \n",
      "1      | 0                  \n",
      "2      | 1                  \n",
      " \n",
      "Number of particles: "
     ]
    },
    {
     "name": "stderr",
     "output_type": "stream",
     "text": [
      "2016/07/14 05:09:09 INFO: There are either no particles or too much (>200) to list them here.\n",
      "2016/07/14 05:09:09 INFO: Run with timestep 0.01 and 1000 timesteps\n",
      "2016/07/14 05:09:15 INFO: Finished after 5.837346 seconds.\n"
     ]
    },
    {
     "name": "stdout",
     "output_type": "stream",
     "text": [
      " 201\n",
      "TypeId | Number of particles\n",
      "====== | ===================\n",
      "0      | 200                \n",
      "1      | 0                  \n",
      "2      | 1                  \n",
      " \n",
      "Number of particles: "
     ]
    },
    {
     "name": "stderr",
     "output_type": "stream",
     "text": [
      "2016/07/14 05:09:15 INFO: There are either no particles or too much (>200) to list them here.\n",
      "2016/07/14 05:09:15 INFO: Run with timestep 0.01 and 1000 timesteps\n",
      "2016/07/14 05:09:21 INFO: Finished after 6.583909 seconds.\n"
     ]
    },
    {
     "name": "stdout",
     "output_type": "stream",
     "text": [
      " 201\n",
      "TypeId | Number of particles\n",
      "====== | ===================\n",
      "0      | 200                \n",
      "1      | 0                  \n",
      "2      | 1                  \n",
      " \n",
      "Number of particles: "
     ]
    },
    {
     "name": "stderr",
     "output_type": "stream",
     "text": [
      "2016/07/14 05:09:21 INFO: There are either no particles or too much (>200) to list them here.\n",
      "2016/07/14 05:09:21 INFO: Run with timestep 0.01 and 1000 timesteps\n",
      "2016/07/14 05:09:27 INFO: Finished after 5.681517 seconds.\n"
     ]
    },
    {
     "name": "stdout",
     "output_type": "stream",
     "text": [
      " 201\n",
      "TypeId | Number of particles\n",
      "====== | ===================\n",
      "0      | 200                \n",
      "1      | 0                  \n",
      "2      | 1                  \n",
      " \n",
      "Number of particles: "
     ]
    },
    {
     "name": "stderr",
     "output_type": "stream",
     "text": [
      "2016/07/14 05:09:27 INFO: There are either no particles or too much (>200) to list them here.\n",
      "2016/07/14 05:09:27 INFO: Run with timestep 0.01 and 1000 timesteps\n",
      "2016/07/14 05:09:33 INFO: Finished after 6.56091 seconds.\n"
     ]
    },
    {
     "name": "stdout",
     "output_type": "stream",
     "text": [
      " 201\n",
      "TypeId | Number of particles\n",
      "====== | ===================\n",
      "0      | 200                \n",
      "1      | 0                  \n",
      "2      | 1                  \n",
      " \n",
      "Number of particles: "
     ]
    },
    {
     "name": "stderr",
     "output_type": "stream",
     "text": [
      "2016/07/14 05:09:33 INFO: There are either no particles or too much (>200) to list them here.\n",
      "2016/07/14 05:09:33 INFO: Run with timestep 0.01 and 1000 timesteps\n",
      "2016/07/14 05:09:39 INFO: Finished after 5.782865 seconds.\n"
     ]
    },
    {
     "name": "stdout",
     "output_type": "stream",
     "text": [
      " 201\n",
      "TypeId | Number of particles\n",
      "====== | ===================\n",
      "0      | 200                \n",
      "1      | 0                  \n",
      "2      | 1                  \n",
      " \n",
      "Number of particles: "
     ]
    },
    {
     "name": "stderr",
     "output_type": "stream",
     "text": [
      "2016/07/14 05:09:39 INFO: There are either no particles or too much (>200) to list them here.\n",
      "2016/07/14 05:09:39 INFO: Run with timestep 0.01 and 1000 timesteps\n",
      "2016/07/14 05:09:46 INFO: Finished after 6.639061 seconds.\n"
     ]
    },
    {
     "name": "stdout",
     "output_type": "stream",
     "text": [
      " 201\n",
      "TypeId | Number of particles\n",
      "====== | ===================\n",
      "0      | 200                \n",
      "1      | 0                  \n",
      "2      | 1                  \n",
      " \n",
      "Number of particles: "
     ]
    },
    {
     "name": "stderr",
     "output_type": "stream",
     "text": [
      "2016/07/14 05:09:46 INFO: There are either no particles or too much (>200) to list them here.\n",
      "2016/07/14 05:09:46 INFO: Run with timestep 0.01 and 1000 timesteps\n",
      "2016/07/14 05:09:52 INFO: Finished after 5.737827 seconds.\n"
     ]
    },
    {
     "name": "stdout",
     "output_type": "stream",
     "text": [
      " 201\n",
      "TypeId | Number of particles\n",
      "====== | ===================\n",
      "0      | 200                \n",
      "1      | 0                  \n",
      "2      | 1                  \n",
      " \n",
      "Number of particles: "
     ]
    },
    {
     "name": "stderr",
     "output_type": "stream",
     "text": [
      "2016/07/14 05:09:52 INFO: There are either no particles or too much (>200) to list them here.\n",
      "2016/07/14 05:09:52 INFO: Run with timestep 0.01 and 1000 timesteps\n",
      "2016/07/14 05:09:58 INFO: Finished after 6.63902 seconds.\n"
     ]
    },
    {
     "name": "stdout",
     "output_type": "stream",
     "text": [
      " 201\n",
      "TypeId | Number of particles\n",
      "====== | ===================\n",
      "0      | 200                \n",
      "1      | 0                  \n",
      "2      | 1                  \n",
      " \n",
      "Number of particles: "
     ]
    },
    {
     "name": "stderr",
     "output_type": "stream",
     "text": [
      "2016/07/14 05:09:58 INFO: There are either no particles or too much (>200) to list them here.\n",
      "2016/07/14 05:09:58 INFO: Run with timestep 0.01 and 1000 timesteps\n",
      "2016/07/14 05:10:04 INFO: Finished after 5.775607 seconds.\n"
     ]
    },
    {
     "name": "stdout",
     "output_type": "stream",
     "text": [
      " 201\n",
      "TypeId | Number of particles\n",
      "====== | ===================\n",
      "0      | 200                \n",
      "1      | 0                  \n",
      "2      | 1                  \n",
      " \n",
      "Number of particles: "
     ]
    },
    {
     "name": "stderr",
     "output_type": "stream",
     "text": [
      "2016/07/14 05:10:04 INFO: There are either no particles or too much (>200) to list them here.\n",
      "2016/07/14 05:10:04 INFO: Run with timestep 0.01 and 1000 timesteps\n",
      "2016/07/14 05:10:11 INFO: Finished after 6.633465 seconds.\n"
     ]
    },
    {
     "name": "stdout",
     "output_type": "stream",
     "text": [
      " 201\n",
      "TypeId | Number of particles\n",
      "====== | ===================\n",
      "0      | 200                \n",
      "1      | 0                  \n",
      "2      | 1                  \n",
      " \n",
      "Number of particles: "
     ]
    },
    {
     "name": "stderr",
     "output_type": "stream",
     "text": [
      "2016/07/14 05:10:11 INFO: There are either no particles or too much (>200) to list them here.\n",
      "2016/07/14 05:10:11 INFO: Run with timestep 0.01 and 1000 timesteps\n",
      "2016/07/14 05:10:17 INFO: Finished after 5.706551 seconds.\n"
     ]
    },
    {
     "name": "stdout",
     "output_type": "stream",
     "text": [
      " 201\n",
      "TypeId | Number of particles\n",
      "====== | ===================\n",
      "0      | 200                \n",
      "1      | 0                  \n",
      "2      | 1                  \n",
      " \n",
      "Number of particles: "
     ]
    },
    {
     "name": "stderr",
     "output_type": "stream",
     "text": [
      "2016/07/14 05:10:17 INFO: There are either no particles or too much (>200) to list them here.\n",
      "2016/07/14 05:10:17 INFO: Run with timestep 0.01 and 1000 timesteps\n",
      "2016/07/14 05:10:23 INFO: Finished after 6.632024 seconds.\n"
     ]
    },
    {
     "name": "stdout",
     "output_type": "stream",
     "text": [
      " 201\n",
      "TypeId | Number of particles\n",
      "====== | ===================\n",
      "0      | 200                \n",
      "1      | 0                  \n",
      "2      | 1                  \n",
      " \n",
      "Number of particles: "
     ]
    },
    {
     "name": "stderr",
     "output_type": "stream",
     "text": [
      "2016/07/14 05:10:23 INFO: There are either no particles or too much (>200) to list them here.\n",
      "2016/07/14 05:10:23 INFO: Run with timestep 0.01 and 1000 timesteps\n",
      "2016/07/14 05:10:29 INFO: Finished after 5.738318 seconds.\n"
     ]
    },
    {
     "name": "stdout",
     "output_type": "stream",
     "text": [
      " 201\n",
      "TypeId | Number of particles\n",
      "====== | ===================\n",
      "0      | 200                \n",
      "1      | 0                  \n",
      "2      | 1                  \n",
      " \n",
      "Number of particles: "
     ]
    },
    {
     "name": "stderr",
     "output_type": "stream",
     "text": [
      "2016/07/14 05:10:29 INFO: There are either no particles or too much (>200) to list them here.\n",
      "2016/07/14 05:10:29 INFO: Run with timestep 0.01 and 1000 timesteps\n",
      "2016/07/14 05:10:36 INFO: Finished after 6.595107 seconds.\n"
     ]
    },
    {
     "name": "stdout",
     "output_type": "stream",
     "text": [
      " 201\n",
      "TypeId | Number of particles\n",
      "====== | ===================\n",
      "0      | 200                \n",
      "1      | 0                  \n",
      "2      | 1                  \n",
      " \n",
      "Number of particles: "
     ]
    },
    {
     "name": "stderr",
     "output_type": "stream",
     "text": [
      "2016/07/14 05:10:36 INFO: There are either no particles or too much (>200) to list them here.\n",
      "2016/07/14 05:10:36 INFO: Run with timestep 0.01 and 1000 timesteps\n",
      "2016/07/14 05:10:42 INFO: Finished after 5.701827 seconds.\n"
     ]
    },
    {
     "name": "stdout",
     "output_type": "stream",
     "text": [
      " 201\n",
      "TypeId | Number of particles\n",
      "====== | ===================\n",
      "0      | 200                \n",
      "1      | 0                  \n",
      "2      | 1                  \n",
      " \n",
      "Number of particles: "
     ]
    },
    {
     "name": "stderr",
     "output_type": "stream",
     "text": [
      "2016/07/14 05:10:42 INFO: There are either no particles or too much (>200) to list them here.\n",
      "2016/07/14 05:10:42 INFO: Run with timestep 0.01 and 1000 timesteps\n",
      "2016/07/14 05:10:49 INFO: Finished after 7.146467 seconds.\n"
     ]
    },
    {
     "name": "stdout",
     "output_type": "stream",
     "text": [
      " 201\n",
      "TypeId | Number of particles\n",
      "====== | ===================\n",
      "0      | 200                \n",
      "1      | 0                  \n",
      "2      | 1                  \n",
      " \n",
      "Number of particles: "
     ]
    },
    {
     "name": "stderr",
     "output_type": "stream",
     "text": [
      "2016/07/14 05:10:49 INFO: There are either no particles or too much (>200) to list them here.\n",
      "2016/07/14 05:10:49 INFO: Run with timestep 0.01 and 1000 timesteps\n",
      "2016/07/14 05:10:54 INFO: Finished after 5.80327 seconds.\n"
     ]
    },
    {
     "name": "stdout",
     "output_type": "stream",
     "text": [
      " 201\n",
      "TypeId | Number of particles\n",
      "====== | ===================\n",
      "0      | 200                \n",
      "1      | 0                  \n",
      "2      | 1                  \n",
      " \n",
      "Number of particles: "
     ]
    },
    {
     "name": "stderr",
     "output_type": "stream",
     "text": [
      "2016/07/14 05:10:55 INFO: There are either no particles or too much (>200) to list them here.\n",
      "2016/07/14 05:10:55 INFO: Run with timestep 0.01 and 1000 timesteps\n",
      "2016/07/14 05:11:01 INFO: Finished after 6.729391 seconds.\n"
     ]
    },
    {
     "name": "stdout",
     "output_type": "stream",
     "text": [
      " 201\n",
      "TypeId | Number of particles\n",
      "====== | ===================\n",
      "0      | 200                \n",
      "1      | 0                  \n",
      "2      | 1                  \n",
      " \n"
     ]
    },
    {
     "data": {
      "text/plain": [
       "<matplotlib.legend.Legend at 0x7f6fd614fa90>"
      ]
     },
     "execution_count": 21,
     "metadata": {},
     "output_type": "execute_result"
    }
   ],
   "source": [
    "#colors = iter(cm.rainbow(np.linspace(0, 1, 4)))\n",
    "for i in [1.5]:\n",
    "    boxsize=10.\n",
    "    Diffusion_E=i\n",
    "    Diffusion_S=i\n",
    "    Diffusion_P=10\n",
    "    reactiondistance=3\n",
    "    intrinsikreaction=10000000000000000000000\n",
    "    #colornow=next(colors)\n",
    "    #falist=[]\n",
    "    #fafraclist=[]\n",
    "    fclist=[]\n",
    "    fcfraclist=[]\n",
    "\n",
    "    averagelist=[]\n",
    "    for ii in range(50):\n",
    "        fa,fb,fc=simulation(boxsize,Diffusion_E,Diffusion_S,Diffusion_P,reactiondistance,intrinsikreaction)\n",
    "        fafrc,fbfrc,fcfrc=simulationfrac(boxsize,Diffusion_E,Diffusion_S,Diffusion_P,reactiondistance,intrinsikreaction)\n",
    "        #plt.plot(fa['times'], fa['particleNumbers'],color=colornow,label=\"$D_S+D_E$=$%.2f$\" %(2*i))\n",
    "        #falist.append(fa['particleNumbers'])\n",
    "        #fafraclist.append(fafrc['particleNumbers'])\n",
    "        #t,c,c11=analyt(np.array(fa['times']),boxsize,Diffusion_E,Diffusion_S,reactiondistance,intrinsikreaction)\n",
    "        #averagelist.append(c)\n",
    "        fclist.append(fc['meanSquaredDisplacements'])\n",
    "        fcfraclist.append(fcfrc['meanSquaredDisplacements'])\n",
    "\n",
    "\n",
    "    #averagelist=np.array(averagelist) \n",
    "    #analytnumer=averagelist.mean(axis=0)\n",
    "    #falist=np.array(falist)  \n",
    "    #fafraclist=np.array(fafraclist)  \n",
    "    #t,c,c11=analyt(np.array(fa['times']),boxsize,Diffusion_E,Diffusion_S,reactiondistance,intrinsikreaction)\n",
    "    #paertnum=falist.mean(axis=0) \n",
    "    #paertnumfrac=fafraclist.mean(axis=0)  \n",
    "    fclist=np.array(fclist)\n",
    "    fcfraclist=np.array(fcfraclist)  \n",
    "\n",
    "\n",
    "    msd=fclist.mean(axis=0) \n",
    "    msdfrc=fcfraclist.mean(axis=0) \n",
    "    plt.plot(fc['times'], msd ,label=\"$D_E$=$%.2f$\" %(i),color='b')\n",
    "    plt.plot(np.array(range(1000))*0.01,msd_analyt(1.0,0.01,1000,1.5),label=\"ana\",color='b')\n",
    "\n",
    "    plt.plot(fc['times'], msdfrc ,label=\"$D_E$=$%.2f$\" %(i),marker=',',color='r')\n",
    "    plt.plot(np.array(range(1000))*0.01,msd_analyt(0.5,0.01,1000,1.5),label=\"anafrc\",color='r')\n",
    "\n",
    "\n",
    "    \n",
    "    #plt.plot(fafrc['times'], paertnumfrac,color=colornow,label=\"$D_S+D_E$=$%.2f$\" %(2*i),marker=\",\")\n",
    "    #plt.plot(fa['times'], paertnum,color=colornow,label=\"$D_S+D_E$=$%.2f$\" %(2*i))\n",
    "    #plt.plot(t,c,\"--\",color=colornow)\n",
    "plt.ylabel('MSD)', fontsize=10)\n",
    "plt.xlabel('t in ns', fontsize=10)\n",
    "plt.legend()"
   ]
  },
  {
   "cell_type": "code",
   "execution_count": 22,
   "metadata": {
    "collapsed": true
   },
   "outputs": [],
   "source": [
    "plt.show()"
   ]
  },
  {
   "cell_type": "code",
   "execution_count": null,
   "metadata": {
    "collapsed": true
   },
   "outputs": [],
   "source": [
    "colors = iter(cm.rainbow(np.linspace(0, 1, 4)))\n",
    "for i in [1.5,2.,3.5,5.]:\n",
    "    boxsize=10.\n",
    "    Diffusion_E=i\n",
    "    Diffusion_S=i\n",
    "    Diffusion_P=10\n",
    "    reactiondistance=3\n",
    "    intrinsikreaction=10000000000000000000000\n",
    "    colornow=next(colors)\n",
    "    falist=[]\n",
    "    fafraclist=[]\n",
    "    #fclist=[]\n",
    "    #fcfraclist=[]\n",
    "\n",
    "    averagelist=[]\n",
    "    for ii in range(5):\n",
    "        fa,fb,fc=simulation(boxsize,Diffusion_E,Diffusion_S,Diffusion_P,reactiondistance,intrinsikreaction)\n",
    "        fafrc,fbfrc,fcfrc=simulationfrac(boxsize,Diffusion_E,Diffusion_S,Diffusion_P,reactiondistance,intrinsikreaction)\n",
    "        #plt.plot(fa['times'], fa['particleNumbers'],color=colornow,label=\"$D_S+D_E$=$%.2f$\" %(2*i))\n",
    "        falist.append(fa['particleNumbers'])\n",
    "        fafraclist.append(fafrc['particleNumbers'])\n",
    "        t,c,c11=analyt(np.array(fa['times']),boxsize,Diffusion_E,Diffusion_S,reactiondistance,intrinsikreaction)\n",
    "        averagelist.append(c)\n",
    "        #fclist.append(fc['meanSquaredDisplacements'])\n",
    "        #fcfraclist.append(fcfrc['meanSquaredDisplacements'])\n",
    "\n",
    "\n",
    "    averagelist=np.array(averagelist) \n",
    "    analytnumer=averagelist.mean(axis=0)\n",
    "    falist=np.array(falist)  \n",
    "    fafraclist=np.array(fafraclist)  \n",
    "\n",
    "    t,c,c11=analyt(np.array(fa['times']),boxsize,Diffusion_E,Diffusion_S,reactiondistance,intrinsikreaction)\n",
    "    paertnum=falist.mean(axis=0) \n",
    "    paertnumfrac=fafraclist.mean(axis=0)  \n",
    "    #msd=fclist.mean(axis=0) \n",
    "\n",
    "    #msdfrc=fcfraclist.mean(axis=0) \n",
    "\n",
    "    \n",
    "    plt.plot(fafrc['times'], paertnumfrac,color=colornow,label=\"$D_S+D_E$=$%.2f$\" %(2*i),marker=\",\")\n",
    "    plt.plot(fa['times'], paertnum,color=colornow,label=\"$D_S+D_E$=$%.2f$\" %(2*i))\n",
    "    plt.plot(t,c,\"--\",color=colornow)\n",
    "plt.ylabel('S(t)', fontsize=10)\n",
    "plt.xlabel('t in ns', fontsize=10)\n",
    "plt.legend()"
   ]
  }
 ],
 "metadata": {
  "kernelspec": {
   "display_name": "Python 2",
   "language": "python",
   "name": "python2"
  },
  "language_info": {
   "codemirror_mode": {
    "name": "ipython",
    "version": 2
   },
   "file_extension": ".py",
   "mimetype": "text/x-python",
   "name": "python",
   "nbconvert_exporter": "python",
   "pygments_lexer": "ipython2",
   "version": "2.7.11"
  }
 },
 "nbformat": 4,
 "nbformat_minor": 0
}
