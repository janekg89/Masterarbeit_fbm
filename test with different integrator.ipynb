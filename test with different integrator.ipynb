{
 "cells": [
  {
   "cell_type": "code",
   "execution_count": 24,
   "metadata": {
    "collapsed": true
   },
   "outputs": [],
   "source": [
    "import  pylab, math, numpy\n",
    "import matplotlib.pyplot as plt\n"
   ]
  },
  {
   "cell_type": "code",
   "execution_count": 31,
   "metadata": {
    "collapsed": false
   },
   "outputs": [],
   "source": [
    "numpy.random.seed(2)\n",
    "D=2\n",
    "alpha=0.5\n",
    "H=alpha/2.\n",
    "N = 128*4\n",
    "H = 3./4.\n",
    "HH = 2*H\n",
    "covariance = numpy.zeros((N,N))\n",
    "A = numpy.zeros((N,N))\n",
    "\n",
    "for i in range(N):\n",
    "    for j in range(N):\n",
    "        d = abs(i-j)\n",
    "        covariance[i,j] = (abs(d - 1)**HH + (d + 1)**HH - 2*d**HH)/2.\n",
    "w,v = numpy.linalg.eig(covariance)\n",
    "\n",
    "for i in range(N):\n",
    "    for j in range(N):\n",
    "        A[i,j] = sum(math.sqrt(w[k])*v[i,k]*v[j,k] for k in range(N))\n",
    "        \n",
    "        \n",
    "x = numpy.random.randn((N))\n",
    "eta = numpy.dot(A,x)\n",
    "xfBm = [sum(eta[0:i]) for i in range(len(eta)+1)]\n",
    "xBM = [sum(x[0:i]) for i in range(len(x)+1)]\n"
   ]
  },
  {
   "cell_type": "code",
   "execution_count": 4,
   "metadata": {
    "collapsed": true
   },
   "outputs": [],
   "source": [
    "pylab.title('fBm (blue) vs BM (red)')\n",
    "pylab.xlabel('i')\n",
    "pylab.ylabel('x(i)')\n",
    "pylab.plot(xfBm,'b.-')\n",
    "pylab.plot(xBM,'r.-')\n",
    "pylab.show()"
   ]
  },
  {
   "cell_type": "code",
   "execution_count": 32,
   "metadata": {
    "collapsed": false
   },
   "outputs": [
    {
     "name": "stdout",
     "output_type": "stream",
     "text": [
      "513\n",
      "(1, 513)\n"
     ]
    }
   ],
   "source": [
    "print len(xfBm)\n",
    "xfbm=numpy.array([xfBm])\n",
    "print xfbm.shape"
   ]
  },
  {
   "cell_type": "code",
   "execution_count": 5,
   "metadata": {
    "collapsed": true
   },
   "outputs": [],
   "source": [
    "import analyse_tool \n"
   ]
  },
  {
   "cell_type": "code",
   "execution_count": 40,
   "metadata": {
    "collapsed": false
   },
   "outputs": [
    {
     "data": {
      "text/plain": [
       "<Container object of 3 artists>"
      ]
     },
     "execution_count": 40,
     "metadata": {},
     "output_type": "execute_result"
    }
   ],
   "source": [
    "c=analyse_tool.Analyse(D=1,particles=1,length=128*4+1,alpha=0.5,dt=1)\n",
    "c.plotting(msdtype=\"time\", scale=\"lin\")\n"
   ]
  },
  {
   "cell_type": "code",
   "execution_count": 34,
   "metadata": {
    "collapsed": false
   },
   "outputs": [],
   "source": [
    "plt.show()"
   ]
  },
  {
   "cell_type": "code",
   "execution_count": 41,
   "metadata": {
    "collapsed": false
   },
   "outputs": [
    {
     "data": {
      "text/plain": [
       "<Container object of 3 artists>"
      ]
     },
     "execution_count": 41,
     "metadata": {},
     "output_type": "execute_result"
    }
   ],
   "source": [
    "c.trajectory=xfbm\n",
    "c.plotting(msdtype=\"time\", scale = \"lin\")"
   ]
  },
  {
   "cell_type": "code",
   "execution_count": 42,
   "metadata": {
    "collapsed": true
   },
   "outputs": [],
   "source": [
    "plt.show()"
   ]
  },
  {
   "cell_type": "code",
   "execution_count": 44,
   "metadata": {
    "collapsed": false
   },
   "outputs": [],
   "source": [
    "import numpy as np"
   ]
  },
  {
   "cell_type": "code",
   "execution_count": 46,
   "metadata": {
    "collapsed": false
   },
   "outputs": [],
   "source": [
    "x=np.random.normal(0,1,size=20)"
   ]
  },
  {
   "cell_type": "code",
   "execution_count": 47,
   "metadata": {
    "collapsed": false
   },
   "outputs": [
    {
     "name": "stdout",
     "output_type": "stream",
     "text": [
      "[-0.48455438 -0.82393046 -1.02003592 -0.37141148 -0.28567567  0.423136\n",
      " -0.51555886  0.42435387 -0.94384332  0.87602839  1.04632159  0.64060906\n",
      " -1.97153011  2.51018709 -1.33413676 -0.99045431  0.20478454 -1.32397195\n",
      "  0.16415392  0.86611638]\n"
     ]
    }
   ],
   "source": [
    "print x"
   ]
  },
  {
   "cell_type": "code",
   "execution_count": null,
   "metadata": {
    "collapsed": true
   },
   "outputs": [],
   "source": []
  }
 ],
 "metadata": {
  "kernelspec": {
   "display_name": "Python 2",
   "language": "python",
   "name": "python2"
  },
  "language_info": {
   "codemirror_mode": {
    "name": "ipython",
    "version": 2
   },
   "file_extension": ".py",
   "mimetype": "text/x-python",
   "name": "python",
   "nbconvert_exporter": "python",
   "pygments_lexer": "ipython2",
   "version": "2.7.11"
  }
 },
 "nbformat": 4,
 "nbformat_minor": 0
}
