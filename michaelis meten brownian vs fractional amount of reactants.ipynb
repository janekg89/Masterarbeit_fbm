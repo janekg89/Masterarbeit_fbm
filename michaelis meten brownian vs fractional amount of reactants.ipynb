{
 "cells": [
  {
   "cell_type": "code",
   "execution_count": 102,
   "metadata": {
    "collapsed": false
   },
   "outputs": [],
   "source": [
    "import numpy as np\n",
    "import revreaddy as rdy\n",
    "import logging\n",
    "import datetime\n",
    "import h5py as h5\n",
    "import matplotlib.cm as cm\n",
    "\n",
    "import time\n",
    "import random\n",
    "import string\n",
    "\n",
    "import matplotlib.pyplot as plt\n",
    "reload(logging)\n",
    "logging.basicConfig(\n",
    "     format='%(asctime)s %(levelname)s: %(message)s',\n",
    "     datefmt='%Y/%m/%d %I:%M:%S',\n",
    "     level=logging.DEBUG\n",
    "    )"
   ]
  },
  {
   "cell_type": "code",
   "execution_count": 103,
   "metadata": {
    "collapsed": true
   },
   "outputs": [],
   "source": [
    "def stamp():\n",
    "    \n",
    "    \n",
    "    timestamp = time.strftime(\"%Y_%m_%d-%H_%M_%S\")\n",
    "    randomstamp = ''.join(random.choice(string.ascii_uppercase + string.digits) for _ in range(6))\n",
    "    stamp = timestamp + \"_\" + randomstamp\n",
    "    return stamp\n"
   ]
  },
  {
   "cell_type": "code",
   "execution_count": 104,
   "metadata": {
    "collapsed": false
   },
   "outputs": [],
   "source": [
    "sim = rdy.Sim(\"FractionalDiffusion\")\n",
    "sim.new_type(\"S\", 1., 1.)\n",
    "sim.new_type(\"E\", 1., 1.)\n",
    "sim.new_type(\"C\", 1., 1.)\n",
    "sim.new_type(\"P\", 1., 1.)\n",
    "sim.timestep = 0.01\n",
    "sim.boxsize = 10.\n",
    "sim.new_fusion(\"test\", 0,1,2,50.,0.2,0.3)\n",
    "sim.configure_fusion(0, [], 1., 0.15, 1., 1., 1.)\n",
    "sim.delete_all_observables()\n",
    "numbers_substrate = stamp()+\"numbers_substrate.h5\"\n",
    "sim.new_particle_numbers(1, numbers_substrate, 0)\n",
    "numbers_enzyme = stamp()+\"numbers_enzyme.h5\"\n",
    "sim.new_particle_numbers(1,numbers_enzyme, 1)\n",
    "numbers_complex = stamp()+\"numbers_substrate.h5\"\n",
    "sim.new_particle_numbers(1, numbers_complex, 2)\n",
    "numbers_product = stamp()+\"numbers_enzyme.h5\"\n",
    "sim.new_particle_numbers(1,numbers_product, 3)\n",
    "sim.new_fusion(\"test1\", 3,1,2,0.,0.1,0.3)\n",
    "sim.configure_fusion(1, [], 1., 0.15, 1., 1., 1.)\n",
    "for _ in range(400):\n",
    "    pos = np.random.random(3) * 10. - 5.\n",
    "    sim.add_particle(pos, 0)\n",
    "for _ in range (150):\n",
    "    pos = np.random.random(3) * 10. - 5.\n",
    "    sim.add_particle(pos, 1)\n",
    "    \n"
   ]
  },
  {
   "cell_type": "code",
   "execution_count": 105,
   "metadata": {
    "collapsed": false
   },
   "outputs": [
    {
     "name": "stderr",
     "output_type": "stream",
     "text": [
      "2016/08/30 12:31:50 INFO: Run with timestep 0.01 and 8000 timesteps\n",
      "2016/08/30 12:34:36 INFO: Finished after 166.155356 seconds.\n",
      "2016/08/30 12:34:37 INFO: There are either no particles or too much (>200) to list them here.\n"
     ]
    },
    {
     "name": "stdout",
     "output_type": "stream",
     "text": [
      "Number of particles:  548\n",
      "TypeId | Number of particles\n",
      "====== | ===================\n",
      "0      | 1                  \n",
      "1      | 148                \n",
      "2      | 2                  \n",
      "3      | 397                \n",
      " \n"
     ]
    }
   ],
   "source": [
    "sim.run(8000)\n",
    "#sim.write_observables_to_file()\n",
    "sim.write_observables_to_file()\n",
    "sim.show_world()"
   ]
  },
  {
   "cell_type": "code",
   "execution_count": 106,
   "metadata": {
    "collapsed": false
   },
   "outputs": [],
   "source": [
    "f = h5.File(numbers_substrate, \"r\")\n",
    "\n",
    "\n",
    "f.keys()\n",
    "t = f['times'][:]\n",
    "fc = f['particleNumbers']\n",
    "plt.plot(t, fc,label=\"substrate\")\n",
    "\n",
    "f.close()"
   ]
  },
  {
   "cell_type": "code",
   "execution_count": 107,
   "metadata": {
    "collapsed": true
   },
   "outputs": [],
   "source": [
    "f = h5.File(numbers_enzyme, \"r\")\n",
    "\n",
    "\n",
    "f.keys()\n",
    "t = f['times'][:]\n",
    "fc = f['particleNumbers']\n",
    "plt.plot(t, fc,label=\"emzyme\")\n",
    "\n",
    "f.close()"
   ]
  },
  {
   "cell_type": "code",
   "execution_count": 108,
   "metadata": {
    "collapsed": true
   },
   "outputs": [],
   "source": [
    "f = h5.File(numbers_complex, \"r\")\n",
    "\n",
    "\n",
    "f.keys()\n",
    "t = f['times'][:]\n",
    "fc = f['particleNumbers']\n",
    "plt.plot(t, fc,label=\"complex\")\n",
    "\n",
    "f.close()"
   ]
  },
  {
   "cell_type": "code",
   "execution_count": 109,
   "metadata": {
    "collapsed": true
   },
   "outputs": [],
   "source": [
    "f = h5.File(numbers_product, \"r\")\n",
    "\n",
    "\n",
    "f.keys()\n",
    "t = f['times'][:]\n",
    "fc = f['particleNumbers']\n",
    "plt.plot(t, fc,label=\"product\")\n",
    "\n",
    "f.close()\n"
   ]
  },
  {
   "cell_type": "code",
   "execution_count": 110,
   "metadata": {
    "collapsed": false
   },
   "outputs": [
    {
     "data": {
      "text/plain": [
       "<matplotlib.legend.Legend at 0x7f3843186b50>"
      ]
     },
     "execution_count": 110,
     "metadata": {},
     "output_type": "execute_result"
    }
   ],
   "source": [
    "plt.legend()"
   ]
  },
  {
   "cell_type": "code",
   "execution_count": 111,
   "metadata": {
    "collapsed": false
   },
   "outputs": [],
   "source": [
    "plt.show()"
   ]
  },
  {
   "cell_type": "code",
   "execution_count": null,
   "metadata": {
    "collapsed": true
   },
   "outputs": [],
   "source": []
  }
 ],
 "metadata": {
  "kernelspec": {
   "display_name": "Python 2",
   "language": "python",
   "name": "python2"
  },
  "language_info": {
   "codemirror_mode": {
    "name": "ipython",
    "version": 2
   },
   "file_extension": ".py",
   "mimetype": "text/x-python",
   "name": "python",
   "nbconvert_exporter": "python",
   "pygments_lexer": "ipython2",
   "version": "2.7.11"
  }
 },
 "nbformat": 4,
 "nbformat_minor": 0
}
