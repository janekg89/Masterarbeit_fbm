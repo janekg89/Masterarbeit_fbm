{
 "cells": [
  {
   "cell_type": "code",
   "execution_count": 7,
   "metadata": {
    "collapsed": false
   },
   "outputs": [],
   "source": [
    "import numpy as np\n",
    "import revreaddy as rdy\n",
    "import logging\n",
    "import datetime\n",
    "import h5py as h5\n",
    "import matplotlib.cm as cm\n",
    "\n",
    "import matplotlib.pyplot as plt\n",
    "reload(logging)\n",
    "logging.basicConfig(\n",
    "     format='%(asctime)s %(levelname)s: %(message)s',\n",
    "     datefmt='%Y/%m/%d %I:%M:%S',\n",
    "     level=logging.DEBUG\n",
    ")"
   ]
  },
  {
   "cell_type": "code",
   "execution_count": null,
   "metadata": {
    "collapsed": false
   },
   "outputs": [],
   "source": []
  },
  {
   "cell_type": "code",
   "execution_count": 11,
   "metadata": {
    "collapsed": false
   },
   "outputs": [],
   "source": [
    "def simulation(boxsize,Diffusion_E,Diffusion_S,Diffusion_P,reactiondistance,intrinsikreaction):\n",
    "    sim = rdy.Sim()\n",
    "    sim.kt = 2.437 # kJ/mol -> ~300 K\n",
    "    sim.timestep = 0.02 # ns\n",
    "    sim.boxsize = boxsize# nm\n",
    "    sim.delete_all_particle_types() # also deletes all interactions etc.\n",
    "    sim.new_type(\"S\", 0.01, Diffusion_S)\n",
    "    sim.new_type(\"P\", 0.01, Diffusion_P)\n",
    "    sim.new_type(\"E\", 0.01, Diffusion_E)\n",
    "    sim.delete_all_reactions()\n",
    "    sim.new_enzymatic(\"E+S<->E+S\", 0, 1, 2, intrinsikreaction, 0., reactiondistance)\n",
    "    sim.delete_all_particles()\n",
    "    for _ in range(300):\n",
    "         pos = np.random.random(3) * 9.9 - 4.95\n",
    "         sim.add_particle(pos, 0)\n",
    "         #pos = np.random.random(3) * 9.9 - 4.95\n",
    "         #sim.add_particle(pos, 1)\n",
    "         #pos = np.random.random(3) * 9.9 - 4.95\n",
    "         #sim.add_particle(pos, 2)\n",
    "    for _ in range(1):   \n",
    "        pos = np.random.random(3) * 9.9 - 4.95\n",
    "        sim.add_particle(pos, 2)\n",
    "    sim.show_world()\n",
    "    sim.delete_all_observables()\n",
    "    d = datetime.datetime.now()\n",
    "    time=str(getattr(d, 'year','month'))+str(getattr(d,'month'))+str(getattr(d,'day'))+str(getattr(d,'hour'))+str(getattr(d,'minute'))+str(getattr(d,'second'))\n",
    "    numbers_a_name = time+\"numbers_a_test1.h5\"\n",
    "    sim.new_particle_numbers(1, numbers_a_name, 0)\n",
    "    numbers_b_name = time+\"numbers_b_test1.h5\"\n",
    "    mean_e_name = time+\"mean_e_test1.h5\"\n",
    "    sim.new_particle_numbers(1, numbers_b_name, 1)\n",
    "    sim.new_mean_squared_displacement(1,mean_e_name, 2)\n",
    "    sim.run(1000)\n",
    "    sim.write_observables_to_file()\n",
    "    sim.delete_all_observables()\n",
    "    fa = h5.File(numbers_a_name, 'r')\n",
    "    fb = h5.File(numbers_b_name, 'r')\n",
    "    fc = h5.File(mean_e_name, 'r')\n",
    "    return fa , fb ,fc\n",
    "\n"
   ]
  },
  {
   "cell_type": "code",
   "execution_count": 102,
   "metadata": {
    "collapsed": true
   },
   "outputs": [],
   "source": [
    "def forthandback(boxsize,Diffusion_E,Diffusion_S,Diffusion_P,reactiondistance,intrinsikreactionf,intrinsikreactionb):\n",
    "    sim = rdy.Sim()\n",
    "    sim.kt = 2.437 # kJ/mol -> ~300 K\n",
    "    sim.timestep = 20 # ns\n",
    "    sim.boxsize = boxsize# nm\n",
    "    sim.delete_all_particle_types() # also deletes all interactions etc.\n",
    "    sim.new_type(\"S\", 0.01, Diffusion_S)\n",
    "    sim.new_type(\"P\", 0.01, Diffusion_P)\n",
    "    sim.new_type(\"E\", 0.01, Diffusion_E)\n",
    "    sim.delete_all_reactions()\n",
    "    sim.new_enzymatic(\"E+S<->E+S\", 0, 1, 2, intrinsikreactionf, intrinsikreactionb, reactiondistance)\n",
    "    sim.delete_all_particles()\n",
    "    np.random.seed()\n",
    "    for _ in range(300):\n",
    "        \n",
    "         pos = np.random.random(3) * 9.9 - 4.95\n",
    "         sim.add_particle(pos, 0)\n",
    "         #pos = np.random.random(3) * 9.9 - 4.95\n",
    "         #sim.add_particle(pos, 1)\n",
    "         #pos = np.random.random(3) * 9.9 - 4.95\n",
    "         #sim.add_particle(pos, 2)\n",
    "    for _ in range(1):   \n",
    "        pos = np.random.random(3) * 9.9 - 4.95\n",
    "        sim.add_particle(pos, 2)\n",
    "    sim.show_world()\n",
    "    sim.delete_all_observables()\n",
    "    d = datetime.datetime.now()\n",
    "    time=str(getattr(d, 'year','month'))+str(getattr(d,'month'))+str(getattr(d,'day'))+str(getattr(d,'hour'))+str(getattr(d,'minute'))+str(getattr(d,'second'))\n",
    "    numbers_a_name = time+\"numbers_a_test1.h5\"\n",
    "    sim.new_particle_numbers(1, numbers_a_name, 0)\n",
    "    numbers_b_name = time+\"numbers_b_test1.h5\"\n",
    "    mean_e_name = time+\"mean_e_test1.h5\"\n",
    "    sim.new_particle_numbers(1, numbers_b_name, 1)\n",
    "    sim.new_mean_squared_displacement(1,mean_e_name, 2)\n",
    "    sim.run(5000)\n",
    "    sim.write_observables_to_file()\n",
    "    sim.delete_all_observables()\n",
    "    fa = h5.File(numbers_a_name, 'r')\n",
    "    fb = h5.File(numbers_b_name, 'r')\n",
    "    fc = h5.File(mean_e_name, 'r')\n",
    "    return fa , fb ,fc\n"
   ]
  },
  {
   "cell_type": "code",
   "execution_count": 103,
   "metadata": {
    "collapsed": true
   },
   "outputs": [],
   "source": [
    "#hier kommt die berechnung des verhältnisses der reactionskoeffizienten und der Concentration vom enzym\n",
    "def analyt(t,boxsize,Diffusion_E,Diffusion_S,reactiondistance,intrinsikreaction):\n",
    "    #a=((4*np.pi*reactiondistance**3)*(Diffusion_E+Diffusion_S))/((3*boxsize**3)*(Diffusion_E+Diffusion_P))\n",
    "    k1=4*np.pi*2*(Diffusion_E+Diffusion_S)*(reactiondistance-np.sqrt((Diffusion_E+Diffusion_S)/intrinsikreaction)+np.tanh(reactiondistance*np.sqrt(intrinsikreaction/(Diffusion_E+Diffusion_S))))\n",
    "    #t=np.linspace(1,40)\n",
    "    #vor und rück reaction möglich                                        \n",
    "    #c=np.exp(-t*a)*fa['particleNumbers'][0]\n",
    "    #nur vor reaction\n",
    "    k11=intrinsikreaction*4*np.pi*reactiondistance**3/3\n",
    "    c=fa['particleNumbers'][0]*np.exp((-t*k1*1)/(boxsize**3))\n",
    "    c11=fa['particleNumbers'][0]*np.exp((-t*k11*1)/(boxsize**3))\n",
    "\n",
    "    return t, c,c11"
   ]
  },
  {
   "cell_type": "code",
   "execution_count": 104,
   "metadata": {
    "collapsed": false
   },
   "outputs": [
    {
     "name": "stderr",
     "output_type": "stream",
     "text": [
      "2016/05/21 07:59:17 INFO: Run with timestep 0.02 and 1000 timesteps\n",
      "2016/05/21 07:59:30 INFO: Finished after 12.561478 seconds.\n",
      "2016/05/21 07:59:30 INFO: Run with timestep 0.02 and 1000 timesteps\n",
      "2016/05/21 07:59:42 INFO: Finished after 12.505313 seconds.\n",
      "2016/05/21 07:59:42 INFO: Run with timestep 0.02 and 1000 timesteps\n",
      "2016/05/21 07:59:55 INFO: Finished after 12.335518 seconds.\n",
      "2016/05/21 07:59:55 INFO: Run with timestep 0.02 and 1000 timesteps\n",
      "2016/05/21 08:00:07 INFO: Finished after 12.181473 seconds.\n"
     ]
    },
    {
     "data": {
      "text/plain": [
       "<matplotlib.legend.Legend at 0x7f6d0b1e5d90>"
      ]
     },
     "execution_count": 104,
     "metadata": {},
     "output_type": "execute_result"
    }
   ],
   "source": [
    "colors = iter(cm.rainbow(np.linspace(0, 1, 4)))\n",
    "for i in [2,8,20,48]:\n",
    "    boxsize=10.\n",
    "    Diffusion_E=i\n",
    "    Diffusion_S=i\n",
    "    Diffusion_P=10\n",
    "    reactiondistance=4\n",
    "    intrinsikreaction=20\n",
    "    colornow=next(colors)\n",
    "    #falist=[]\n",
    "    #for ii in range(1):\n",
    "    fa,fb,fc=simulation(boxsize,Diffusion_E,Diffusion_S,Diffusion_P,reactiondistance,intrinsikreaction)\n",
    "    #    falist.append(fa['particleNumbers'])\n",
    "\n",
    "    #falist=np.array(falist)\n",
    "    t,c,c11=analyt(np.array(fa['times']),boxsize,Diffusion_E,Diffusion_S,reactiondistance,intrinsikreaction)\n",
    "    #paertnum=falist.mean(axis=0)   \n",
    "    plt.plot(fa['times'], fa['particleNumbers'],color=colornow,label=\"$D_S+D_E$=$%.2f$\" %(2*i))\n",
    "    plt.plot(t,c,color=colornow)\n",
    "    \n",
    "plt.plot(t,c11,color=colornow)\n",
    "plt.legend()"
   ]
  },
  {
   "cell_type": "code",
   "execution_count": 105,
   "metadata": {
    "collapsed": false
   },
   "outputs": [],
   "source": [
    "plt.show()\n"
   ]
  },
  {
   "cell_type": "code",
   "execution_count": 106,
   "metadata": {
    "collapsed": false
   },
   "outputs": [],
   "source": [
    "#hier kommt die berechnung des verhältnisses der reactionskoeffizienten und der Concentration vom enzym\n",
    "def analyt1(t,boxsize,Diffusion_E,Diffusion_S,Diffusion_P,reactiondistance,intrinsikreactionf,intrinsikreactionb):\n",
    "    #a=((4*np.pi*reactiondistance**3)*(Diffusion_E+Diffusion_S))/((3*boxsize**3)*(Diffusion_E+Diffusion_P))\n",
    "    k1=4*np.pi*(Diffusion_E+Diffusion_S)*(reactiondistance-np.sqrt((Diffusion_E+Diffusion_S)/intrinsikreactionf)+np.tanh(reactiondistance*np.sqrt(intrinsikreactionf/(Diffusion_E+Diffusion_S))))\n",
    "    k2=4*np.pi*(Diffusion_E+Diffusion_P)*(reactiondistance-np.sqrt((Diffusion_E+Diffusion_P)/intrinsikreactionb)+np.tanh(reactiondistance*np.sqrt(intrinsikreactionb/(Diffusion_E+Diffusion_P))))\n",
    "\n",
    "    #t=np.linspace(1,40)\n",
    "    #vor und rück reaction möglich                                        \n",
    "    #c=np.exp(-t*a)*fa['particleNumbers'][0]\n",
    "    #nur vor reaction\n",
    "    #k11=intrinsikreaction*4*np.pi*reactiondistance**3/3\n",
    "    \n",
    "    c=fa['particleNumbers'][0]*np.exp((-t*(k1+k2)*30.)/(boxsize**3))+((k2)/(k1+k2))\n",
    "    c11=((1-((k2)/(k1+k2)))*np.exp((-t*(k1+k2)*1.)/(boxsize**3))+((k2)/(k1+k2)))\n",
    "    \n",
    "\n",
    "    return t, c, c11"
   ]
  },
  {
   "cell_type": "code",
   "execution_count": 101,
   "metadata": {
    "collapsed": false
   },
   "outputs": [
    {
     "name": "stderr",
     "output_type": "stream",
     "text": [
      "2016/05/21 04:32:49 INFO: Run with timestep 0.5 and 5000 timesteps\n",
      "2016/05/21 04:33:20 INFO: Finished after 31.189135 seconds.\n",
      "2016/05/21 04:33:21 INFO: Run with timestep 0.5 and 5000 timesteps\n",
      "2016/05/21 04:33:52 INFO: Finished after 30.766745 seconds.\n"
     ]
    },
    {
     "name": "stdout",
     "output_type": "stream",
     "text": [
      "278\n",
      "279"
     ]
    },
    {
     "name": "stderr",
     "output_type": "stream",
     "text": [
      "2016/05/21 04:33:53 INFO: Run with timestep 0.5 and 5000 timesteps\n",
      "2016/05/21 04:34:24 INFO: Finished after 31.262619 seconds.\n"
     ]
    },
    {
     "name": "stdout",
     "output_type": "stream",
     "text": [
      "\n",
      "280"
     ]
    },
    {
     "name": "stderr",
     "output_type": "stream",
     "text": [
      "2016/05/21 04:34:25 INFO: Run with timestep 0.5 and 5000 timesteps\n",
      "2016/05/21 04:34:56 INFO: Finished after 30.794601 seconds.\n"
     ]
    },
    {
     "name": "stdout",
     "output_type": "stream",
     "text": [
      "\n",
      "297\n"
     ]
    }
   ],
   "source": [
    "#basic reaction\n",
    "colors = iter(cm.rainbow(np.linspace(0, 1, 4)))\n",
    "for i in [2,8,20,48]:\n",
    "    boxsize=200.\n",
    "    Diffusion_E=i\n",
    "    Diffusion_S=i\n",
    "    Diffusion_P=i\n",
    "    reactiondistance=5\n",
    "    intrinsikreactionf=1\n",
    "    intrinsikreactionb=20\n",
    "    colornow=next(colors)\n",
    "   \n",
    "    fa,fb,fc=forthandback(boxsize,Diffusion_E,Diffusion_S,Diffusion_P,reactiondistance,intrinsikreactionf,intrinsikreactionb)\n",
    "    a=[]\n",
    "    for i in fa['particleNumbers']:\n",
    "        a.append(fa['particleNumbers'][i])\n",
    "    a=np.array(a)\n",
    "    print fa['particleNumbers'][1]\n",
    "    t,c,c11=analyt1(np.array(fa['times']),boxsize,Diffusion_E,Diffusion_S,Diffusion_P,reactiondistance,intrinsikreactionf,intrinsikreactionb) \n",
    "    plt.plot(fa['times'],fa['particleNumbers'],label=\"$D_S+D_E$=$%.2f$\" %(2*i))\n",
    "    plt.plot(t,c11,color=colornow)\n",
    "    \n",
    "\n",
    "plt.legend()\n",
    "plt.show()"
   ]
  },
  {
   "cell_type": "code",
   "execution_count": 68,
   "metadata": {
    "collapsed": false
   },
   "outputs": [
    {
     "name": "stderr",
     "output_type": "stream",
     "text": [
      "2016/05/21 04:01:01 INFO: Run with timestep 0.02 and 1000 timesteps\n",
      "2016/05/21 04:01:13 INFO: Finished after 12.34485 seconds.\n",
      "2016/05/21 04:01:13 INFO: Run with timestep 0.02 and 1000 timesteps\n",
      "2016/05/21 04:01:26 INFO: Finished after 12.484076 seconds.\n",
      "2016/05/21 04:01:26 INFO: Run with timestep 0.02 and 1000 timesteps\n",
      "2016/05/21 04:01:38 INFO: Finished after 12.302898 seconds.\n",
      "2016/05/21 04:01:38 INFO: Run with timestep 0.02 and 1000 timesteps\n",
      "2016/05/21 04:01:51 INFO: Finished after 12.308786 seconds.\n"
     ]
    }
   ],
   "source": [
    "#basic reaction\n",
    "colors = iter(cm.rainbow(np.linspace(0, 1, 4)))\n",
    "for i in [2,8,20,48]:\n",
    "    boxsize=13.\n",
    "    Diffusion_E=i\n",
    "    Diffusion_S=i\n",
    "    Diffusion_P=10\n",
    "    reactiondistance=4\n",
    "    intrinsikreactionf=20\n",
    "    intrinsikreactionb=10\n",
    "    colornow=next(colors)\n",
    "    #k1=4*np.pi*2*(Diffusion_E+Diffusion_S)*(reactiondistance-np.sqrt((Diffusion_E+Diffusion_S)/intrinsikreactionf)+np.tanh(reactiondistance*np.sqrt(intrinsikreactionf/(Diffusion_E+Diffusion_S))))\n",
    "    #k2=4*np.pi*2*(Diffusion_E+Diffusion_P)*(reactiondistance-np.sqrt((Diffusion_E+Diffusion_P)/intrinsikreactionb)+np.tanh(reactiondistance*np.sqrt(intrinsikreactionb/(Diffusion_E+Diffusion_P))))\n",
    "    #print k1/k2\n",
    "    fa,fb,fc=forthandback(boxsize,Diffusion_E,Diffusion_S,Diffusion_P,reactiondistance,intrinsikreactionf,intrinsikreactionb)\n",
    "    t,c,c11=analyt1(np.array(fa['times']),boxsize,Diffusion_E,Diffusion_S,reactiondistance,intrinsikreactionf,intrinsikreactionb) \n",
    "    plt.plot(fa['times'], fa['particleNumbers']/fa['particleNumbers'][0],color=colornow,label=\"$D_S+D_E$=$%.2f$\" %(2*i))\n",
    "    #plt.plot(t,c,color=colornow)\n",
    "    plt.plot(t,c11,color=colornow)\n",
    "plt.legend()\n",
    "plt.show()"
   ]
  },
  {
   "cell_type": "code",
   "execution_count": 54,
   "metadata": {
    "collapsed": false
   },
   "outputs": [
    {
     "name": "stdout",
     "output_type": "stream",
     "text": [
      "4825.48631591\n",
      "2412.74315796\n"
     ]
    }
   ],
   "source": [
    "k1=4*np.pi*2*(Diffusion_E+Diffusion_S)*(reactiondistance-np.sqrt((Diffusion_E+Diffusion_S)/intrinsikreactionf)+np.tanh(reactiondistance*np.sqrt(intrinsikreactionf/(Diffusion_E+Diffusion_S))))\n",
    "k2=4*np.pi*2*(Diffusion_E+Diffusion_S)*(reactiondistance-np.sqrt((Diffusion_E+Diffusion_S)/intrinsikreactionb)+np.tanh(reactiondistance*np.sqrt(intrinsikreactionb/(Diffusion_E+Diffusion_S))))\n",
    "print k1\n",
    "print k2"
   ]
  },
  {
   "cell_type": "code",
   "execution_count": null,
   "metadata": {
    "collapsed": true
   },
   "outputs": [],
   "source": []
  }
 ],
 "metadata": {
  "kernelspec": {
   "display_name": "Python 2",
   "language": "python",
   "name": "python2"
  },
  "language_info": {
   "codemirror_mode": {
    "name": "ipython",
    "version": 2
   },
   "file_extension": ".py",
   "mimetype": "text/x-python",
   "name": "python",
   "nbconvert_exporter": "python",
   "pygments_lexer": "ipython2",
   "version": "2.7.11"
  }
 },
 "nbformat": 4,
 "nbformat_minor": 0
}
