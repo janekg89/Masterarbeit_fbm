{
 "cells": [
  {
   "cell_type": "code",
   "execution_count": 2,
   "metadata": {
    "collapsed": false
   },
   "outputs": [],
   "source": [
    "import numpy as np\n",
    "import revreaddy as rdy\n",
    "import logging\n",
    "import datetime\n",
    "import h5py as h5\n",
    "import matplotlib.cm as cm\n",
    "\n",
    "import time\n",
    "import random\n",
    "import string\n",
    "\n",
    "import matplotlib.pyplot as plt\n",
    "reload(logging)\n",
    "logging.basicConfig(\n",
    "     format='%(asctime)s %(levelname)s: %(message)s',\n",
    "     datefmt='%Y/%m/%d %I:%M:%S',\n",
    "     level=logging.DEBUG\n",
    "    )"
   ]
  },
  {
   "cell_type": "code",
   "execution_count": 3,
   "metadata": {
    "collapsed": true
   },
   "outputs": [],
   "source": [
    "def stamp():\n",
    "    \n",
    "    \n",
    "    timestamp = time.strftime(\"%Y_%m_%d-%H_%M_%S\")\n",
    "    randomstamp = ''.join(random.choice(string.ascii_uppercase + string.digits) for _ in range(6))\n",
    "    stamp = timestamp + \"_\" + randomstamp\n",
    "    return stamp\n",
    "\n"
   ]
  },
  {
   "cell_type": "code",
   "execution_count": null,
   "metadata": {
    "collapsed": false
   },
   "outputs": [],
   "source": []
  },
  {
   "cell_type": "markdown",
   "metadata": {},
   "source": [
    "make envirement \n"
   ]
  },
  {
   "cell_type": "code",
   "execution_count": 4,
   "metadata": {
    "collapsed": false
   },
   "outputs": [],
   "source": [
    "def envirement(reactiondistance):\n",
    "    positions=[]\n",
    "    posenzyme = [0,0,0]\n",
    "    amountenzyme = 0\n",
    "    while amountenzyme < 1000:\n",
    "        #todo periodic boundaryconditions !!!!\n",
    "        pos = np.random.random(3) * 19.999 - 9.999\n",
    "        distance=np.sqrt((posenzyme[0]-pos[0])**2+(posenzyme[1]-pos[1])**2+(posenzyme[2]-pos[2])**2)\n",
    "        if distance > reactiondistance:\n",
    "            amountenzyme+=1\n",
    "            positions.append(pos)\n",
    "    positions=np.array(positions)\n",
    "    return positions,posenzyme\n",
    "         \n",
    "        \n",
    "        "
   ]
  },
  {
   "cell_type": "code",
   "execution_count": 5,
   "metadata": {
    "collapsed": false
   },
   "outputs": [],
   "source": [
    "#visuallisierung von dem zufällig vereilten Punkten im Raum\n",
    "from mpl_toolkits.mplot3d import Axes3D\n",
    "positions,enzymepos= envirement(0.7)\n",
    "fig = plt.figure()\n",
    "ax = plt.axes(projection='3d')\n",
    "\n",
    "z = positions[:,0]\n",
    "x = positions[:,1]\n",
    "y = positions[:,2]\n",
    "\n",
    "c = x + y\n",
    "\n",
    "ax.scatter(x, y, z,c=\"b\")\n",
    "ax.scatter(enzymepos[1],enzymepos[2],enzymepos[0],c=\"r\")\n",
    "\n",
    "plt.show(fig)"
   ]
  },
  {
   "cell_type": "code",
   "execution_count": 6,
   "metadata": {
    "collapsed": false
   },
   "outputs": [],
   "source": [
    "def simulationfrac(boxsize,Diffusion_E,Diffusion_S,Diffusion_P,reactiondistance,intrinsikreaction):\n",
    "    print \"fractional\" \n",
    "    sim = rdy.Sim(\"FractionalDiffusion\")\n",
    "    print \"FractionalDiffusion\"\n",
    "    sim.kt = 2.437 # kJ/mol -> ~300 K\n",
    "    sim.alpha = 0.5\n",
    "    sim.timestep = 1 # ns\n",
    "    sim.boxsize = boxsize# nm\n",
    "    sim.delete_all_particle_types() # also deletes all interactions etc.\n",
    "    sim.new_type(\"S\", 0.01, Diffusion_S)\n",
    "    sim.new_type(\"P\", 0.01, Diffusion_P)\n",
    "    sim.new_type(\"E\", 0.01, Diffusion_E)\n",
    "    sim.delete_all_reactions()\n",
    "    sim.new_enzymatic(\"E+S<->E+S\", 0, 1, 2, intrinsikreaction, 0.1, reactiondistance)\n",
    "    sim.delete_all_particles()\n",
    "    for i in range(500):\n",
    "        pos = positions[i,:]\n",
    "        sim.add_particle(pos, 0)\n",
    "        #pos = np.random.random(3) * 9.9 - 4.95\n",
    "        #sim.add_particle(pos, 1)\n",
    "        #pos = np.random.random(3) * 9.9 - 4.95\n",
    "        #sim.add_particle(pos, 2)\n",
    "    for _ in range(1):      \n",
    "        sim.add_particle(posenzyme, 2)\n",
    "    sim.show_world()\n",
    "    sim.delete_all_observables()\n",
    "    numbers_a_name = stamp()+\"numbers_a_test1.h5\"\n",
    "    sim.new_particle_numbers(1, numbers_a_name, 0)\n",
    "    numbers_b_name = stamp()+\"numbers_b_test1.h5\"\n",
    "    mean_e_name = stamp()+\"mean_e_test1.h5\"\n",
    "    sim.new_particle_numbers(1, numbers_b_name, 1)\n",
    "    print \"NUMBERS A:\", numbers_a_name\n",
    "    print \"NUMBERS B:\", numbers_b_name\n",
    "    sim.new_mean_squared_displacement(1,mean_e_name, 2)\n",
    "    sim.run(3000)\n",
    "    sim.write_observables_to_file()\n",
    "    sim.delete_all_observables()\n",
    "    fa = h5.File(numbers_a_name, 'r')\n",
    "    fb = h5.File(numbers_b_name, 'r')\n",
    "    fc = h5.File(mean_e_name, 'r')\n",
    "    return fa , fb, fc\n"
   ]
  },
  {
   "cell_type": "code",
   "execution_count": 7,
   "metadata": {
    "collapsed": false
   },
   "outputs": [],
   "source": [
    "def simulation(boxsize,Diffusion_E,Diffusion_S,Diffusion_P,reactiondistance,intrinsikreaction):\n",
    "    sim = rdy.Sim()\n",
    "    sim.kt = 2.437 # kJ/mol -> ~300 K\n",
    "    sim.alpha = 0.5\n",
    "    sim.timestep = 1 # ns\n",
    "    sim.boxsize = boxsize# nm\n",
    "    sim.delete_all_particle_types() # also deletes all interactions etc.\n",
    "    sim.new_type(\"S\", 0.01, Diffusion_S)\n",
    "    sim.new_type(\"P\", 0.01, Diffusion_P)\n",
    "    sim.new_type(\"E\", 0.01, Diffusion_E)\n",
    "    sim.delete_all_reactions()\n",
    "    sim.new_enzymatic(\"E+S<->E+S\", 0, 1, 2, intrinsikreaction, 0.1, reactiondistance)\n",
    "    sim.delete_all_particles()\n",
    "    for i in range(500):\n",
    "        pos = positions[i,:]\n",
    "        sim.add_particle(pos, 0)\n",
    "        #pos = np.random.random(3) * 9.9 - 4.95\n",
    "        #sim.add_particle(pos, 1)\n",
    "        #pos = np.random.random(3) * 9.9 - 4.95\n",
    "        #sim.add_particle(pos, 2)\n",
    "    for _ in range(1):      \n",
    "        sim.add_particle(posenzyme, 2)\n",
    "    sim.show_world()\n",
    "    sim.delete_all_observables()\n",
    "    numbers_a_name = stamp()+\"numbers_a_test1.h5\"\n",
    "    sim.new_particle_numbers(1, numbers_a_name, 0)\n",
    "    numbers_b_name = stamp()+\"numbers_b_test1.h5\"\n",
    "    mean_e_name = stamp()+\"mean_e_test1.h5\"\n",
    "    sim.new_particle_numbers(1, numbers_b_name, 1)\n",
    "    print \"NUMBERS A:\", numbers_a_name\n",
    "    print \"NUMBERS B:\", numbers_b_name\n",
    "    sim.new_mean_squared_displacement(1,mean_e_name, 2)\n",
    "    sim.run(3000)\n",
    "    sim.write_observables_to_file()\n",
    "    sim.delete_all_observables()\n",
    "    fa = h5.File(numbers_a_name, 'r')\n",
    "    fb = h5.File(numbers_b_name, 'r')\n",
    "    fc = h5.File(mean_e_name, 'r')\n",
    "    return fa , fb, fc\n"
   ]
  },
  {
   "cell_type": "code",
   "execution_count": null,
   "metadata": {
    "collapsed": false
   },
   "outputs": [],
   "source": []
  },
  {
   "cell_type": "code",
   "execution_count": 8,
   "metadata": {
    "collapsed": true
   },
   "outputs": [],
   "source": [
    "#hier kommt die berechnung des verhältnisses der reactionskoeffizienten und der Concentration vom enzym\n",
    "def analyt(t,boxsize,Diffusion_E,Diffusion_S,reactiondistance,intrinsikreaction):\n",
    "    #a=((4*np.pi*reactiondistance**3)*(Diffusion_E+Diffusion_S))/((3*boxsize**3)*(Diffusion_E+Diffusion_P))\n",
    "    k1=4*np.pi*2*(Diffusion_E+Diffusion_S)*(reactiondistance-np.sqrt((Diffusion_E+Diffusion_S)/intrinsikreaction)+np.tanh(reactiondistance*np.sqrt(intrinsikreaction/(Diffusion_E+Diffusion_S))))\n",
    "    #t=np.linspace(1,40)\n",
    "    #vor und rück reaction möglich                                        \n",
    "    #c=np.exp(-t*a)*fa['particleNumbers'][0]\n",
    "    #nur vor reaction\n",
    "    k11=intrinsikreaction*4*np.pi*reactiondistance**3/3\n",
    "    c=fa['particleNumbers'][2]*(np.exp((-t*k1*1)/(boxsize**3)))\n",
    "    c11=fa['particleNumbers'][0]*np.exp((-t*k11*1)/(boxsize**3))\n",
    "\n",
    "    return t, c,c11"
   ]
  },
  {
   "cell_type": "markdown",
   "metadata": {},
   "source": [
    "target search problem: intrinsic reaction rate = infinity , fractional vs browian motion Particle number comparision.  Starting scenario: 1 Enzyme, 200 Substrate, boxsize 20, Diffusion coefficient of substrate and enzyme = 1.5"
   ]
  },
  {
   "cell_type": "code",
   "execution_count": 14,
   "metadata": {
    "collapsed": false
   },
   "outputs": [
    {
     "name": "stderr",
     "output_type": "stream",
     "text": [
      "2016/08/29 01:40:48 INFO: There are either no particles or too much (>200) to list them here.\n",
      "2016/08/29 01:40:48 INFO: Run with timestep 1.0 and 3000 timesteps\n",
      "2016/08/29 01:40:51 INFO: Finished after 2.726093 seconds.\n"
     ]
    },
    {
     "name": "stdout",
     "output_type": "stream",
     "text": [
      "0\n",
      "Number of particles:  501\n",
      "TypeId | Number of particles\n",
      "====== | ===================\n",
      "0      | 500                \n",
      "1      | 0                  \n",
      "2      | 1                  \n",
      " \n",
      "NUMBERS A: 2016_08_29-13_40_48_698EGZnumbers_a_test1.h5\n",
      "NUMBERS B: 2016_08_29-13_40_48_AWQ5PDnumbers_b_test1.h5\n",
      "fractional"
     ]
    },
    {
     "name": "stderr",
     "output_type": "stream",
     "text": [
      "2016/08/29 01:40:51 INFO: There are either no particles or too much (>200) to list them here.\n",
      "2016/08/29 01:40:51 INFO: Run with timestep 1.0 and 3000 timesteps\n"
     ]
    },
    {
     "name": "stdout",
     "output_type": "stream",
     "text": [
      "\n",
      "FractionalDiffusion\n",
      "Number of particles:  501\n",
      "TypeId | Number of particles\n",
      "====== | ===================\n",
      "0      | 500                \n",
      "1      | 0                  \n",
      "2      | 1                  \n",
      " \n",
      "NUMBERS A: 2016_08_29-13_40_51_FPSNXWnumbers_a_test1.h5\n",
      "NUMBERS B: 2016_08_29-13_40_51_LCA5CUnumbers_b_test1.h5\n"
     ]
    },
    {
     "ename": "KeyboardInterrupt",
     "evalue": "",
     "output_type": "error",
     "traceback": [
      "\u001b[1;31m---------------------------------------------------------------------------\u001b[0m",
      "\u001b[1;31mKeyboardInterrupt\u001b[0m                         Traceback (most recent call last)",
      "\u001b[1;32m<ipython-input-14-05d29a4d3851>\u001b[0m in \u001b[0;36m<module>\u001b[1;34m()\u001b[0m\n\u001b[0;32m     18\u001b[0m         \u001b[1;32mprint\u001b[0m \u001b[0mii\u001b[0m\u001b[1;33m\u001b[0m\u001b[0m\n\u001b[0;32m     19\u001b[0m         \u001b[0mfa\u001b[0m\u001b[1;33m,\u001b[0m\u001b[0mfb\u001b[0m\u001b[1;33m,\u001b[0m\u001b[0mfc\u001b[0m\u001b[1;33m=\u001b[0m\u001b[0msimulation\u001b[0m\u001b[1;33m(\u001b[0m\u001b[0mboxsize\u001b[0m\u001b[1;33m,\u001b[0m\u001b[0mDiffusion_E\u001b[0m\u001b[1;33m,\u001b[0m\u001b[0mDiffusion_S\u001b[0m\u001b[1;33m,\u001b[0m\u001b[0mDiffusion_P\u001b[0m\u001b[1;33m,\u001b[0m\u001b[0mreactiondistance\u001b[0m\u001b[1;33m,\u001b[0m\u001b[0mintrinsikreaction\u001b[0m\u001b[1;33m)\u001b[0m \u001b[1;31m#,fc\u001b[0m\u001b[1;33m\u001b[0m\u001b[0m\n\u001b[1;32m---> 20\u001b[1;33m         \u001b[0mfaf\u001b[0m\u001b[1;33m,\u001b[0m\u001b[0mfbf\u001b[0m\u001b[1;33m,\u001b[0m\u001b[0mfcf\u001b[0m\u001b[1;33m=\u001b[0m\u001b[0msimulationfrac\u001b[0m\u001b[1;33m(\u001b[0m\u001b[0mboxsize\u001b[0m\u001b[1;33m,\u001b[0m\u001b[0mDiffusion_E\u001b[0m\u001b[1;33m,\u001b[0m\u001b[0mDiffusion_S\u001b[0m\u001b[1;33m,\u001b[0m\u001b[0mDiffusion_P\u001b[0m\u001b[1;33m,\u001b[0m\u001b[0mreactiondistance\u001b[0m\u001b[1;33m,\u001b[0m\u001b[0mintrinsikreaction\u001b[0m\u001b[1;33m)\u001b[0m \u001b[1;31m#,fc\u001b[0m\u001b[1;33m\u001b[0m\u001b[0m\n\u001b[0m\u001b[0;32m     21\u001b[0m         \u001b[0mfalist\u001b[0m\u001b[1;33m.\u001b[0m\u001b[0mappend\u001b[0m\u001b[1;33m(\u001b[0m\u001b[0mfa\u001b[0m\u001b[1;33m[\u001b[0m\u001b[1;34m'particleNumbers'\u001b[0m\u001b[1;33m]\u001b[0m\u001b[1;33m)\u001b[0m\u001b[1;33m\u001b[0m\u001b[0m\n\u001b[0;32m     22\u001b[0m         \u001b[0mfaflist\u001b[0m\u001b[1;33m.\u001b[0m\u001b[0mappend\u001b[0m\u001b[1;33m(\u001b[0m\u001b[0mfaf\u001b[0m\u001b[1;33m[\u001b[0m\u001b[1;34m'particleNumbers'\u001b[0m\u001b[1;33m]\u001b[0m\u001b[1;33m)\u001b[0m\u001b[1;33m\u001b[0m\u001b[0m\n",
      "\u001b[1;32m<ipython-input-6-7b9280008a86>\u001b[0m in \u001b[0;36msimulationfrac\u001b[1;34m(boxsize, Diffusion_E, Diffusion_S, Diffusion_P, reactiondistance, intrinsikreaction)\u001b[0m\n\u001b[0;32m     33\u001b[0m     \u001b[1;32mprint\u001b[0m \u001b[1;34m\"NUMBERS B:\"\u001b[0m\u001b[1;33m,\u001b[0m \u001b[0mnumbers_b_name\u001b[0m\u001b[1;33m\u001b[0m\u001b[0m\n\u001b[0;32m     34\u001b[0m     \u001b[0msim\u001b[0m\u001b[1;33m.\u001b[0m\u001b[0mnew_mean_squared_displacement\u001b[0m\u001b[1;33m(\u001b[0m\u001b[1;36m1\u001b[0m\u001b[1;33m,\u001b[0m\u001b[0mmean_e_name\u001b[0m\u001b[1;33m,\u001b[0m \u001b[1;36m2\u001b[0m\u001b[1;33m)\u001b[0m\u001b[1;33m\u001b[0m\u001b[0m\n\u001b[1;32m---> 35\u001b[1;33m     \u001b[0msim\u001b[0m\u001b[1;33m.\u001b[0m\u001b[0mrun\u001b[0m\u001b[1;33m(\u001b[0m\u001b[1;36m3000\u001b[0m\u001b[1;33m)\u001b[0m\u001b[1;33m\u001b[0m\u001b[0m\n\u001b[0m\u001b[0;32m     36\u001b[0m     \u001b[0msim\u001b[0m\u001b[1;33m.\u001b[0m\u001b[0mwrite_observables_to_file\u001b[0m\u001b[1;33m(\u001b[0m\u001b[1;33m)\u001b[0m\u001b[1;33m\u001b[0m\u001b[0m\n\u001b[0;32m     37\u001b[0m     \u001b[0msim\u001b[0m\u001b[1;33m.\u001b[0m\u001b[0mdelete_all_observables\u001b[0m\u001b[1;33m(\u001b[0m\u001b[1;33m)\u001b[0m\u001b[1;33m\u001b[0m\u001b[0m\n",
      "\u001b[1;32m/home/mi/janekg89/Dokumente/Masterarbeit/revreaddy/build/Release/revreaddy.pyc\u001b[0m in \u001b[0;36mrun\u001b[1;34m(self, steps, timestep)\u001b[0m\n\u001b[0;32m    221\u001b[0m         \u001b[0mlogging\u001b[0m\u001b[1;33m.\u001b[0m\u001b[0minfo\u001b[0m\u001b[1;33m(\u001b[0m\u001b[1;34m\"Run with timestep \"\u001b[0m \u001b[1;33m+\u001b[0m \u001b[0mstr\u001b[0m\u001b[1;33m(\u001b[0m\u001b[0mself\u001b[0m\u001b[1;33m.\u001b[0m\u001b[0mtimestep\u001b[0m\u001b[1;33m)\u001b[0m \u001b[1;33m+\u001b[0m \u001b[1;34m\" and \"\u001b[0m \u001b[1;33m+\u001b[0m \u001b[0mstr\u001b[0m\u001b[1;33m(\u001b[0m\u001b[0msteps\u001b[0m\u001b[1;33m)\u001b[0m \u001b[1;33m+\u001b[0m \u001b[1;34m\" timesteps\"\u001b[0m\u001b[1;33m)\u001b[0m\u001b[1;33m\u001b[0m\u001b[0m\n\u001b[0;32m    222\u001b[0m         \u001b[0mt1\u001b[0m \u001b[1;33m=\u001b[0m \u001b[0mtime\u001b[0m\u001b[1;33m.\u001b[0m\u001b[0mclock\u001b[0m\u001b[1;33m(\u001b[0m\u001b[1;33m)\u001b[0m\u001b[1;33m\u001b[0m\u001b[0m\n\u001b[1;32m--> 223\u001b[1;33m         \u001b[0mself\u001b[0m\u001b[1;33m.\u001b[0m\u001b[0msimulation\u001b[0m\u001b[1;33m.\u001b[0m\u001b[0mrun\u001b[0m\u001b[1;33m(\u001b[0m\u001b[0msteps\u001b[0m\u001b[1;33m)\u001b[0m\u001b[1;33m\u001b[0m\u001b[0m\n\u001b[0m\u001b[0;32m    224\u001b[0m         \u001b[0mt2\u001b[0m \u001b[1;33m=\u001b[0m \u001b[0mtime\u001b[0m\u001b[1;33m.\u001b[0m\u001b[0mclock\u001b[0m\u001b[1;33m(\u001b[0m\u001b[1;33m)\u001b[0m\u001b[1;33m\u001b[0m\u001b[0m\n\u001b[0;32m    225\u001b[0m         \u001b[0mlogging\u001b[0m\u001b[1;33m.\u001b[0m\u001b[0minfo\u001b[0m\u001b[1;33m(\u001b[0m\u001b[1;34m\"Finished after \"\u001b[0m \u001b[1;33m+\u001b[0m \u001b[0mstr\u001b[0m\u001b[1;33m(\u001b[0m\u001b[0mt2\u001b[0m \u001b[1;33m-\u001b[0m \u001b[0mt1\u001b[0m\u001b[1;33m)\u001b[0m \u001b[1;33m+\u001b[0m \u001b[1;34m\" seconds.\"\u001b[0m\u001b[1;33m)\u001b[0m\u001b[1;33m\u001b[0m\u001b[0m\n",
      "\u001b[1;31mKeyboardInterrupt\u001b[0m: "
     ]
    }
   ],
   "source": [
    "\n",
    "\n",
    "colors = iter(cm.rainbow(np.linspace(0, 1, 4)))\n",
    "for i in [0.2]:\n",
    "    boxsize=30.0\n",
    "    Diffusion_E=i\n",
    "    Diffusion_S=i\n",
    "    Diffusion_P=0.2\n",
    "    reactiondistance=2.0\n",
    "    intrinsikreaction=0.5\n",
    "    colornow=next(colors)\n",
    "    falist=[]\n",
    "    fclist=[]\n",
    "    faflist=[]\n",
    "    averagelist=[]\n",
    "    positions,posenzyme =  envirement(reactiondistance)\n",
    "    for ii in range(15):\n",
    "        print ii\n",
    "        fa,fb,fc=simulation(boxsize,Diffusion_E,Diffusion_S,Diffusion_P,reactiondistance,intrinsikreaction) #,fc\n",
    "        faf,fbf,fcf=simulationfrac(boxsize,Diffusion_E,Diffusion_S,Diffusion_P,reactiondistance,intrinsikreaction) #,fc\n",
    "        falist.append(fa['particleNumbers'])\n",
    "        faflist.append(faf['particleNumbers'])   \n",
    "    falist=np.array(falist) \n",
    "    faflist=np.array(faflist)\n",
    "    paertnum=falist.mean(axis=0) \n",
    "    paertnumf=faflist.mean(axis=0) \n",
    "    plt.plot(fbf['times'], paertnumf,color=colornow,label=\"$D_S+D_E$=$%.2f$ fractional\" %(2*i))\n",
    "    plt.plot(fb['times'], paertnum,color=next(colors),label=\"$D_S+D_E$=$%.2f$ brownian\" %(2*i))\n",
    "plt.ylabel('S(t)', fontsize=10)\n",
    "plt.xlabel('t in ns', fontsize=10)\n",
    "plt.legend()\n",
    "plt.show()"
   ]
  },
  {
   "cell_type": "code",
   "execution_count": null,
   "metadata": {
    "collapsed": true
   },
   "outputs": [],
   "source": []
  },
  {
   "cell_type": "markdown",
   "metadata": {
    "collapsed": false
   },
   "source": [
    "meansquaredisplacment enzyme \n"
   ]
  },
  {
   "cell_type": "code",
   "execution_count": 9,
   "metadata": {
    "collapsed": true
   },
   "outputs": [],
   "source": [
    "def msd_analyt(alpha,dt,t,diffconst):\n",
    "    t=np.linspace(0,t,t)\n",
    "    return 2*3*((t*dt)**alpha)*diffconst"
   ]
  },
  {
   "cell_type": "code",
   "execution_count": 8,
   "metadata": {
    "collapsed": false
   },
   "outputs": [
    {
     "name": "stderr",
     "output_type": "stream",
     "text": [
      "2016/08/09 07:06:34 INFO: There are either no particles or too much (>200) to list them here.\n",
      "2016/08/09 07:06:34 INFO: Run with timestep 1.0 and 3000 timesteps\n",
      "2016/08/09 07:06:37 INFO: Finished after 2.809486 seconds.\n"
     ]
    },
    {
     "name": "stdout",
     "output_type": "stream",
     "text": [
      "0\n",
      "Number of particles:  501\n",
      "TypeId | Number of particles\n",
      "====== | ===================\n",
      "0      | 500                \n",
      "1      | 0                  \n",
      "2      | 1                  \n",
      " \n",
      "NUMBERS A: 2016_08_09-19_06_34_MWSHBLnumbers_a_test1.h5\n",
      "NUMBERS B: 2016_08_09-19_06_34_3WKK8Wnumbers_b_test1.h5\n",
      "fractional"
     ]
    },
    {
     "name": "stderr",
     "output_type": "stream",
     "text": [
      "2016/08/09 07:06:37 INFO: There are either no particles or too much (>200) to list them here.\n",
      "2016/08/09 07:06:37 INFO: Run with timestep 1.0 and 3000 timesteps\n",
      "2016/08/09 07:06:56 INFO: Finished after 19.422037 seconds.\n"
     ]
    },
    {
     "name": "stdout",
     "output_type": "stream",
     "text": [
      "\n",
      "FractionalDiffusion\n",
      "Number of particles:  501\n",
      "TypeId | Number of particles\n",
      "====== | ===================\n",
      "0      | 500                \n",
      "1      | 0                  \n",
      "2      | 1                  \n",
      " \n",
      "NUMBERS A: 2016_08_09-19_06_37_REFLZ5numbers_a_test1.h5\n",
      "NUMBERS B: 2016_08_09-19_06_37_U6QV97numbers_b_test1.h5\n",
      "1"
     ]
    },
    {
     "name": "stderr",
     "output_type": "stream",
     "text": [
      "2016/08/09 07:06:56 INFO: There are either no particles or too much (>200) to list them here.\n",
      "2016/08/09 07:06:56 INFO: Run with timestep 1.0 and 3000 timesteps\n",
      "2016/08/09 07:06:59 INFO: Finished after 2.942474 seconds.\n"
     ]
    },
    {
     "name": "stdout",
     "output_type": "stream",
     "text": [
      "\n",
      "Number of particles:  501\n",
      "TypeId | Number of particles\n",
      "====== | ===================\n",
      "0      | 500                \n",
      "1      | 0                  \n",
      "2      | 1                  \n",
      " \n",
      "NUMBERS A: 2016_08_09-19_06_56_ARJFEAnumbers_a_test1.h5\n",
      "NUMBERS B: 2016_08_09-19_06_56_KFMOYYnumbers_b_test1.h5\n",
      "fractional"
     ]
    },
    {
     "name": "stderr",
     "output_type": "stream",
     "text": [
      "2016/08/09 07:06:59 INFO: There are either no particles or too much (>200) to list them here.\n",
      "2016/08/09 07:06:59 INFO: Run with timestep 1.0 and 3000 timesteps\n",
      "2016/08/09 07:07:18 INFO: Finished after 19.027621 seconds.\n"
     ]
    },
    {
     "name": "stdout",
     "output_type": "stream",
     "text": [
      "\n",
      "FractionalDiffusion\n",
      "Number of particles:  501\n",
      "TypeId | Number of particles\n",
      "====== | ===================\n",
      "0      | 500                \n",
      "1      | 0                  \n",
      "2      | 1                  \n",
      " \n",
      "NUMBERS A: 2016_08_09-19_06_59_OXMYUNnumbers_a_test1.h5\n",
      "NUMBERS B: 2016_08_09-19_06_59_GQBDWRnumbers_b_test1.h5\n",
      "2"
     ]
    },
    {
     "name": "stderr",
     "output_type": "stream",
     "text": [
      "2016/08/09 07:07:18 INFO: There are either no particles or too much (>200) to list them here.\n",
      "2016/08/09 07:07:18 INFO: Run with timestep 1.0 and 3000 timesteps\n",
      "2016/08/09 07:07:21 INFO: Finished after 2.886407 seconds.\n"
     ]
    },
    {
     "name": "stdout",
     "output_type": "stream",
     "text": [
      "\n",
      "Number of particles:  501\n",
      "TypeId | Number of particles\n",
      "====== | ===================\n",
      "0      | 500                \n",
      "1      | 0                  \n",
      "2      | 1                  \n",
      " \n",
      "NUMBERS A: 2016_08_09-19_07_18_XXTF66numbers_a_test1.h5\n",
      "NUMBERS B: 2016_08_09-19_07_18_MLM4NWnumbers_b_test1.h5\n",
      "fractional"
     ]
    },
    {
     "name": "stderr",
     "output_type": "stream",
     "text": [
      "2016/08/09 07:07:21 INFO: There are either no particles or too much (>200) to list them here.\n",
      "2016/08/09 07:07:21 INFO: Run with timestep 1.0 and 3000 timesteps\n",
      "2016/08/09 07:07:41 INFO: Finished after 19.436033 seconds.\n"
     ]
    },
    {
     "name": "stdout",
     "output_type": "stream",
     "text": [
      "\n",
      "FractionalDiffusion\n",
      "Number of particles:  501\n",
      "TypeId | Number of particles\n",
      "====== | ===================\n",
      "0      | 500                \n",
      "1      | 0                  \n",
      "2      | 1                  \n",
      " \n",
      "NUMBERS A: 2016_08_09-19_07_21_XRNYUXnumbers_a_test1.h5\n",
      "NUMBERS B: 2016_08_09-19_07_21_HRIK07numbers_b_test1.h5\n",
      "3"
     ]
    },
    {
     "name": "stderr",
     "output_type": "stream",
     "text": [
      "2016/08/09 07:07:41 INFO: There are either no particles or too much (>200) to list them here.\n",
      "2016/08/09 07:07:41 INFO: Run with timestep 1.0 and 3000 timesteps\n",
      "2016/08/09 07:07:43 INFO: Finished after 2.857814 seconds.\n"
     ]
    },
    {
     "name": "stdout",
     "output_type": "stream",
     "text": [
      "\n",
      "Number of particles:  501\n",
      "TypeId | Number of particles\n",
      "====== | ===================\n",
      "0      | 500                \n",
      "1      | 0                  \n",
      "2      | 1                  \n",
      " \n",
      "NUMBERS A: 2016_08_09-19_07_41_ZW5EK6numbers_a_test1.h5\n",
      "NUMBERS B: 2016_08_09-19_07_41_QYTSQBnumbers_b_test1.h5\n",
      "fractional"
     ]
    },
    {
     "name": "stderr",
     "output_type": "stream",
     "text": [
      "2016/08/09 07:07:43 INFO: There are either no particles or too much (>200) to list them here.\n",
      "2016/08/09 07:07:43 INFO: Run with timestep 1.0 and 3000 timesteps\n",
      "2016/08/09 07:08:03 INFO: Finished after 19.078213 seconds.\n"
     ]
    },
    {
     "name": "stdout",
     "output_type": "stream",
     "text": [
      "\n",
      "FractionalDiffusion\n",
      "Number of particles:  501\n",
      "TypeId | Number of particles\n",
      "====== | ===================\n",
      "0      | 500                \n",
      "1      | 0                  \n",
      "2      | 1                  \n",
      " \n",
      "NUMBERS A: 2016_08_09-19_07_43_T19TDHnumbers_a_test1.h5\n",
      "NUMBERS B: 2016_08_09-19_07_43_1FTJ9Enumbers_b_test1.h5\n",
      "4"
     ]
    },
    {
     "name": "stderr",
     "output_type": "stream",
     "text": [
      "2016/08/09 07:08:03 INFO: There are either no particles or too much (>200) to list them here.\n",
      "2016/08/09 07:08:03 INFO: Run with timestep 1.0 and 3000 timesteps\n",
      "2016/08/09 07:08:05 INFO: Finished after 2.789747 seconds.\n"
     ]
    },
    {
     "name": "stdout",
     "output_type": "stream",
     "text": [
      "\n",
      "Number of particles:  501\n",
      "TypeId | Number of particles\n",
      "====== | ===================\n",
      "0      | 500                \n",
      "1      | 0                  \n",
      "2      | 1                  \n",
      " \n",
      "NUMBERS A: 2016_08_09-19_08_03_K7KOGRnumbers_a_test1.h5\n",
      "NUMBERS B: 2016_08_09-19_08_03_0G7R7Unumbers_b_test1.h5\n",
      "fractional"
     ]
    },
    {
     "name": "stderr",
     "output_type": "stream",
     "text": [
      "2016/08/09 07:08:05 INFO: There are either no particles or too much (>200) to list them here.\n",
      "2016/08/09 07:08:05 INFO: Run with timestep 1.0 and 3000 timesteps\n",
      "2016/08/09 07:08:25 INFO: Finished after 19.650476 seconds.\n"
     ]
    },
    {
     "name": "stdout",
     "output_type": "stream",
     "text": [
      "\n",
      "FractionalDiffusion\n",
      "Number of particles:  501\n",
      "TypeId | Number of particles\n",
      "====== | ===================\n",
      "0      | 500                \n",
      "1      | 0                  \n",
      "2      | 1                  \n",
      " \n",
      "NUMBERS A: 2016_08_09-19_08_05_0DVO07numbers_a_test1.h5\n",
      "NUMBERS B: 2016_08_09-19_08_05_S4K46Rnumbers_b_test1.h5\n",
      "5"
     ]
    },
    {
     "name": "stderr",
     "output_type": "stream",
     "text": [
      "2016/08/09 07:08:25 INFO: There are either no particles or too much (>200) to list them here.\n",
      "2016/08/09 07:08:25 INFO: Run with timestep 1.0 and 3000 timesteps\n",
      "2016/08/09 07:08:28 INFO: Finished after 2.778938 seconds.\n"
     ]
    },
    {
     "name": "stdout",
     "output_type": "stream",
     "text": [
      "\n",
      "Number of particles:  501\n",
      "TypeId | Number of particles\n",
      "====== | ===================\n",
      "0      | 500                \n",
      "1      | 0                  \n",
      "2      | 1                  \n",
      " \n",
      "NUMBERS A: 2016_08_09-19_08_25_57TOX3numbers_a_test1.h5\n",
      "NUMBERS B: 2016_08_09-19_08_25_SYB2SEnumbers_b_test1.h5\n",
      "fractional"
     ]
    },
    {
     "name": "stderr",
     "output_type": "stream",
     "text": [
      "2016/08/09 07:08:28 INFO: There are either no particles or too much (>200) to list them here.\n",
      "2016/08/09 07:08:28 INFO: Run with timestep 1.0 and 3000 timesteps\n",
      "2016/08/09 07:08:47 INFO: Finished after 19.245391 seconds.\n"
     ]
    },
    {
     "name": "stdout",
     "output_type": "stream",
     "text": [
      "\n",
      "FractionalDiffusion\n",
      "Number of particles:  501\n",
      "TypeId | Number of particles\n",
      "====== | ===================\n",
      "0      | 500                \n",
      "1      | 0                  \n",
      "2      | 1                  \n",
      " \n",
      "NUMBERS A: 2016_08_09-19_08_28_H5XVUUnumbers_a_test1.h5\n",
      "NUMBERS B: 2016_08_09-19_08_28_QOPHTZnumbers_b_test1.h5\n",
      "6"
     ]
    },
    {
     "name": "stderr",
     "output_type": "stream",
     "text": [
      "2016/08/09 07:08:47 INFO: There are either no particles or too much (>200) to list them here.\n",
      "2016/08/09 07:08:47 INFO: Run with timestep 1.0 and 3000 timesteps\n",
      "2016/08/09 07:08:50 INFO: Finished after 2.752921 seconds.\n"
     ]
    },
    {
     "name": "stdout",
     "output_type": "stream",
     "text": [
      "\n",
      "Number of particles:  501\n",
      "TypeId | Number of particles\n",
      "====== | ===================\n",
      "0      | 500                \n",
      "1      | 0                  \n",
      "2      | 1                  \n",
      " \n",
      "NUMBERS A: 2016_08_09-19_08_47_8DUZKCnumbers_a_test1.h5\n",
      "NUMBERS B: 2016_08_09-19_08_47_OY54K0numbers_b_test1.h5\n",
      "fractional"
     ]
    },
    {
     "name": "stderr",
     "output_type": "stream",
     "text": [
      "2016/08/09 07:08:50 INFO: There are either no particles or too much (>200) to list them here.\n",
      "2016/08/09 07:08:50 INFO: Run with timestep 1.0 and 3000 timesteps\n",
      "2016/08/09 07:09:09 INFO: Finished after 19.231055 seconds.\n"
     ]
    },
    {
     "name": "stdout",
     "output_type": "stream",
     "text": [
      "\n",
      "FractionalDiffusion\n",
      "Number of particles:  501\n",
      "TypeId | Number of particles\n",
      "====== | ===================\n",
      "0      | 500                \n",
      "1      | 0                  \n",
      "2      | 1                  \n",
      " \n",
      "NUMBERS A: 2016_08_09-19_08_50_C8LKMEnumbers_a_test1.h5\n",
      "NUMBERS B: 2016_08_09-19_08_50_HKLVSVnumbers_b_test1.h5\n",
      "7"
     ]
    },
    {
     "name": "stderr",
     "output_type": "stream",
     "text": [
      "2016/08/09 07:09:09 INFO: There are either no particles or too much (>200) to list them here.\n",
      "2016/08/09 07:09:09 INFO: Run with timestep 1.0 and 3000 timesteps\n",
      "2016/08/09 07:09:12 INFO: Finished after 2.757031 seconds.\n"
     ]
    },
    {
     "name": "stdout",
     "output_type": "stream",
     "text": [
      "\n",
      "Number of particles:  501\n",
      "TypeId | Number of particles\n",
      "====== | ===================\n",
      "0      | 500                \n",
      "1      | 0                  \n",
      "2      | 1                  \n",
      " \n",
      "NUMBERS A: 2016_08_09-19_09_09_602SJDnumbers_a_test1.h5\n",
      "NUMBERS B: 2016_08_09-19_09_09_4AKQBGnumbers_b_test1.h5\n",
      "fractional"
     ]
    },
    {
     "name": "stderr",
     "output_type": "stream",
     "text": [
      "2016/08/09 07:09:12 INFO: There are either no particles or too much (>200) to list them here.\n",
      "2016/08/09 07:09:12 INFO: Run with timestep 1.0 and 3000 timesteps\n",
      "2016/08/09 07:09:31 INFO: Finished after 19.381444 seconds.\n"
     ]
    },
    {
     "name": "stdout",
     "output_type": "stream",
     "text": [
      "\n",
      "FractionalDiffusion\n",
      "Number of particles:  501\n",
      "TypeId | Number of particles\n",
      "====== | ===================\n",
      "0      | 500                \n",
      "1      | 0                  \n",
      "2      | 1                  \n",
      " \n",
      "NUMBERS A: 2016_08_09-19_09_12_ROPSWJnumbers_a_test1.h5\n",
      "NUMBERS B: 2016_08_09-19_09_12_H0APXAnumbers_b_test1.h5\n",
      "8"
     ]
    },
    {
     "name": "stderr",
     "output_type": "stream",
     "text": [
      "2016/08/09 07:09:31 INFO: There are either no particles or too much (>200) to list them here.\n",
      "2016/08/09 07:09:31 INFO: Run with timestep 1.0 and 3000 timesteps\n",
      "2016/08/09 07:09:34 INFO: Finished after 2.764267 seconds.\n"
     ]
    },
    {
     "name": "stdout",
     "output_type": "stream",
     "text": [
      "\n",
      "Number of particles:  501\n",
      "TypeId | Number of particles\n",
      "====== | ===================\n",
      "0      | 500                \n",
      "1      | 0                  \n",
      "2      | 1                  \n",
      " \n",
      "NUMBERS A: 2016_08_09-19_09_31_818ERCnumbers_a_test1.h5\n",
      "NUMBERS B: 2016_08_09-19_09_31_E7ERRQnumbers_b_test1.h5\n",
      "fractional"
     ]
    },
    {
     "name": "stderr",
     "output_type": "stream",
     "text": [
      "2016/08/09 07:09:34 INFO: There are either no particles or too much (>200) to list them here.\n",
      "2016/08/09 07:09:34 INFO: Run with timestep 1.0 and 3000 timesteps\n",
      "2016/08/09 07:09:54 INFO: Finished after 19.312344 seconds.\n"
     ]
    },
    {
     "name": "stdout",
     "output_type": "stream",
     "text": [
      "\n",
      "FractionalDiffusion\n",
      "Number of particles:  501\n",
      "TypeId | Number of particles\n",
      "====== | ===================\n",
      "0      | 500                \n",
      "1      | 0                  \n",
      "2      | 1                  \n",
      " \n",
      "NUMBERS A: 2016_08_09-19_09_34_UGGHJ1numbers_a_test1.h5\n",
      "NUMBERS B: 2016_08_09-19_09_34_9A5V5Vnumbers_b_test1.h5\n",
      "9"
     ]
    },
    {
     "name": "stderr",
     "output_type": "stream",
     "text": [
      "2016/08/09 07:09:54 INFO: There are either no particles or too much (>200) to list them here.\n",
      "2016/08/09 07:09:54 INFO: Run with timestep 1.0 and 3000 timesteps\n",
      "2016/08/09 07:09:56 INFO: Finished after 2.758181 seconds.\n"
     ]
    },
    {
     "name": "stdout",
     "output_type": "stream",
     "text": [
      "\n",
      "Number of particles:  501\n",
      "TypeId | Number of particles\n",
      "====== | ===================\n",
      "0      | 500                \n",
      "1      | 0                  \n",
      "2      | 1                  \n",
      " \n",
      "NUMBERS A: 2016_08_09-19_09_54_REN87Gnumbers_a_test1.h5\n",
      "NUMBERS B: 2016_08_09-19_09_54_RB1U3Qnumbers_b_test1.h5\n",
      "fractional"
     ]
    },
    {
     "name": "stderr",
     "output_type": "stream",
     "text": [
      "2016/08/09 07:09:56 INFO: There are either no particles or too much (>200) to list them here.\n",
      "2016/08/09 07:09:56 INFO: Run with timestep 1.0 and 3000 timesteps\n",
      "2016/08/09 07:10:15 INFO: Finished after 18.924241 seconds.\n"
     ]
    },
    {
     "name": "stdout",
     "output_type": "stream",
     "text": [
      "\n",
      "FractionalDiffusion\n",
      "Number of particles:  501\n",
      "TypeId | Number of particles\n",
      "====== | ===================\n",
      "0      | 500                \n",
      "1      | 0                  \n",
      "2      | 1                  \n",
      " \n",
      "NUMBERS A: 2016_08_09-19_09_56_X64E7Snumbers_a_test1.h5\n",
      "NUMBERS B: 2016_08_09-19_09_56_JLS1OJnumbers_b_test1.h5\n"
     ]
    }
   ],
   "source": [
    "colors = iter(cm.rainbow(np.linspace(0, 1, 4)))\n",
    "msd_text='MSD=6 K_\\\\alpha t^\\\\alpha'\n",
    "msd_text1='MSD=6 D t'\n",
    "\n",
    "for i in [0.2]:\n",
    "    boxsize=30.0\n",
    "    Diffusion_E=i\n",
    "    Diffusion_S=i\n",
    "    Diffusion_P=0.2\n",
    "    reactiondistance=2.0\n",
    "    intrinsikreaction=0.5\n",
    "    colornow=next(colors)\n",
    "    falist=[]\n",
    "    fclist=[]\n",
    "    fcflist=[]\n",
    "    averagelist=[]\n",
    "    positions,posenzyme =  envirement(reactiondistance)\n",
    "    for ii in range(10):\n",
    "        print ii\n",
    "        fa,fb,fc=simulation(boxsize,Diffusion_E,Diffusion_S,Diffusion_P,reactiondistance,intrinsikreaction) #,fc\n",
    "        faf,fbf,fcf=simulationfrac(boxsize,Diffusion_E,Diffusion_S,Diffusion_P,reactiondistance,intrinsikreaction) #,fc\n",
    "        fclist.append(fc['meanSquaredDisplacements'])\n",
    "        fcflist.append(fcf['meanSquaredDisplacements'])   \n",
    "    fclist=np.array(fclist) \n",
    "    fcflist=np.array(fcflist)\n",
    "    msd=fclist.mean(axis=0) \n",
    "    msdf=fcflist.mean(axis=0) \n",
    "    plt.plot(fcf['times'], msdf,color=colornow,label=\"$D_S+D_E$=$%.2f$ fractional\" %(2*i))\n",
    "    plt.plot(fc['times'],msd,color=next(colors),label=\"$D_S+D_E$=$%.2f$ brownian\" %(2*i))\n",
    "plt.loglog(np.array(range(3000)),msd_analyt(0.5,1,3000,0.2),label=\"$%s$  \" %(msd_text),linestyle='--')\n",
    "plt.loglog(np.array(range(3000)),msd_analyt(1,1,3000,0.2),label=\"$%s$  \" %(msd_text1),linestyle='--')\n",
    "plt.ylabel('S(t)', fontsize=10)\n",
    "plt.xlabel('t in ns', fontsize=10)\n",
    "plt.legend()\n",
    "plt.show()"
   ]
  },
  {
   "cell_type": "markdown",
   "metadata": {},
   "source": [
    "radial dirtribution function"
   ]
  },
  {
   "cell_type": "code",
   "execution_count": 10,
   "metadata": {
    "collapsed": true
   },
   "outputs": [],
   "source": [
    "def simulation2(boxsize,Diffusion_E,Diffusion_S,Diffusion_P,reactiondistance,intrinsikreaction):\n",
    "    sim = rdy.Sim(\"FractionalDiffusion\")\n",
    "    sim.kt = 2.437 # kJ/mol -> ~300 K\n",
    "    sim.alpha = 0.5\n",
    "    sim.timestep = 1.0# ns\n",
    "    sim.boxsize = boxsize# nm\n",
    "    sim.delete_all_particle_types() # also deletes all interactions etc.\n",
    "    sim.new_type(\"S\", 0.01, Diffusion_S)\n",
    "    sim.new_type(\"P\", 0.01, Diffusion_P)\n",
    "    sim.new_type(\"E\", 0.01, Diffusion_E)\n",
    "    sim.delete_all_reactions()\n",
    "    sim.new_enzymatic(\"E+S<->E+S\", 0, 1, 2, intrinsikreaction, 0.1, reactiondistance)\n",
    "    sim.delete_all_particles()\n",
    "    for i in range(500):\n",
    "        pos = positions[i,:]\n",
    "        sim.add_particle(pos, 0)\n",
    "        #pos = np.random.random(3) * 9.9 - 4.95\n",
    "        #sim.add_particle(pos, 1)\n",
    "        #pos = np.random.random(3) * 9.9 - 4.95\n",
    "        #sim.add_particle(pos, 2)\n",
    "    for _ in range(1):      \n",
    "        sim.add_particle(posenzyme, 2)\n",
    "    sim.show_world()\n",
    "    sim.delete_all_observables()\n",
    "    mean_e_name = stamp()+\"radialdist_e_test1.h5\"\n",
    "    sim.new_radial_distribution(2000,mean_e_name,np.arange(0., 5., 0.05),np.array([[0,1]]))\n",
    "    sim.run(2000)\n",
    "    sim.write_observables_to_file()\n",
    "    sim.delete_all_observables()\n",
    "    fc = h5.File(mean_e_name, 'r')\n",
    "    return  fc\n",
    "def simulation3(boxsize,Diffusion_E,Diffusion_S,Diffusion_P,reactiondistance,intrinsikreaction):\n",
    "    sim = rdy.Sim()\n",
    "    sim.kt = 2.437 # kJ/mol -> ~300 K\n",
    "    sim.alpha = 0.5\n",
    "    sim.timestep = 1.0# ns\n",
    "    sim.boxsize = boxsize# nm\n",
    "    sim.delete_all_particle_types() # also deletes all interactions etc.\n",
    "    sim.new_type(\"S\", 0.01, Diffusion_S)\n",
    "    sim.new_type(\"P\", 0.01, Diffusion_P)\n",
    "    sim.new_type(\"E\", 0.01, Diffusion_E)\n",
    "    sim.delete_all_reactions()\n",
    "    sim.new_enzymatic(\"E+S<->E+S\", 0, 1, 2, intrinsikreaction, 0.1, reactiondistance)\n",
    "    sim.delete_all_particles()\n",
    "    for i in range(500):\n",
    "        pos = positions[i,:]\n",
    "        sim.add_particle(pos, 0)\n",
    "        #pos = np.random.random(3) * 9.9 - 4.95\n",
    "        #sim.add_particle(pos, 1)\n",
    "        #pos = np.random.random(3) * 9.9 - 4.95\n",
    "        #sim.add_particle(pos, 2)\n",
    "    for _ in range(1):      \n",
    "        sim.add_particle(posenzyme, 2)\n",
    "    sim.show_world()\n",
    "    sim.delete_all_observables()\n",
    "    mean_e_name = stamp()+\"radialdist_e_test1.h5\"\n",
    "    sim.new_radial_distribution(2000,mean_e_name,np.arange(0., 5., 0.05),np.array([[0,1]]))\n",
    "    sim.run(2000)\n",
    "    sim.write_observables_to_file()\n",
    "    sim.delete_all_observables()\n",
    "    fc = h5.File(mean_e_name, 'r')\n",
    "    return  fc"
   ]
  },
  {
   "cell_type": "code",
   "execution_count": 11,
   "metadata": {
    "collapsed": false
   },
   "outputs": [
    {
     "ename": "NameError",
     "evalue": "name 'reactiondistance' is not defined",
     "output_type": "error",
     "traceback": [
      "\u001b[1;31m---------------------------------------------------------------------------\u001b[0m",
      "\u001b[1;31mNameError\u001b[0m                                 Traceback (most recent call last)",
      "\u001b[1;32m<ipython-input-11-c8706c1c3d1a>\u001b[0m in \u001b[0;36m<module>\u001b[1;34m()\u001b[0m\n\u001b[1;32m----> 1\u001b[1;33m \u001b[0mpositions\u001b[0m\u001b[1;33m,\u001b[0m\u001b[0mposenzyme\u001b[0m \u001b[1;33m=\u001b[0m  \u001b[0menvirement\u001b[0m\u001b[1;33m(\u001b[0m\u001b[0mreactiondistance\u001b[0m\u001b[1;33m)\u001b[0m\u001b[1;33m\u001b[0m\u001b[0m\n\u001b[0m\u001b[0;32m      2\u001b[0m \u001b[0mfd\u001b[0m\u001b[1;33m=\u001b[0m\u001b[0msimulation2\u001b[0m\u001b[1;33m(\u001b[0m\u001b[0mboxsize\u001b[0m\u001b[1;33m,\u001b[0m\u001b[0mDiffusion_E\u001b[0m\u001b[1;33m,\u001b[0m\u001b[0mDiffusion_S\u001b[0m\u001b[1;33m,\u001b[0m\u001b[0mDiffusion_P\u001b[0m\u001b[1;33m,\u001b[0m\u001b[0mreactiondistance\u001b[0m\u001b[1;33m,\u001b[0m\u001b[0mintrinsikreaction\u001b[0m\u001b[1;33m)\u001b[0m\u001b[1;33m\u001b[0m\u001b[0m\n\u001b[0;32m      3\u001b[0m \u001b[0mfc\u001b[0m\u001b[1;33m=\u001b[0m\u001b[0msimulation3\u001b[0m\u001b[1;33m(\u001b[0m\u001b[0mboxsize\u001b[0m\u001b[1;33m,\u001b[0m\u001b[0mDiffusion_E\u001b[0m\u001b[1;33m,\u001b[0m\u001b[0mDiffusion_S\u001b[0m\u001b[1;33m,\u001b[0m\u001b[0mDiffusion_P\u001b[0m\u001b[1;33m,\u001b[0m\u001b[0mreactiondistance\u001b[0m\u001b[1;33m,\u001b[0m\u001b[0mintrinsikreaction\u001b[0m\u001b[1;33m)\u001b[0m\u001b[1;33m\u001b[0m\u001b[0m\n\u001b[0;32m      4\u001b[0m \u001b[1;33m\u001b[0m\u001b[0m\n\u001b[0;32m      5\u001b[0m \u001b[1;33m\u001b[0m\u001b[0m\n",
      "\u001b[1;31mNameError\u001b[0m: name 'reactiondistance' is not defined"
     ]
    }
   ],
   "source": [
    "positions,posenzyme =  envirement(reactiondistance)\n",
    "fd=simulation2(boxsize,Diffusion_E,Diffusion_S,Diffusion_P,reactiondistance,intrinsikreaction) \n",
    "fc=simulation3(boxsize,Diffusion_E,Diffusion_S,Diffusion_P,reactiondistance,intrinsikreaction) \n",
    "\n",
    "\n",
    "#,fc\n",
    "plt.plot(fd['binCenters'],fd['bins'], label=\"fractional\")\n",
    "plt.plot(fc['binCenters'],fc['bins'], label=\"brownian\")\n",
    "\n",
    "plt.ylabel('Bins', fontsize=10)\n",
    "plt.xlabel('Bin-Centers', fontsize=10)\n",
    "plt.legend()\n",
    "#plt.savefig('finalreport/data/fractionalradialdistributionrevreaddy.png',dpi=300)   # save the figure to file \n",
    "plt.show()"
   ]
  },
  {
   "cell_type": "markdown",
   "metadata": {},
   "source": [
    "trajectory"
   ]
  },
  {
   "cell_type": "code",
   "execution_count": 85,
   "metadata": {
    "collapsed": false
   },
   "outputs": [],
   "source": [
    "def simulationtrajectory(boxsize,Diffusion_E,Diffusion_S,Diffusion_P,reactiondistance,intrinsikreaction):\n",
    "    sim = rdy.Sim()\n",
    "    sim.kt = 2.437 # kJ/mol -> ~300 K\n",
    "    sim.alpha = 0.5\n",
    "    sim.timestep = 1.0# ns\n",
    "    sim.boxsize = boxsize# nm\n",
    "    sim.delete_all_particle_types() # also deletes all interactions etc.\n",
    "    sim.new_type(\"S\", 0.01, Diffusion_S)\n",
    "    sim.new_type(\"P\", 0.01, Diffusion_P)\n",
    "    sim.new_type(\"E\", 0.01, Diffusion_E)\n",
    "    sim.delete_all_reactions()\n",
    "    sim.new_enzymatic(\"E+S<->E+S\", 0, 1, 2, intrinsikreaction, 0.1, reactiondistance)\n",
    "    sim.delete_all_particles()\n",
    "    for i in range(500):\n",
    "        pos = positions[i,:]\n",
    "        sim.add_particle(pos, 0)\n",
    "        #pos = np.random.random(3) * 9.9 - 4.95\n",
    "        #sim.add_particle(pos, 1)\n",
    "        #pos = np.random.random(3) * 9.9 - 4.95\n",
    "        #sim.add_particle(pos, 2)\n",
    "    for _ in range(1):      \n",
    "        sim.add_particle(posenzyme, 2)\n",
    "    sim.show_world()\n",
    "    sim.delete_all_observables()\n",
    "    mean_e_name = stamp()+\"radialdist_e_test1.h5\"\n",
    "    sim.new_trajectory(1,mean_e_name)\n",
    "    sim.run(2000)\n",
    "    sim.write_observables_to_file()\n",
    "    sim.delete_all_observables()\n",
    "    fc = h5.File(mean_e_name, 'r')\n",
    "    return  fc\n",
    "def simulationtrajectory2(boxsize,Diffusion_E,Diffusion_S,Diffusion_P,reactiondistance,intrinsikreaction):\n",
    "    sim = rdy.Sim(\"FractionalDiffusion\")\n",
    "    sim.kt = 2.437 # kJ/mol -> ~300 K\n",
    "    sim.alpha = 0.5\n",
    "    sim.timestep = 1.0# ns\n",
    "    sim.boxsize = boxsize# nm\n",
    "    sim.delete_all_particle_types() # also deletes all interactions etc.\n",
    "    sim.new_type(\"S\", 0.01, Diffusion_S)\n",
    "    sim.new_type(\"P\", 0.01, Diffusion_P)\n",
    "    sim.new_type(\"E\", 0.01, Diffusion_E)\n",
    "    sim.delete_all_reactions()\n",
    "    sim.new_enzymatic(\"E+S<->E+S\", 0, 1, 2, intrinsikreaction, 0.1, reactiondistance)\n",
    "    sim.delete_all_particles()\n",
    "    for i in range(500):\n",
    "        pos = positions[i,:]\n",
    "        sim.add_particle(pos, 0)\n",
    "        #pos = np.random.random(3) * 9.9 - 4.95\n",
    "        #sim.add_particle(pos, 1)\n",
    "        #pos = np.random.random(3) * 9.9 - 4.95\n",
    "        #sim.add_particle(pos, 2)\n",
    "    for _ in range(1):      \n",
    "        sim.add_particle(posenzyme, 2)\n",
    "    sim.delete_all_observables()\n",
    "    sim.run(4096)\n",
    "    num_particles = sim.world.getNumberOfParticles()  \n",
    "    result = []\n",
    "    result2 = []\n",
    "    for i in range(num_particles):\n",
    "            if sim.world.getTypeId(i) == 0:\n",
    "                pos = sim.world.getPosition(i)\n",
    "                result.append(pos)\n",
    "            elif sim.world.getTypeId(i) == 1:\n",
    "                pos = sim.world.getPosition(i)\n",
    "                result2.append(pos)\n",
    "    return  np.array(result),np.array(result2)"
   ]
  },
  {
   "cell_type": "code",
   "execution_count": 86,
   "metadata": {
    "collapsed": false
   },
   "outputs": [
    {
     "name": "stderr",
     "output_type": "stream",
     "text": [
      "2016/08/29 02:52:37 INFO: Run with timestep 1.0 and 4096 timesteps\n",
      "2016/08/29 02:54:03 INFO: Finished after 86.497229 seconds.\n"
     ]
    }
   ],
   "source": [
    "#trajectory=simulationtrajectory(100,Diffusion_E,Diffusion_S,Diffusion_P,reactiondistance,intrinsikreaction) \n",
    "num_particles,num_particles2=simulationtrajectory2(100,Diffusion_E,Diffusion_S,Diffusion_P,reactiondistance,intrinsikreaction) "
   ]
  },
  {
   "cell_type": "code",
   "execution_count": 87,
   "metadata": {
    "collapsed": false
   },
   "outputs": [
    {
     "name": "stdout",
     "output_type": "stream",
     "text": [
      "(338, 3)\n",
      "(162, 3)\n"
     ]
    }
   ],
   "source": [
    "print num_particles.shape\n",
    "print num_particles2.shape\n"
   ]
  },
  {
   "cell_type": "code",
   "execution_count": 88,
   "metadata": {
    "collapsed": false
   },
   "outputs": [
    {
     "name": "stdout",
     "output_type": "stream",
     "text": [
      "\n"
     ]
    }
   ],
   "source": [
    "print \n",
    "from mpl_toolkits.mplot3d import Axes3D\n",
    "fig = plt.figure()\n",
    "ax = fig.add_subplot(111, projection='3d')\n",
    "ax.scatter(num_particles[:,0], num_particles[:,1],num_particles[:,2], c='b')\n",
    "ax.scatter(num_particles2[:,0], num_particles2[:,1], num_particles2[:,2], c='r')\n",
    "plt.show()"
   ]
  },
  {
   "cell_type": "code",
   "execution_count": 52,
   "metadata": {
    "collapsed": false
   },
   "outputs": [
    {
     "name": "stdout",
     "output_type": "stream",
     "text": [
      "<501> /n\n"
     ]
    }
   ],
   "source": [
    "st=str(traj['typeIds'][0])+\"    \"+str(traj['positions'][length,particle,0])+\"    \"+str(traj['positions'][length,particle,1])+\"    \"+str(traj['positions'][length,particle,2])+'\\n')\n",
    "\n",
    "st=str(traj['typeIds'][0])+\"    \"+str(traj['positions'][length,particle,0])+\"    \"+str(traj['positions'][length,particle,1])+\"    \"+str(traj['positions'][length,particle,2])+'\\n')\n",
    "print s"
   ]
  },
  {
   "cell_type": "code",
   "execution_count": 16,
   "metadata": {
    "collapsed": false
   },
   "outputs": [],
   "source": [
    "sim = rdy.Sim(\"FractionalDiffusion\")\n",
    "sim.new_trajectory()"
   ]
  },
  {
   "cell_type": "code",
   "execution_count": 48,
   "metadata": {
    "collapsed": false
   },
   "outputs": [
    {
     "data": {
      "text/plain": [
       "0"
      ]
     },
     "execution_count": 48,
     "metadata": {},
     "output_type": "execute_result"
    }
   ],
   "source": [
    "trajectory['typeIds'][0]\n"
   ]
  },
  {
   "cell_type": "code",
   "execution_count": null,
   "metadata": {
    "collapsed": false
   },
   "outputs": [],
   "source": [
    "import matplotlib.pyplot as plt\n",
    "from mpl_toolkits.mplot3d import Axes3D\n",
    "fig = plt.figure()\n",
    "ax = fig.add_subplot(111, projection='3d')\n",
    "ax.plot(trajectory['positions'][:,500,0], trajectory['positions'][:,500,1], trajectory['positions'][:,500,2], '-b')\n",
    "ax.plot(trajectory2['positions'][:,500,0], trajectory2['positions'][:,500,1], trajectory2['positions'][:,500,2], '-r')\n",
    "plt.show()"
   ]
  },
  {
   "cell_type": "code",
   "execution_count": 3,
   "metadata": {
    "collapsed": false
   },
   "outputs": [
    {
     "data": {
      "text/plain": [
       "260.0"
      ]
     },
     "execution_count": 3,
     "metadata": {},
     "output_type": "execute_result"
    }
   ],
   "source": []
  },
  {
   "cell_type": "code",
   "execution_count": null,
   "metadata": {
    "collapsed": true
   },
   "outputs": [],
   "source": []
  }
 ],
 "metadata": {
  "kernelspec": {
   "display_name": "Python 2",
   "language": "python",
   "name": "python2"
  },
  "language_info": {
   "codemirror_mode": {
    "name": "ipython",
    "version": 2
   },
   "file_extension": ".py",
   "mimetype": "text/x-python",
   "name": "python",
   "nbconvert_exporter": "python",
   "pygments_lexer": "ipython2",
   "version": "2.7.11"
  }
 },
 "nbformat": 4,
 "nbformat_minor": 0
}
